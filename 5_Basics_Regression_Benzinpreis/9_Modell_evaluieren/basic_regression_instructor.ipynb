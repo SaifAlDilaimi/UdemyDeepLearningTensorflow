{
 "cells": [
  {
   "cell_type": "markdown",
   "metadata": {
    "id": "EIdT9iu_Z4Rb"
   },
   "source": [
    "# Basic regression: Benzinpreis vorhersagen"
   ]
  },
  {
   "cell_type": "code",
   "execution_count": 86,
   "metadata": {
    "execution": {
     "iopub.execute_input": "2020-09-24T01:22:06.818887Z",
     "iopub.status.busy": "2020-09-24T01:22:06.817715Z",
     "iopub.status.idle": "2020-09-24T01:22:08.646796Z",
     "shell.execute_reply": "2020-09-24T01:22:08.646235Z"
    },
    "id": "1rRo8oNqZ-Rj"
   },
   "outputs": [],
   "source": [
    "import matplotlib.pyplot as plt\n",
    "import numpy as np\n",
    "import pandas as pd\n",
    "\n",
    "# Make numpy printouts easier to read.\n",
    "np.set_printoptions(precision=3, suppress=True)"
   ]
  },
  {
   "cell_type": "code",
   "execution_count": 87,
   "metadata": {
    "execution": {
     "iopub.execute_input": "2020-09-24T01:22:08.651909Z",
     "iopub.status.busy": "2020-09-24T01:22:08.651252Z",
     "iopub.status.idle": "2020-09-24T01:22:13.845864Z",
     "shell.execute_reply": "2020-09-24T01:22:13.845242Z"
    },
    "id": "9xQKvCJ85kCQ"
   },
   "outputs": [],
   "source": [
    "import tensorflow as tf\n",
    "\n",
    "from tensorflow import keras\n",
    "from tensorflow.keras.layers import Dense\n",
    "from tensorflow.keras.layers.experimental import preprocessing\n",
    "from tensorflow.keras.optimizers import Adam\n",
    "from tensorflow.keras.losses import mean_absolute_error"
   ]
  },
  {
   "cell_type": "markdown",
   "metadata": {
    "id": "F_72b0LCNbjx"
   },
   "source": [
    "## Dateset\n",
    "### Daten herunterladen und in ein Dataframe speichern"
   ]
  },
  {
   "cell_type": "code",
   "execution_count": 88,
   "metadata": {
    "execution": {
     "iopub.execute_input": "2020-09-24T01:22:13.852655Z",
     "iopub.status.busy": "2020-09-24T01:22:13.852002Z",
     "iopub.status.idle": "2020-09-24T01:22:14.654748Z",
     "shell.execute_reply": "2020-09-24T01:22:14.655199Z"
    },
    "id": "CiX2FI4gZtTt"
   },
   "outputs": [],
   "source": [
    "url = 'http://archive.ics.uci.edu/ml/machine-learning-databases/auto-mpg/auto-mpg.data'\n",
    "column_names = ['MPG', 'Cylinders', 'Displacement', 'Horsepower', 'Weight',\n",
    "                'Acceleration', 'Model Year', 'Origin']\n",
    "\n",
    "raw_dataset = pd.read_csv(url, names=column_names,\n",
    "                          na_values='?', comment='\\t',\n",
    "                          sep=' ', skipinitialspace=True)"
   ]
  },
  {
   "cell_type": "code",
   "execution_count": 89,
   "metadata": {
    "execution": {
     "iopub.execute_input": "2020-09-24T01:22:14.667756Z",
     "iopub.status.busy": "2020-09-24T01:22:14.667071Z",
     "iopub.status.idle": "2020-09-24T01:22:14.674215Z",
     "shell.execute_reply": "2020-09-24T01:22:14.674744Z"
    },
    "id": "2oY3pMPagJrO"
   },
   "outputs": [
    {
     "output_type": "execute_result",
     "data": {
      "text/plain": [
       "      MPG  Cylinders  Displacement  Horsepower  Weight  Acceleration  \\\n",
       "393  27.0          4         140.0        86.0  2790.0          15.6   \n",
       "394  44.0          4          97.0        52.0  2130.0          24.6   \n",
       "395  32.0          4         135.0        84.0  2295.0          11.6   \n",
       "396  28.0          4         120.0        79.0  2625.0          18.6   \n",
       "397  31.0          4         119.0        82.0  2720.0          19.4   \n",
       "\n",
       "     Model Year  Origin  \n",
       "393          82       1  \n",
       "394          82       2  \n",
       "395          82       1  \n",
       "396          82       1  \n",
       "397          82       1  "
      ],
      "text/html": "<div>\n<style scoped>\n    .dataframe tbody tr th:only-of-type {\n        vertical-align: middle;\n    }\n\n    .dataframe tbody tr th {\n        vertical-align: top;\n    }\n\n    .dataframe thead th {\n        text-align: right;\n    }\n</style>\n<table border=\"1\" class=\"dataframe\">\n  <thead>\n    <tr style=\"text-align: right;\">\n      <th></th>\n      <th>MPG</th>\n      <th>Cylinders</th>\n      <th>Displacement</th>\n      <th>Horsepower</th>\n      <th>Weight</th>\n      <th>Acceleration</th>\n      <th>Model Year</th>\n      <th>Origin</th>\n    </tr>\n  </thead>\n  <tbody>\n    <tr>\n      <th>393</th>\n      <td>27.0</td>\n      <td>4</td>\n      <td>140.0</td>\n      <td>86.0</td>\n      <td>2790.0</td>\n      <td>15.6</td>\n      <td>82</td>\n      <td>1</td>\n    </tr>\n    <tr>\n      <th>394</th>\n      <td>44.0</td>\n      <td>4</td>\n      <td>97.0</td>\n      <td>52.0</td>\n      <td>2130.0</td>\n      <td>24.6</td>\n      <td>82</td>\n      <td>2</td>\n    </tr>\n    <tr>\n      <th>395</th>\n      <td>32.0</td>\n      <td>4</td>\n      <td>135.0</td>\n      <td>84.0</td>\n      <td>2295.0</td>\n      <td>11.6</td>\n      <td>82</td>\n      <td>1</td>\n    </tr>\n    <tr>\n      <th>396</th>\n      <td>28.0</td>\n      <td>4</td>\n      <td>120.0</td>\n      <td>79.0</td>\n      <td>2625.0</td>\n      <td>18.6</td>\n      <td>82</td>\n      <td>1</td>\n    </tr>\n    <tr>\n      <th>397</th>\n      <td>31.0</td>\n      <td>4</td>\n      <td>119.0</td>\n      <td>82.0</td>\n      <td>2720.0</td>\n      <td>19.4</td>\n      <td>82</td>\n      <td>1</td>\n    </tr>\n  </tbody>\n</table>\n</div>"
     },
     "metadata": {},
     "execution_count": 89
    }
   ],
   "source": [
    "dataset = raw_dataset.copy()\n",
    "dataset.tail()"
   ]
  },
  {
   "cell_type": "markdown",
   "metadata": {
    "id": "3MWuJTKEDM-f"
   },
   "source": [
    "### Daten säubern\n",
    "\n",
    "Zeilen mit leeren Felder löschen."
   ]
  },
  {
   "cell_type": "code",
   "execution_count": 90,
   "metadata": {
    "execution": {
     "iopub.execute_input": "2020-09-24T01:22:14.680977Z",
     "iopub.status.busy": "2020-09-24T01:22:14.680263Z",
     "iopub.status.idle": "2020-09-24T01:22:14.682955Z",
     "shell.execute_reply": "2020-09-24T01:22:14.683335Z"
    },
    "id": "JEJHhN65a2VV"
   },
   "outputs": [
    {
     "output_type": "execute_result",
     "data": {
      "text/plain": [
       "MPG             0\n",
       "Cylinders       0\n",
       "Displacement    0\n",
       "Horsepower      6\n",
       "Weight          0\n",
       "Acceleration    0\n",
       "Model Year      0\n",
       "Origin          0\n",
       "dtype: int64"
      ]
     },
     "metadata": {},
     "execution_count": 90
    }
   ],
   "source": [
    "dataset.isna().sum()"
   ]
  },
  {
   "cell_type": "code",
   "execution_count": 91,
   "metadata": {
    "execution": {
     "iopub.execute_input": "2020-09-24T01:22:14.688546Z",
     "iopub.status.busy": "2020-09-24T01:22:14.687924Z",
     "iopub.status.idle": "2020-09-24T01:22:14.691112Z",
     "shell.execute_reply": "2020-09-24T01:22:14.691514Z"
    },
    "id": "4ZUDosChC1UN"
   },
   "outputs": [],
   "source": [
    "dataset = dataset.dropna()"
   ]
  },
  {
   "cell_type": "markdown",
   "metadata": {
    "id": "8XKitwaH4v8h"
   },
   "source": [
    "Die `\"Origin\"` Spalte ist eigentlich categorical und nicht Numerisch. Dies müssen wir umbauen.\n"
   ]
  },
  {
   "cell_type": "code",
   "execution_count": 92,
   "metadata": {
    "execution": {
     "iopub.execute_input": "2020-09-24T01:22:14.697031Z",
     "iopub.status.busy": "2020-09-24T01:22:14.696506Z",
     "iopub.status.idle": "2020-09-24T01:22:14.698552Z",
     "shell.execute_reply": "2020-09-24T01:22:14.698017Z"
    },
    "id": "gWNTD2QjBWFJ"
   },
   "outputs": [],
   "source": [
    "dataset['Origin'] = dataset['Origin'].map({1: 'USA', 2: 'Europe', 3: 'Japan'})"
   ]
  },
  {
   "cell_type": "code",
   "execution_count": 93,
   "metadata": {
    "execution": {
     "iopub.execute_input": "2020-09-24T01:22:14.717965Z",
     "iopub.status.busy": "2020-09-24T01:22:14.717224Z",
     "iopub.status.idle": "2020-09-24T01:22:14.719809Z",
     "shell.execute_reply": "2020-09-24T01:22:14.720203Z"
    },
    "id": "ulXz4J7PAUzk"
   },
   "outputs": [
    {
     "output_type": "execute_result",
     "data": {
      "text/plain": [
       "      MPG  Cylinders  Displacement  Horsepower  Weight  Acceleration  \\\n",
       "393  27.0          4         140.0        86.0  2790.0          15.6   \n",
       "394  44.0          4          97.0        52.0  2130.0          24.6   \n",
       "395  32.0          4         135.0        84.0  2295.0          11.6   \n",
       "396  28.0          4         120.0        79.0  2625.0          18.6   \n",
       "397  31.0          4         119.0        82.0  2720.0          19.4   \n",
       "\n",
       "     Model Year  Europe  Japan  USA  \n",
       "393          82       0      0    1  \n",
       "394          82       1      0    0  \n",
       "395          82       0      0    1  \n",
       "396          82       0      0    1  \n",
       "397          82       0      0    1  "
      ],
      "text/html": "<div>\n<style scoped>\n    .dataframe tbody tr th:only-of-type {\n        vertical-align: middle;\n    }\n\n    .dataframe tbody tr th {\n        vertical-align: top;\n    }\n\n    .dataframe thead th {\n        text-align: right;\n    }\n</style>\n<table border=\"1\" class=\"dataframe\">\n  <thead>\n    <tr style=\"text-align: right;\">\n      <th></th>\n      <th>MPG</th>\n      <th>Cylinders</th>\n      <th>Displacement</th>\n      <th>Horsepower</th>\n      <th>Weight</th>\n      <th>Acceleration</th>\n      <th>Model Year</th>\n      <th>Europe</th>\n      <th>Japan</th>\n      <th>USA</th>\n    </tr>\n  </thead>\n  <tbody>\n    <tr>\n      <th>393</th>\n      <td>27.0</td>\n      <td>4</td>\n      <td>140.0</td>\n      <td>86.0</td>\n      <td>2790.0</td>\n      <td>15.6</td>\n      <td>82</td>\n      <td>0</td>\n      <td>0</td>\n      <td>1</td>\n    </tr>\n    <tr>\n      <th>394</th>\n      <td>44.0</td>\n      <td>4</td>\n      <td>97.0</td>\n      <td>52.0</td>\n      <td>2130.0</td>\n      <td>24.6</td>\n      <td>82</td>\n      <td>1</td>\n      <td>0</td>\n      <td>0</td>\n    </tr>\n    <tr>\n      <th>395</th>\n      <td>32.0</td>\n      <td>4</td>\n      <td>135.0</td>\n      <td>84.0</td>\n      <td>2295.0</td>\n      <td>11.6</td>\n      <td>82</td>\n      <td>0</td>\n      <td>0</td>\n      <td>1</td>\n    </tr>\n    <tr>\n      <th>396</th>\n      <td>28.0</td>\n      <td>4</td>\n      <td>120.0</td>\n      <td>79.0</td>\n      <td>2625.0</td>\n      <td>18.6</td>\n      <td>82</td>\n      <td>0</td>\n      <td>0</td>\n      <td>1</td>\n    </tr>\n    <tr>\n      <th>397</th>\n      <td>31.0</td>\n      <td>4</td>\n      <td>119.0</td>\n      <td>82.0</td>\n      <td>2720.0</td>\n      <td>19.4</td>\n      <td>82</td>\n      <td>0</td>\n      <td>0</td>\n      <td>1</td>\n    </tr>\n  </tbody>\n</table>\n</div>"
     },
     "metadata": {},
     "execution_count": 93
    }
   ],
   "source": [
    "dataset = pd.get_dummies(dataset, prefix='', prefix_sep='')\n",
    "dataset.tail()"
   ]
  },
  {
   "cell_type": "markdown",
   "metadata": {
    "id": "Cuym4yvk76vU"
   },
   "source": [
    "### Aufteilen der Daten in Train und Test\n",
    "Nun teilen wir den Datensatz in einen Trainingssatz und einen Testsatz auf.\n",
    "\n",
    "Wir werden den Testsatz bei der Endauswertung unserer Modelle verwenden."
   ]
  },
  {
   "cell_type": "code",
   "execution_count": 94,
   "metadata": {
    "execution": {
     "iopub.execute_input": "2020-09-24T01:22:14.726365Z",
     "iopub.status.busy": "2020-09-24T01:22:14.725813Z",
     "iopub.status.idle": "2020-09-24T01:22:14.727513Z",
     "shell.execute_reply": "2020-09-24T01:22:14.727920Z"
    },
    "id": "qn-IGhUE7_1H"
   },
   "outputs": [],
   "source": [
    "train_dataset = dataset.sample(frac=0.8, random_state=0)\n",
    "test_dataset = dataset.drop(train_dataset.index)"
   ]
  },
  {
   "cell_type": "markdown",
   "metadata": {
    "id": "Db7Auq1yXUvh"
   },
   "source": [
    "### Features von Labels trennen\n",
    "\n",
    "Trennen Sie den Zielwert, das \"Label\", von den Features. Dieses Label ist der Wert, auf dessen Vorhersage Sie das Modell trainieren werden."
   ]
  },
  {
   "cell_type": "code",
   "execution_count": 95,
   "metadata": {
    "execution": {
     "iopub.execute_input": "2020-09-24T01:22:19.755887Z",
     "iopub.status.busy": "2020-09-24T01:22:19.755092Z",
     "iopub.status.idle": "2020-09-24T01:22:19.757179Z",
     "shell.execute_reply": "2020-09-24T01:22:19.756619Z"
    },
    "id": "t2sluJdCW7jN"
   },
   "outputs": [],
   "source": [
    "train_features = train_dataset.copy()\n",
    "test_features = test_dataset.copy()\n",
    "\n",
    "train_labels = train_features.pop('MPG')\n",
    "test_labels = test_features.pop('MPG')"
   ]
  },
  {
   "cell_type": "code",
   "execution_count": 96,
   "metadata": {},
   "outputs": [
    {
     "output_type": "stream",
     "name": "stdout",
     "text": [
      "Shape of train data: (314, 9)\nShape of test data: (78, 9)\nShape of train labels: (314,)\nShape of test labels: (78,)\n"
     ]
    }
   ],
   "source": [
    "print(f'Shape of train data: {train_features.shape}')\n",
    "print(f'Shape of test data: {test_features.shape}')\n",
    "print(f'Shape of train labels: {train_labels.shape}')\n",
    "print(f'Shape of test labels: {test_labels.shape}')"
   ]
  },
  {
   "cell_type": "markdown",
   "metadata": {
    "id": "mRklxK5s388r"
   },
   "source": [
    "## Normalisierung\n",
    "\n",
    "In der Statistiktabelle ist leicht zu erkennen, wie unterschiedlich die Bereiche der einzelnen Features sind."
   ]
  },
  {
   "cell_type": "code",
   "execution_count": 97,
   "metadata": {
    "execution": {
     "iopub.execute_input": "2020-09-24T01:22:19.768552Z",
     "iopub.status.busy": "2020-09-24T01:22:19.766697Z",
     "iopub.status.idle": "2020-09-24T01:22:19.791930Z",
     "shell.execute_reply": "2020-09-24T01:22:19.792389Z"
    },
    "id": "IcmY6lKKbkw8"
   },
   "outputs": [
    {
     "output_type": "execute_result",
     "data": {
      "text/plain": [
       "                     mean         std\n",
       "MPG             23.310510    7.728652\n",
       "Cylinders        5.477707    1.699788\n",
       "Displacement   195.318471  104.331589\n",
       "Horsepower     104.869427   38.096214\n",
       "Weight        2990.251592  843.898596\n",
       "Acceleration    15.559236    2.789230\n",
       "Model Year      75.898089    3.675642\n",
       "Europe           0.178344    0.383413\n",
       "Japan            0.197452    0.398712\n",
       "USA              0.624204    0.485101"
      ],
      "text/html": "<div>\n<style scoped>\n    .dataframe tbody tr th:only-of-type {\n        vertical-align: middle;\n    }\n\n    .dataframe tbody tr th {\n        vertical-align: top;\n    }\n\n    .dataframe thead th {\n        text-align: right;\n    }\n</style>\n<table border=\"1\" class=\"dataframe\">\n  <thead>\n    <tr style=\"text-align: right;\">\n      <th></th>\n      <th>mean</th>\n      <th>std</th>\n    </tr>\n  </thead>\n  <tbody>\n    <tr>\n      <th>MPG</th>\n      <td>23.310510</td>\n      <td>7.728652</td>\n    </tr>\n    <tr>\n      <th>Cylinders</th>\n      <td>5.477707</td>\n      <td>1.699788</td>\n    </tr>\n    <tr>\n      <th>Displacement</th>\n      <td>195.318471</td>\n      <td>104.331589</td>\n    </tr>\n    <tr>\n      <th>Horsepower</th>\n      <td>104.869427</td>\n      <td>38.096214</td>\n    </tr>\n    <tr>\n      <th>Weight</th>\n      <td>2990.251592</td>\n      <td>843.898596</td>\n    </tr>\n    <tr>\n      <th>Acceleration</th>\n      <td>15.559236</td>\n      <td>2.789230</td>\n    </tr>\n    <tr>\n      <th>Model Year</th>\n      <td>75.898089</td>\n      <td>3.675642</td>\n    </tr>\n    <tr>\n      <th>Europe</th>\n      <td>0.178344</td>\n      <td>0.383413</td>\n    </tr>\n    <tr>\n      <th>Japan</th>\n      <td>0.197452</td>\n      <td>0.398712</td>\n    </tr>\n    <tr>\n      <th>USA</th>\n      <td>0.624204</td>\n      <td>0.485101</td>\n    </tr>\n  </tbody>\n</table>\n</div>"
     },
     "metadata": {},
     "execution_count": 97
    }
   ],
   "source": [
    "train_dataset.describe().transpose()[['mean', 'std']]"
   ]
  },
  {
   "cell_type": "markdown",
   "metadata": {
    "id": "-ywmerQ6dSox"
   },
   "source": [
    "Es ist eine gute Praxis, Features zu normalisieren, die unterschiedliche Skalierungen und Bereiche verwenden. \n",
    "\n",
    "Dies ist unter anderem deshalb wichtig, weil die Features mit den Gewichten der Modelle multipliziert werden. Die Skala der Ausgänge und die Skala der Gradienten werden also durch die Skala der Eingänge beeinflusst. \n",
    "\n",
    "Obwohl ein Modell ohne Feature-Normalisierung *möglicherweise* konvergiert, macht die Normalisierung das Training viel stabiler. "
   ]
  },
  {
   "cell_type": "markdown",
   "metadata": {
    "id": "aFJ6ISropeoo"
   },
   "source": [
    "### Der Normalization Layer\n",
    "Der Layer `preprocessing.Normalization` ist eine saubere und einfache Möglichkeit, diese Vorverarbeitung in Ihr Modell einzubauen.\n",
    "\n",
    "Der erste Schritt ist die Erstellung des Layers: "
   ]
  },
  {
   "cell_type": "code",
   "execution_count": 98,
   "metadata": {
    "execution": {
     "iopub.execute_input": "2020-09-24T01:22:19.796972Z",
     "iopub.status.busy": "2020-09-24T01:22:19.796314Z",
     "iopub.status.idle": "2020-09-24T01:22:19.805510Z",
     "shell.execute_reply": "2020-09-24T01:22:19.804843Z"
    },
    "id": "JlC5ooJrgjQF"
   },
   "outputs": [],
   "source": [
    "normalizer = preprocessing.Normalization()"
   ]
  },
  {
   "cell_type": "markdown",
   "metadata": {
    "id": "XYA2Ap6nVOha"
   },
   "source": [
    "Nun passen wir es den Daten mit `.adapt()` an:"
   ]
  },
  {
   "cell_type": "code",
   "execution_count": 99,
   "metadata": {
    "execution": {
     "iopub.execute_input": "2020-09-24T01:22:27.716978Z",
     "iopub.status.busy": "2020-09-24T01:22:27.716260Z",
     "iopub.status.idle": "2020-09-24T01:22:28.025993Z",
     "shell.execute_reply": "2020-09-24T01:22:28.025303Z"
    },
    "id": "CrBbbjbwV91f"
   },
   "outputs": [],
   "source": [
    "normalizer.adapt(np.array(train_features))"
   ]
  },
  {
   "cell_type": "markdown",
   "metadata": {
    "id": "oZccMR5yV9YV"
   },
   "source": [
    "Das berechnet für jedes Feature (Spalte) das mean und variance, welches dann im Layer gespeichert wird. "
   ]
  },
  {
   "cell_type": "code",
   "execution_count": 100,
   "metadata": {
    "execution": {
     "iopub.execute_input": "2020-09-24T01:22:28.032119Z",
     "iopub.status.busy": "2020-09-24T01:22:28.031430Z",
     "iopub.status.idle": "2020-09-24T01:22:28.035040Z",
     "shell.execute_reply": "2020-09-24T01:22:28.034549Z"
    },
    "id": "GGn-ukwxSPtx"
   },
   "outputs": [
    {
     "output_type": "stream",
     "name": "stdout",
     "text": [
      "[   5.478  195.318  104.869 2990.252   15.559   75.898    0.178    0.197\n    0.624]\n"
     ]
    }
   ],
   "source": [
    "print(normalizer.mean.numpy())"
   ]
  },
  {
   "cell_type": "code",
   "execution_count": 101,
   "metadata": {
    "execution": {
     "iopub.execute_input": "2020-09-24T01:22:28.042754Z",
     "iopub.status.busy": "2020-09-24T01:22:28.042074Z",
     "iopub.status.idle": "2020-09-24T01:22:28.047614Z",
     "shell.execute_reply": "2020-09-24T01:22:28.047069Z"
    },
    "id": "2l7zFL_XWIRu"
   },
   "outputs": [
    {
     "output_type": "stream",
     "name": "stdout",
     "text": [
      "First example: [[   4.    90.    75.  2125.    14.5   74.     0.     0.     1. ]]\n\nNormalized: [[-0.87 -1.01 -0.79 -1.03 -0.38 -0.52 -0.47 -0.5   0.78]]\n"
     ]
    }
   ],
   "source": [
    "x1 = np.array(train_features.iloc[:1])\n",
    "\n",
    "with np.printoptions(precision=2, suppress=True):\n",
    "  print('First example:', x1)\n",
    "  print()\n",
    "  print('Normalized:', normalizer(x1).numpy())"
   ]
  },
  {
   "cell_type": "markdown",
   "metadata": {
    "id": "6o3CrycBXA2s"
   },
   "source": [
    "## Linear regression"
   ]
  },
  {
   "cell_type": "markdown",
   "metadata": {
    "id": "lFby9n0tnHkw"
   },
   "source": [
    "### Eine Variable\n",
    "\n",
    "\n",
    "Das Training eines Modells mit `tf.keras` beginnt typischerweise mit der Definition der Modellarchitektur.\n",
    "\n",
    "In diesem Fall verwenden Sie ein Sequentielles Modell. Dieses Modell stellt eine Abfolge von Schritten dar. In diesem Fall gibt es zwei Schritte:\n",
    "\n",
    "* Normalisierung der eingegebenen `horsepower`.\n",
    "* Wenden Sie eine lineare Transformation ($y = mx+b$) an, um 1 Ausgabe unter Verwendung von `layers.Dense` zu erzeugen."
   ]
  },
  {
   "cell_type": "markdown",
   "metadata": {
    "id": "Xp3gAFn3TPv8"
   },
   "source": [
    "Zuerst den horsepower `Normalization` layer:"
   ]
  },
  {
   "cell_type": "code",
   "execution_count": 102,
   "metadata": {
    "execution": {
     "iopub.execute_input": "2020-09-24T01:22:28.056201Z",
     "iopub.status.busy": "2020-09-24T01:22:28.055572Z",
     "iopub.status.idle": "2020-09-24T01:22:28.062035Z",
     "shell.execute_reply": "2020-09-24T01:22:28.062668Z"
    },
    "id": "1gJAy0fKs1TS"
   },
   "outputs": [],
   "source": [
    "horsepower = np.array(train_features['Horsepower'])\n",
    "\n",
    "horsepower_normalizer = preprocessing.Normalization(input_shape=[1,])\n",
    "horsepower_normalizer.adapt(horsepower)"
   ]
  },
  {
   "cell_type": "markdown",
   "metadata": {
    "id": "4NVlHJY2TWlC"
   },
   "source": [
    "### Model"
   ]
  },
  {
   "cell_type": "code",
   "execution_count": 103,
   "metadata": {
    "execution": {
     "iopub.execute_input": "2020-09-24T01:22:28.075226Z",
     "iopub.status.busy": "2020-09-24T01:22:28.074585Z",
     "iopub.status.idle": "2020-09-24T01:22:28.099052Z",
     "shell.execute_reply": "2020-09-24T01:22:28.098478Z"
    },
    "id": "c0sXM7qLlKfZ"
   },
   "outputs": [
    {
     "output_type": "stream",
     "name": "stdout",
     "text": [
      "Model: \"sequential_3\"\n_________________________________________________________________\nLayer (type)                 Output Shape              Param #   \n=================================================================\nnormalization_8 (Normalizati (None, 1)                 3         \n_________________________________________________________________\ndense_3 (Dense)              (None, 1)                 2         \n=================================================================\nTotal params: 5\nTrainable params: 2\nNon-trainable params: 3\n_________________________________________________________________\n"
     ]
    }
   ],
   "source": [
    "horsepower_model = tf.keras.Sequential()\n",
    "horsepower_model.add(horsepower_normalizer)\n",
    "horsepower_model.add(Dense(units=1))\n",
    "\n",
    "horsepower_model.summary()"
   ]
  },
  {
   "cell_type": "markdown",
   "metadata": {
    "id": "eObQu9fDnXGL"
   },
   "source": [
    "Dieses Modell wird `MPG` aus `Horsepower` vorhersagen.\n",
    "\n",
    "Lassen Sie das untrainierte Modell mit den ersten 10 Pferdestärkenwerten laufen. Das Ergebnis wird nicht gut sein, aber Sie werden sehen, dass es die erwartete Form `(10,1)` hat:"
   ]
  },
  {
   "cell_type": "code",
   "execution_count": 104,
   "metadata": {
    "execution": {
     "iopub.execute_input": "2020-09-24T01:22:28.104528Z",
     "iopub.status.busy": "2020-09-24T01:22:28.103842Z",
     "iopub.status.idle": "2020-09-24T01:22:28.494359Z",
     "shell.execute_reply": "2020-09-24T01:22:28.493780Z"
    },
    "id": "UfV1HS6bns-s"
   },
   "outputs": [
    {
     "output_type": "execute_result",
     "data": {
      "text/plain": [
       "array([[ 0.052],\n",
       "       [ 0.029],\n",
       "       [-0.095],\n",
       "       [ 0.072],\n",
       "       [ 0.065],\n",
       "       [ 0.026],\n",
       "       [ 0.078],\n",
       "       [ 0.065],\n",
       "       [ 0.017],\n",
       "       [ 0.029]], dtype=float32)"
      ]
     },
     "metadata": {},
     "execution_count": 104
    }
   ],
   "source": [
    "horsepower_model.predict(horsepower[:10])"
   ]
  },
  {
   "source": [
    "### Model trainieren"
   ],
   "cell_type": "markdown",
   "metadata": {}
  },
  {
   "cell_type": "code",
   "execution_count": 105,
   "metadata": {
    "execution": {
     "iopub.execute_input": "2020-09-24T01:22:28.506986Z",
     "iopub.status.busy": "2020-09-24T01:22:28.506337Z",
     "iopub.status.idle": "2020-09-24T01:22:28.515160Z",
     "shell.execute_reply": "2020-09-24T01:22:28.514658Z"
    },
    "id": "JxA_3lpOm-SK"
   },
   "outputs": [],
   "source": [
    "opt_adam = Adam(learning_rate=0.1)\n",
    "horsepower_model.compile(\n",
    "    optimizer=opt_adam,\n",
    "    loss=mean_absolute_error)"
   ]
  },
  {
   "cell_type": "markdown",
   "metadata": {
    "id": "Z3q1I9TwnRSC"
   },
   "source": [
    "Sobald das Training konfiguriert ist, verwenden Sie Model.fit(), um das Training auszuführen:"
   ]
  },
  {
   "cell_type": "code",
   "execution_count": 107,
   "metadata": {
    "execution": {
     "iopub.execute_input": "2020-09-24T01:22:28.521440Z",
     "iopub.status.busy": "2020-09-24T01:22:28.520771Z",
     "iopub.status.idle": "2020-09-24T01:22:31.497659Z",
     "shell.execute_reply": "2020-09-24T01:22:31.496971Z"
    },
    "id": "-iSrNy59nRAp"
   },
   "outputs": [
    {
     "output_type": "stream",
     "name": "stdout",
     "text": [
      "Epoch 1/100\n",
      "8/8 [==============================] - 0s 13ms/step - loss: 22.8648 - val_loss: 22.9352\n",
      "Epoch 2/100\n",
      "8/8 [==============================] - 0s 2ms/step - loss: 22.0675 - val_loss: 22.1348\n",
      "Epoch 3/100\n",
      "8/8 [==============================] - 0s 2ms/step - loss: 21.2630 - val_loss: 21.3347\n",
      "Epoch 4/100\n",
      "8/8 [==============================] - 0s 2ms/step - loss: 20.4655 - val_loss: 20.5351\n",
      "Epoch 5/100\n",
      "8/8 [==============================] - 0s 2ms/step - loss: 19.6617 - val_loss: 19.7350\n",
      "Epoch 6/100\n",
      "8/8 [==============================] - 0s 2ms/step - loss: 18.8635 - val_loss: 18.9348\n",
      "Epoch 7/100\n",
      "8/8 [==============================] - 0s 2ms/step - loss: 18.0650 - val_loss: 18.1350\n",
      "Epoch 8/100\n",
      "8/8 [==============================] - 0s 2ms/step - loss: 17.2621 - val_loss: 17.3350\n",
      "Epoch 9/100\n",
      "8/8 [==============================] - 0s 2ms/step - loss: 16.4640 - val_loss: 16.5347\n",
      "Epoch 10/100\n",
      "8/8 [==============================] - 0s 2ms/step - loss: 15.6626 - val_loss: 15.7347\n",
      "Epoch 11/100\n",
      "8/8 [==============================] - 0s 2ms/step - loss: 14.8704 - val_loss: 14.9350\n",
      "Epoch 12/100\n",
      "8/8 [==============================] - 0s 2ms/step - loss: 14.0634 - val_loss: 14.1348\n",
      "Epoch 13/100\n",
      "8/8 [==============================] - 0s 2ms/step - loss: 13.2639 - val_loss: 13.3346\n",
      "Epoch 14/100\n",
      "8/8 [==============================] - 0s 2ms/step - loss: 12.4691 - val_loss: 12.5392\n",
      "Epoch 15/100\n",
      "8/8 [==============================] - 0s 2ms/step - loss: 11.6871 - val_loss: 11.7584\n",
      "Epoch 16/100\n",
      "8/8 [==============================] - 0s 2ms/step - loss: 10.9021 - val_loss: 10.9851\n",
      "Epoch 17/100\n",
      "8/8 [==============================] - 0s 2ms/step - loss: 10.1222 - val_loss: 10.2124\n",
      "Epoch 18/100\n",
      "8/8 [==============================] - 0s 2ms/step - loss: 9.3733 - val_loss: 9.4298\n",
      "Epoch 19/100\n",
      "8/8 [==============================] - 0s 2ms/step - loss: 8.6135 - val_loss: 8.6867\n",
      "Epoch 20/100\n",
      "8/8 [==============================] - 0s 2ms/step - loss: 7.9172 - val_loss: 7.9556\n",
      "Epoch 21/100\n",
      "8/8 [==============================] - 0s 2ms/step - loss: 7.2409 - val_loss: 7.2446\n",
      "Epoch 22/100\n",
      "8/8 [==============================] - 0s 2ms/step - loss: 6.6019 - val_loss: 6.6033\n",
      "Epoch 23/100\n",
      "8/8 [==============================] - 0s 2ms/step - loss: 6.0098 - val_loss: 6.0285\n",
      "Epoch 24/100\n",
      "8/8 [==============================] - 0s 2ms/step - loss: 5.5011 - val_loss: 5.5931\n",
      "Epoch 25/100\n",
      "8/8 [==============================] - 0s 2ms/step - loss: 5.0827 - val_loss: 5.2550\n",
      "Epoch 26/100\n",
      "8/8 [==============================] - 0s 2ms/step - loss: 4.7622 - val_loss: 5.0400\n",
      "Epoch 27/100\n",
      "8/8 [==============================] - 0s 2ms/step - loss: 4.5191 - val_loss: 4.8562\n",
      "Epoch 28/100\n",
      "8/8 [==============================] - 0s 2ms/step - loss: 4.2985 - val_loss: 4.6995\n",
      "Epoch 29/100\n",
      "8/8 [==============================] - 0s 2ms/step - loss: 4.1424 - val_loss: 4.5659\n",
      "Epoch 30/100\n",
      "8/8 [==============================] - 0s 2ms/step - loss: 4.0444 - val_loss: 4.4756\n",
      "Epoch 31/100\n",
      "8/8 [==============================] - 0s 2ms/step - loss: 3.9678 - val_loss: 4.4021\n",
      "Epoch 32/100\n",
      "8/8 [==============================] - 0s 2ms/step - loss: 3.9024 - val_loss: 4.3311\n",
      "Epoch 33/100\n",
      "8/8 [==============================] - 0s 2ms/step - loss: 3.8634 - val_loss: 4.2811\n",
      "Epoch 34/100\n",
      "8/8 [==============================] - 0s 2ms/step - loss: 3.8462 - val_loss: 4.2521\n",
      "Epoch 35/100\n",
      "8/8 [==============================] - 0s 2ms/step - loss: 3.8302 - val_loss: 4.2200\n",
      "Epoch 36/100\n",
      "8/8 [==============================] - 0s 2ms/step - loss: 3.8199 - val_loss: 4.2279\n",
      "Epoch 37/100\n",
      "8/8 [==============================] - 0s 2ms/step - loss: 3.8133 - val_loss: 4.2277\n",
      "Epoch 38/100\n",
      "8/8 [==============================] - 0s 2ms/step - loss: 3.8131 - val_loss: 4.2249\n",
      "Epoch 39/100\n",
      "8/8 [==============================] - 0s 2ms/step - loss: 3.8069 - val_loss: 4.2139\n",
      "Epoch 40/100\n",
      "8/8 [==============================] - 0s 2ms/step - loss: 3.8065 - val_loss: 4.1927\n",
      "Epoch 41/100\n",
      "8/8 [==============================] - 0s 2ms/step - loss: 3.8036 - val_loss: 4.1796\n",
      "Epoch 42/100\n",
      "8/8 [==============================] - 0s 2ms/step - loss: 3.8034 - val_loss: 4.1816\n",
      "Epoch 43/100\n",
      "8/8 [==============================] - 0s 2ms/step - loss: 3.8050 - val_loss: 4.1981\n",
      "Epoch 44/100\n",
      "8/8 [==============================] - 0s 2ms/step - loss: 3.8060 - val_loss: 4.1943\n",
      "Epoch 45/100\n",
      "8/8 [==============================] - 0s 2ms/step - loss: 3.8027 - val_loss: 4.1953\n",
      "Epoch 46/100\n",
      "8/8 [==============================] - 0s 2ms/step - loss: 3.8019 - val_loss: 4.2036\n",
      "Epoch 47/100\n",
      "8/8 [==============================] - 0s 2ms/step - loss: 3.8050 - val_loss: 4.1995\n",
      "Epoch 48/100\n",
      "8/8 [==============================] - 0s 2ms/step - loss: 3.8049 - val_loss: 4.2107\n",
      "Epoch 49/100\n",
      "8/8 [==============================] - 0s 2ms/step - loss: 3.8040 - val_loss: 4.1913\n",
      "Epoch 50/100\n",
      "8/8 [==============================] - 0s 2ms/step - loss: 3.8018 - val_loss: 4.1879\n",
      "Epoch 51/100\n",
      "8/8 [==============================] - 0s 2ms/step - loss: 3.8023 - val_loss: 4.1871\n",
      "Epoch 52/100\n",
      "8/8 [==============================] - 0s 2ms/step - loss: 3.8031 - val_loss: 4.1931\n",
      "Epoch 53/100\n",
      "8/8 [==============================] - 0s 2ms/step - loss: 3.8039 - val_loss: 4.1726\n",
      "Epoch 54/100\n",
      "8/8 [==============================] - 0s 2ms/step - loss: 3.8044 - val_loss: 4.1707\n",
      "Epoch 55/100\n",
      "8/8 [==============================] - 0s 2ms/step - loss: 3.8032 - val_loss: 4.1812\n",
      "Epoch 56/100\n",
      "8/8 [==============================] - 0s 2ms/step - loss: 3.8056 - val_loss: 4.2091\n",
      "Epoch 57/100\n",
      "8/8 [==============================] - 0s 2ms/step - loss: 3.8045 - val_loss: 4.2106\n",
      "Epoch 58/100\n",
      "8/8 [==============================] - 0s 2ms/step - loss: 3.8058 - val_loss: 4.1830\n",
      "Epoch 59/100\n",
      "8/8 [==============================] - 0s 2ms/step - loss: 3.8027 - val_loss: 4.1949\n",
      "Epoch 60/100\n",
      "8/8 [==============================] - 0s 2ms/step - loss: 3.8033 - val_loss: 4.1924\n",
      "Epoch 61/100\n",
      "8/8 [==============================] - 0s 2ms/step - loss: 3.8065 - val_loss: 4.1924\n",
      "Epoch 62/100\n",
      "8/8 [==============================] - 0s 2ms/step - loss: 3.8019 - val_loss: 4.1843\n",
      "Epoch 63/100\n",
      "8/8 [==============================] - 0s 2ms/step - loss: 3.8083 - val_loss: 4.1996\n",
      "Epoch 64/100\n",
      "8/8 [==============================] - 0s 2ms/step - loss: 3.8054 - val_loss: 4.1910\n",
      "Epoch 65/100\n",
      "8/8 [==============================] - 0s 2ms/step - loss: 3.8031 - val_loss: 4.1787\n",
      "Epoch 66/100\n",
      "8/8 [==============================] - 0s 2ms/step - loss: 3.8037 - val_loss: 4.1874\n",
      "Epoch 67/100\n",
      "8/8 [==============================] - 0s 2ms/step - loss: 3.8044 - val_loss: 4.1976\n",
      "Epoch 68/100\n",
      "8/8 [==============================] - 0s 2ms/step - loss: 3.8035 - val_loss: 4.2026\n",
      "Epoch 69/100\n",
      "8/8 [==============================] - 0s 2ms/step - loss: 3.8059 - val_loss: 4.1942\n",
      "Epoch 70/100\n",
      "8/8 [==============================] - 0s 2ms/step - loss: 3.8030 - val_loss: 4.1725\n",
      "Epoch 71/100\n",
      "8/8 [==============================] - 0s 2ms/step - loss: 3.8072 - val_loss: 4.1966\n",
      "Epoch 72/100\n",
      "8/8 [==============================] - 0s 2ms/step - loss: 3.8029 - val_loss: 4.1861\n",
      "Epoch 73/100\n",
      "8/8 [==============================] - 0s 2ms/step - loss: 3.8095 - val_loss: 4.1667\n",
      "Epoch 74/100\n",
      "8/8 [==============================] - 0s 2ms/step - loss: 3.8039 - val_loss: 4.1947\n",
      "Epoch 75/100\n",
      "8/8 [==============================] - 0s 2ms/step - loss: 3.8052 - val_loss: 4.1933\n",
      "Epoch 76/100\n",
      "8/8 [==============================] - 0s 2ms/step - loss: 3.8037 - val_loss: 4.1978\n",
      "Epoch 77/100\n",
      "8/8 [==============================] - 0s 2ms/step - loss: 3.8032 - val_loss: 4.1848\n",
      "Epoch 78/100\n",
      "8/8 [==============================] - 0s 2ms/step - loss: 3.8104 - val_loss: 4.1555\n",
      "Epoch 79/100\n",
      "8/8 [==============================] - 0s 2ms/step - loss: 3.8055 - val_loss: 4.1710\n",
      "Epoch 80/100\n",
      "8/8 [==============================] - 0s 2ms/step - loss: 3.8044 - val_loss: 4.2064\n",
      "Epoch 81/100\n",
      "8/8 [==============================] - 0s 2ms/step - loss: 3.8054 - val_loss: 4.2065\n",
      "Epoch 82/100\n",
      "8/8 [==============================] - 0s 2ms/step - loss: 3.8071 - val_loss: 4.2143\n",
      "Epoch 83/100\n",
      "8/8 [==============================] - 0s 2ms/step - loss: 3.8053 - val_loss: 4.1644\n",
      "Epoch 84/100\n",
      "8/8 [==============================] - 0s 2ms/step - loss: 3.8044 - val_loss: 4.1605\n",
      "Epoch 85/100\n",
      "8/8 [==============================] - 0s 2ms/step - loss: 3.8043 - val_loss: 4.1815\n",
      "Epoch 86/100\n",
      "8/8 [==============================] - 0s 2ms/step - loss: 3.8023 - val_loss: 4.1968\n",
      "Epoch 87/100\n",
      "8/8 [==============================] - 0s 2ms/step - loss: 3.8030 - val_loss: 4.1932\n",
      "Epoch 88/100\n",
      "8/8 [==============================] - 0s 2ms/step - loss: 3.8151 - val_loss: 4.2063\n",
      "Epoch 89/100\n",
      "8/8 [==============================] - 0s 2ms/step - loss: 3.8067 - val_loss: 4.1837\n",
      "Epoch 90/100\n",
      "8/8 [==============================] - 0s 2ms/step - loss: 3.8072 - val_loss: 4.1565\n",
      "Epoch 91/100\n",
      "8/8 [==============================] - 0s 2ms/step - loss: 3.8049 - val_loss: 4.1685\n",
      "Epoch 92/100\n",
      "8/8 [==============================] - 0s 2ms/step - loss: 3.8042 - val_loss: 4.1796\n",
      "Epoch 93/100\n",
      "8/8 [==============================] - 0s 2ms/step - loss: 3.8032 - val_loss: 4.1936\n",
      "Epoch 94/100\n",
      "8/8 [==============================] - 0s 2ms/step - loss: 3.8019 - val_loss: 4.2054\n",
      "Epoch 95/100\n",
      "8/8 [==============================] - 0s 2ms/step - loss: 3.8066 - val_loss: 4.1980\n",
      "Epoch 96/100\n",
      "8/8 [==============================] - 0s 2ms/step - loss: 3.8032 - val_loss: 4.1914\n",
      "Epoch 97/100\n",
      "8/8 [==============================] - 0s 2ms/step - loss: 3.8054 - val_loss: 4.1782\n",
      "Epoch 98/100\n",
      "8/8 [==============================] - 0s 2ms/step - loss: 3.8029 - val_loss: 4.1974\n",
      "Epoch 99/100\n",
      "8/8 [==============================] - 0s 2ms/step - loss: 3.8029 - val_loss: 4.1925\n",
      "Epoch 100/100\n",
      "8/8 [==============================] - 0s 2ms/step - loss: 3.8028 - val_loss: 4.1942\n"
     ]
    }
   ],
   "source": [
    "history = horsepower_model.fit(\n",
    "    train_features['Horsepower'], \n",
    "    train_labels,\n",
    "    epochs=100,\n",
    "    validation_split = 0.2)"
   ]
  },
  {
   "source": [
    "### Evaluation - Wie ist das Training verlaufen?"
   ],
   "cell_type": "markdown",
   "metadata": {}
  },
  {
   "cell_type": "code",
   "execution_count": 108,
   "metadata": {
    "execution": {
     "iopub.execute_input": "2020-09-24T01:22:31.515825Z",
     "iopub.status.busy": "2020-09-24T01:22:31.515034Z",
     "iopub.status.idle": "2020-09-24T01:22:31.517020Z",
     "shell.execute_reply": "2020-09-24T01:22:31.517399Z"
    },
    "id": "9E54UoZunqhc"
   },
   "outputs": [],
   "source": [
    "def plot_loss(history):\n",
    "  plt.plot(history.history['loss'], label='loss')\n",
    "  plt.plot(history.history['val_loss'], label='val_loss')\n",
    "  plt.ylim([0, 10])\n",
    "  plt.xlabel('Epoch')\n",
    "  plt.ylabel('Error [MPG]')\n",
    "  plt.legend()\n",
    "  plt.grid(True)"
   ]
  },
  {
   "cell_type": "code",
   "execution_count": 109,
   "metadata": {
    "execution": {
     "iopub.execute_input": "2020-09-24T01:22:31.527487Z",
     "iopub.status.busy": "2020-09-24T01:22:31.526599Z",
     "iopub.status.idle": "2020-09-24T01:22:31.790176Z",
     "shell.execute_reply": "2020-09-24T01:22:31.790709Z"
    },
    "id": "yYsQYrIZyqjz"
   },
   "outputs": [
    {
     "output_type": "display_data",
     "data": {
      "text/plain": "<Figure size 432x288 with 1 Axes>",
      "image/svg+xml": "<?xml version=\"1.0\" encoding=\"utf-8\" standalone=\"no\"?>\r\n<!DOCTYPE svg PUBLIC \"-//W3C//DTD SVG 1.1//EN\"\r\n  \"http://www.w3.org/Graphics/SVG/1.1/DTD/svg11.dtd\">\r\n<!-- Created with matplotlib (https://matplotlib.org/) -->\r\n<svg height=\"265.995469pt\" version=\"1.1\" viewBox=\"0 0 382.603125 265.995469\" width=\"382.603125pt\" xmlns=\"http://www.w3.org/2000/svg\" xmlns:xlink=\"http://www.w3.org/1999/xlink\">\r\n <metadata>\r\n  <rdf:RDF xmlns:cc=\"http://creativecommons.org/ns#\" xmlns:dc=\"http://purl.org/dc/elements/1.1/\" xmlns:rdf=\"http://www.w3.org/1999/02/22-rdf-syntax-ns#\">\r\n   <cc:Work>\r\n    <dc:type rdf:resource=\"http://purl.org/dc/dcmitype/StillImage\"/>\r\n    <dc:date>2020-12-12T15:43:32.286321</dc:date>\r\n    <dc:format>image/svg+xml</dc:format>\r\n    <dc:creator>\r\n     <cc:Agent>\r\n      <dc:title>Matplotlib v3.3.3, https://matplotlib.org/</dc:title>\r\n     </cc:Agent>\r\n    </dc:creator>\r\n   </cc:Work>\r\n  </rdf:RDF>\r\n </metadata>\r\n <defs>\r\n  <style type=\"text/css\">*{stroke-linecap:butt;stroke-linejoin:round;}</style>\r\n </defs>\r\n <g id=\"figure_1\">\r\n  <g id=\"patch_1\">\r\n   <path d=\"M 0 265.995469 \r\nL 382.603125 265.995469 \r\nL 382.603125 0 \r\nL 0 0 \r\nz\r\n\" style=\"fill:none;\"/>\r\n  </g>\r\n  <g id=\"axes_1\">\r\n   <g id=\"patch_2\">\r\n    <path d=\"M 40.603125 228.439219 \r\nL 375.403125 228.439219 \r\nL 375.403125 10.999219 \r\nL 40.603125 10.999219 \r\nz\r\n\" style=\"fill:#ffffff;\"/>\r\n   </g>\r\n   <g id=\"matplotlib.axis_1\">\r\n    <g id=\"xtick_1\">\r\n     <g id=\"line2d_1\">\r\n      <path clip-path=\"url(#p7f270189a2)\" d=\"M 55.821307 228.439219 \r\nL 55.821307 10.999219 \r\n\" style=\"fill:none;stroke:#b0b0b0;stroke-linecap:square;stroke-width:0.8;\"/>\r\n     </g>\r\n     <g id=\"line2d_2\">\r\n      <defs>\r\n       <path d=\"M 0 0 \r\nL 0 3.5 \r\n\" id=\"m8cd656da55\" style=\"stroke:#000000;stroke-width:0.8;\"/>\r\n      </defs>\r\n      <g>\r\n       <use style=\"stroke:#000000;stroke-width:0.8;\" x=\"55.821307\" xlink:href=\"#m8cd656da55\" y=\"228.439219\"/>\r\n      </g>\r\n     </g>\r\n     <g id=\"text_1\">\r\n      <!-- 0 -->\r\n      <g transform=\"translate(52.640057 243.037656)scale(0.1 -0.1)\">\r\n       <defs>\r\n        <path d=\"M 31.78125 66.40625 \r\nQ 24.171875 66.40625 20.328125 58.90625 \r\nQ 16.5 51.421875 16.5 36.375 \r\nQ 16.5 21.390625 20.328125 13.890625 \r\nQ 24.171875 6.390625 31.78125 6.390625 \r\nQ 39.453125 6.390625 43.28125 13.890625 \r\nQ 47.125 21.390625 47.125 36.375 \r\nQ 47.125 51.421875 43.28125 58.90625 \r\nQ 39.453125 66.40625 31.78125 66.40625 \r\nz\r\nM 31.78125 74.21875 \r\nQ 44.046875 74.21875 50.515625 64.515625 \r\nQ 56.984375 54.828125 56.984375 36.375 \r\nQ 56.984375 17.96875 50.515625 8.265625 \r\nQ 44.046875 -1.421875 31.78125 -1.421875 \r\nQ 19.53125 -1.421875 13.0625 8.265625 \r\nQ 6.59375 17.96875 6.59375 36.375 \r\nQ 6.59375 54.828125 13.0625 64.515625 \r\nQ 19.53125 74.21875 31.78125 74.21875 \r\nz\r\n\" id=\"DejaVuSans-48\"/>\r\n       </defs>\r\n       <use xlink:href=\"#DejaVuSans-48\"/>\r\n      </g>\r\n     </g>\r\n    </g>\r\n    <g id=\"xtick_2\">\r\n     <g id=\"line2d_3\">\r\n      <path clip-path=\"url(#p7f270189a2)\" d=\"M 117.30891 228.439219 \r\nL 117.30891 10.999219 \r\n\" style=\"fill:none;stroke:#b0b0b0;stroke-linecap:square;stroke-width:0.8;\"/>\r\n     </g>\r\n     <g id=\"line2d_4\">\r\n      <g>\r\n       <use style=\"stroke:#000000;stroke-width:0.8;\" x=\"117.30891\" xlink:href=\"#m8cd656da55\" y=\"228.439219\"/>\r\n      </g>\r\n     </g>\r\n     <g id=\"text_2\">\r\n      <!-- 20 -->\r\n      <g transform=\"translate(110.94641 243.037656)scale(0.1 -0.1)\">\r\n       <defs>\r\n        <path d=\"M 19.1875 8.296875 \r\nL 53.609375 8.296875 \r\nL 53.609375 0 \r\nL 7.328125 0 \r\nL 7.328125 8.296875 \r\nQ 12.9375 14.109375 22.625 23.890625 \r\nQ 32.328125 33.6875 34.8125 36.53125 \r\nQ 39.546875 41.84375 41.421875 45.53125 \r\nQ 43.3125 49.21875 43.3125 52.78125 \r\nQ 43.3125 58.59375 39.234375 62.25 \r\nQ 35.15625 65.921875 28.609375 65.921875 \r\nQ 23.96875 65.921875 18.8125 64.3125 \r\nQ 13.671875 62.703125 7.8125 59.421875 \r\nL 7.8125 69.390625 \r\nQ 13.765625 71.78125 18.9375 73 \r\nQ 24.125 74.21875 28.421875 74.21875 \r\nQ 39.75 74.21875 46.484375 68.546875 \r\nQ 53.21875 62.890625 53.21875 53.421875 \r\nQ 53.21875 48.921875 51.53125 44.890625 \r\nQ 49.859375 40.875 45.40625 35.40625 \r\nQ 44.1875 33.984375 37.640625 27.21875 \r\nQ 31.109375 20.453125 19.1875 8.296875 \r\nz\r\n\" id=\"DejaVuSans-50\"/>\r\n       </defs>\r\n       <use xlink:href=\"#DejaVuSans-50\"/>\r\n       <use x=\"63.623047\" xlink:href=\"#DejaVuSans-48\"/>\r\n      </g>\r\n     </g>\r\n    </g>\r\n    <g id=\"xtick_3\">\r\n     <g id=\"line2d_5\">\r\n      <path clip-path=\"url(#p7f270189a2)\" d=\"M 178.796513 228.439219 \r\nL 178.796513 10.999219 \r\n\" style=\"fill:none;stroke:#b0b0b0;stroke-linecap:square;stroke-width:0.8;\"/>\r\n     </g>\r\n     <g id=\"line2d_6\">\r\n      <g>\r\n       <use style=\"stroke:#000000;stroke-width:0.8;\" x=\"178.796513\" xlink:href=\"#m8cd656da55\" y=\"228.439219\"/>\r\n      </g>\r\n     </g>\r\n     <g id=\"text_3\">\r\n      <!-- 40 -->\r\n      <g transform=\"translate(172.434013 243.037656)scale(0.1 -0.1)\">\r\n       <defs>\r\n        <path d=\"M 37.796875 64.3125 \r\nL 12.890625 25.390625 \r\nL 37.796875 25.390625 \r\nz\r\nM 35.203125 72.90625 \r\nL 47.609375 72.90625 \r\nL 47.609375 25.390625 \r\nL 58.015625 25.390625 \r\nL 58.015625 17.1875 \r\nL 47.609375 17.1875 \r\nL 47.609375 0 \r\nL 37.796875 0 \r\nL 37.796875 17.1875 \r\nL 4.890625 17.1875 \r\nL 4.890625 26.703125 \r\nz\r\n\" id=\"DejaVuSans-52\"/>\r\n       </defs>\r\n       <use xlink:href=\"#DejaVuSans-52\"/>\r\n       <use x=\"63.623047\" xlink:href=\"#DejaVuSans-48\"/>\r\n      </g>\r\n     </g>\r\n    </g>\r\n    <g id=\"xtick_4\">\r\n     <g id=\"line2d_7\">\r\n      <path clip-path=\"url(#p7f270189a2)\" d=\"M 240.284117 228.439219 \r\nL 240.284117 10.999219 \r\n\" style=\"fill:none;stroke:#b0b0b0;stroke-linecap:square;stroke-width:0.8;\"/>\r\n     </g>\r\n     <g id=\"line2d_8\">\r\n      <g>\r\n       <use style=\"stroke:#000000;stroke-width:0.8;\" x=\"240.284117\" xlink:href=\"#m8cd656da55\" y=\"228.439219\"/>\r\n      </g>\r\n     </g>\r\n     <g id=\"text_4\">\r\n      <!-- 60 -->\r\n      <g transform=\"translate(233.921617 243.037656)scale(0.1 -0.1)\">\r\n       <defs>\r\n        <path d=\"M 33.015625 40.375 \r\nQ 26.375 40.375 22.484375 35.828125 \r\nQ 18.609375 31.296875 18.609375 23.390625 \r\nQ 18.609375 15.53125 22.484375 10.953125 \r\nQ 26.375 6.390625 33.015625 6.390625 \r\nQ 39.65625 6.390625 43.53125 10.953125 \r\nQ 47.40625 15.53125 47.40625 23.390625 \r\nQ 47.40625 31.296875 43.53125 35.828125 \r\nQ 39.65625 40.375 33.015625 40.375 \r\nz\r\nM 52.59375 71.296875 \r\nL 52.59375 62.3125 \r\nQ 48.875 64.0625 45.09375 64.984375 \r\nQ 41.3125 65.921875 37.59375 65.921875 \r\nQ 27.828125 65.921875 22.671875 59.328125 \r\nQ 17.53125 52.734375 16.796875 39.40625 \r\nQ 19.671875 43.65625 24.015625 45.921875 \r\nQ 28.375 48.1875 33.59375 48.1875 \r\nQ 44.578125 48.1875 50.953125 41.515625 \r\nQ 57.328125 34.859375 57.328125 23.390625 \r\nQ 57.328125 12.15625 50.6875 5.359375 \r\nQ 44.046875 -1.421875 33.015625 -1.421875 \r\nQ 20.359375 -1.421875 13.671875 8.265625 \r\nQ 6.984375 17.96875 6.984375 36.375 \r\nQ 6.984375 53.65625 15.1875 63.9375 \r\nQ 23.390625 74.21875 37.203125 74.21875 \r\nQ 40.921875 74.21875 44.703125 73.484375 \r\nQ 48.484375 72.75 52.59375 71.296875 \r\nz\r\n\" id=\"DejaVuSans-54\"/>\r\n       </defs>\r\n       <use xlink:href=\"#DejaVuSans-54\"/>\r\n       <use x=\"63.623047\" xlink:href=\"#DejaVuSans-48\"/>\r\n      </g>\r\n     </g>\r\n    </g>\r\n    <g id=\"xtick_5\">\r\n     <g id=\"line2d_9\">\r\n      <path clip-path=\"url(#p7f270189a2)\" d=\"M 301.77172 228.439219 \r\nL 301.77172 10.999219 \r\n\" style=\"fill:none;stroke:#b0b0b0;stroke-linecap:square;stroke-width:0.8;\"/>\r\n     </g>\r\n     <g id=\"line2d_10\">\r\n      <g>\r\n       <use style=\"stroke:#000000;stroke-width:0.8;\" x=\"301.77172\" xlink:href=\"#m8cd656da55\" y=\"228.439219\"/>\r\n      </g>\r\n     </g>\r\n     <g id=\"text_5\">\r\n      <!-- 80 -->\r\n      <g transform=\"translate(295.40922 243.037656)scale(0.1 -0.1)\">\r\n       <defs>\r\n        <path d=\"M 31.78125 34.625 \r\nQ 24.75 34.625 20.71875 30.859375 \r\nQ 16.703125 27.09375 16.703125 20.515625 \r\nQ 16.703125 13.921875 20.71875 10.15625 \r\nQ 24.75 6.390625 31.78125 6.390625 \r\nQ 38.8125 6.390625 42.859375 10.171875 \r\nQ 46.921875 13.96875 46.921875 20.515625 \r\nQ 46.921875 27.09375 42.890625 30.859375 \r\nQ 38.875 34.625 31.78125 34.625 \r\nz\r\nM 21.921875 38.8125 \r\nQ 15.578125 40.375 12.03125 44.71875 \r\nQ 8.5 49.078125 8.5 55.328125 \r\nQ 8.5 64.0625 14.71875 69.140625 \r\nQ 20.953125 74.21875 31.78125 74.21875 \r\nQ 42.671875 74.21875 48.875 69.140625 \r\nQ 55.078125 64.0625 55.078125 55.328125 \r\nQ 55.078125 49.078125 51.53125 44.71875 \r\nQ 48 40.375 41.703125 38.8125 \r\nQ 48.828125 37.15625 52.796875 32.3125 \r\nQ 56.78125 27.484375 56.78125 20.515625 \r\nQ 56.78125 9.90625 50.3125 4.234375 \r\nQ 43.84375 -1.421875 31.78125 -1.421875 \r\nQ 19.734375 -1.421875 13.25 4.234375 \r\nQ 6.78125 9.90625 6.78125 20.515625 \r\nQ 6.78125 27.484375 10.78125 32.3125 \r\nQ 14.796875 37.15625 21.921875 38.8125 \r\nz\r\nM 18.3125 54.390625 \r\nQ 18.3125 48.734375 21.84375 45.5625 \r\nQ 25.390625 42.390625 31.78125 42.390625 \r\nQ 38.140625 42.390625 41.71875 45.5625 \r\nQ 45.3125 48.734375 45.3125 54.390625 \r\nQ 45.3125 60.0625 41.71875 63.234375 \r\nQ 38.140625 66.40625 31.78125 66.40625 \r\nQ 25.390625 66.40625 21.84375 63.234375 \r\nQ 18.3125 60.0625 18.3125 54.390625 \r\nz\r\n\" id=\"DejaVuSans-56\"/>\r\n       </defs>\r\n       <use xlink:href=\"#DejaVuSans-56\"/>\r\n       <use x=\"63.623047\" xlink:href=\"#DejaVuSans-48\"/>\r\n      </g>\r\n     </g>\r\n    </g>\r\n    <g id=\"xtick_6\">\r\n     <g id=\"line2d_11\">\r\n      <path clip-path=\"url(#p7f270189a2)\" d=\"M 363.259323 228.439219 \r\nL 363.259323 10.999219 \r\n\" style=\"fill:none;stroke:#b0b0b0;stroke-linecap:square;stroke-width:0.8;\"/>\r\n     </g>\r\n     <g id=\"line2d_12\">\r\n      <g>\r\n       <use style=\"stroke:#000000;stroke-width:0.8;\" x=\"363.259323\" xlink:href=\"#m8cd656da55\" y=\"228.439219\"/>\r\n      </g>\r\n     </g>\r\n     <g id=\"text_6\">\r\n      <!-- 100 -->\r\n      <g transform=\"translate(353.715573 243.037656)scale(0.1 -0.1)\">\r\n       <defs>\r\n        <path d=\"M 12.40625 8.296875 \r\nL 28.515625 8.296875 \r\nL 28.515625 63.921875 \r\nL 10.984375 60.40625 \r\nL 10.984375 69.390625 \r\nL 28.421875 72.90625 \r\nL 38.28125 72.90625 \r\nL 38.28125 8.296875 \r\nL 54.390625 8.296875 \r\nL 54.390625 0 \r\nL 12.40625 0 \r\nz\r\n\" id=\"DejaVuSans-49\"/>\r\n       </defs>\r\n       <use xlink:href=\"#DejaVuSans-49\"/>\r\n       <use x=\"63.623047\" xlink:href=\"#DejaVuSans-48\"/>\r\n       <use x=\"127.246094\" xlink:href=\"#DejaVuSans-48\"/>\r\n      </g>\r\n     </g>\r\n    </g>\r\n    <g id=\"text_7\">\r\n     <!-- Epoch -->\r\n     <g transform=\"translate(192.692187 256.715781)scale(0.1 -0.1)\">\r\n      <defs>\r\n       <path d=\"M 9.8125 72.90625 \r\nL 55.90625 72.90625 \r\nL 55.90625 64.59375 \r\nL 19.671875 64.59375 \r\nL 19.671875 43.015625 \r\nL 54.390625 43.015625 \r\nL 54.390625 34.71875 \r\nL 19.671875 34.71875 \r\nL 19.671875 8.296875 \r\nL 56.78125 8.296875 \r\nL 56.78125 0 \r\nL 9.8125 0 \r\nz\r\n\" id=\"DejaVuSans-69\"/>\r\n       <path d=\"M 18.109375 8.203125 \r\nL 18.109375 -20.796875 \r\nL 9.078125 -20.796875 \r\nL 9.078125 54.6875 \r\nL 18.109375 54.6875 \r\nL 18.109375 46.390625 \r\nQ 20.953125 51.265625 25.265625 53.625 \r\nQ 29.59375 56 35.59375 56 \r\nQ 45.5625 56 51.78125 48.09375 \r\nQ 58.015625 40.1875 58.015625 27.296875 \r\nQ 58.015625 14.40625 51.78125 6.484375 \r\nQ 45.5625 -1.421875 35.59375 -1.421875 \r\nQ 29.59375 -1.421875 25.265625 0.953125 \r\nQ 20.953125 3.328125 18.109375 8.203125 \r\nz\r\nM 48.6875 27.296875 \r\nQ 48.6875 37.203125 44.609375 42.84375 \r\nQ 40.53125 48.484375 33.40625 48.484375 \r\nQ 26.265625 48.484375 22.1875 42.84375 \r\nQ 18.109375 37.203125 18.109375 27.296875 \r\nQ 18.109375 17.390625 22.1875 11.75 \r\nQ 26.265625 6.109375 33.40625 6.109375 \r\nQ 40.53125 6.109375 44.609375 11.75 \r\nQ 48.6875 17.390625 48.6875 27.296875 \r\nz\r\n\" id=\"DejaVuSans-112\"/>\r\n       <path d=\"M 30.609375 48.390625 \r\nQ 23.390625 48.390625 19.1875 42.75 \r\nQ 14.984375 37.109375 14.984375 27.296875 \r\nQ 14.984375 17.484375 19.15625 11.84375 \r\nQ 23.34375 6.203125 30.609375 6.203125 \r\nQ 37.796875 6.203125 41.984375 11.859375 \r\nQ 46.1875 17.53125 46.1875 27.296875 \r\nQ 46.1875 37.015625 41.984375 42.703125 \r\nQ 37.796875 48.390625 30.609375 48.390625 \r\nz\r\nM 30.609375 56 \r\nQ 42.328125 56 49.015625 48.375 \r\nQ 55.71875 40.765625 55.71875 27.296875 \r\nQ 55.71875 13.875 49.015625 6.21875 \r\nQ 42.328125 -1.421875 30.609375 -1.421875 \r\nQ 18.84375 -1.421875 12.171875 6.21875 \r\nQ 5.515625 13.875 5.515625 27.296875 \r\nQ 5.515625 40.765625 12.171875 48.375 \r\nQ 18.84375 56 30.609375 56 \r\nz\r\n\" id=\"DejaVuSans-111\"/>\r\n       <path d=\"M 48.78125 52.59375 \r\nL 48.78125 44.1875 \r\nQ 44.96875 46.296875 41.140625 47.34375 \r\nQ 37.3125 48.390625 33.40625 48.390625 \r\nQ 24.65625 48.390625 19.8125 42.84375 \r\nQ 14.984375 37.3125 14.984375 27.296875 \r\nQ 14.984375 17.28125 19.8125 11.734375 \r\nQ 24.65625 6.203125 33.40625 6.203125 \r\nQ 37.3125 6.203125 41.140625 7.25 \r\nQ 44.96875 8.296875 48.78125 10.40625 \r\nL 48.78125 2.09375 \r\nQ 45.015625 0.34375 40.984375 -0.53125 \r\nQ 36.96875 -1.421875 32.421875 -1.421875 \r\nQ 20.0625 -1.421875 12.78125 6.34375 \r\nQ 5.515625 14.109375 5.515625 27.296875 \r\nQ 5.515625 40.671875 12.859375 48.328125 \r\nQ 20.21875 56 33.015625 56 \r\nQ 37.15625 56 41.109375 55.140625 \r\nQ 45.0625 54.296875 48.78125 52.59375 \r\nz\r\n\" id=\"DejaVuSans-99\"/>\r\n       <path d=\"M 54.890625 33.015625 \r\nL 54.890625 0 \r\nL 45.90625 0 \r\nL 45.90625 32.71875 \r\nQ 45.90625 40.484375 42.875 44.328125 \r\nQ 39.84375 48.1875 33.796875 48.1875 \r\nQ 26.515625 48.1875 22.3125 43.546875 \r\nQ 18.109375 38.921875 18.109375 30.90625 \r\nL 18.109375 0 \r\nL 9.078125 0 \r\nL 9.078125 75.984375 \r\nL 18.109375 75.984375 \r\nL 18.109375 46.1875 \r\nQ 21.34375 51.125 25.703125 53.5625 \r\nQ 30.078125 56 35.796875 56 \r\nQ 45.21875 56 50.046875 50.171875 \r\nQ 54.890625 44.34375 54.890625 33.015625 \r\nz\r\n\" id=\"DejaVuSans-104\"/>\r\n      </defs>\r\n      <use xlink:href=\"#DejaVuSans-69\"/>\r\n      <use x=\"63.183594\" xlink:href=\"#DejaVuSans-112\"/>\r\n      <use x=\"126.660156\" xlink:href=\"#DejaVuSans-111\"/>\r\n      <use x=\"187.841797\" xlink:href=\"#DejaVuSans-99\"/>\r\n      <use x=\"242.822266\" xlink:href=\"#DejaVuSans-104\"/>\r\n     </g>\r\n    </g>\r\n   </g>\r\n   <g id=\"matplotlib.axis_2\">\r\n    <g id=\"ytick_1\">\r\n     <g id=\"line2d_13\">\r\n      <path clip-path=\"url(#p7f270189a2)\" d=\"M 40.603125 228.439219 \r\nL 375.403125 228.439219 \r\n\" style=\"fill:none;stroke:#b0b0b0;stroke-linecap:square;stroke-width:0.8;\"/>\r\n     </g>\r\n     <g id=\"line2d_14\">\r\n      <defs>\r\n       <path d=\"M 0 0 \r\nL -3.5 0 \r\n\" id=\"mc9a866d6e1\" style=\"stroke:#000000;stroke-width:0.8;\"/>\r\n      </defs>\r\n      <g>\r\n       <use style=\"stroke:#000000;stroke-width:0.8;\" x=\"40.603125\" xlink:href=\"#mc9a866d6e1\" y=\"228.439219\"/>\r\n      </g>\r\n     </g>\r\n     <g id=\"text_8\">\r\n      <!-- 0 -->\r\n      <g transform=\"translate(27.240625 232.238437)scale(0.1 -0.1)\">\r\n       <use xlink:href=\"#DejaVuSans-48\"/>\r\n      </g>\r\n     </g>\r\n    </g>\r\n    <g id=\"ytick_2\">\r\n     <g id=\"line2d_15\">\r\n      <path clip-path=\"url(#p7f270189a2)\" d=\"M 40.603125 184.951219 \r\nL 375.403125 184.951219 \r\n\" style=\"fill:none;stroke:#b0b0b0;stroke-linecap:square;stroke-width:0.8;\"/>\r\n     </g>\r\n     <g id=\"line2d_16\">\r\n      <g>\r\n       <use style=\"stroke:#000000;stroke-width:0.8;\" x=\"40.603125\" xlink:href=\"#mc9a866d6e1\" y=\"184.951219\"/>\r\n      </g>\r\n     </g>\r\n     <g id=\"text_9\">\r\n      <!-- 2 -->\r\n      <g transform=\"translate(27.240625 188.750437)scale(0.1 -0.1)\">\r\n       <use xlink:href=\"#DejaVuSans-50\"/>\r\n      </g>\r\n     </g>\r\n    </g>\r\n    <g id=\"ytick_3\">\r\n     <g id=\"line2d_17\">\r\n      <path clip-path=\"url(#p7f270189a2)\" d=\"M 40.603125 141.463219 \r\nL 375.403125 141.463219 \r\n\" style=\"fill:none;stroke:#b0b0b0;stroke-linecap:square;stroke-width:0.8;\"/>\r\n     </g>\r\n     <g id=\"line2d_18\">\r\n      <g>\r\n       <use style=\"stroke:#000000;stroke-width:0.8;\" x=\"40.603125\" xlink:href=\"#mc9a866d6e1\" y=\"141.463219\"/>\r\n      </g>\r\n     </g>\r\n     <g id=\"text_10\">\r\n      <!-- 4 -->\r\n      <g transform=\"translate(27.240625 145.262437)scale(0.1 -0.1)\">\r\n       <use xlink:href=\"#DejaVuSans-52\"/>\r\n      </g>\r\n     </g>\r\n    </g>\r\n    <g id=\"ytick_4\">\r\n     <g id=\"line2d_19\">\r\n      <path clip-path=\"url(#p7f270189a2)\" d=\"M 40.603125 97.975219 \r\nL 375.403125 97.975219 \r\n\" style=\"fill:none;stroke:#b0b0b0;stroke-linecap:square;stroke-width:0.8;\"/>\r\n     </g>\r\n     <g id=\"line2d_20\">\r\n      <g>\r\n       <use style=\"stroke:#000000;stroke-width:0.8;\" x=\"40.603125\" xlink:href=\"#mc9a866d6e1\" y=\"97.975219\"/>\r\n      </g>\r\n     </g>\r\n     <g id=\"text_11\">\r\n      <!-- 6 -->\r\n      <g transform=\"translate(27.240625 101.774437)scale(0.1 -0.1)\">\r\n       <use xlink:href=\"#DejaVuSans-54\"/>\r\n      </g>\r\n     </g>\r\n    </g>\r\n    <g id=\"ytick_5\">\r\n     <g id=\"line2d_21\">\r\n      <path clip-path=\"url(#p7f270189a2)\" d=\"M 40.603125 54.487219 \r\nL 375.403125 54.487219 \r\n\" style=\"fill:none;stroke:#b0b0b0;stroke-linecap:square;stroke-width:0.8;\"/>\r\n     </g>\r\n     <g id=\"line2d_22\">\r\n      <g>\r\n       <use style=\"stroke:#000000;stroke-width:0.8;\" x=\"40.603125\" xlink:href=\"#mc9a866d6e1\" y=\"54.487219\"/>\r\n      </g>\r\n     </g>\r\n     <g id=\"text_12\">\r\n      <!-- 8 -->\r\n      <g transform=\"translate(27.240625 58.286437)scale(0.1 -0.1)\">\r\n       <use xlink:href=\"#DejaVuSans-56\"/>\r\n      </g>\r\n     </g>\r\n    </g>\r\n    <g id=\"ytick_6\">\r\n     <g id=\"line2d_23\">\r\n      <path clip-path=\"url(#p7f270189a2)\" d=\"M 40.603125 10.999219 \r\nL 375.403125 10.999219 \r\n\" style=\"fill:none;stroke:#b0b0b0;stroke-linecap:square;stroke-width:0.8;\"/>\r\n     </g>\r\n     <g id=\"line2d_24\">\r\n      <g>\r\n       <use style=\"stroke:#000000;stroke-width:0.8;\" x=\"40.603125\" xlink:href=\"#mc9a866d6e1\" y=\"10.999219\"/>\r\n      </g>\r\n     </g>\r\n     <g id=\"text_13\">\r\n      <!-- 10 -->\r\n      <g transform=\"translate(20.878125 14.798437)scale(0.1 -0.1)\">\r\n       <use xlink:href=\"#DejaVuSans-49\"/>\r\n       <use x=\"63.623047\" xlink:href=\"#DejaVuSans-48\"/>\r\n      </g>\r\n     </g>\r\n    </g>\r\n    <g id=\"text_14\">\r\n     <!-- Error [MPG] -->\r\n     <g transform=\"translate(14.798438 148.598125)rotate(-90)scale(0.1 -0.1)\">\r\n      <defs>\r\n       <path d=\"M 41.109375 46.296875 \r\nQ 39.59375 47.171875 37.8125 47.578125 \r\nQ 36.03125 48 33.890625 48 \r\nQ 26.265625 48 22.1875 43.046875 \r\nQ 18.109375 38.09375 18.109375 28.8125 \r\nL 18.109375 0 \r\nL 9.078125 0 \r\nL 9.078125 54.6875 \r\nL 18.109375 54.6875 \r\nL 18.109375 46.1875 \r\nQ 20.953125 51.171875 25.484375 53.578125 \r\nQ 30.03125 56 36.53125 56 \r\nQ 37.453125 56 38.578125 55.875 \r\nQ 39.703125 55.765625 41.0625 55.515625 \r\nz\r\n\" id=\"DejaVuSans-114\"/>\r\n       <path id=\"DejaVuSans-32\"/>\r\n       <path d=\"M 8.59375 75.984375 \r\nL 29.296875 75.984375 \r\nL 29.296875 69 \r\nL 17.578125 69 \r\nL 17.578125 -6.203125 \r\nL 29.296875 -6.203125 \r\nL 29.296875 -13.1875 \r\nL 8.59375 -13.1875 \r\nz\r\n\" id=\"DejaVuSans-91\"/>\r\n       <path d=\"M 9.8125 72.90625 \r\nL 24.515625 72.90625 \r\nL 43.109375 23.296875 \r\nL 61.8125 72.90625 \r\nL 76.515625 72.90625 \r\nL 76.515625 0 \r\nL 66.890625 0 \r\nL 66.890625 64.015625 \r\nL 48.09375 14.015625 \r\nL 38.1875 14.015625 \r\nL 19.390625 64.015625 \r\nL 19.390625 0 \r\nL 9.8125 0 \r\nz\r\n\" id=\"DejaVuSans-77\"/>\r\n       <path d=\"M 19.671875 64.796875 \r\nL 19.671875 37.40625 \r\nL 32.078125 37.40625 \r\nQ 38.96875 37.40625 42.71875 40.96875 \r\nQ 46.484375 44.53125 46.484375 51.125 \r\nQ 46.484375 57.671875 42.71875 61.234375 \r\nQ 38.96875 64.796875 32.078125 64.796875 \r\nz\r\nM 9.8125 72.90625 \r\nL 32.078125 72.90625 \r\nQ 44.34375 72.90625 50.609375 67.359375 \r\nQ 56.890625 61.8125 56.890625 51.125 \r\nQ 56.890625 40.328125 50.609375 34.8125 \r\nQ 44.34375 29.296875 32.078125 29.296875 \r\nL 19.671875 29.296875 \r\nL 19.671875 0 \r\nL 9.8125 0 \r\nz\r\n\" id=\"DejaVuSans-80\"/>\r\n       <path d=\"M 59.515625 10.40625 \r\nL 59.515625 29.984375 \r\nL 43.40625 29.984375 \r\nL 43.40625 38.09375 \r\nL 69.28125 38.09375 \r\nL 69.28125 6.78125 \r\nQ 63.578125 2.734375 56.6875 0.65625 \r\nQ 49.8125 -1.421875 42 -1.421875 \r\nQ 24.90625 -1.421875 15.25 8.5625 \r\nQ 5.609375 18.5625 5.609375 36.375 \r\nQ 5.609375 54.25 15.25 64.234375 \r\nQ 24.90625 74.21875 42 74.21875 \r\nQ 49.125 74.21875 55.546875 72.453125 \r\nQ 61.96875 70.703125 67.390625 67.28125 \r\nL 67.390625 56.78125 \r\nQ 61.921875 61.421875 55.765625 63.765625 \r\nQ 49.609375 66.109375 42.828125 66.109375 \r\nQ 29.4375 66.109375 22.71875 58.640625 \r\nQ 16.015625 51.171875 16.015625 36.375 \r\nQ 16.015625 21.625 22.71875 14.15625 \r\nQ 29.4375 6.6875 42.828125 6.6875 \r\nQ 48.046875 6.6875 52.140625 7.59375 \r\nQ 56.25 8.5 59.515625 10.40625 \r\nz\r\n\" id=\"DejaVuSans-71\"/>\r\n       <path d=\"M 30.421875 75.984375 \r\nL 30.421875 -13.1875 \r\nL 9.71875 -13.1875 \r\nL 9.71875 -6.203125 \r\nL 21.390625 -6.203125 \r\nL 21.390625 69 \r\nL 9.71875 69 \r\nL 9.71875 75.984375 \r\nz\r\n\" id=\"DejaVuSans-93\"/>\r\n      </defs>\r\n      <use xlink:href=\"#DejaVuSans-69\"/>\r\n      <use x=\"63.183594\" xlink:href=\"#DejaVuSans-114\"/>\r\n      <use x=\"102.546875\" xlink:href=\"#DejaVuSans-114\"/>\r\n      <use x=\"141.410156\" xlink:href=\"#DejaVuSans-111\"/>\r\n      <use x=\"202.591797\" xlink:href=\"#DejaVuSans-114\"/>\r\n      <use x=\"243.705078\" xlink:href=\"#DejaVuSans-32\"/>\r\n      <use x=\"275.492188\" xlink:href=\"#DejaVuSans-91\"/>\r\n      <use x=\"314.505859\" xlink:href=\"#DejaVuSans-77\"/>\r\n      <use x=\"400.785156\" xlink:href=\"#DejaVuSans-80\"/>\r\n      <use x=\"461.087891\" xlink:href=\"#DejaVuSans-71\"/>\r\n      <use x=\"538.578125\" xlink:href=\"#DejaVuSans-93\"/>\r\n     </g>\r\n    </g>\r\n   </g>\r\n   <g id=\"line2d_25\">\r\n    <path clip-path=\"url(#p7f270189a2)\" d=\"M 103.317647 -1 \r\nL 105.011389 8.341998 \r\nL 108.08577 24.626026 \r\nL 111.16015 41.148071 \r\nL 114.23453 56.287765 \r\nL 117.30891 70.993368 \r\nL 120.38329 84.888187 \r\nL 123.45767 97.761278 \r\nL 126.532051 108.824242 \r\nL 129.606431 117.920964 \r\nL 132.680811 124.890442 \r\nL 135.755191 130.175168 \r\nL 138.829571 134.972613 \r\nL 141.903951 138.36695 \r\nL 144.978332 140.497988 \r\nL 148.052712 142.162864 \r\nL 151.127092 143.585142 \r\nL 154.201472 144.433621 \r\nL 157.275852 144.807794 \r\nL 160.350232 145.155206 \r\nL 163.424613 145.379515 \r\nL 166.498993 145.522344 \r\nL 169.573373 145.526139 \r\nL 172.647753 145.662213 \r\nL 175.722133 145.670756 \r\nL 178.796513 145.733811 \r\nL 181.870894 145.738296 \r\nL 184.945274 145.70393 \r\nL 188.019654 145.680471 \r\nL 191.094034 145.752967 \r\nL 194.168414 145.771614 \r\nL 197.242794 145.704313 \r\nL 200.317175 145.705905 \r\nL 203.391555 145.725963 \r\nL 206.465935 145.773538 \r\nL 209.540315 145.762962 \r\nL 212.614695 145.744651 \r\nL 215.689075 145.727549 \r\nL 218.763456 145.715983 \r\nL 221.837836 145.743091 \r\nL 224.912216 145.689336 \r\nL 227.986596 145.713728 \r\nL 231.060976 145.685863 \r\nL 234.135356 145.752376 \r\nL 237.209737 145.740908 \r\nL 240.284117 145.670756 \r\nL 243.358497 145.770484 \r\nL 246.432877 145.632259 \r\nL 249.507257 145.693883 \r\nL 252.581637 145.743692 \r\nL 255.656018 145.732106 \r\nL 258.730398 145.717352 \r\nL 261.804778 145.735351 \r\nL 264.879158 145.683162 \r\nL 267.953538 145.745896 \r\nL 271.027918 145.654862 \r\nL 274.102299 145.748151 \r\nL 277.176679 145.606161 \r\nL 280.251059 145.726362 \r\nL 283.325439 145.699824 \r\nL 286.399819 145.731499 \r\nL 289.474199 145.743376 \r\nL 292.54858 145.584849 \r\nL 295.62296 145.691768 \r\nL 298.69734 145.715667 \r\nL 301.77172 145.695448 \r\nL 304.8461 145.65706 \r\nL 307.92048 145.697574 \r\nL 310.994861 145.715636 \r\nL 314.069241 145.71929 \r\nL 317.143621 145.762018 \r\nL 320.218001 145.746969 \r\nL 323.292381 145.483374 \r\nL 326.366761 145.666821 \r\nL 329.441142 145.655385 \r\nL 332.515522 145.705215 \r\nL 335.589902 145.721504 \r\nL 338.664282 145.741712 \r\nL 341.738662 145.76965 \r\nL 344.813042 145.668392 \r\nL 347.887423 145.742308 \r\nL 350.961803 145.695262 \r\nL 354.036183 145.747923 \r\nL 357.110563 145.749618 \r\nL 360.184943 145.751894 \r\n\" style=\"fill:none;stroke:#1f77b4;stroke-linecap:square;stroke-width:1.5;\"/>\r\n   </g>\r\n   <g id=\"line2d_26\">\r\n    <path clip-path=\"url(#p7f270189a2)\" d=\"M 103.66072 -1 \r\nL 105.011389 6.381426 \r\nL 108.08577 23.397937 \r\nL 111.16015 39.555907 \r\nL 114.23453 55.452833 \r\nL 117.30891 70.913024 \r\nL 120.38329 84.857155 \r\nL 123.45767 97.354497 \r\nL 126.532051 106.82311 \r\nL 129.606431 114.174206 \r\nL 132.680811 118.848692 \r\nL 135.755191 122.845763 \r\nL 138.829571 126.253507 \r\nL 141.903951 129.157722 \r\nL 144.978332 131.12158 \r\nL 148.052712 132.719374 \r\nL 151.127092 134.264268 \r\nL 154.201472 135.350684 \r\nL 157.275852 135.981183 \r\nL 160.350232 136.678724 \r\nL 163.424613 136.50691 \r\nL 166.498993 136.51254 \r\nL 169.573373 136.574035 \r\nL 172.647753 136.811626 \r\nL 175.722133 137.273919 \r\nL 178.796513 137.556996 \r\nL 181.870894 137.513801 \r\nL 184.945274 137.15656 \r\nL 188.019654 137.237412 \r\nL 191.094034 137.216199 \r\nL 194.168414 137.03722 \r\nL 197.242794 137.124968 \r\nL 200.317175 136.881021 \r\nL 203.391555 137.302919 \r\nL 206.465935 137.377354 \r\nL 209.540315 137.393954 \r\nL 212.614695 137.264204 \r\nL 215.689075 137.71025 \r\nL 218.763456 137.751019 \r\nL 221.837836 137.523641 \r\nL 224.912216 136.917466 \r\nL 227.986596 136.884484 \r\nL 231.060976 137.483837 \r\nL 234.135356 137.224483 \r\nL 237.209737 137.279072 \r\nL 240.284117 137.279072 \r\nL 243.358497 137.4555 \r\nL 246.432877 137.124117 \r\nL 249.507257 137.309358 \r\nL 252.581637 137.577204 \r\nL 255.656018 137.387401 \r\nL 258.730398 137.167685 \r\nL 261.804778 137.058963 \r\nL 264.879158 137.239952 \r\nL 267.953538 137.71164 \r\nL 271.027918 137.189148 \r\nL 274.102299 137.415903 \r\nL 277.176679 137.837636 \r\nL 280.251059 137.229823 \r\nL 283.325439 137.259113 \r\nL 286.399819 137.162377 \r\nL 289.474199 137.445028 \r\nL 292.54858 138.081012 \r\nL 295.62296 137.745731 \r\nL 298.69734 136.975394 \r\nL 301.77172 136.973704 \r\nL 304.8461 136.803393 \r\nL 307.92048 137.889312 \r\nL 310.994861 137.972684 \r\nL 314.069241 137.516632 \r\nL 317.143621 137.184347 \r\nL 320.218001 137.261446 \r\nL 323.292381 136.978027 \r\nL 326.366761 137.469539 \r\nL 329.441142 138.060887 \r\nL 332.515522 137.800248 \r\nL 335.589902 137.558209 \r\nL 338.664282 137.254665 \r\nL 341.738662 136.995933 \r\nL 344.813042 137.15824 \r\nL 347.887423 137.300504 \r\nL 350.961803 137.588588 \r\nL 354.036183 137.170205 \r\nL 357.110563 137.278253 \r\nL 360.184943 137.241383 \r\n\" style=\"fill:none;stroke:#ff7f0e;stroke-linecap:square;stroke-width:1.5;\"/>\r\n   </g>\r\n   <g id=\"patch_3\">\r\n    <path d=\"M 40.603125 228.439219 \r\nL 40.603125 10.999219 \r\n\" style=\"fill:none;stroke:#000000;stroke-linecap:square;stroke-linejoin:miter;stroke-width:0.8;\"/>\r\n   </g>\r\n   <g id=\"patch_4\">\r\n    <path d=\"M 375.403125 228.439219 \r\nL 375.403125 10.999219 \r\n\" style=\"fill:none;stroke:#000000;stroke-linecap:square;stroke-linejoin:miter;stroke-width:0.8;\"/>\r\n   </g>\r\n   <g id=\"patch_5\">\r\n    <path d=\"M 40.603125 228.439219 \r\nL 375.403125 228.439219 \r\n\" style=\"fill:none;stroke:#000000;stroke-linecap:square;stroke-linejoin:miter;stroke-width:0.8;\"/>\r\n   </g>\r\n   <g id=\"patch_6\">\r\n    <path d=\"M 40.603125 10.999219 \r\nL 375.403125 10.999219 \r\n\" style=\"fill:none;stroke:#000000;stroke-linecap:square;stroke-linejoin:miter;stroke-width:0.8;\"/>\r\n   </g>\r\n   <g id=\"legend_1\">\r\n    <g id=\"patch_7\">\r\n     <path d=\"M 297.2625 48.633594 \r\nL 368.403125 48.633594 \r\nQ 370.403125 48.633594 370.403125 46.633594 \r\nL 370.403125 17.999219 \r\nQ 370.403125 15.999219 368.403125 15.999219 \r\nL 297.2625 15.999219 \r\nQ 295.2625 15.999219 295.2625 17.999219 \r\nL 295.2625 46.633594 \r\nQ 295.2625 48.633594 297.2625 48.633594 \r\nz\r\n\" style=\"fill:#ffffff;opacity:0.8;stroke:#cccccc;stroke-linejoin:miter;\"/>\r\n    </g>\r\n    <g id=\"line2d_27\">\r\n     <path d=\"M 299.2625 24.097656 \r\nL 319.2625 24.097656 \r\n\" style=\"fill:none;stroke:#1f77b4;stroke-linecap:square;stroke-width:1.5;\"/>\r\n    </g>\r\n    <g id=\"line2d_28\"/>\r\n    <g id=\"text_15\">\r\n     <!-- loss -->\r\n     <g transform=\"translate(327.2625 27.597656)scale(0.1 -0.1)\">\r\n      <defs>\r\n       <path d=\"M 9.421875 75.984375 \r\nL 18.40625 75.984375 \r\nL 18.40625 0 \r\nL 9.421875 0 \r\nz\r\n\" id=\"DejaVuSans-108\"/>\r\n       <path d=\"M 44.28125 53.078125 \r\nL 44.28125 44.578125 \r\nQ 40.484375 46.53125 36.375 47.5 \r\nQ 32.28125 48.484375 27.875 48.484375 \r\nQ 21.1875 48.484375 17.84375 46.4375 \r\nQ 14.5 44.390625 14.5 40.28125 \r\nQ 14.5 37.15625 16.890625 35.375 \r\nQ 19.28125 33.59375 26.515625 31.984375 \r\nL 29.59375 31.296875 \r\nQ 39.15625 29.25 43.1875 25.515625 \r\nQ 47.21875 21.78125 47.21875 15.09375 \r\nQ 47.21875 7.46875 41.1875 3.015625 \r\nQ 35.15625 -1.421875 24.609375 -1.421875 \r\nQ 20.21875 -1.421875 15.453125 -0.5625 \r\nQ 10.6875 0.296875 5.421875 2 \r\nL 5.421875 11.28125 \r\nQ 10.40625 8.6875 15.234375 7.390625 \r\nQ 20.0625 6.109375 24.8125 6.109375 \r\nQ 31.15625 6.109375 34.5625 8.28125 \r\nQ 37.984375 10.453125 37.984375 14.40625 \r\nQ 37.984375 18.0625 35.515625 20.015625 \r\nQ 33.0625 21.96875 24.703125 23.78125 \r\nL 21.578125 24.515625 \r\nQ 13.234375 26.265625 9.515625 29.90625 \r\nQ 5.8125 33.546875 5.8125 39.890625 \r\nQ 5.8125 47.609375 11.28125 51.796875 \r\nQ 16.75 56 26.8125 56 \r\nQ 31.78125 56 36.171875 55.265625 \r\nQ 40.578125 54.546875 44.28125 53.078125 \r\nz\r\n\" id=\"DejaVuSans-115\"/>\r\n      </defs>\r\n      <use xlink:href=\"#DejaVuSans-108\"/>\r\n      <use x=\"27.783203\" xlink:href=\"#DejaVuSans-111\"/>\r\n      <use x=\"88.964844\" xlink:href=\"#DejaVuSans-115\"/>\r\n      <use x=\"141.064453\" xlink:href=\"#DejaVuSans-115\"/>\r\n     </g>\r\n    </g>\r\n    <g id=\"line2d_29\">\r\n     <path d=\"M 299.2625 38.775781 \r\nL 319.2625 38.775781 \r\n\" style=\"fill:none;stroke:#ff7f0e;stroke-linecap:square;stroke-width:1.5;\"/>\r\n    </g>\r\n    <g id=\"line2d_30\"/>\r\n    <g id=\"text_16\">\r\n     <!-- val_loss -->\r\n     <g transform=\"translate(327.2625 42.275781)scale(0.1 -0.1)\">\r\n      <defs>\r\n       <path d=\"M 2.984375 54.6875 \r\nL 12.5 54.6875 \r\nL 29.59375 8.796875 \r\nL 46.6875 54.6875 \r\nL 56.203125 54.6875 \r\nL 35.6875 0 \r\nL 23.484375 0 \r\nz\r\n\" id=\"DejaVuSans-118\"/>\r\n       <path d=\"M 34.28125 27.484375 \r\nQ 23.390625 27.484375 19.1875 25 \r\nQ 14.984375 22.515625 14.984375 16.5 \r\nQ 14.984375 11.71875 18.140625 8.90625 \r\nQ 21.296875 6.109375 26.703125 6.109375 \r\nQ 34.1875 6.109375 38.703125 11.40625 \r\nQ 43.21875 16.703125 43.21875 25.484375 \r\nL 43.21875 27.484375 \r\nz\r\nM 52.203125 31.203125 \r\nL 52.203125 0 \r\nL 43.21875 0 \r\nL 43.21875 8.296875 \r\nQ 40.140625 3.328125 35.546875 0.953125 \r\nQ 30.953125 -1.421875 24.3125 -1.421875 \r\nQ 15.921875 -1.421875 10.953125 3.296875 \r\nQ 6 8.015625 6 15.921875 \r\nQ 6 25.140625 12.171875 29.828125 \r\nQ 18.359375 34.515625 30.609375 34.515625 \r\nL 43.21875 34.515625 \r\nL 43.21875 35.40625 \r\nQ 43.21875 41.609375 39.140625 45 \r\nQ 35.0625 48.390625 27.6875 48.390625 \r\nQ 23 48.390625 18.546875 47.265625 \r\nQ 14.109375 46.140625 10.015625 43.890625 \r\nL 10.015625 52.203125 \r\nQ 14.9375 54.109375 19.578125 55.046875 \r\nQ 24.21875 56 28.609375 56 \r\nQ 40.484375 56 46.34375 49.84375 \r\nQ 52.203125 43.703125 52.203125 31.203125 \r\nz\r\n\" id=\"DejaVuSans-97\"/>\r\n       <path d=\"M 50.984375 -16.609375 \r\nL 50.984375 -23.578125 \r\nL -0.984375 -23.578125 \r\nL -0.984375 -16.609375 \r\nz\r\n\" id=\"DejaVuSans-95\"/>\r\n      </defs>\r\n      <use xlink:href=\"#DejaVuSans-118\"/>\r\n      <use x=\"59.179688\" xlink:href=\"#DejaVuSans-97\"/>\r\n      <use x=\"120.458984\" xlink:href=\"#DejaVuSans-108\"/>\r\n      <use x=\"148.242188\" xlink:href=\"#DejaVuSans-95\"/>\r\n      <use x=\"198.242188\" xlink:href=\"#DejaVuSans-108\"/>\r\n      <use x=\"226.025391\" xlink:href=\"#DejaVuSans-111\"/>\r\n      <use x=\"287.207031\" xlink:href=\"#DejaVuSans-115\"/>\r\n      <use x=\"339.306641\" xlink:href=\"#DejaVuSans-115\"/>\r\n     </g>\r\n    </g>\r\n   </g>\r\n  </g>\r\n </g>\r\n <defs>\r\n  <clipPath id=\"p7f270189a2\">\r\n   <rect height=\"217.44\" width=\"334.8\" x=\"40.603125\" y=\"10.999219\"/>\r\n  </clipPath>\r\n </defs>\r\n</svg>\r\n",
      "image/png": "[encoded data removed]"
     },
     "metadata": {
      "needs_background": "light"
     }
    }
   ],
   "source": [
    "plot_loss(history)"
   ]
  },
  {
   "cell_type": "markdown",
   "metadata": {
    "id": "F0qutYAKwoda"
   },
   "source": [
    "Da es sich um eine Regression mit einer einzigen Variable handelt, ist es einfach, die Vorhersagen des Modells als Funktion des Inputs zu betrachten:"
   ]
  },
  {
   "cell_type": "code",
   "execution_count": 110,
   "metadata": {
    "execution": {
     "iopub.execute_input": "2020-09-24T01:22:31.846035Z",
     "iopub.status.busy": "2020-09-24T01:22:31.845152Z",
     "iopub.status.idle": "2020-09-24T01:22:31.907419Z",
     "shell.execute_reply": "2020-09-24T01:22:31.907969Z"
    },
    "id": "xDS2JEtOn9Jn"
   },
   "outputs": [],
   "source": [
    "x = tf.linspace(0.0, 250, 251)\n",
    "y = horsepower_model.predict(x)"
   ]
  },
  {
   "cell_type": "code",
   "execution_count": 111,
   "metadata": {
    "execution": {
     "iopub.execute_input": "2020-09-24T01:22:31.912754Z",
     "iopub.status.busy": "2020-09-24T01:22:31.912110Z",
     "iopub.status.idle": "2020-09-24T01:22:31.913900Z",
     "shell.execute_reply": "2020-09-24T01:22:31.914380Z"
    },
    "id": "rttFCTU8czsI"
   },
   "outputs": [],
   "source": [
    "def plot_horsepower(x, y):\n",
    "  plt.scatter(train_features['Horsepower'], train_labels, label='Data')\n",
    "  plt.plot(x, y, color='k', label='Predictions')\n",
    "  plt.xlabel('Horsepower')\n",
    "  plt.ylabel('MPG')\n",
    "  plt.legend()"
   ]
  },
  {
   "cell_type": "code",
   "execution_count": 112,
   "metadata": {
    "execution": {
     "iopub.execute_input": "2020-09-24T01:22:31.924809Z",
     "iopub.status.busy": "2020-09-24T01:22:31.922118Z",
     "iopub.status.idle": "2020-09-24T01:22:32.062094Z",
     "shell.execute_reply": "2020-09-24T01:22:32.062513Z"
    },
    "id": "7l9ZiAOEUNBL"
   },
   "outputs": [
    {
     "output_type": "display_data",
     "data": {
      "text/plain": "<Figure size 432x288 with 1 Axes>",
      "image/svg+xml": "<?xml version=\"1.0\" encoding=\"utf-8\" standalone=\"no\"?>\r\n<!DOCTYPE svg PUBLIC \"-//W3C//DTD SVG 1.1//EN\"\r\n  \"http://www.w3.org/Graphics/SVG/1.1/DTD/svg11.dtd\">\r\n<!-- Created with matplotlib (https://matplotlib.org/) -->\r\n<svg height=\"262.19625pt\" version=\"1.1\" viewBox=\"0 0 382.603125 262.19625\" width=\"382.603125pt\" xmlns=\"http://www.w3.org/2000/svg\" xmlns:xlink=\"http://www.w3.org/1999/xlink\">\r\n <metadata>\r\n  <rdf:RDF xmlns:cc=\"http://creativecommons.org/ns#\" xmlns:dc=\"http://purl.org/dc/elements/1.1/\" xmlns:rdf=\"http://www.w3.org/1999/02/22-rdf-syntax-ns#\">\r\n   <cc:Work>\r\n    <dc:type rdf:resource=\"http://purl.org/dc/dcmitype/StillImage\"/>\r\n    <dc:date>2020-12-12T15:43:32.734820</dc:date>\r\n    <dc:format>image/svg+xml</dc:format>\r\n    <dc:creator>\r\n     <cc:Agent>\r\n      <dc:title>Matplotlib v3.3.3, https://matplotlib.org/</dc:title>\r\n     </cc:Agent>\r\n    </dc:creator>\r\n   </cc:Work>\r\n  </rdf:RDF>\r\n </metadata>\r\n <defs>\r\n  <style type=\"text/css\">*{stroke-linecap:butt;stroke-linejoin:round;}</style>\r\n </defs>\r\n <g id=\"figure_1\">\r\n  <g id=\"patch_1\">\r\n   <path d=\"M 0 262.19625 \r\nL 382.603125 262.19625 \r\nL 382.603125 0 \r\nL 0 0 \r\nz\r\n\" style=\"fill:none;\"/>\r\n  </g>\r\n  <g id=\"axes_1\">\r\n   <g id=\"patch_2\">\r\n    <path d=\"M 40.603125 224.64 \r\nL 375.403125 224.64 \r\nL 375.403125 7.2 \r\nL 40.603125 7.2 \r\nz\r\n\" style=\"fill:#ffffff;\"/>\r\n   </g>\r\n   <g id=\"PathCollection_1\">\r\n    <defs>\r\n     <path d=\"M 0 3 \r\nC 0.795609 3 1.55874 2.683901 2.12132 2.12132 \r\nC 2.683901 1.55874 3 0.795609 3 0 \r\nC 3 -0.795609 2.683901 -1.55874 2.12132 -2.12132 \r\nC 1.55874 -2.683901 0.795609 -3 0 -3 \r\nC -0.795609 -3 -1.55874 -2.683901 -2.12132 -2.12132 \r\nC -2.683901 -1.55874 -3 -0.795609 -3 0 \r\nC -3 0.795609 -2.683901 1.55874 -2.12132 2.12132 \r\nC -1.55874 2.683901 -0.795609 3 0 3 \r\nz\r\n\" id=\"m3b51242537\" style=\"stroke:#1f77b4;\"/>\r\n    </defs>\r\n    <g clip-path=\"url(#pa9ef0d14a4)\">\r\n     <use style=\"fill:#1f77b4;stroke:#1f77b4;\" x=\"147.130398\" xlink:href=\"#m3b51242537\" y=\"93.187215\"/>\r\n     <use style=\"fill:#1f77b4;stroke:#1f77b4;\" x=\"162.957307\" xlink:href=\"#m3b51242537\" y=\"116.509279\"/>\r\n     <use style=\"fill:#1f77b4;stroke:#1f77b4;\" x=\"250.614034\" xlink:href=\"#m3b51242537\" y=\"158.652658\"/>\r\n     <use style=\"fill:#1f77b4;stroke:#1f77b4;\" x=\"132.520943\" xlink:href=\"#m3b51242537\" y=\"52.271312\"/>\r\n     <use style=\"fill:#1f77b4;stroke:#1f77b4;\" x=\"137.390761\" xlink:href=\"#m3b51242537\" y=\"69.455991\"/>\r\n     <use style=\"fill:#1f77b4;stroke:#1f77b4;\" x=\"165.392216\" xlink:href=\"#m3b51242537\" y=\"128.374891\"/>\r\n     <use style=\"fill:#1f77b4;stroke:#1f77b4;\" x=\"128.86858\" xlink:href=\"#m3b51242537\" y=\"51.862153\"/>\r\n     <use style=\"fill:#1f77b4;stroke:#1f77b4;\" x=\"137.390761\" xlink:href=\"#m3b51242537\" y=\"85.004034\"/>\r\n     <use style=\"fill:#1f77b4;stroke:#1f77b4;\" x=\"171.479489\" xlink:href=\"#m3b51242537\" y=\"125.919936\"/>\r\n     <use style=\"fill:#1f77b4;stroke:#1f77b4;\" x=\"162.957307\" xlink:href=\"#m3b51242537\" y=\"125.919936\"/>\r\n     <use style=\"fill:#1f77b4;stroke:#1f77b4;\" x=\"128.86858\" xlink:href=\"#m3b51242537\" y=\"97.278805\"/>\r\n     <use style=\"fill:#1f77b4;stroke:#1f77b4;\" x=\"274.963125\" xlink:href=\"#m3b51242537\" y=\"140.240502\"/>\r\n     <use style=\"fill:#1f77b4;stroke:#1f77b4;\" x=\"162.957307\" xlink:href=\"#m3b51242537\" y=\"107.50778\"/>\r\n     <use style=\"fill:#1f77b4;stroke:#1f77b4;\" x=\"238.439489\" xlink:href=\"#m3b51242537\" y=\"162.744249\"/>\r\n     <use style=\"fill:#1f77b4;stroke:#1f77b4;\" x=\"244.526761\" xlink:href=\"#m3b51242537\" y=\"138.603866\"/>\r\n     <use style=\"fill:#1f77b4;stroke:#1f77b4;\" x=\"147.130398\" xlink:href=\"#m3b51242537\" y=\"69.86515\"/>\r\n     <use style=\"fill:#1f77b4;stroke:#1f77b4;\" x=\"195.82858\" xlink:href=\"#m3b51242537\" y=\"119.373392\"/>\r\n     <use style=\"fill:#1f77b4;stroke:#1f77b4;\" x=\"238.439489\" xlink:href=\"#m3b51242537\" y=\"150.469478\"/>\r\n     <use style=\"fill:#1f77b4;stroke:#1f77b4;\" x=\"165.392216\" xlink:href=\"#m3b51242537\" y=\"101.370395\"/>\r\n     <use style=\"fill:#1f77b4;stroke:#1f77b4;\" x=\"165.392216\" xlink:href=\"#m3b51242537\" y=\"91.550579\"/>\r\n     <use style=\"fill:#1f77b4;stroke:#1f77b4;\" x=\"212.872943\" xlink:href=\"#m3b51242537\" y=\"154.561068\"/>\r\n     <use style=\"fill:#1f77b4;stroke:#1f77b4;\" x=\"189.741307\" xlink:href=\"#m3b51242537\" y=\"142.286297\"/>\r\n     <use style=\"fill:#1f77b4;stroke:#1f77b4;\" x=\"165.392216\" xlink:href=\"#m3b51242537\" y=\"125.919936\"/>\r\n     <use style=\"fill:#1f77b4;stroke:#1f77b4;\" x=\"189.741307\" xlink:href=\"#m3b51242537\" y=\"105.461985\"/>\r\n     <use style=\"fill:#1f77b4;stroke:#1f77b4;\" x=\"148.347852\" xlink:href=\"#m3b51242537\" y=\"37.950747\"/>\r\n     <use style=\"fill:#1f77b4;stroke:#1f77b4;\" x=\"256.701307\" xlink:href=\"#m3b51242537\" y=\"150.469478\"/>\r\n     <use style=\"fill:#1f77b4;stroke:#1f77b4;\" x=\"167.827125\" xlink:href=\"#m3b51242537\" y=\"102.188713\"/>\r\n     <use style=\"fill:#1f77b4;stroke:#1f77b4;\" x=\"162.957307\" xlink:href=\"#m3b51242537\" y=\"105.052826\"/>\r\n     <use style=\"fill:#1f77b4;stroke:#1f77b4;\" x=\"177.566761\" xlink:href=\"#m3b51242537\" y=\"125.919936\"/>\r\n     <use style=\"fill:#1f77b4;stroke:#1f77b4;\" x=\"238.439489\" xlink:href=\"#m3b51242537\" y=\"138.194707\"/>\r\n     <use style=\"fill:#1f77b4;stroke:#1f77b4;\" x=\"204.350761\" xlink:href=\"#m3b51242537\" y=\"125.919936\"/>\r\n     <use style=\"fill:#1f77b4;stroke:#1f77b4;\" x=\"145.912943\" xlink:href=\"#m3b51242537\" y=\"78.45749\"/>\r\n     <use style=\"fill:#1f77b4;stroke:#1f77b4;\" x=\"148.347852\" xlink:href=\"#m3b51242537\" y=\"117.736756\"/>\r\n     <use style=\"fill:#1f77b4;stroke:#1f77b4;\" x=\"137.390761\" xlink:href=\"#m3b51242537\" y=\"101.370395\"/>\r\n     <use style=\"fill:#1f77b4;stroke:#1f77b4;\" x=\"189.741307\" xlink:href=\"#m3b51242537\" y=\"121.828346\"/>\r\n     <use style=\"fill:#1f77b4;stroke:#1f77b4;\" x=\"165.392216\" xlink:href=\"#m3b51242537\" y=\"85.822352\"/>\r\n     <use style=\"fill:#1f77b4;stroke:#1f77b4;\" x=\"134.955852\" xlink:href=\"#m3b51242537\" y=\"80.912444\"/>\r\n     <use style=\"fill:#1f77b4;stroke:#1f77b4;\" x=\"238.439489\" xlink:href=\"#m3b51242537\" y=\"154.561068\"/>\r\n     <use style=\"fill:#1f77b4;stroke:#1f77b4;\" x=\"238.439489\" xlink:href=\"#m3b51242537\" y=\"142.286297\"/>\r\n     <use style=\"fill:#1f77b4;stroke:#1f77b4;\" x=\"323.661307\" xlink:href=\"#m3b51242537\" y=\"150.469478\"/>\r\n     <use style=\"fill:#1f77b4;stroke:#1f77b4;\" x=\"256.701307\" xlink:href=\"#m3b51242537\" y=\"146.377888\"/>\r\n     <use style=\"fill:#1f77b4;stroke:#1f77b4;\" x=\"137.390761\" xlink:href=\"#m3b51242537\" y=\"25.266817\"/>\r\n     <use style=\"fill:#1f77b4;stroke:#1f77b4;\" x=\"147.130398\" xlink:href=\"#m3b51242537\" y=\"79.684967\"/>\r\n     <use style=\"fill:#1f77b4;stroke:#1f77b4;\" x=\"226.264943\" xlink:href=\"#m3b51242537\" y=\"142.286297\"/>\r\n     <use style=\"fill:#1f77b4;stroke:#1f77b4;\" x=\"150.782761\" xlink:href=\"#m3b51242537\" y=\"89.095624\"/>\r\n     <use style=\"fill:#1f77b4;stroke:#1f77b4;\" x=\"237.222034\" xlink:href=\"#m3b51242537\" y=\"142.286297\"/>\r\n     <use style=\"fill:#1f77b4;stroke:#1f77b4;\" x=\"158.087489\" xlink:href=\"#m3b51242537\" y=\"89.095624\"/>\r\n     <use style=\"fill:#1f77b4;stroke:#1f77b4;\" x=\"238.439489\" xlink:href=\"#m3b51242537\" y=\"154.561068\"/>\r\n     <use style=\"fill:#1f77b4;stroke:#1f77b4;\" x=\"232.352216\" xlink:href=\"#m3b51242537\" y=\"136.148912\"/>\r\n     <use style=\"fill:#1f77b4;stroke:#1f77b4;\" x=\"177.566761\" xlink:href=\"#m3b51242537\" y=\"134.103117\"/>\r\n     <use style=\"fill:#1f77b4;stroke:#1f77b4;\" x=\"147.130398\" xlink:href=\"#m3b51242537\" y=\"101.370395\"/>\r\n     <use style=\"fill:#1f77b4;stroke:#1f77b4;\" x=\"262.78858\" xlink:href=\"#m3b51242537\" y=\"146.377888\"/>\r\n     <use style=\"fill:#1f77b4;stroke:#1f77b4;\" x=\"299.312216\" xlink:href=\"#m3b51242537\" y=\"166.835839\"/>\r\n     <use style=\"fill:#1f77b4;stroke:#1f77b4;\" x=\"143.478034\" xlink:href=\"#m3b51242537\" y=\"117.736756\"/>\r\n     <use style=\"fill:#1f77b4;stroke:#1f77b4;\" x=\"150.782761\" xlink:href=\"#m3b51242537\" y=\"67.410196\"/>\r\n     <use style=\"fill:#1f77b4;stroke:#1f77b4;\" x=\"148.347852\" xlink:href=\"#m3b51242537\" y=\"82.139921\"/>\r\n     <use style=\"fill:#1f77b4;stroke:#1f77b4;\" x=\"162.957307\" xlink:href=\"#m3b51242537\" y=\"125.101618\"/>\r\n     <use style=\"fill:#1f77b4;stroke:#1f77b4;\" x=\"183.654034\" xlink:href=\"#m3b51242537\" y=\"117.736756\"/>\r\n     <use style=\"fill:#1f77b4;stroke:#1f77b4;\" x=\"120.346398\" xlink:href=\"#m3b51242537\" y=\"72.729263\"/>\r\n     <use style=\"fill:#1f77b4;stroke:#1f77b4;\" x=\"160.522398\" xlink:href=\"#m3b51242537\" y=\"121.828346\"/>\r\n     <use style=\"fill:#1f77b4;stroke:#1f77b4;\" x=\"171.479489\" xlink:href=\"#m3b51242537\" y=\"117.736756\"/>\r\n     <use style=\"fill:#1f77b4;stroke:#1f77b4;\" x=\"147.130398\" xlink:href=\"#m3b51242537\" y=\"109.553576\"/>\r\n     <use style=\"fill:#1f77b4;stroke:#1f77b4;\" x=\"142.26058\" xlink:href=\"#m3b51242537\" y=\"78.866649\"/>\r\n     <use style=\"fill:#1f77b4;stroke:#1f77b4;\" x=\"296.877307\" xlink:href=\"#m3b51242537\" y=\"146.377888\"/>\r\n     <use style=\"fill:#1f77b4;stroke:#1f77b4;\" x=\"139.82567\" xlink:href=\"#m3b51242537\" y=\"101.370395\"/>\r\n     <use style=\"fill:#1f77b4;stroke:#1f77b4;\" x=\"183.654034\" xlink:href=\"#m3b51242537\" y=\"142.286297\"/>\r\n     <use style=\"fill:#1f77b4;stroke:#1f77b4;\" x=\"317.574034\" xlink:href=\"#m3b51242537\" y=\"150.469478\"/>\r\n     <use style=\"fill:#1f77b4;stroke:#1f77b4;\" x=\"162.957307\" xlink:href=\"#m3b51242537\" y=\"97.278805\"/>\r\n     <use style=\"fill:#1f77b4;stroke:#1f77b4;\" x=\"161.739852\" xlink:href=\"#m3b51242537\" y=\"105.461985\"/>\r\n     <use style=\"fill:#1f77b4;stroke:#1f77b4;\" x=\"134.955852\" xlink:href=\"#m3b51242537\" y=\"40.81486\"/>\r\n     <use style=\"fill:#1f77b4;stroke:#1f77b4;\" x=\"128.86858\" xlink:href=\"#m3b51242537\" y=\"60.045334\"/>\r\n     <use style=\"fill:#1f77b4;stroke:#1f77b4;\" x=\"138.608216\" xlink:href=\"#m3b51242537\" y=\"85.004034\"/>\r\n     <use style=\"fill:#1f77b4;stroke:#1f77b4;\" x=\"212.872943\" xlink:href=\"#m3b51242537\" y=\"135.739753\"/>\r\n     <use style=\"fill:#1f77b4;stroke:#1f77b4;\" x=\"232.352216\" xlink:href=\"#m3b51242537\" y=\"144.332093\"/>\r\n     <use style=\"fill:#1f77b4;stroke:#1f77b4;\" x=\"171.479489\" xlink:href=\"#m3b51242537\" y=\"113.645166\"/>\r\n     <use style=\"fill:#1f77b4;stroke:#1f77b4;\" x=\"242.091852\" xlink:href=\"#m3b51242537\" y=\"150.469478\"/>\r\n     <use style=\"fill:#1f77b4;stroke:#1f77b4;\" x=\"141.043125\" xlink:href=\"#m3b51242537\" y=\"101.370395\"/>\r\n     <use style=\"fill:#1f77b4;stroke:#1f77b4;\" x=\"232.352216\" xlink:href=\"#m3b51242537\" y=\"129.193209\"/>\r\n     <use style=\"fill:#1f77b4;stroke:#1f77b4;\" x=\"138.608216\" xlink:href=\"#m3b51242537\" y=\"78.866649\"/>\r\n     <use style=\"fill:#1f77b4;stroke:#1f77b4;\" x=\"141.043125\" xlink:href=\"#m3b51242537\" y=\"70.683468\"/>\r\n     <use style=\"fill:#1f77b4;stroke:#1f77b4;\" x=\"177.566761\" xlink:href=\"#m3b51242537\" y=\"123.874141\"/>\r\n     <use style=\"fill:#1f77b4;stroke:#1f77b4;\" x=\"141.043125\" xlink:href=\"#m3b51242537\" y=\"67.819355\"/>\r\n     <use style=\"fill:#1f77b4;stroke:#1f77b4;\" x=\"154.435125\" xlink:href=\"#m3b51242537\" y=\"109.553576\"/>\r\n     <use style=\"fill:#1f77b4;stroke:#1f77b4;\" x=\"171.479489\" xlink:href=\"#m3b51242537\" y=\"109.553576\"/>\r\n     <use style=\"fill:#1f77b4;stroke:#1f77b4;\" x=\"329.74858\" xlink:href=\"#m3b51242537\" y=\"150.469478\"/>\r\n     <use style=\"fill:#1f77b4;stroke:#1f77b4;\" x=\"165.392216\" xlink:href=\"#m3b51242537\" y=\"109.962735\"/>\r\n     <use style=\"fill:#1f77b4;stroke:#1f77b4;\" x=\"173.914398\" xlink:href=\"#m3b51242537\" y=\"109.553576\"/>\r\n     <use style=\"fill:#1f77b4;stroke:#1f77b4;\" x=\"177.566761\" xlink:href=\"#m3b51242537\" y=\"73.138423\"/>\r\n     <use style=\"fill:#1f77b4;stroke:#1f77b4;\" x=\"134.955852\" xlink:href=\"#m3b51242537\" y=\"77.639172\"/>\r\n     <use style=\"fill:#1f77b4;stroke:#1f77b4;\" x=\"189.741307\" xlink:href=\"#m3b51242537\" y=\"119.782551\"/>\r\n     <use style=\"fill:#1f77b4;stroke:#1f77b4;\" x=\"164.174761\" xlink:href=\"#m3b51242537\" y=\"103.41619\"/>\r\n     <use style=\"fill:#1f77b4;stroke:#1f77b4;\" x=\"238.439489\" xlink:href=\"#m3b51242537\" y=\"146.377888\"/>\r\n     <use style=\"fill:#1f77b4;stroke:#1f77b4;\" x=\"189.741307\" xlink:href=\"#m3b51242537\" y=\"119.782551\"/>\r\n     <use style=\"fill:#1f77b4;stroke:#1f77b4;\" x=\"171.479489\" xlink:href=\"#m3b51242537\" y=\"130.011527\"/>\r\n     <use style=\"fill:#1f77b4;stroke:#1f77b4;\" x=\"159.304943\" xlink:href=\"#m3b51242537\" y=\"52.271312\"/>\r\n     <use style=\"fill:#1f77b4;stroke:#1f77b4;\" x=\"173.914398\" xlink:href=\"#m3b51242537\" y=\"113.645166\"/>\r\n     <use style=\"fill:#1f77b4;stroke:#1f77b4;\" x=\"128.86858\" xlink:href=\"#m3b51242537\" y=\"64.136924\"/>\r\n     <use style=\"fill:#1f77b4;stroke:#1f77b4;\" x=\"162.957307\" xlink:href=\"#m3b51242537\" y=\"113.645166\"/>\r\n     <use style=\"fill:#1f77b4;stroke:#1f77b4;\" x=\"119.128943\" xlink:href=\"#m3b51242537\" y=\"80.912444\"/>\r\n     <use style=\"fill:#1f77b4;stroke:#1f77b4;\" x=\"141.043125\" xlink:href=\"#m3b51242537\" y=\"46.543086\"/>\r\n     <use style=\"fill:#1f77b4;stroke:#1f77b4;\" x=\"296.877307\" xlink:href=\"#m3b51242537\" y=\"158.652658\"/>\r\n     <use style=\"fill:#1f77b4;stroke:#1f77b4;\" x=\"142.26058\" xlink:href=\"#m3b51242537\" y=\"105.461985\"/>\r\n     <use style=\"fill:#1f77b4;stroke:#1f77b4;\" x=\"165.392216\" xlink:href=\"#m3b51242537\" y=\"109.553576\"/>\r\n     <use style=\"fill:#1f77b4;stroke:#1f77b4;\" x=\"143.478034\" xlink:href=\"#m3b51242537\" y=\"99.3246\"/>\r\n     <use style=\"fill:#1f77b4;stroke:#1f77b4;\" x=\"132.520943\" xlink:href=\"#m3b51242537\" y=\"65.77356\"/>\r\n     <use style=\"fill:#1f77b4;stroke:#1f77b4;\" x=\"195.82858\" xlink:href=\"#m3b51242537\" y=\"89.913942\"/>\r\n     <use style=\"fill:#1f77b4;stroke:#1f77b4;\" x=\"165.392216\" xlink:href=\"#m3b51242537\" y=\"93.187215\"/>\r\n     <use style=\"fill:#1f77b4;stroke:#1f77b4;\" x=\"220.17767\" xlink:href=\"#m3b51242537\" y=\"133.284799\"/>\r\n     <use style=\"fill:#1f77b4;stroke:#1f77b4;\" x=\"119.128943\" xlink:href=\"#m3b51242537\" y=\"27.721771\"/>\r\n     <use style=\"fill:#1f77b4;stroke:#1f77b4;\" x=\"238.439489\" xlink:href=\"#m3b51242537\" y=\"150.469478\"/>\r\n     <use style=\"fill:#1f77b4;stroke:#1f77b4;\" x=\"262.78858\" xlink:href=\"#m3b51242537\" y=\"144.332093\"/>\r\n     <use style=\"fill:#1f77b4;stroke:#1f77b4;\" x=\"126.43367\" xlink:href=\"#m3b51242537\" y=\"60.454493\"/>\r\n     <use style=\"fill:#1f77b4;stroke:#1f77b4;\" x=\"172.696943\" xlink:href=\"#m3b51242537\" y=\"103.41619\"/>\r\n     <use style=\"fill:#1f77b4;stroke:#1f77b4;\" x=\"208.003125\" xlink:href=\"#m3b51242537\" y=\"129.193209\"/>\r\n     <use style=\"fill:#1f77b4;stroke:#1f77b4;\" x=\"167.827125\" xlink:href=\"#m3b51242537\" y=\"101.370395\"/>\r\n     <use style=\"fill:#1f77b4;stroke:#1f77b4;\" x=\"171.479489\" xlink:href=\"#m3b51242537\" y=\"105.461985\"/>\r\n     <use style=\"fill:#1f77b4;stroke:#1f77b4;\" x=\"165.392216\" xlink:href=\"#m3b51242537\" y=\"97.278805\"/>\r\n     <use style=\"fill:#1f77b4;stroke:#1f77b4;\" x=\"171.479489\" xlink:href=\"#m3b51242537\" y=\"136.148912\"/>\r\n     <use style=\"fill:#1f77b4;stroke:#1f77b4;\" x=\"155.65258\" xlink:href=\"#m3b51242537\" y=\"80.912444\"/>\r\n     <use style=\"fill:#1f77b4;stroke:#1f77b4;\" x=\"189.741307\" xlink:href=\"#m3b51242537\" y=\"138.194707\"/>\r\n     <use style=\"fill:#1f77b4;stroke:#1f77b4;\" x=\"150.782761\" xlink:href=\"#m3b51242537\" y=\"101.370395\"/>\r\n     <use style=\"fill:#1f77b4;stroke:#1f77b4;\" x=\"137.390761\" xlink:href=\"#m3b51242537\" y=\"75.593377\"/>\r\n     <use style=\"fill:#1f77b4;stroke:#1f77b4;\" x=\"309.051852\" xlink:href=\"#m3b51242537\" y=\"162.744249\"/>\r\n     <use style=\"fill:#1f77b4;stroke:#1f77b4;\" x=\"183.654034\" xlink:href=\"#m3b51242537\" y=\"123.874141\"/>\r\n     <use style=\"fill:#1f77b4;stroke:#1f77b4;\" x=\"214.090398\" xlink:href=\"#m3b51242537\" y=\"154.561068\"/>\r\n     <use style=\"fill:#1f77b4;stroke:#1f77b4;\" x=\"238.439489\" xlink:href=\"#m3b51242537\" y=\"146.377888\"/>\r\n     <use style=\"fill:#1f77b4;stroke:#1f77b4;\" x=\"111.824216\" xlink:href=\"#m3b51242537\" y=\"101.370395\"/>\r\n     <use style=\"fill:#1f77b4;stroke:#1f77b4;\" x=\"165.392216\" xlink:href=\"#m3b51242537\" y=\"70.683468\"/>\r\n     <use style=\"fill:#1f77b4;stroke:#1f77b4;\" x=\"133.738398\" xlink:href=\"#m3b51242537\" y=\"48.179722\"/>\r\n     <use style=\"fill:#1f77b4;stroke:#1f77b4;\" x=\"147.130398\" xlink:href=\"#m3b51242537\" y=\"76.002536\"/>\r\n     <use style=\"fill:#1f77b4;stroke:#1f77b4;\" x=\"159.304943\" xlink:href=\"#m3b51242537\" y=\"121.828346\"/>\r\n     <use style=\"fill:#1f77b4;stroke:#1f77b4;\" x=\"143.478034\" xlink:href=\"#m3b51242537\" y=\"146.377888\"/>\r\n     <use style=\"fill:#1f77b4;stroke:#1f77b4;\" x=\"171.479489\" xlink:href=\"#m3b51242537\" y=\"113.645166\"/>\r\n     <use style=\"fill:#1f77b4;stroke:#1f77b4;\" x=\"165.392216\" xlink:href=\"#m3b51242537\" y=\"93.187215\"/>\r\n     <use style=\"fill:#1f77b4;stroke:#1f77b4;\" x=\"232.352216\" xlink:href=\"#m3b51242537\" y=\"146.377888\"/>\r\n     <use style=\"fill:#1f77b4;stroke:#1f77b4;\" x=\"162.957307\" xlink:href=\"#m3b51242537\" y=\"99.733759\"/>\r\n     <use style=\"fill:#1f77b4;stroke:#1f77b4;\" x=\"259.136216\" xlink:href=\"#m3b51242537\" y=\"158.652658\"/>\r\n     <use style=\"fill:#1f77b4;stroke:#1f77b4;\" x=\"201.915852\" xlink:href=\"#m3b51242537\" y=\"108.735258\"/>\r\n     <use style=\"fill:#1f77b4;stroke:#1f77b4;\" x=\"287.13767\" xlink:href=\"#m3b51242537\" y=\"144.332093\"/>\r\n     <use style=\"fill:#1f77b4;stroke:#1f77b4;\" x=\"150.782761\" xlink:href=\"#m3b51242537\" y=\"113.645166\"/>\r\n     <use style=\"fill:#1f77b4;stroke:#1f77b4;\" x=\"115.47658\" xlink:href=\"#m3b51242537\" y=\"89.095624\"/>\r\n     <use style=\"fill:#1f77b4;stroke:#1f77b4;\" x=\"160.522398\" xlink:href=\"#m3b51242537\" y=\"97.278805\"/>\r\n     <use style=\"fill:#1f77b4;stroke:#1f77b4;\" x=\"238.439489\" xlink:href=\"#m3b51242537\" y=\"146.377888\"/>\r\n     <use style=\"fill:#1f77b4;stroke:#1f77b4;\" x=\"141.043125\" xlink:href=\"#m3b51242537\" y=\"89.095624\"/>\r\n     <use style=\"fill:#1f77b4;stroke:#1f77b4;\" x=\"186.088943\" xlink:href=\"#m3b51242537\" y=\"121.828346\"/>\r\n     <use style=\"fill:#1f77b4;stroke:#1f77b4;\" x=\"153.21767\" xlink:href=\"#m3b51242537\" y=\"95.642169\"/>\r\n     <use style=\"fill:#1f77b4;stroke:#1f77b4;\" x=\"238.439489\" xlink:href=\"#m3b51242537\" y=\"150.469478\"/>\r\n     <use style=\"fill:#1f77b4;stroke:#1f77b4;\" x=\"183.654034\" xlink:href=\"#m3b51242537\" y=\"112.826848\"/>\r\n     <use style=\"fill:#1f77b4;stroke:#1f77b4;\" x=\"177.566761\" xlink:href=\"#m3b51242537\" y=\"146.377888\"/>\r\n     <use style=\"fill:#1f77b4;stroke:#1f77b4;\" x=\"232.352216\" xlink:href=\"#m3b51242537\" y=\"146.377888\"/>\r\n     <use style=\"fill:#1f77b4;stroke:#1f77b4;\" x=\"153.21767\" xlink:href=\"#m3b51242537\" y=\"61.68197\"/>\r\n     <use style=\"fill:#1f77b4;stroke:#1f77b4;\" x=\"217.742761\" xlink:href=\"#m3b51242537\" y=\"141.467979\"/>\r\n     <use style=\"fill:#1f77b4;stroke:#1f77b4;\" x=\"183.654034\" xlink:href=\"#m3b51242537\" y=\"134.103117\"/>\r\n     <use style=\"fill:#1f77b4;stroke:#1f77b4;\" x=\"183.654034\" xlink:href=\"#m3b51242537\" y=\"142.286297\"/>\r\n     <use style=\"fill:#1f77b4;stroke:#1f77b4;\" x=\"138.608216\" xlink:href=\"#m3b51242537\" y=\"56.362903\"/>\r\n     <use style=\"fill:#1f77b4;stroke:#1f77b4;\" x=\"177.566761\" xlink:href=\"#m3b51242537\" y=\"138.194707\"/>\r\n     <use style=\"fill:#1f77b4;stroke:#1f77b4;\" x=\"189.741307\" xlink:href=\"#m3b51242537\" y=\"132.057322\"/>\r\n     <use style=\"fill:#1f77b4;stroke:#1f77b4;\" x=\"177.566761\" xlink:href=\"#m3b51242537\" y=\"142.286297\"/>\r\n     <use style=\"fill:#1f77b4;stroke:#1f77b4;\" x=\"238.439489\" xlink:href=\"#m3b51242537\" y=\"150.469478\"/>\r\n     <use style=\"fill:#1f77b4;stroke:#1f77b4;\" x=\"189.741307\" xlink:href=\"#m3b51242537\" y=\"126.329096\"/>\r\n     <use style=\"fill:#1f77b4;stroke:#1f77b4;\" x=\"154.435125\" xlink:href=\"#m3b51242537\" y=\"105.461985\"/>\r\n     <use style=\"fill:#1f77b4;stroke:#1f77b4;\" x=\"214.090398\" xlink:href=\"#m3b51242537\" y=\"138.194707\"/>\r\n     <use style=\"fill:#1f77b4;stroke:#1f77b4;\" x=\"192.176216\" xlink:href=\"#m3b51242537\" y=\"117.736756\"/>\r\n     <use style=\"fill:#1f77b4;stroke:#1f77b4;\" x=\"153.21767\" xlink:href=\"#m3b51242537\" y=\"85.004034\"/>\r\n     <use style=\"fill:#1f77b4;stroke:#1f77b4;\" x=\"197.046034\" xlink:href=\"#m3b51242537\" y=\"103.825349\"/>\r\n     <use style=\"fill:#1f77b4;stroke:#1f77b4;\" x=\"143.478034\" xlink:href=\"#m3b51242537\" y=\"121.828346\"/>\r\n     <use style=\"fill:#1f77b4;stroke:#1f77b4;\" x=\"177.566761\" xlink:href=\"#m3b51242537\" y=\"130.011527\"/>\r\n     <use style=\"fill:#1f77b4;stroke:#1f77b4;\" x=\"147.130398\" xlink:href=\"#m3b51242537\" y=\"60.454493\"/>\r\n     <use style=\"fill:#1f77b4;stroke:#1f77b4;\" x=\"183.654034\" xlink:href=\"#m3b51242537\" y=\"129.193209\"/>\r\n     <use style=\"fill:#1f77b4;stroke:#1f77b4;\" x=\"165.392216\" xlink:href=\"#m3b51242537\" y=\"125.101618\"/>\r\n     <use style=\"fill:#1f77b4;stroke:#1f77b4;\" x=\"226.264943\" xlink:href=\"#m3b51242537\" y=\"154.561068\"/>\r\n     <use style=\"fill:#1f77b4;stroke:#1f77b4;\" x=\"226.264943\" xlink:href=\"#m3b51242537\" y=\"150.469478\"/>\r\n     <use style=\"fill:#1f77b4;stroke:#1f77b4;\" x=\"141.043125\" xlink:href=\"#m3b51242537\" y=\"60.454493\"/>\r\n     <use style=\"fill:#1f77b4;stroke:#1f77b4;\" x=\"159.304943\" xlink:href=\"#m3b51242537\" y=\"125.101618\"/>\r\n     <use style=\"fill:#1f77b4;stroke:#1f77b4;\" x=\"120.346398\" xlink:href=\"#m3b51242537\" y=\"72.729263\"/>\r\n     <use style=\"fill:#1f77b4;stroke:#1f77b4;\" x=\"162.957307\" xlink:href=\"#m3b51242537\" y=\"97.278805\"/>\r\n     <use style=\"fill:#1f77b4;stroke:#1f77b4;\" x=\"189.741307\" xlink:href=\"#m3b51242537\" y=\"123.464982\"/>\r\n     <use style=\"fill:#1f77b4;stroke:#1f77b4;\" x=\"147.130398\" xlink:href=\"#m3b51242537\" y=\"75.184218\"/>\r\n     <use style=\"fill:#1f77b4;stroke:#1f77b4;\" x=\"148.347852\" xlink:href=\"#m3b51242537\" y=\"85.004034\"/>\r\n     <use style=\"fill:#1f77b4;stroke:#1f77b4;\" x=\"131.303489\" xlink:href=\"#m3b51242537\" y=\"85.822352\"/>\r\n     <use style=\"fill:#1f77b4;stroke:#1f77b4;\" x=\"131.303489\" xlink:href=\"#m3b51242537\" y=\"53.498789\"/>\r\n     <use style=\"fill:#1f77b4;stroke:#1f77b4;\" x=\"311.486761\" xlink:href=\"#m3b51242537\" y=\"162.744249\"/>\r\n     <use style=\"fill:#1f77b4;stroke:#1f77b4;\" x=\"238.439489\" xlink:href=\"#m3b51242537\" y=\"134.103117\"/>\r\n     <use style=\"fill:#1f77b4;stroke:#1f77b4;\" x=\"167.827125\" xlink:href=\"#m3b51242537\" y=\"56.362903\"/>\r\n     <use style=\"fill:#1f77b4;stroke:#1f77b4;\" x=\"238.439489\" xlink:href=\"#m3b51242537\" y=\"142.286297\"/>\r\n     <use style=\"fill:#1f77b4;stroke:#1f77b4;\" x=\"150.782761\" xlink:href=\"#m3b51242537\" y=\"134.103117\"/>\r\n     <use style=\"fill:#1f77b4;stroke:#1f77b4;\" x=\"167.827125\" xlink:href=\"#m3b51242537\" y=\"109.553576\"/>\r\n     <use style=\"fill:#1f77b4;stroke:#1f77b4;\" x=\"238.439489\" xlink:href=\"#m3b51242537\" y=\"154.561068\"/>\r\n     <use style=\"fill:#1f77b4;stroke:#1f77b4;\" x=\"238.439489\" xlink:href=\"#m3b51242537\" y=\"150.469478\"/>\r\n     <use style=\"fill:#1f77b4;stroke:#1f77b4;\" x=\"189.741307\" xlink:href=\"#m3b51242537\" y=\"138.194707\"/>\r\n     <use style=\"fill:#1f77b4;stroke:#1f77b4;\" x=\"173.914398\" xlink:href=\"#m3b51242537\" y=\"117.736756\"/>\r\n     <use style=\"fill:#1f77b4;stroke:#1f77b4;\" x=\"171.479489\" xlink:href=\"#m3b51242537\" y=\"121.419187\"/>\r\n     <use style=\"fill:#1f77b4;stroke:#1f77b4;\" x=\"181.219125\" xlink:href=\"#m3b51242537\" y=\"124.692459\"/>\r\n     <use style=\"fill:#1f77b4;stroke:#1f77b4;\" x=\"189.741307\" xlink:href=\"#m3b51242537\" y=\"136.148912\"/>\r\n     <use style=\"fill:#1f77b4;stroke:#1f77b4;\" x=\"162.957307\" xlink:href=\"#m3b51242537\" y=\"130.011527\"/>\r\n     <use style=\"fill:#1f77b4;stroke:#1f77b4;\" x=\"201.915852\" xlink:href=\"#m3b51242537\" y=\"133.693958\"/>\r\n     <use style=\"fill:#1f77b4;stroke:#1f77b4;\" x=\"225.047489\" xlink:href=\"#m3b51242537\" y=\"125.101618\"/>\r\n     <use style=\"fill:#1f77b4;stroke:#1f77b4;\" x=\"165.392216\" xlink:href=\"#m3b51242537\" y=\"121.828346\"/>\r\n     <use style=\"fill:#1f77b4;stroke:#1f77b4;\" x=\"256.701307\" xlink:href=\"#m3b51242537\" y=\"135.330594\"/>\r\n     <use style=\"fill:#1f77b4;stroke:#1f77b4;\" x=\"189.741307\" xlink:href=\"#m3b51242537\" y=\"134.103117\"/>\r\n     <use style=\"fill:#1f77b4;stroke:#1f77b4;\" x=\"177.566761\" xlink:href=\"#m3b51242537\" y=\"130.011527\"/>\r\n     <use style=\"fill:#1f77b4;stroke:#1f77b4;\" x=\"134.955852\" xlink:href=\"#m3b51242537\" y=\"76.820854\"/>\r\n     <use style=\"fill:#1f77b4;stroke:#1f77b4;\" x=\"317.574034\" xlink:href=\"#m3b51242537\" y=\"154.561068\"/>\r\n     <use style=\"fill:#1f77b4;stroke:#1f77b4;\" x=\"159.304943\" xlink:href=\"#m3b51242537\" y=\"130.011527\"/>\r\n     <use style=\"fill:#1f77b4;stroke:#1f77b4;\" x=\"156.870034\" xlink:href=\"#m3b51242537\" y=\"113.645166\"/>\r\n     <use style=\"fill:#1f77b4;stroke:#1f77b4;\" x=\"173.914398\" xlink:href=\"#m3b51242537\" y=\"109.962735\"/>\r\n     <use style=\"fill:#1f77b4;stroke:#1f77b4;\" x=\"137.390761\" xlink:href=\"#m3b51242537\" y=\"58.817857\"/>\r\n     <use style=\"fill:#1f77b4;stroke:#1f77b4;\" x=\"238.439489\" xlink:href=\"#m3b51242537\" y=\"150.469478\"/>\r\n     <use style=\"fill:#1f77b4;stroke:#1f77b4;\" x=\"162.957307\" xlink:href=\"#m3b51242537\" y=\"97.278805\"/>\r\n     <use style=\"fill:#1f77b4;stroke:#1f77b4;\" x=\"195.82858\" xlink:href=\"#m3b51242537\" y=\"119.782551\"/>\r\n     <use style=\"fill:#1f77b4;stroke:#1f77b4;\" x=\"160.522398\" xlink:href=\"#m3b51242537\" y=\"117.736756\"/>\r\n     <use style=\"fill:#1f77b4;stroke:#1f77b4;\" x=\"147.130398\" xlink:href=\"#m3b51242537\" y=\"101.370395\"/>\r\n     <use style=\"fill:#1f77b4;stroke:#1f77b4;\" x=\"132.520943\" xlink:href=\"#m3b51242537\" y=\"82.958239\"/>\r\n     <use style=\"fill:#1f77b4;stroke:#1f77b4;\" x=\"238.439489\" xlink:href=\"#m3b51242537\" y=\"146.377888\"/>\r\n     <use style=\"fill:#1f77b4;stroke:#1f77b4;\" x=\"329.74858\" xlink:href=\"#m3b51242537\" y=\"150.469478\"/>\r\n     <use style=\"fill:#1f77b4;stroke:#1f77b4;\" x=\"177.566761\" xlink:href=\"#m3b51242537\" y=\"110.781053\"/>\r\n     <use style=\"fill:#1f77b4;stroke:#1f77b4;\" x=\"238.439489\" xlink:href=\"#m3b51242537\" y=\"154.561068\"/>\r\n     <use style=\"fill:#1f77b4;stroke:#1f77b4;\" x=\"137.390761\" xlink:href=\"#m3b51242537\" y=\"52.271312\"/>\r\n     <use style=\"fill:#1f77b4;stroke:#1f77b4;\" x=\"216.525307\" xlink:href=\"#m3b51242537\" y=\"73.956741\"/>\r\n     <use style=\"fill:#1f77b4;stroke:#1f77b4;\" x=\"189.741307\" xlink:href=\"#m3b51242537\" y=\"146.377888\"/>\r\n     <use style=\"fill:#1f77b4;stroke:#1f77b4;\" x=\"262.78858\" xlink:href=\"#m3b51242537\" y=\"154.561068\"/>\r\n     <use style=\"fill:#1f77b4;stroke:#1f77b4;\" x=\"171.479489\" xlink:href=\"#m3b51242537\" y=\"134.103117\"/>\r\n     <use style=\"fill:#1f77b4;stroke:#1f77b4;\" x=\"162.957307\" xlink:href=\"#m3b51242537\" y=\"97.278805\"/>\r\n     <use style=\"fill:#1f77b4;stroke:#1f77b4;\" x=\"177.566761\" xlink:href=\"#m3b51242537\" y=\"117.736756\"/>\r\n     <use style=\"fill:#1f77b4;stroke:#1f77b4;\" x=\"158.087489\" xlink:href=\"#m3b51242537\" y=\"76.820854\"/>\r\n     <use style=\"fill:#1f77b4;stroke:#1f77b4;\" x=\"166.60967\" xlink:href=\"#m3b51242537\" y=\"125.919936\"/>\r\n     <use style=\"fill:#1f77b4;stroke:#1f77b4;\" x=\"150.782761\" xlink:href=\"#m3b51242537\" y=\"82.958239\"/>\r\n     <use style=\"fill:#1f77b4;stroke:#1f77b4;\" x=\"240.874398\" xlink:href=\"#m3b51242537\" y=\"148.423683\"/>\r\n     <use style=\"fill:#1f77b4;stroke:#1f77b4;\" x=\"187.306398\" xlink:href=\"#m3b51242537\" y=\"130.011527\"/>\r\n     <use style=\"fill:#1f77b4;stroke:#1f77b4;\" x=\"165.392216\" xlink:href=\"#m3b51242537\" y=\"97.278805\"/>\r\n     <use style=\"fill:#1f77b4;stroke:#1f77b4;\" x=\"165.392216\" xlink:href=\"#m3b51242537\" y=\"134.103117\"/>\r\n     <use style=\"fill:#1f77b4;stroke:#1f77b4;\" x=\"137.390761\" xlink:href=\"#m3b51242537\" y=\"80.912444\"/>\r\n     <use style=\"fill:#1f77b4;stroke:#1f77b4;\" x=\"236.00458\" xlink:href=\"#m3b51242537\" y=\"150.469478\"/>\r\n     <use style=\"fill:#1f77b4;stroke:#1f77b4;\" x=\"143.478034\" xlink:href=\"#m3b51242537\" y=\"146.377888\"/>\r\n     <use style=\"fill:#1f77b4;stroke:#1f77b4;\" x=\"173.914398\" xlink:href=\"#m3b51242537\" y=\"134.103117\"/>\r\n     <use style=\"fill:#1f77b4;stroke:#1f77b4;\" x=\"226.264943\" xlink:href=\"#m3b51242537\" y=\"136.148912\"/>\r\n     <use style=\"fill:#1f77b4;stroke:#1f77b4;\" x=\"192.176216\" xlink:href=\"#m3b51242537\" y=\"134.103117\"/>\r\n     <use style=\"fill:#1f77b4;stroke:#1f77b4;\" x=\"170.262034\" xlink:href=\"#m3b51242537\" y=\"117.736756\"/>\r\n     <use style=\"fill:#1f77b4;stroke:#1f77b4;\" x=\"134.955852\" xlink:href=\"#m3b51242537\" y=\"17.083636\"/>\r\n     <use style=\"fill:#1f77b4;stroke:#1f77b4;\" x=\"180.00167\" xlink:href=\"#m3b51242537\" y=\"125.919936\"/>\r\n     <use style=\"fill:#1f77b4;stroke:#1f77b4;\" x=\"158.087489\" xlink:href=\"#m3b51242537\" y=\"96.460487\"/>\r\n     <use style=\"fill:#1f77b4;stroke:#1f77b4;\" x=\"156.870034\" xlink:href=\"#m3b51242537\" y=\"89.095624\"/>\r\n     <use style=\"fill:#1f77b4;stroke:#1f77b4;\" x=\"137.390761\" xlink:href=\"#m3b51242537\" y=\"85.004034\"/>\r\n     <use style=\"fill:#1f77b4;stroke:#1f77b4;\" x=\"158.087489\" xlink:href=\"#m3b51242537\" y=\"60.454493\"/>\r\n     <use style=\"fill:#1f77b4;stroke:#1f77b4;\" x=\"226.264943\" xlink:href=\"#m3b51242537\" y=\"138.194707\"/>\r\n     <use style=\"fill:#1f77b4;stroke:#1f77b4;\" x=\"183.654034\" xlink:href=\"#m3b51242537\" y=\"134.103117\"/>\r\n     <use style=\"fill:#1f77b4;stroke:#1f77b4;\" x=\"171.479489\" xlink:href=\"#m3b51242537\" y=\"109.553576\"/>\r\n     <use style=\"fill:#1f77b4;stroke:#1f77b4;\" x=\"256.701307\" xlink:href=\"#m3b51242537\" y=\"154.561068\"/>\r\n     <use style=\"fill:#1f77b4;stroke:#1f77b4;\" x=\"156.870034\" xlink:href=\"#m3b51242537\" y=\"70.683468\"/>\r\n     <use style=\"fill:#1f77b4;stroke:#1f77b4;\" x=\"244.526761\" xlink:href=\"#m3b51242537\" y=\"154.561068\"/>\r\n     <use style=\"fill:#1f77b4;stroke:#1f77b4;\" x=\"165.392216\" xlink:href=\"#m3b51242537\" y=\"108.326098\"/>\r\n     <use style=\"fill:#1f77b4;stroke:#1f77b4;\" x=\"226.264943\" xlink:href=\"#m3b51242537\" y=\"128.374891\"/>\r\n     <use style=\"fill:#1f77b4;stroke:#1f77b4;\" x=\"128.86858\" xlink:href=\"#m3b51242537\" y=\"107.50778\"/>\r\n     <use style=\"fill:#1f77b4;stroke:#1f77b4;\" x=\"262.78858\" xlink:href=\"#m3b51242537\" y=\"142.286297\"/>\r\n     <use style=\"fill:#1f77b4;stroke:#1f77b4;\" x=\"159.304943\" xlink:href=\"#m3b51242537\" y=\"80.912444\"/>\r\n     <use style=\"fill:#1f77b4;stroke:#1f77b4;\" x=\"139.82567\" xlink:href=\"#m3b51242537\" y=\"55.135426\"/>\r\n     <use style=\"fill:#1f77b4;stroke:#1f77b4;\" x=\"111.824216\" xlink:href=\"#m3b51242537\" y=\"101.370395\"/>\r\n     <use style=\"fill:#1f77b4;stroke:#1f77b4;\" x=\"175.131852\" xlink:href=\"#m3b51242537\" y=\"132.057322\"/>\r\n     <use style=\"fill:#1f77b4;stroke:#1f77b4;\" x=\"141.043125\" xlink:href=\"#m3b51242537\" y=\"66.591878\"/>\r\n     <use style=\"fill:#1f77b4;stroke:#1f77b4;\" x=\"238.439489\" xlink:href=\"#m3b51242537\" y=\"142.286297\"/>\r\n     <use style=\"fill:#1f77b4;stroke:#1f77b4;\" x=\"141.043125\" xlink:href=\"#m3b51242537\" y=\"76.411695\"/>\r\n     <use style=\"fill:#1f77b4;stroke:#1f77b4;\" x=\"177.566761\" xlink:href=\"#m3b51242537\" y=\"130.011527\"/>\r\n     <use style=\"fill:#1f77b4;stroke:#1f77b4;\" x=\"161.739852\" xlink:href=\"#m3b51242537\" y=\"121.828346\"/>\r\n     <use style=\"fill:#1f77b4;stroke:#1f77b4;\" x=\"156.870034\" xlink:href=\"#m3b51242537\" y=\"97.278805\"/>\r\n     <use style=\"fill:#1f77b4;stroke:#1f77b4;\" x=\"149.565307\" xlink:href=\"#m3b51242537\" y=\"103.825349\"/>\r\n     <use style=\"fill:#1f77b4;stroke:#1f77b4;\" x=\"138.608216\" xlink:href=\"#m3b51242537\" y=\"80.912444\"/>\r\n     <use style=\"fill:#1f77b4;stroke:#1f77b4;\" x=\"172.696943\" xlink:href=\"#m3b51242537\" y=\"76.820854\"/>\r\n     <use style=\"fill:#1f77b4;stroke:#1f77b4;\" x=\"167.827125\" xlink:href=\"#m3b51242537\" y=\"105.461985\"/>\r\n     <use style=\"fill:#1f77b4;stroke:#1f77b4;\" x=\"134.955852\" xlink:href=\"#m3b51242537\" y=\"85.413193\"/>\r\n     <use style=\"fill:#1f77b4;stroke:#1f77b4;\" x=\"167.827125\" xlink:href=\"#m3b51242537\" y=\"93.187215\"/>\r\n     <use style=\"fill:#1f77b4;stroke:#1f77b4;\" x=\"189.741307\" xlink:href=\"#m3b51242537\" y=\"131.648163\"/>\r\n     <use style=\"fill:#1f77b4;stroke:#1f77b4;\" x=\"250.614034\" xlink:href=\"#m3b51242537\" y=\"150.469478\"/>\r\n     <use style=\"fill:#1f77b4;stroke:#1f77b4;\" x=\"142.26058\" xlink:href=\"#m3b51242537\" y=\"96.460487\"/>\r\n     <use style=\"fill:#1f77b4;stroke:#1f77b4;\" x=\"232.352216\" xlink:href=\"#m3b51242537\" y=\"154.561068\"/>\r\n     <use style=\"fill:#1f77b4;stroke:#1f77b4;\" x=\"173.914398\" xlink:href=\"#m3b51242537\" y=\"96.460487\"/>\r\n     <use style=\"fill:#1f77b4;stroke:#1f77b4;\" x=\"177.566761\" xlink:href=\"#m3b51242537\" y=\"134.103117\"/>\r\n     <use style=\"fill:#1f77b4;stroke:#1f77b4;\" x=\"162.957307\" xlink:href=\"#m3b51242537\" y=\"60.454493\"/>\r\n     <use style=\"fill:#1f77b4;stroke:#1f77b4;\" x=\"121.563852\" xlink:href=\"#m3b51242537\" y=\"113.645166\"/>\r\n     <use style=\"fill:#1f77b4;stroke:#1f77b4;\" x=\"274.963125\" xlink:href=\"#m3b51242537\" y=\"158.652658\"/>\r\n     <use style=\"fill:#1f77b4;stroke:#1f77b4;\" x=\"159.304943\" xlink:href=\"#m3b51242537\" y=\"110.371894\"/>\r\n     <use style=\"fill:#1f77b4;stroke:#1f77b4;\" x=\"141.043125\" xlink:href=\"#m3b51242537\" y=\"85.004034\"/>\r\n     <use style=\"fill:#1f77b4;stroke:#1f77b4;\" x=\"201.915852\" xlink:href=\"#m3b51242537\" y=\"140.240502\"/>\r\n     <use style=\"fill:#1f77b4;stroke:#1f77b4;\" x=\"165.392216\" xlink:href=\"#m3b51242537\" y=\"93.187215\"/>\r\n     <use style=\"fill:#1f77b4;stroke:#1f77b4;\" x=\"134.955852\" xlink:href=\"#m3b51242537\" y=\"55.544585\"/>\r\n     <use style=\"fill:#1f77b4;stroke:#1f77b4;\" x=\"114.259125\" xlink:href=\"#m3b51242537\" y=\"30.176725\"/>\r\n     <use style=\"fill:#1f77b4;stroke:#1f77b4;\" x=\"274.963125\" xlink:href=\"#m3b51242537\" y=\"162.744249\"/>\r\n     <use style=\"fill:#1f77b4;stroke:#1f77b4;\" x=\"214.090398\" xlink:href=\"#m3b51242537\" y=\"146.377888\"/>\r\n     <use style=\"fill:#1f77b4;stroke:#1f77b4;\" x=\"268.875852\" xlink:href=\"#m3b51242537\" y=\"150.469478\"/>\r\n     <use style=\"fill:#1f77b4;stroke:#1f77b4;\" x=\"208.003125\" xlink:href=\"#m3b51242537\" y=\"113.645166\"/>\r\n     <use style=\"fill:#1f77b4;stroke:#1f77b4;\" x=\"147.130398\" xlink:href=\"#m3b51242537\" y=\"105.461985\"/>\r\n     <use style=\"fill:#1f77b4;stroke:#1f77b4;\" x=\"201.915852\" xlink:href=\"#m3b51242537\" y=\"144.332093\"/>\r\n     <use style=\"fill:#1f77b4;stroke:#1f77b4;\" x=\"193.39367\" xlink:href=\"#m3b51242537\" y=\"101.370395\"/>\r\n     <use style=\"fill:#1f77b4;stroke:#1f77b4;\" x=\"268.875852\" xlink:href=\"#m3b51242537\" y=\"154.561068\"/>\r\n     <use style=\"fill:#1f77b4;stroke:#1f77b4;\" x=\"214.090398\" xlink:href=\"#m3b51242537\" y=\"134.103117\"/>\r\n     <use style=\"fill:#1f77b4;stroke:#1f77b4;\" x=\"142.26058\" xlink:href=\"#m3b51242537\" y=\"87.049829\"/>\r\n     <use style=\"fill:#1f77b4;stroke:#1f77b4;\" x=\"162.957307\" xlink:href=\"#m3b51242537\" y=\"64.546083\"/>\r\n     <use style=\"fill:#1f77b4;stroke:#1f77b4;\" x=\"177.566761\" xlink:href=\"#m3b51242537\" y=\"134.103117\"/>\r\n     <use style=\"fill:#1f77b4;stroke:#1f77b4;\" x=\"137.390761\" xlink:href=\"#m3b51242537\" y=\"52.271312\"/>\r\n     <use style=\"fill:#1f77b4;stroke:#1f77b4;\" x=\"195.82858\" xlink:href=\"#m3b51242537\" y=\"105.461985\"/>\r\n     <use style=\"fill:#1f77b4;stroke:#1f77b4;\" x=\"183.654034\" xlink:href=\"#m3b51242537\" y=\"123.464982\"/>\r\n     <use style=\"fill:#1f77b4;stroke:#1f77b4;\" x=\"329.74858\" xlink:href=\"#m3b51242537\" y=\"158.652658\"/>\r\n     <use style=\"fill:#1f77b4;stroke:#1f77b4;\" x=\"159.304943\" xlink:href=\"#m3b51242537\" y=\"135.739753\"/>\r\n     <use style=\"fill:#1f77b4;stroke:#1f77b4;\" x=\"268.875852\" xlink:href=\"#m3b51242537\" y=\"154.561068\"/>\r\n     <use style=\"fill:#1f77b4;stroke:#1f77b4;\" x=\"134.955852\" xlink:href=\"#m3b51242537\" y=\"56.362903\"/>\r\n     <use style=\"fill:#1f77b4;stroke:#1f77b4;\" x=\"172.696943\" xlink:href=\"#m3b51242537\" y=\"109.553576\"/>\r\n     <use style=\"fill:#1f77b4;stroke:#1f77b4;\" x=\"287.13767\" xlink:href=\"#m3b51242537\" y=\"154.561068\"/>\r\n     <use style=\"fill:#1f77b4;stroke:#1f77b4;\" x=\"195.82858\" xlink:href=\"#m3b51242537\" y=\"98.097123\"/>\r\n     <use style=\"fill:#1f77b4;stroke:#1f77b4;\" x=\"160.522398\" xlink:href=\"#m3b51242537\" y=\"113.645166\"/>\r\n     <use style=\"fill:#1f77b4;stroke:#1f77b4;\" x=\"162.957307\" xlink:href=\"#m3b51242537\" y=\"130.011527\"/>\r\n     <use style=\"fill:#1f77b4;stroke:#1f77b4;\" x=\"159.304943\" xlink:href=\"#m3b51242537\" y=\"126.738255\"/>\r\n     <use style=\"fill:#1f77b4;stroke:#1f77b4;\" x=\"274.963125\" xlink:href=\"#m3b51242537\" y=\"142.286297\"/>\r\n     <use style=\"fill:#1f77b4;stroke:#1f77b4;\" x=\"169.04458\" xlink:href=\"#m3b51242537\" y=\"101.370395\"/>\r\n     <use style=\"fill:#1f77b4;stroke:#1f77b4;\" x=\"130.086034\" xlink:href=\"#m3b51242537\" y=\"76.820854\"/>\r\n     <use style=\"fill:#1f77b4;stroke:#1f77b4;\" x=\"160.522398\" xlink:href=\"#m3b51242537\" y=\"93.187215\"/>\r\n    </g>\r\n   </g>\r\n   <g id=\"matplotlib.axis_1\">\r\n    <g id=\"xtick_1\">\r\n     <g id=\"line2d_1\">\r\n      <defs>\r\n       <path d=\"M 0 0 \r\nL 0 3.5 \r\n\" id=\"mde835ad9da\" style=\"stroke:#000000;stroke-width:0.8;\"/>\r\n      </defs>\r\n      <g>\r\n       <use style=\"stroke:#000000;stroke-width:0.8;\" x=\"55.821307\" xlink:href=\"#mde835ad9da\" y=\"224.64\"/>\r\n      </g>\r\n     </g>\r\n     <g id=\"text_1\">\r\n      <!-- 0 -->\r\n      <g transform=\"translate(52.640057 239.238437)scale(0.1 -0.1)\">\r\n       <defs>\r\n        <path d=\"M 31.78125 66.40625 \r\nQ 24.171875 66.40625 20.328125 58.90625 \r\nQ 16.5 51.421875 16.5 36.375 \r\nQ 16.5 21.390625 20.328125 13.890625 \r\nQ 24.171875 6.390625 31.78125 6.390625 \r\nQ 39.453125 6.390625 43.28125 13.890625 \r\nQ 47.125 21.390625 47.125 36.375 \r\nQ 47.125 51.421875 43.28125 58.90625 \r\nQ 39.453125 66.40625 31.78125 66.40625 \r\nz\r\nM 31.78125 74.21875 \r\nQ 44.046875 74.21875 50.515625 64.515625 \r\nQ 56.984375 54.828125 56.984375 36.375 \r\nQ 56.984375 17.96875 50.515625 8.265625 \r\nQ 44.046875 -1.421875 31.78125 -1.421875 \r\nQ 19.53125 -1.421875 13.0625 8.265625 \r\nQ 6.59375 17.96875 6.59375 36.375 \r\nQ 6.59375 54.828125 13.0625 64.515625 \r\nQ 19.53125 74.21875 31.78125 74.21875 \r\nz\r\n\" id=\"DejaVuSans-48\"/>\r\n       </defs>\r\n       <use xlink:href=\"#DejaVuSans-48\"/>\r\n      </g>\r\n     </g>\r\n    </g>\r\n    <g id=\"xtick_2\">\r\n     <g id=\"line2d_2\">\r\n      <g>\r\n       <use style=\"stroke:#000000;stroke-width:0.8;\" x=\"116.694034\" xlink:href=\"#mde835ad9da\" y=\"224.64\"/>\r\n      </g>\r\n     </g>\r\n     <g id=\"text_2\">\r\n      <!-- 50 -->\r\n      <g transform=\"translate(110.331534 239.238437)scale(0.1 -0.1)\">\r\n       <defs>\r\n        <path d=\"M 10.796875 72.90625 \r\nL 49.515625 72.90625 \r\nL 49.515625 64.59375 \r\nL 19.828125 64.59375 \r\nL 19.828125 46.734375 \r\nQ 21.96875 47.46875 24.109375 47.828125 \r\nQ 26.265625 48.1875 28.421875 48.1875 \r\nQ 40.625 48.1875 47.75 41.5 \r\nQ 54.890625 34.8125 54.890625 23.390625 \r\nQ 54.890625 11.625 47.5625 5.09375 \r\nQ 40.234375 -1.421875 26.90625 -1.421875 \r\nQ 22.3125 -1.421875 17.546875 -0.640625 \r\nQ 12.796875 0.140625 7.71875 1.703125 \r\nL 7.71875 11.625 \r\nQ 12.109375 9.234375 16.796875 8.0625 \r\nQ 21.484375 6.890625 26.703125 6.890625 \r\nQ 35.15625 6.890625 40.078125 11.328125 \r\nQ 45.015625 15.765625 45.015625 23.390625 \r\nQ 45.015625 31 40.078125 35.4375 \r\nQ 35.15625 39.890625 26.703125 39.890625 \r\nQ 22.75 39.890625 18.8125 39.015625 \r\nQ 14.890625 38.140625 10.796875 36.28125 \r\nz\r\n\" id=\"DejaVuSans-53\"/>\r\n       </defs>\r\n       <use xlink:href=\"#DejaVuSans-53\"/>\r\n       <use x=\"63.623047\" xlink:href=\"#DejaVuSans-48\"/>\r\n      </g>\r\n     </g>\r\n    </g>\r\n    <g id=\"xtick_3\">\r\n     <g id=\"line2d_3\">\r\n      <g>\r\n       <use style=\"stroke:#000000;stroke-width:0.8;\" x=\"177.566761\" xlink:href=\"#mde835ad9da\" y=\"224.64\"/>\r\n      </g>\r\n     </g>\r\n     <g id=\"text_3\">\r\n      <!-- 100 -->\r\n      <g transform=\"translate(168.023011 239.238437)scale(0.1 -0.1)\">\r\n       <defs>\r\n        <path d=\"M 12.40625 8.296875 \r\nL 28.515625 8.296875 \r\nL 28.515625 63.921875 \r\nL 10.984375 60.40625 \r\nL 10.984375 69.390625 \r\nL 28.421875 72.90625 \r\nL 38.28125 72.90625 \r\nL 38.28125 8.296875 \r\nL 54.390625 8.296875 \r\nL 54.390625 0 \r\nL 12.40625 0 \r\nz\r\n\" id=\"DejaVuSans-49\"/>\r\n       </defs>\r\n       <use xlink:href=\"#DejaVuSans-49\"/>\r\n       <use x=\"63.623047\" xlink:href=\"#DejaVuSans-48\"/>\r\n       <use x=\"127.246094\" xlink:href=\"#DejaVuSans-48\"/>\r\n      </g>\r\n     </g>\r\n    </g>\r\n    <g id=\"xtick_4\">\r\n     <g id=\"line2d_4\">\r\n      <g>\r\n       <use style=\"stroke:#000000;stroke-width:0.8;\" x=\"238.439489\" xlink:href=\"#mde835ad9da\" y=\"224.64\"/>\r\n      </g>\r\n     </g>\r\n     <g id=\"text_4\">\r\n      <!-- 150 -->\r\n      <g transform=\"translate(228.895739 239.238437)scale(0.1 -0.1)\">\r\n       <use xlink:href=\"#DejaVuSans-49\"/>\r\n       <use x=\"63.623047\" xlink:href=\"#DejaVuSans-53\"/>\r\n       <use x=\"127.246094\" xlink:href=\"#DejaVuSans-48\"/>\r\n      </g>\r\n     </g>\r\n    </g>\r\n    <g id=\"xtick_5\">\r\n     <g id=\"line2d_5\">\r\n      <g>\r\n       <use style=\"stroke:#000000;stroke-width:0.8;\" x=\"299.312216\" xlink:href=\"#mde835ad9da\" y=\"224.64\"/>\r\n      </g>\r\n     </g>\r\n     <g id=\"text_5\">\r\n      <!-- 200 -->\r\n      <g transform=\"translate(289.768466 239.238437)scale(0.1 -0.1)\">\r\n       <defs>\r\n        <path d=\"M 19.1875 8.296875 \r\nL 53.609375 8.296875 \r\nL 53.609375 0 \r\nL 7.328125 0 \r\nL 7.328125 8.296875 \r\nQ 12.9375 14.109375 22.625 23.890625 \r\nQ 32.328125 33.6875 34.8125 36.53125 \r\nQ 39.546875 41.84375 41.421875 45.53125 \r\nQ 43.3125 49.21875 43.3125 52.78125 \r\nQ 43.3125 58.59375 39.234375 62.25 \r\nQ 35.15625 65.921875 28.609375 65.921875 \r\nQ 23.96875 65.921875 18.8125 64.3125 \r\nQ 13.671875 62.703125 7.8125 59.421875 \r\nL 7.8125 69.390625 \r\nQ 13.765625 71.78125 18.9375 73 \r\nQ 24.125 74.21875 28.421875 74.21875 \r\nQ 39.75 74.21875 46.484375 68.546875 \r\nQ 53.21875 62.890625 53.21875 53.421875 \r\nQ 53.21875 48.921875 51.53125 44.890625 \r\nQ 49.859375 40.875 45.40625 35.40625 \r\nQ 44.1875 33.984375 37.640625 27.21875 \r\nQ 31.109375 20.453125 19.1875 8.296875 \r\nz\r\n\" id=\"DejaVuSans-50\"/>\r\n       </defs>\r\n       <use xlink:href=\"#DejaVuSans-50\"/>\r\n       <use x=\"63.623047\" xlink:href=\"#DejaVuSans-48\"/>\r\n       <use x=\"127.246094\" xlink:href=\"#DejaVuSans-48\"/>\r\n      </g>\r\n     </g>\r\n    </g>\r\n    <g id=\"xtick_6\">\r\n     <g id=\"line2d_6\">\r\n      <g>\r\n       <use style=\"stroke:#000000;stroke-width:0.8;\" x=\"360.184943\" xlink:href=\"#mde835ad9da\" y=\"224.64\"/>\r\n      </g>\r\n     </g>\r\n     <g id=\"text_6\">\r\n      <!-- 250 -->\r\n      <g transform=\"translate(350.641193 239.238437)scale(0.1 -0.1)\">\r\n       <use xlink:href=\"#DejaVuSans-50\"/>\r\n       <use x=\"63.623047\" xlink:href=\"#DejaVuSans-53\"/>\r\n       <use x=\"127.246094\" xlink:href=\"#DejaVuSans-48\"/>\r\n      </g>\r\n     </g>\r\n    </g>\r\n    <g id=\"text_7\">\r\n     <!-- Horsepower -->\r\n     <g transform=\"translate(177.992187 252.916562)scale(0.1 -0.1)\">\r\n      <defs>\r\n       <path d=\"M 9.8125 72.90625 \r\nL 19.671875 72.90625 \r\nL 19.671875 43.015625 \r\nL 55.515625 43.015625 \r\nL 55.515625 72.90625 \r\nL 65.375 72.90625 \r\nL 65.375 0 \r\nL 55.515625 0 \r\nL 55.515625 34.71875 \r\nL 19.671875 34.71875 \r\nL 19.671875 0 \r\nL 9.8125 0 \r\nz\r\n\" id=\"DejaVuSans-72\"/>\r\n       <path d=\"M 30.609375 48.390625 \r\nQ 23.390625 48.390625 19.1875 42.75 \r\nQ 14.984375 37.109375 14.984375 27.296875 \r\nQ 14.984375 17.484375 19.15625 11.84375 \r\nQ 23.34375 6.203125 30.609375 6.203125 \r\nQ 37.796875 6.203125 41.984375 11.859375 \r\nQ 46.1875 17.53125 46.1875 27.296875 \r\nQ 46.1875 37.015625 41.984375 42.703125 \r\nQ 37.796875 48.390625 30.609375 48.390625 \r\nz\r\nM 30.609375 56 \r\nQ 42.328125 56 49.015625 48.375 \r\nQ 55.71875 40.765625 55.71875 27.296875 \r\nQ 55.71875 13.875 49.015625 6.21875 \r\nQ 42.328125 -1.421875 30.609375 -1.421875 \r\nQ 18.84375 -1.421875 12.171875 6.21875 \r\nQ 5.515625 13.875 5.515625 27.296875 \r\nQ 5.515625 40.765625 12.171875 48.375 \r\nQ 18.84375 56 30.609375 56 \r\nz\r\n\" id=\"DejaVuSans-111\"/>\r\n       <path d=\"M 41.109375 46.296875 \r\nQ 39.59375 47.171875 37.8125 47.578125 \r\nQ 36.03125 48 33.890625 48 \r\nQ 26.265625 48 22.1875 43.046875 \r\nQ 18.109375 38.09375 18.109375 28.8125 \r\nL 18.109375 0 \r\nL 9.078125 0 \r\nL 9.078125 54.6875 \r\nL 18.109375 54.6875 \r\nL 18.109375 46.1875 \r\nQ 20.953125 51.171875 25.484375 53.578125 \r\nQ 30.03125 56 36.53125 56 \r\nQ 37.453125 56 38.578125 55.875 \r\nQ 39.703125 55.765625 41.0625 55.515625 \r\nz\r\n\" id=\"DejaVuSans-114\"/>\r\n       <path d=\"M 44.28125 53.078125 \r\nL 44.28125 44.578125 \r\nQ 40.484375 46.53125 36.375 47.5 \r\nQ 32.28125 48.484375 27.875 48.484375 \r\nQ 21.1875 48.484375 17.84375 46.4375 \r\nQ 14.5 44.390625 14.5 40.28125 \r\nQ 14.5 37.15625 16.890625 35.375 \r\nQ 19.28125 33.59375 26.515625 31.984375 \r\nL 29.59375 31.296875 \r\nQ 39.15625 29.25 43.1875 25.515625 \r\nQ 47.21875 21.78125 47.21875 15.09375 \r\nQ 47.21875 7.46875 41.1875 3.015625 \r\nQ 35.15625 -1.421875 24.609375 -1.421875 \r\nQ 20.21875 -1.421875 15.453125 -0.5625 \r\nQ 10.6875 0.296875 5.421875 2 \r\nL 5.421875 11.28125 \r\nQ 10.40625 8.6875 15.234375 7.390625 \r\nQ 20.0625 6.109375 24.8125 6.109375 \r\nQ 31.15625 6.109375 34.5625 8.28125 \r\nQ 37.984375 10.453125 37.984375 14.40625 \r\nQ 37.984375 18.0625 35.515625 20.015625 \r\nQ 33.0625 21.96875 24.703125 23.78125 \r\nL 21.578125 24.515625 \r\nQ 13.234375 26.265625 9.515625 29.90625 \r\nQ 5.8125 33.546875 5.8125 39.890625 \r\nQ 5.8125 47.609375 11.28125 51.796875 \r\nQ 16.75 56 26.8125 56 \r\nQ 31.78125 56 36.171875 55.265625 \r\nQ 40.578125 54.546875 44.28125 53.078125 \r\nz\r\n\" id=\"DejaVuSans-115\"/>\r\n       <path d=\"M 56.203125 29.59375 \r\nL 56.203125 25.203125 \r\nL 14.890625 25.203125 \r\nQ 15.484375 15.921875 20.484375 11.0625 \r\nQ 25.484375 6.203125 34.421875 6.203125 \r\nQ 39.59375 6.203125 44.453125 7.46875 \r\nQ 49.3125 8.734375 54.109375 11.28125 \r\nL 54.109375 2.78125 \r\nQ 49.265625 0.734375 44.1875 -0.34375 \r\nQ 39.109375 -1.421875 33.890625 -1.421875 \r\nQ 20.796875 -1.421875 13.15625 6.1875 \r\nQ 5.515625 13.8125 5.515625 26.8125 \r\nQ 5.515625 40.234375 12.765625 48.109375 \r\nQ 20.015625 56 32.328125 56 \r\nQ 43.359375 56 49.78125 48.890625 \r\nQ 56.203125 41.796875 56.203125 29.59375 \r\nz\r\nM 47.21875 32.234375 \r\nQ 47.125 39.59375 43.09375 43.984375 \r\nQ 39.0625 48.390625 32.421875 48.390625 \r\nQ 24.90625 48.390625 20.390625 44.140625 \r\nQ 15.875 39.890625 15.1875 32.171875 \r\nz\r\n\" id=\"DejaVuSans-101\"/>\r\n       <path d=\"M 18.109375 8.203125 \r\nL 18.109375 -20.796875 \r\nL 9.078125 -20.796875 \r\nL 9.078125 54.6875 \r\nL 18.109375 54.6875 \r\nL 18.109375 46.390625 \r\nQ 20.953125 51.265625 25.265625 53.625 \r\nQ 29.59375 56 35.59375 56 \r\nQ 45.5625 56 51.78125 48.09375 \r\nQ 58.015625 40.1875 58.015625 27.296875 \r\nQ 58.015625 14.40625 51.78125 6.484375 \r\nQ 45.5625 -1.421875 35.59375 -1.421875 \r\nQ 29.59375 -1.421875 25.265625 0.953125 \r\nQ 20.953125 3.328125 18.109375 8.203125 \r\nz\r\nM 48.6875 27.296875 \r\nQ 48.6875 37.203125 44.609375 42.84375 \r\nQ 40.53125 48.484375 33.40625 48.484375 \r\nQ 26.265625 48.484375 22.1875 42.84375 \r\nQ 18.109375 37.203125 18.109375 27.296875 \r\nQ 18.109375 17.390625 22.1875 11.75 \r\nQ 26.265625 6.109375 33.40625 6.109375 \r\nQ 40.53125 6.109375 44.609375 11.75 \r\nQ 48.6875 17.390625 48.6875 27.296875 \r\nz\r\n\" id=\"DejaVuSans-112\"/>\r\n       <path d=\"M 4.203125 54.6875 \r\nL 13.1875 54.6875 \r\nL 24.421875 12.015625 \r\nL 35.59375 54.6875 \r\nL 46.1875 54.6875 \r\nL 57.421875 12.015625 \r\nL 68.609375 54.6875 \r\nL 77.59375 54.6875 \r\nL 63.28125 0 \r\nL 52.6875 0 \r\nL 40.921875 44.828125 \r\nL 29.109375 0 \r\nL 18.5 0 \r\nz\r\n\" id=\"DejaVuSans-119\"/>\r\n      </defs>\r\n      <use xlink:href=\"#DejaVuSans-72\"/>\r\n      <use x=\"75.195312\" xlink:href=\"#DejaVuSans-111\"/>\r\n      <use x=\"136.376953\" xlink:href=\"#DejaVuSans-114\"/>\r\n      <use x=\"177.490234\" xlink:href=\"#DejaVuSans-115\"/>\r\n      <use x=\"229.589844\" xlink:href=\"#DejaVuSans-101\"/>\r\n      <use x=\"291.113281\" xlink:href=\"#DejaVuSans-112\"/>\r\n      <use x=\"354.589844\" xlink:href=\"#DejaVuSans-111\"/>\r\n      <use x=\"415.771484\" xlink:href=\"#DejaVuSans-119\"/>\r\n      <use x=\"497.558594\" xlink:href=\"#DejaVuSans-101\"/>\r\n      <use x=\"559.082031\" xlink:href=\"#DejaVuSans-114\"/>\r\n     </g>\r\n    </g>\r\n   </g>\r\n   <g id=\"matplotlib.axis_2\">\r\n    <g id=\"ytick_1\">\r\n     <g id=\"line2d_7\">\r\n      <defs>\r\n       <path d=\"M 0 0 \r\nL -3.5 0 \r\n\" id=\"m12813d683d\" style=\"stroke:#000000;stroke-width:0.8;\"/>\r\n      </defs>\r\n      <g>\r\n       <use style=\"stroke:#000000;stroke-width:0.8;\" x=\"40.603125\" xlink:href=\"#m12813d683d\" y=\"207.751741\"/>\r\n      </g>\r\n     </g>\r\n     <g id=\"text_8\">\r\n      <!-- 0 -->\r\n      <g transform=\"translate(27.240625 211.55096)scale(0.1 -0.1)\">\r\n       <use xlink:href=\"#DejaVuSans-48\"/>\r\n      </g>\r\n     </g>\r\n    </g>\r\n    <g id=\"ytick_2\">\r\n     <g id=\"line2d_8\">\r\n      <g>\r\n       <use style=\"stroke:#000000;stroke-width:0.8;\" x=\"40.603125\" xlink:href=\"#m12813d683d\" y=\"166.835839\"/>\r\n      </g>\r\n     </g>\r\n     <g id=\"text_9\">\r\n      <!-- 10 -->\r\n      <g transform=\"translate(20.878125 170.635058)scale(0.1 -0.1)\">\r\n       <use xlink:href=\"#DejaVuSans-49\"/>\r\n       <use x=\"63.623047\" xlink:href=\"#DejaVuSans-48\"/>\r\n      </g>\r\n     </g>\r\n    </g>\r\n    <g id=\"ytick_3\">\r\n     <g id=\"line2d_9\">\r\n      <g>\r\n       <use style=\"stroke:#000000;stroke-width:0.8;\" x=\"40.603125\" xlink:href=\"#m12813d683d\" y=\"125.919936\"/>\r\n      </g>\r\n     </g>\r\n     <g id=\"text_10\">\r\n      <!-- 20 -->\r\n      <g transform=\"translate(20.878125 129.719155)scale(0.1 -0.1)\">\r\n       <use xlink:href=\"#DejaVuSans-50\"/>\r\n       <use x=\"63.623047\" xlink:href=\"#DejaVuSans-48\"/>\r\n      </g>\r\n     </g>\r\n    </g>\r\n    <g id=\"ytick_4\">\r\n     <g id=\"line2d_10\">\r\n      <g>\r\n       <use style=\"stroke:#000000;stroke-width:0.8;\" x=\"40.603125\" xlink:href=\"#m12813d683d\" y=\"85.004034\"/>\r\n      </g>\r\n     </g>\r\n     <g id=\"text_11\">\r\n      <!-- 30 -->\r\n      <g transform=\"translate(20.878125 88.803253)scale(0.1 -0.1)\">\r\n       <defs>\r\n        <path d=\"M 40.578125 39.3125 \r\nQ 47.65625 37.796875 51.625 33 \r\nQ 55.609375 28.21875 55.609375 21.1875 \r\nQ 55.609375 10.40625 48.1875 4.484375 \r\nQ 40.765625 -1.421875 27.09375 -1.421875 \r\nQ 22.515625 -1.421875 17.65625 -0.515625 \r\nQ 12.796875 0.390625 7.625 2.203125 \r\nL 7.625 11.71875 \r\nQ 11.71875 9.328125 16.59375 8.109375 \r\nQ 21.484375 6.890625 26.8125 6.890625 \r\nQ 36.078125 6.890625 40.9375 10.546875 \r\nQ 45.796875 14.203125 45.796875 21.1875 \r\nQ 45.796875 27.640625 41.28125 31.265625 \r\nQ 36.765625 34.90625 28.71875 34.90625 \r\nL 20.21875 34.90625 \r\nL 20.21875 43.015625 \r\nL 29.109375 43.015625 \r\nQ 36.375 43.015625 40.234375 45.921875 \r\nQ 44.09375 48.828125 44.09375 54.296875 \r\nQ 44.09375 59.90625 40.109375 62.90625 \r\nQ 36.140625 65.921875 28.71875 65.921875 \r\nQ 24.65625 65.921875 20.015625 65.03125 \r\nQ 15.375 64.15625 9.8125 62.3125 \r\nL 9.8125 71.09375 \r\nQ 15.4375 72.65625 20.34375 73.4375 \r\nQ 25.25 74.21875 29.59375 74.21875 \r\nQ 40.828125 74.21875 47.359375 69.109375 \r\nQ 53.90625 64.015625 53.90625 55.328125 \r\nQ 53.90625 49.265625 50.4375 45.09375 \r\nQ 46.96875 40.921875 40.578125 39.3125 \r\nz\r\n\" id=\"DejaVuSans-51\"/>\r\n       </defs>\r\n       <use xlink:href=\"#DejaVuSans-51\"/>\r\n       <use x=\"63.623047\" xlink:href=\"#DejaVuSans-48\"/>\r\n      </g>\r\n     </g>\r\n    </g>\r\n    <g id=\"ytick_5\">\r\n     <g id=\"line2d_11\">\r\n      <g>\r\n       <use style=\"stroke:#000000;stroke-width:0.8;\" x=\"40.603125\" xlink:href=\"#m12813d683d\" y=\"44.088132\"/>\r\n      </g>\r\n     </g>\r\n     <g id=\"text_12\">\r\n      <!-- 40 -->\r\n      <g transform=\"translate(20.878125 47.887351)scale(0.1 -0.1)\">\r\n       <defs>\r\n        <path d=\"M 37.796875 64.3125 \r\nL 12.890625 25.390625 \r\nL 37.796875 25.390625 \r\nz\r\nM 35.203125 72.90625 \r\nL 47.609375 72.90625 \r\nL 47.609375 25.390625 \r\nL 58.015625 25.390625 \r\nL 58.015625 17.1875 \r\nL 47.609375 17.1875 \r\nL 47.609375 0 \r\nL 37.796875 0 \r\nL 37.796875 17.1875 \r\nL 4.890625 17.1875 \r\nL 4.890625 26.703125 \r\nz\r\n\" id=\"DejaVuSans-52\"/>\r\n       </defs>\r\n       <use xlink:href=\"#DejaVuSans-52\"/>\r\n       <use x=\"63.623047\" xlink:href=\"#DejaVuSans-48\"/>\r\n      </g>\r\n     </g>\r\n    </g>\r\n    <g id=\"text_13\">\r\n     <!-- MPG -->\r\n     <g transform=\"translate(14.798438 127.123125)rotate(-90)scale(0.1 -0.1)\">\r\n      <defs>\r\n       <path d=\"M 9.8125 72.90625 \r\nL 24.515625 72.90625 \r\nL 43.109375 23.296875 \r\nL 61.8125 72.90625 \r\nL 76.515625 72.90625 \r\nL 76.515625 0 \r\nL 66.890625 0 \r\nL 66.890625 64.015625 \r\nL 48.09375 14.015625 \r\nL 38.1875 14.015625 \r\nL 19.390625 64.015625 \r\nL 19.390625 0 \r\nL 9.8125 0 \r\nz\r\n\" id=\"DejaVuSans-77\"/>\r\n       <path d=\"M 19.671875 64.796875 \r\nL 19.671875 37.40625 \r\nL 32.078125 37.40625 \r\nQ 38.96875 37.40625 42.71875 40.96875 \r\nQ 46.484375 44.53125 46.484375 51.125 \r\nQ 46.484375 57.671875 42.71875 61.234375 \r\nQ 38.96875 64.796875 32.078125 64.796875 \r\nz\r\nM 9.8125 72.90625 \r\nL 32.078125 72.90625 \r\nQ 44.34375 72.90625 50.609375 67.359375 \r\nQ 56.890625 61.8125 56.890625 51.125 \r\nQ 56.890625 40.328125 50.609375 34.8125 \r\nQ 44.34375 29.296875 32.078125 29.296875 \r\nL 19.671875 29.296875 \r\nL 19.671875 0 \r\nL 9.8125 0 \r\nz\r\n\" id=\"DejaVuSans-80\"/>\r\n       <path d=\"M 59.515625 10.40625 \r\nL 59.515625 29.984375 \r\nL 43.40625 29.984375 \r\nL 43.40625 38.09375 \r\nL 69.28125 38.09375 \r\nL 69.28125 6.78125 \r\nQ 63.578125 2.734375 56.6875 0.65625 \r\nQ 49.8125 -1.421875 42 -1.421875 \r\nQ 24.90625 -1.421875 15.25 8.5625 \r\nQ 5.609375 18.5625 5.609375 36.375 \r\nQ 5.609375 54.25 15.25 64.234375 \r\nQ 24.90625 74.21875 42 74.21875 \r\nQ 49.125 74.21875 55.546875 72.453125 \r\nQ 61.96875 70.703125 67.390625 67.28125 \r\nL 67.390625 56.78125 \r\nQ 61.921875 61.421875 55.765625 63.765625 \r\nQ 49.609375 66.109375 42.828125 66.109375 \r\nQ 29.4375 66.109375 22.71875 58.640625 \r\nQ 16.015625 51.171875 16.015625 36.375 \r\nQ 16.015625 21.625 22.71875 14.15625 \r\nQ 29.4375 6.6875 42.828125 6.6875 \r\nQ 48.046875 6.6875 52.140625 7.59375 \r\nQ 56.25 8.5 59.515625 10.40625 \r\nz\r\n\" id=\"DejaVuSans-71\"/>\r\n      </defs>\r\n      <use xlink:href=\"#DejaVuSans-77\"/>\r\n      <use x=\"86.279297\" xlink:href=\"#DejaVuSans-80\"/>\r\n      <use x=\"146.582031\" xlink:href=\"#DejaVuSans-71\"/>\r\n     </g>\r\n    </g>\r\n   </g>\r\n   <g id=\"line2d_12\">\r\n    <path clip-path=\"url(#pa9ef0d14a4)\" d=\"M 55.821307 43.811898 \r\nL 360.184943 214.756364 \r\nL 360.184943 214.756364 \r\n\" style=\"fill:none;stroke:#000000;stroke-linecap:square;stroke-width:1.5;\"/>\r\n   </g>\r\n   <g id=\"patch_3\">\r\n    <path d=\"M 40.603125 224.64 \r\nL 40.603125 7.2 \r\n\" style=\"fill:none;stroke:#000000;stroke-linecap:square;stroke-linejoin:miter;stroke-width:0.8;\"/>\r\n   </g>\r\n   <g id=\"patch_4\">\r\n    <path d=\"M 375.403125 224.64 \r\nL 375.403125 7.2 \r\n\" style=\"fill:none;stroke:#000000;stroke-linecap:square;stroke-linejoin:miter;stroke-width:0.8;\"/>\r\n   </g>\r\n   <g id=\"patch_5\">\r\n    <path d=\"M 40.603125 224.64 \r\nL 375.403125 224.64 \r\n\" style=\"fill:none;stroke:#000000;stroke-linecap:square;stroke-linejoin:miter;stroke-width:0.8;\"/>\r\n   </g>\r\n   <g id=\"patch_6\">\r\n    <path d=\"M 40.603125 7.2 \r\nL 375.403125 7.2 \r\n\" style=\"fill:none;stroke:#000000;stroke-linecap:square;stroke-linejoin:miter;stroke-width:0.8;\"/>\r\n   </g>\r\n   <g id=\"legend_1\">\r\n    <g id=\"patch_7\">\r\n     <path d=\"M 281.520312 44.55625 \r\nL 368.403125 44.55625 \r\nQ 370.403125 44.55625 370.403125 42.55625 \r\nL 370.403125 14.2 \r\nQ 370.403125 12.2 368.403125 12.2 \r\nL 281.520312 12.2 \r\nQ 279.520312 12.2 279.520312 14.2 \r\nL 279.520312 42.55625 \r\nQ 279.520312 44.55625 281.520312 44.55625 \r\nz\r\n\" style=\"fill:#ffffff;opacity:0.8;stroke:#cccccc;stroke-linejoin:miter;\"/>\r\n    </g>\r\n    <g id=\"line2d_13\">\r\n     <path d=\"M 283.520312 20.298437 \r\nL 303.520312 20.298437 \r\n\" style=\"fill:none;stroke:#000000;stroke-linecap:square;stroke-width:1.5;\"/>\r\n    </g>\r\n    <g id=\"line2d_14\"/>\r\n    <g id=\"text_14\">\r\n     <!-- Predictions -->\r\n     <g transform=\"translate(311.520312 23.798437)scale(0.1 -0.1)\">\r\n      <defs>\r\n       <path d=\"M 45.40625 46.390625 \r\nL 45.40625 75.984375 \r\nL 54.390625 75.984375 \r\nL 54.390625 0 \r\nL 45.40625 0 \r\nL 45.40625 8.203125 \r\nQ 42.578125 3.328125 38.25 0.953125 \r\nQ 33.9375 -1.421875 27.875 -1.421875 \r\nQ 17.96875 -1.421875 11.734375 6.484375 \r\nQ 5.515625 14.40625 5.515625 27.296875 \r\nQ 5.515625 40.1875 11.734375 48.09375 \r\nQ 17.96875 56 27.875 56 \r\nQ 33.9375 56 38.25 53.625 \r\nQ 42.578125 51.265625 45.40625 46.390625 \r\nz\r\nM 14.796875 27.296875 \r\nQ 14.796875 17.390625 18.875 11.75 \r\nQ 22.953125 6.109375 30.078125 6.109375 \r\nQ 37.203125 6.109375 41.296875 11.75 \r\nQ 45.40625 17.390625 45.40625 27.296875 \r\nQ 45.40625 37.203125 41.296875 42.84375 \r\nQ 37.203125 48.484375 30.078125 48.484375 \r\nQ 22.953125 48.484375 18.875 42.84375 \r\nQ 14.796875 37.203125 14.796875 27.296875 \r\nz\r\n\" id=\"DejaVuSans-100\"/>\r\n       <path d=\"M 9.421875 54.6875 \r\nL 18.40625 54.6875 \r\nL 18.40625 0 \r\nL 9.421875 0 \r\nz\r\nM 9.421875 75.984375 \r\nL 18.40625 75.984375 \r\nL 18.40625 64.59375 \r\nL 9.421875 64.59375 \r\nz\r\n\" id=\"DejaVuSans-105\"/>\r\n       <path d=\"M 48.78125 52.59375 \r\nL 48.78125 44.1875 \r\nQ 44.96875 46.296875 41.140625 47.34375 \r\nQ 37.3125 48.390625 33.40625 48.390625 \r\nQ 24.65625 48.390625 19.8125 42.84375 \r\nQ 14.984375 37.3125 14.984375 27.296875 \r\nQ 14.984375 17.28125 19.8125 11.734375 \r\nQ 24.65625 6.203125 33.40625 6.203125 \r\nQ 37.3125 6.203125 41.140625 7.25 \r\nQ 44.96875 8.296875 48.78125 10.40625 \r\nL 48.78125 2.09375 \r\nQ 45.015625 0.34375 40.984375 -0.53125 \r\nQ 36.96875 -1.421875 32.421875 -1.421875 \r\nQ 20.0625 -1.421875 12.78125 6.34375 \r\nQ 5.515625 14.109375 5.515625 27.296875 \r\nQ 5.515625 40.671875 12.859375 48.328125 \r\nQ 20.21875 56 33.015625 56 \r\nQ 37.15625 56 41.109375 55.140625 \r\nQ 45.0625 54.296875 48.78125 52.59375 \r\nz\r\n\" id=\"DejaVuSans-99\"/>\r\n       <path d=\"M 18.3125 70.21875 \r\nL 18.3125 54.6875 \r\nL 36.8125 54.6875 \r\nL 36.8125 47.703125 \r\nL 18.3125 47.703125 \r\nL 18.3125 18.015625 \r\nQ 18.3125 11.328125 20.140625 9.421875 \r\nQ 21.96875 7.515625 27.59375 7.515625 \r\nL 36.8125 7.515625 \r\nL 36.8125 0 \r\nL 27.59375 0 \r\nQ 17.1875 0 13.234375 3.875 \r\nQ 9.28125 7.765625 9.28125 18.015625 \r\nL 9.28125 47.703125 \r\nL 2.6875 47.703125 \r\nL 2.6875 54.6875 \r\nL 9.28125 54.6875 \r\nL 9.28125 70.21875 \r\nz\r\n\" id=\"DejaVuSans-116\"/>\r\n       <path d=\"M 54.890625 33.015625 \r\nL 54.890625 0 \r\nL 45.90625 0 \r\nL 45.90625 32.71875 \r\nQ 45.90625 40.484375 42.875 44.328125 \r\nQ 39.84375 48.1875 33.796875 48.1875 \r\nQ 26.515625 48.1875 22.3125 43.546875 \r\nQ 18.109375 38.921875 18.109375 30.90625 \r\nL 18.109375 0 \r\nL 9.078125 0 \r\nL 9.078125 54.6875 \r\nL 18.109375 54.6875 \r\nL 18.109375 46.1875 \r\nQ 21.34375 51.125 25.703125 53.5625 \r\nQ 30.078125 56 35.796875 56 \r\nQ 45.21875 56 50.046875 50.171875 \r\nQ 54.890625 44.34375 54.890625 33.015625 \r\nz\r\n\" id=\"DejaVuSans-110\"/>\r\n      </defs>\r\n      <use xlink:href=\"#DejaVuSans-80\"/>\r\n      <use x=\"58.552734\" xlink:href=\"#DejaVuSans-114\"/>\r\n      <use x=\"97.416016\" xlink:href=\"#DejaVuSans-101\"/>\r\n      <use x=\"158.939453\" xlink:href=\"#DejaVuSans-100\"/>\r\n      <use x=\"222.416016\" xlink:href=\"#DejaVuSans-105\"/>\r\n      <use x=\"250.199219\" xlink:href=\"#DejaVuSans-99\"/>\r\n      <use x=\"305.179688\" xlink:href=\"#DejaVuSans-116\"/>\r\n      <use x=\"344.388672\" xlink:href=\"#DejaVuSans-105\"/>\r\n      <use x=\"372.171875\" xlink:href=\"#DejaVuSans-111\"/>\r\n      <use x=\"433.353516\" xlink:href=\"#DejaVuSans-110\"/>\r\n      <use x=\"496.732422\" xlink:href=\"#DejaVuSans-115\"/>\r\n     </g>\r\n    </g>\r\n    <g id=\"PathCollection_2\">\r\n     <g>\r\n      <use style=\"fill:#1f77b4;stroke:#1f77b4;\" x=\"293.520312\" xlink:href=\"#m3b51242537\" y=\"35.851562\"/>\r\n     </g>\r\n    </g>\r\n    <g id=\"text_15\">\r\n     <!-- Data -->\r\n     <g transform=\"translate(311.520312 38.476562)scale(0.1 -0.1)\">\r\n      <defs>\r\n       <path d=\"M 19.671875 64.796875 \r\nL 19.671875 8.109375 \r\nL 31.59375 8.109375 \r\nQ 46.6875 8.109375 53.6875 14.9375 \r\nQ 60.6875 21.78125 60.6875 36.53125 \r\nQ 60.6875 51.171875 53.6875 57.984375 \r\nQ 46.6875 64.796875 31.59375 64.796875 \r\nz\r\nM 9.8125 72.90625 \r\nL 30.078125 72.90625 \r\nQ 51.265625 72.90625 61.171875 64.09375 \r\nQ 71.09375 55.28125 71.09375 36.53125 \r\nQ 71.09375 17.671875 61.125 8.828125 \r\nQ 51.171875 0 30.078125 0 \r\nL 9.8125 0 \r\nz\r\n\" id=\"DejaVuSans-68\"/>\r\n       <path d=\"M 34.28125 27.484375 \r\nQ 23.390625 27.484375 19.1875 25 \r\nQ 14.984375 22.515625 14.984375 16.5 \r\nQ 14.984375 11.71875 18.140625 8.90625 \r\nQ 21.296875 6.109375 26.703125 6.109375 \r\nQ 34.1875 6.109375 38.703125 11.40625 \r\nQ 43.21875 16.703125 43.21875 25.484375 \r\nL 43.21875 27.484375 \r\nz\r\nM 52.203125 31.203125 \r\nL 52.203125 0 \r\nL 43.21875 0 \r\nL 43.21875 8.296875 \r\nQ 40.140625 3.328125 35.546875 0.953125 \r\nQ 30.953125 -1.421875 24.3125 -1.421875 \r\nQ 15.921875 -1.421875 10.953125 3.296875 \r\nQ 6 8.015625 6 15.921875 \r\nQ 6 25.140625 12.171875 29.828125 \r\nQ 18.359375 34.515625 30.609375 34.515625 \r\nL 43.21875 34.515625 \r\nL 43.21875 35.40625 \r\nQ 43.21875 41.609375 39.140625 45 \r\nQ 35.0625 48.390625 27.6875 48.390625 \r\nQ 23 48.390625 18.546875 47.265625 \r\nQ 14.109375 46.140625 10.015625 43.890625 \r\nL 10.015625 52.203125 \r\nQ 14.9375 54.109375 19.578125 55.046875 \r\nQ 24.21875 56 28.609375 56 \r\nQ 40.484375 56 46.34375 49.84375 \r\nQ 52.203125 43.703125 52.203125 31.203125 \r\nz\r\n\" id=\"DejaVuSans-97\"/>\r\n      </defs>\r\n      <use xlink:href=\"#DejaVuSans-68\"/>\r\n      <use x=\"77.001953\" xlink:href=\"#DejaVuSans-97\"/>\r\n      <use x=\"138.28125\" xlink:href=\"#DejaVuSans-116\"/>\r\n      <use x=\"177.490234\" xlink:href=\"#DejaVuSans-97\"/>\r\n     </g>\r\n    </g>\r\n   </g>\r\n  </g>\r\n </g>\r\n <defs>\r\n  <clipPath id=\"pa9ef0d14a4\">\r\n   <rect height=\"217.44\" width=\"334.8\" x=\"40.603125\" y=\"7.2\"/>\r\n  </clipPath>\r\n </defs>\r\n</svg>\r\n",
      "image/png": "[encoded data removed]"
     },
     "metadata": {
      "needs_background": "light"
     }
    }
   ],
   "source": [
    "plot_horsepower(x,y)"
   ]
  }
 ],
 "metadata": {
  "colab": {
   "collapsed_sections": [],
   "name": "regression.ipynb",
   "toc_visible": true
  },
  "kernelspec": {
   "name": "python3",
   "display_name": "Python 3.8.5 64-bit ('tf-2.3': conda)",
   "metadata": {
    "interpreter": {
     "hash": "e0c9bb29f5b1928b4e99e33782efeee6902d6c1662d2e65443807fa8c5d3a70c"
    }
   }
  },
  "language_info": {
   "codemirror_mode": {
    "name": "ipython",
    "version": 3
   },
   "file_extension": ".py",
   "mimetype": "text/x-python",
   "name": "python",
   "nbconvert_exporter": "python",
   "pygments_lexer": "ipython3",
   "version": "3.8.5-final"
  }
 },
 "nbformat": 4,
 "nbformat_minor": 0
}