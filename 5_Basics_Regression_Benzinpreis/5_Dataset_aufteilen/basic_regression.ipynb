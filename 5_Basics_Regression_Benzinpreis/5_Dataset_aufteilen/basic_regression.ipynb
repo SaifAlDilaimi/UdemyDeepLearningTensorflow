{
 "cells": [
  {
   "cell_type": "markdown",
   "metadata": {
    "id": "EIdT9iu_Z4Rb"
   },
   "source": [
    "# Basic regression: Benzinpreis vorhersagen"
   ]
  },
  {
   "cell_type": "code",
   "execution_count": null,
   "metadata": {
    "execution": {
     "iopub.execute_input": "2020-09-24T01:22:06.818887Z",
     "iopub.status.busy": "2020-09-24T01:22:06.817715Z",
     "iopub.status.idle": "2020-09-24T01:22:08.646796Z",
     "shell.execute_reply": "2020-09-24T01:22:08.646235Z"
    },
    "id": "1rRo8oNqZ-Rj"
   },
   "outputs": [],
   "source": [
    "import matplotlib.pyplot as plt\n",
    "import numpy as np\n",
    "import pandas as pd\n",
    "\n",
    "# Make numpy printouts easier to read.\n",
    "np.set_printoptions(precision=3, suppress=True)"
   ]
  },
  {
   "cell_type": "code",
   "execution_count": null,
   "metadata": {
    "execution": {
     "iopub.execute_input": "2020-09-24T01:22:08.651909Z",
     "iopub.status.busy": "2020-09-24T01:22:08.651252Z",
     "iopub.status.idle": "2020-09-24T01:22:13.845864Z",
     "shell.execute_reply": "2020-09-24T01:22:13.845242Z"
    },
    "id": "9xQKvCJ85kCQ"
   },
   "outputs": [],
   "source": [
    "import tensorflow as tf\n",
    "\n",
    "from tensorflow import keras\n",
    "from tensorflow.keras.layers import Dense\n",
    "from tensorflow.keras.layers.experimental import preprocessing\n",
    "from tensorflow.keras.optimizers import Adam\n",
    "from tensorflow.keras.losses import mean_absolute_error"
   ]
  },
  {
   "cell_type": "markdown",
   "metadata": {
    "id": "F_72b0LCNbjx"
   },
   "source": [
    "## Dateset\n",
    "### Daten herunterladen und in ein Dataframe speichern"
   ]
  },
  {
   "cell_type": "code",
   "execution_count": null,
   "metadata": {
    "execution": {
     "iopub.execute_input": "2020-09-24T01:22:13.852655Z",
     "iopub.status.busy": "2020-09-24T01:22:13.852002Z",
     "iopub.status.idle": "2020-09-24T01:22:14.654748Z",
     "shell.execute_reply": "2020-09-24T01:22:14.655199Z"
    },
    "id": "CiX2FI4gZtTt"
   },
   "outputs": [],
   "source": [
    "url = 'http://archive.ics.uci.edu/ml/machine-learning-databases/auto-mpg/auto-mpg.data'\n",
    "column_names = ['MPG', 'Cylinders', 'Displacement', 'Horsepower', 'Weight',\n",
    "                'Acceleration', 'Model Year', 'Origin']\n",
    "\n",
    "raw_dataset = pd.read_csv(url, names=column_names,\n",
    "                          na_values='?', comment='\\t',\n",
    "                          sep=' ', skipinitialspace=True)"
   ]
  },
  {
   "cell_type": "code",
   "execution_count": null,
   "metadata": {
    "execution": {
     "iopub.execute_input": "2020-09-24T01:22:14.667756Z",
     "iopub.status.busy": "2020-09-24T01:22:14.667071Z",
     "iopub.status.idle": "2020-09-24T01:22:14.674215Z",
     "shell.execute_reply": "2020-09-24T01:22:14.674744Z"
    },
    "id": "2oY3pMPagJrO"
   },
   "outputs": [],
   "source": [
    "dataset = raw_dataset.copy()\n",
    "dataset.tail()"
   ]
  },
  {
   "cell_type": "markdown",
   "metadata": {
    "id": "3MWuJTKEDM-f"
   },
   "source": [
    "### Daten säubern\n",
    "\n",
    "Zeilen mit leeren Felder löschen."
   ]
  },
  {
   "cell_type": "code",
   "execution_count": null,
   "metadata": {
    "execution": {
     "iopub.execute_input": "2020-09-24T01:22:14.680977Z",
     "iopub.status.busy": "2020-09-24T01:22:14.680263Z",
     "iopub.status.idle": "2020-09-24T01:22:14.682955Z",
     "shell.execute_reply": "2020-09-24T01:22:14.683335Z"
    },
    "id": "JEJHhN65a2VV"
   },
   "outputs": [],
   "source": [
    "dataset.isna().sum()"
   ]
  },
  {
   "cell_type": "code",
   "execution_count": null,
   "metadata": {
    "execution": {
     "iopub.execute_input": "2020-09-24T01:22:14.688546Z",
     "iopub.status.busy": "2020-09-24T01:22:14.687924Z",
     "iopub.status.idle": "2020-09-24T01:22:14.691112Z",
     "shell.execute_reply": "2020-09-24T01:22:14.691514Z"
    },
    "id": "4ZUDosChC1UN"
   },
   "outputs": [],
   "source": [
    "dataset = dataset.dropna()"
   ]
  },
  {
   "cell_type": "markdown",
   "metadata": {
    "id": "8XKitwaH4v8h"
   },
   "source": [
    "Die `\"Origin\"` Spalte ist eigentlich categorical und nicht Numerisch. Dies müssen wir umbauen.\n"
   ]
  },
  {
   "cell_type": "code",
   "execution_count": null,
   "metadata": {
    "execution": {
     "iopub.execute_input": "2020-09-24T01:22:14.697031Z",
     "iopub.status.busy": "2020-09-24T01:22:14.696506Z",
     "iopub.status.idle": "2020-09-24T01:22:14.698552Z",
     "shell.execute_reply": "2020-09-24T01:22:14.698017Z"
    },
    "id": "gWNTD2QjBWFJ"
   },
   "outputs": [],
   "source": [
    "dataset['Origin'] = dataset['Origin'].map({1: 'USA', 2: 'Europe', 3: 'Japan'})"
   ]
  },
  {
   "cell_type": "code",
   "execution_count": null,
   "metadata": {
    "execution": {
     "iopub.execute_input": "2020-09-24T01:22:14.717965Z",
     "iopub.status.busy": "2020-09-24T01:22:14.717224Z",
     "iopub.status.idle": "2020-09-24T01:22:14.719809Z",
     "shell.execute_reply": "2020-09-24T01:22:14.720203Z"
    },
    "id": "ulXz4J7PAUzk"
   },
   "outputs": [],
   "source": [
    "dataset = pd.get_dummies(dataset, prefix='', prefix_sep='')\n",
    "dataset.tail()"
   ]
  },
  {
   "cell_type": "markdown",
   "metadata": {
    "id": "Cuym4yvk76vU"
   },
   "source": [
    "### Aufteilen der Daten in Train und Test\n",
    "Nun teilen wir den Datensatz in einen Trainingssatz und einen Testsatz auf.\n",
    "\n",
    "Wir werden den Testsatz bei der Endauswertung unserer Modelle verwenden."
   ]
  },
  {
   "cell_type": "code",
   "execution_count": null,
   "metadata": {
    "execution": {
     "iopub.execute_input": "2020-09-24T01:22:14.726365Z",
     "iopub.status.busy": "2020-09-24T01:22:14.725813Z",
     "iopub.status.idle": "2020-09-24T01:22:14.727513Z",
     "shell.execute_reply": "2020-09-24T01:22:14.727920Z"
    },
    "id": "qn-IGhUE7_1H"
   },
   "outputs": [],
   "source": []
  },
  {
   "cell_type": "markdown",
   "metadata": {
    "id": "Db7Auq1yXUvh"
   },
   "source": [
    "### Features von Labels trennen\n",
    "\n",
    "Trennen Sie den Zielwert, das \"Label\", von den Features. Dieses Label ist der Wert, auf dessen Vorhersage Sie das Modell trainieren werden."
   ]
  },
  {
   "cell_type": "code",
   "execution_count": null,
   "metadata": {
    "execution": {
     "iopub.execute_input": "2020-09-24T01:22:19.755887Z",
     "iopub.status.busy": "2020-09-24T01:22:19.755092Z",
     "iopub.status.idle": "2020-09-24T01:22:19.757179Z",
     "shell.execute_reply": "2020-09-24T01:22:19.756619Z"
    },
    "id": "t2sluJdCW7jN"
   },
   "outputs": [],
   "source": []
  },
  {
   "cell_type": "code",
   "execution_count": null,
   "metadata": {},
   "outputs": [],
   "source": []
  },
  {
   "cell_type": "markdown",
   "metadata": {
    "id": "mRklxK5s388r"
   },
   "source": [
    "## Normalisierung\n",
    "\n",
    "In der Statistiktabelle ist leicht zu erkennen, wie unterschiedlich die Bereiche der einzelnen Features sind."
   ]
  },
  {
   "cell_type": "code",
   "execution_count": null,
   "metadata": {
    "execution": {
     "iopub.execute_input": "2020-09-24T01:22:19.768552Z",
     "iopub.status.busy": "2020-09-24T01:22:19.766697Z",
     "iopub.status.idle": "2020-09-24T01:22:19.791930Z",
     "shell.execute_reply": "2020-09-24T01:22:19.792389Z"
    },
    "id": "IcmY6lKKbkw8"
   },
   "outputs": [],
   "source": []
  },
  {
   "cell_type": "markdown",
   "metadata": {
    "id": "-ywmerQ6dSox"
   },
   "source": [
    "Es ist eine gute Praxis, Features zu normalisieren, die unterschiedliche Skalierungen und Bereiche verwenden. \n",
    "\n",
    "Dies ist unter anderem deshalb wichtig, weil die Features mit den Gewichten der Modelle multipliziert werden. Die Skala der Ausgänge und die Skala der Gradienten werden also durch die Skala der Eingänge beeinflusst. \n",
    "\n",
    "Obwohl ein Modell ohne Feature-Normalisierung *möglicherweise* konvergiert, macht die Normalisierung das Training viel stabiler. "
   ]
  },
  {
   "cell_type": "markdown",
   "metadata": {
    "id": "aFJ6ISropeoo"
   },
   "source": [
    "### Der Normalization Layer\n",
    "Der Layer `preprocessing.Normalization` ist eine saubere und einfache Möglichkeit, diese Vorverarbeitung in Ihr Modell einzubauen.\n",
    "\n",
    "Der erste Schritt ist die Erstellung des Layers: "
   ]
  },
  {
   "cell_type": "code",
   "execution_count": null,
   "metadata": {
    "execution": {
     "iopub.execute_input": "2020-09-24T01:22:19.796972Z",
     "iopub.status.busy": "2020-09-24T01:22:19.796314Z",
     "iopub.status.idle": "2020-09-24T01:22:19.805510Z",
     "shell.execute_reply": "2020-09-24T01:22:19.804843Z"
    },
    "id": "JlC5ooJrgjQF"
   },
   "outputs": [],
   "source": []
  },
  {
   "cell_type": "markdown",
   "metadata": {
    "id": "XYA2Ap6nVOha"
   },
   "source": [
    "Nun passen wir es den Daten mit `.adapt()` an:"
   ]
  },
  {
   "cell_type": "code",
   "execution_count": null,
   "metadata": {
    "execution": {
     "iopub.execute_input": "2020-09-24T01:22:27.716978Z",
     "iopub.status.busy": "2020-09-24T01:22:27.716260Z",
     "iopub.status.idle": "2020-09-24T01:22:28.025993Z",
     "shell.execute_reply": "2020-09-24T01:22:28.025303Z"
    },
    "id": "CrBbbjbwV91f"
   },
   "outputs": [],
   "source": []
  },
  {
   "cell_type": "markdown",
   "metadata": {
    "id": "oZccMR5yV9YV"
   },
   "source": [
    "Das berechnet für jedes Feature (Spalte) das mean und variance, welches dann im Layer gespeichert wird. "
   ]
  },
  {
   "cell_type": "code",
   "execution_count": null,
   "metadata": {
    "execution": {
     "iopub.execute_input": "2020-09-24T01:22:28.032119Z",
     "iopub.status.busy": "2020-09-24T01:22:28.031430Z",
     "iopub.status.idle": "2020-09-24T01:22:28.035040Z",
     "shell.execute_reply": "2020-09-24T01:22:28.034549Z"
    },
    "id": "GGn-ukwxSPtx"
   },
   "outputs": [],
   "source": []
  },
  {
   "cell_type": "code",
   "execution_count": null,
   "metadata": {
    "execution": {
     "iopub.execute_input": "2020-09-24T01:22:28.042754Z",
     "iopub.status.busy": "2020-09-24T01:22:28.042074Z",
     "iopub.status.idle": "2020-09-24T01:22:28.047614Z",
     "shell.execute_reply": "2020-09-24T01:22:28.047069Z"
    },
    "id": "2l7zFL_XWIRu"
   },
   "outputs": [],
   "source": []
  },
  {
   "cell_type": "markdown",
   "metadata": {
    "id": "6o3CrycBXA2s"
   },
   "source": [
    "## Linear regression"
   ]
  },
  {
   "cell_type": "markdown",
   "metadata": {
    "id": "lFby9n0tnHkw"
   },
   "source": [
    "### Eine Variable\n",
    "\n",
    "\n",
    "Das Training eines Modells mit `tf.keras` beginnt typischerweise mit der Definition der Modellarchitektur.\n",
    "\n",
    "In diesem Fall verwenden Sie ein Sequentielles Modell. Dieses Modell stellt eine Abfolge von Schritten dar. In diesem Fall gibt es zwei Schritte:\n",
    "\n",
    "* Normalisierung der eingegebenen `horsepower`.\n",
    "* Wenden Sie eine lineare Transformation ($y = mx+b$) an, um 1 Ausgabe unter Verwendung von `layers.Dense` zu erzeugen."
   ]
  },
  {
   "cell_type": "markdown",
   "metadata": {
    "id": "Xp3gAFn3TPv8"
   },
   "source": [
    "Zuerst den horsepower `Normalization` layer:"
   ]
  },
  {
   "cell_type": "code",
   "execution_count": null,
   "metadata": {
    "execution": {
     "iopub.execute_input": "2020-09-24T01:22:28.056201Z",
     "iopub.status.busy": "2020-09-24T01:22:28.055572Z",
     "iopub.status.idle": "2020-09-24T01:22:28.062035Z",
     "shell.execute_reply": "2020-09-24T01:22:28.062668Z"
    },
    "id": "1gJAy0fKs1TS"
   },
   "outputs": [],
   "source": []
  },
  {
   "cell_type": "markdown",
   "metadata": {
    "id": "4NVlHJY2TWlC"
   },
   "source": [
    "### Model"
   ]
  },
  {
   "cell_type": "code",
   "execution_count": null,
   "metadata": {
    "execution": {
     "iopub.execute_input": "2020-09-24T01:22:28.075226Z",
     "iopub.status.busy": "2020-09-24T01:22:28.074585Z",
     "iopub.status.idle": "2020-09-24T01:22:28.099052Z",
     "shell.execute_reply": "2020-09-24T01:22:28.098478Z"
    },
    "id": "c0sXM7qLlKfZ"
   },
   "outputs": [],
   "source": []
  },
  {
   "cell_type": "markdown",
   "metadata": {
    "id": "eObQu9fDnXGL"
   },
   "source": [
    "Dieses Modell wird `MPG` aus `Horsepower` vorhersagen.\n",
    "\n",
    "Lassen Sie das untrainierte Modell mit den ersten 10 Pferdestärkenwerten laufen. Das Ergebnis wird nicht gut sein, aber Sie werden sehen, dass es die erwartete Form `(10,1)` hat:"
   ]
  },
  {
   "cell_type": "code",
   "execution_count": null,
   "metadata": {
    "execution": {
     "iopub.execute_input": "2020-09-24T01:22:28.104528Z",
     "iopub.status.busy": "2020-09-24T01:22:28.103842Z",
     "iopub.status.idle": "2020-09-24T01:22:28.494359Z",
     "shell.execute_reply": "2020-09-24T01:22:28.493780Z"
    },
    "id": "UfV1HS6bns-s"
   },
   "outputs": [],
   "source": []
  },
  {
   "source": [
    "### Model trainieren"
   ],
   "cell_type": "markdown",
   "metadata": {}
  },
  {
   "cell_type": "code",
   "execution_count": null,
   "metadata": {
    "execution": {
     "iopub.execute_input": "2020-09-24T01:22:28.506986Z",
     "iopub.status.busy": "2020-09-24T01:22:28.506337Z",
     "iopub.status.idle": "2020-09-24T01:22:28.515160Z",
     "shell.execute_reply": "2020-09-24T01:22:28.514658Z"
    },
    "id": "JxA_3lpOm-SK"
   },
   "outputs": [],
   "source": []
  },
  {
   "cell_type": "markdown",
   "metadata": {
    "id": "Z3q1I9TwnRSC"
   },
   "source": [
    "Sobald das Training konfiguriert ist, verwenden Sie Model.fit(), um das Training auszuführen:"
   ]
  },
  {
   "cell_type": "code",
   "execution_count": null,
   "metadata": {
    "execution": {
     "iopub.execute_input": "2020-09-24T01:22:28.521440Z",
     "iopub.status.busy": "2020-09-24T01:22:28.520771Z",
     "iopub.status.idle": "2020-09-24T01:22:31.497659Z",
     "shell.execute_reply": "2020-09-24T01:22:31.496971Z"
    },
    "id": "-iSrNy59nRAp"
   },
   "outputs": [],
   "source": []
  },
  {
   "source": [
    "### Evaluation - Wie ist das Training verlaufen?"
   ],
   "cell_type": "markdown",
   "metadata": {}
  },
  {
   "cell_type": "code",
   "execution_count": null,
   "metadata": {
    "execution": {
     "iopub.execute_input": "2020-09-24T01:22:31.515825Z",
     "iopub.status.busy": "2020-09-24T01:22:31.515034Z",
     "iopub.status.idle": "2020-09-24T01:22:31.517020Z",
     "shell.execute_reply": "2020-09-24T01:22:31.517399Z"
    },
    "id": "9E54UoZunqhc"
   },
   "outputs": [],
   "source": [
    "def plot_loss(history):\n",
    "  plt.plot(history.history['loss'], label='loss')\n",
    "  plt.plot(history.history['val_loss'], label='val_loss')\n",
    "  plt.ylim([0, 10])\n",
    "  plt.xlabel('Epoch')\n",
    "  plt.ylabel('Error [MPG]')\n",
    "  plt.legend()\n",
    "  plt.grid(True)"
   ]
  },
  {
   "cell_type": "code",
   "execution_count": null,
   "metadata": {
    "execution": {
     "iopub.execute_input": "2020-09-24T01:22:31.527487Z",
     "iopub.status.busy": "2020-09-24T01:22:31.526599Z",
     "iopub.status.idle": "2020-09-24T01:22:31.790176Z",
     "shell.execute_reply": "2020-09-24T01:22:31.790709Z"
    },
    "id": "yYsQYrIZyqjz"
   },
   "outputs": [],
   "source": []
  },
  {
   "cell_type": "markdown",
   "metadata": {
    "id": "F0qutYAKwoda"
   },
   "source": [
    "Da es sich um eine Regression mit einer einzigen Variable handelt, ist es einfach, die Vorhersagen des Modells als Funktion des Inputs zu betrachten:"
   ]
  },
  {
   "cell_type": "code",
   "execution_count": null,
   "metadata": {
    "execution": {
     "iopub.execute_input": "2020-09-24T01:22:31.846035Z",
     "iopub.status.busy": "2020-09-24T01:22:31.845152Z",
     "iopub.status.idle": "2020-09-24T01:22:31.907419Z",
     "shell.execute_reply": "2020-09-24T01:22:31.907969Z"
    },
    "id": "xDS2JEtOn9Jn"
   },
   "outputs": [],
   "source": []
  },
  {
   "cell_type": "code",
   "execution_count": null,
   "metadata": {
    "execution": {
     "iopub.execute_input": "2020-09-24T01:22:31.912754Z",
     "iopub.status.busy": "2020-09-24T01:22:31.912110Z",
     "iopub.status.idle": "2020-09-24T01:22:31.913900Z",
     "shell.execute_reply": "2020-09-24T01:22:31.914380Z"
    },
    "id": "rttFCTU8czsI"
   },
   "outputs": [],
   "source": [
    "def plot_horsepower(x, y):\n",
    "  plt.scatter(train_features['Horsepower'], train_labels, label='Data')\n",
    "  plt.plot(x, y, color='k', label='Predictions')\n",
    "  plt.xlabel('Horsepower')\n",
    "  plt.ylabel('MPG')\n",
    "  plt.legend()"
   ]
  },
  {
   "cell_type": "code",
   "execution_count": null,
   "metadata": {
    "execution": {
     "iopub.execute_input": "2020-09-24T01:22:31.924809Z",
     "iopub.status.busy": "2020-09-24T01:22:31.922118Z",
     "iopub.status.idle": "2020-09-24T01:22:32.062094Z",
     "shell.execute_reply": "2020-09-24T01:22:32.062513Z"
    },
    "id": "7l9ZiAOEUNBL"
   },
   "outputs": [],
   "source": []
  }
 ],
 "metadata": {
  "colab": {
   "collapsed_sections": [],
   "name": "regression.ipynb",
   "toc_visible": true
  },
  "kernelspec": {
   "name": "python3",
   "display_name": "Python 3.8.5 64-bit ('tf-2.3': conda)",
   "metadata": {
    "interpreter": {
     "hash": "e0c9bb29f5b1928b4e99e33782efeee6902d6c1662d2e65443807fa8c5d3a70c"
    }
   }
  },
  "language_info": {
   "codemirror_mode": {
    "name": "ipython",
    "version": 3
   },
   "file_extension": ".py",
   "mimetype": "text/x-python",
   "name": "python",
   "nbconvert_exporter": "python",
   "pygments_lexer": "ipython3",
   "version": "3.8.5-final"
  }
 },
 "nbformat": 4,
 "nbformat_minor": 0
}