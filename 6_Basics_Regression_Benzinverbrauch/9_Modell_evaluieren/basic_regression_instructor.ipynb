{
 "cells": [
  {
   "cell_type": "markdown",
   "metadata": {
    "id": "EIdT9iu_Z4Rb"
   },
   "source": [
    "# Basic regression: Benzinpreis vorhersagen"
   ]
  },
  {
   "cell_type": "code",
   "execution_count": 1,
   "metadata": {
    "execution": {
     "iopub.execute_input": "2020-09-24T01:22:06.818887Z",
     "iopub.status.busy": "2020-09-24T01:22:06.817715Z",
     "iopub.status.idle": "2020-09-24T01:22:08.646796Z",
     "shell.execute_reply": "2020-09-24T01:22:08.646235Z"
    },
    "id": "1rRo8oNqZ-Rj"
   },
   "outputs": [],
   "source": [
    "import matplotlib.pyplot as plt\n",
    "import numpy as np\n",
    "import pandas as pd\n",
    "\n",
    "# Make numpy printouts easier to read.\n",
    "np.set_printoptions(precision=3, suppress=True)"
   ]
  },
  {
   "cell_type": "code",
   "execution_count": 2,
   "metadata": {
    "execution": {
     "iopub.execute_input": "2020-09-24T01:22:08.651909Z",
     "iopub.status.busy": "2020-09-24T01:22:08.651252Z",
     "iopub.status.idle": "2020-09-24T01:22:13.845864Z",
     "shell.execute_reply": "2020-09-24T01:22:13.845242Z"
    },
    "id": "9xQKvCJ85kCQ"
   },
   "outputs": [],
   "source": [
    "import tensorflow as tf\n",
    "\n",
    "from tensorflow import keras\n",
    "from tensorflow.keras.layers import Dense\n",
    "from tensorflow.keras.layers.experimental import preprocessing\n",
    "from tensorflow.keras.optimizers import Adam\n",
    "from tensorflow.keras.losses import mean_absolute_error"
   ]
  },
  {
   "cell_type": "markdown",
   "metadata": {
    "id": "F_72b0LCNbjx"
   },
   "source": [
    "## Dateset\n",
    "### Daten herunterladen und in ein Dataframe speichern"
   ]
  },
  {
   "cell_type": "code",
   "execution_count": 3,
   "metadata": {
    "execution": {
     "iopub.execute_input": "2020-09-24T01:22:13.852655Z",
     "iopub.status.busy": "2020-09-24T01:22:13.852002Z",
     "iopub.status.idle": "2020-09-24T01:22:14.654748Z",
     "shell.execute_reply": "2020-09-24T01:22:14.655199Z"
    },
    "id": "CiX2FI4gZtTt"
   },
   "outputs": [],
   "source": [
    "url = 'http://archive.ics.uci.edu/ml/machine-learning-databases/auto-mpg/auto-mpg.data'\n",
    "column_names = ['MPG', 'Cylinders', 'Displacement', 'Horsepower', 'Weight',\n",
    "                'Acceleration', 'Model Year', 'Origin']\n",
    "\n",
    "raw_dataset = pd.read_csv(url, names=column_names,\n",
    "                          na_values='?', comment='\\t',\n",
    "                          sep=' ', skipinitialspace=True)"
   ]
  },
  {
   "cell_type": "code",
   "execution_count": 4,
   "metadata": {
    "execution": {
     "iopub.execute_input": "2020-09-24T01:22:14.667756Z",
     "iopub.status.busy": "2020-09-24T01:22:14.667071Z",
     "iopub.status.idle": "2020-09-24T01:22:14.674215Z",
     "shell.execute_reply": "2020-09-24T01:22:14.674744Z"
    },
    "id": "2oY3pMPagJrO"
   },
   "outputs": [
    {
     "output_type": "execute_result",
     "data": {
      "text/plain": [
       "      MPG  Cylinders  Displacement  Horsepower  Weight  Acceleration  \\\n",
       "393  27.0          4         140.0        86.0  2790.0          15.6   \n",
       "394  44.0          4          97.0        52.0  2130.0          24.6   \n",
       "395  32.0          4         135.0        84.0  2295.0          11.6   \n",
       "396  28.0          4         120.0        79.0  2625.0          18.6   \n",
       "397  31.0          4         119.0        82.0  2720.0          19.4   \n",
       "\n",
       "     Model Year  Origin  \n",
       "393          82       1  \n",
       "394          82       2  \n",
       "395          82       1  \n",
       "396          82       1  \n",
       "397          82       1  "
      ],
      "text/html": "<div>\n<style scoped>\n    .dataframe tbody tr th:only-of-type {\n        vertical-align: middle;\n    }\n\n    .dataframe tbody tr th {\n        vertical-align: top;\n    }\n\n    .dataframe thead th {\n        text-align: right;\n    }\n</style>\n<table border=\"1\" class=\"dataframe\">\n  <thead>\n    <tr style=\"text-align: right;\">\n      <th></th>\n      <th>MPG</th>\n      <th>Cylinders</th>\n      <th>Displacement</th>\n      <th>Horsepower</th>\n      <th>Weight</th>\n      <th>Acceleration</th>\n      <th>Model Year</th>\n      <th>Origin</th>\n    </tr>\n  </thead>\n  <tbody>\n    <tr>\n      <th>393</th>\n      <td>27.0</td>\n      <td>4</td>\n      <td>140.0</td>\n      <td>86.0</td>\n      <td>2790.0</td>\n      <td>15.6</td>\n      <td>82</td>\n      <td>1</td>\n    </tr>\n    <tr>\n      <th>394</th>\n      <td>44.0</td>\n      <td>4</td>\n      <td>97.0</td>\n      <td>52.0</td>\n      <td>2130.0</td>\n      <td>24.6</td>\n      <td>82</td>\n      <td>2</td>\n    </tr>\n    <tr>\n      <th>395</th>\n      <td>32.0</td>\n      <td>4</td>\n      <td>135.0</td>\n      <td>84.0</td>\n      <td>2295.0</td>\n      <td>11.6</td>\n      <td>82</td>\n      <td>1</td>\n    </tr>\n    <tr>\n      <th>396</th>\n      <td>28.0</td>\n      <td>4</td>\n      <td>120.0</td>\n      <td>79.0</td>\n      <td>2625.0</td>\n      <td>18.6</td>\n      <td>82</td>\n      <td>1</td>\n    </tr>\n    <tr>\n      <th>397</th>\n      <td>31.0</td>\n      <td>4</td>\n      <td>119.0</td>\n      <td>82.0</td>\n      <td>2720.0</td>\n      <td>19.4</td>\n      <td>82</td>\n      <td>1</td>\n    </tr>\n  </tbody>\n</table>\n</div>"
     },
     "metadata": {},
     "execution_count": 4
    }
   ],
   "source": [
    "dataset = raw_dataset.copy()\n",
    "dataset.tail()"
   ]
  },
  {
   "cell_type": "markdown",
   "metadata": {
    "id": "3MWuJTKEDM-f"
   },
   "source": [
    "### Daten säubern\n",
    "\n",
    "Zeilen mit leeren Felder löschen."
   ]
  },
  {
   "cell_type": "code",
   "execution_count": 5,
   "metadata": {
    "execution": {
     "iopub.execute_input": "2020-09-24T01:22:14.680977Z",
     "iopub.status.busy": "2020-09-24T01:22:14.680263Z",
     "iopub.status.idle": "2020-09-24T01:22:14.682955Z",
     "shell.execute_reply": "2020-09-24T01:22:14.683335Z"
    },
    "id": "JEJHhN65a2VV"
   },
   "outputs": [
    {
     "output_type": "execute_result",
     "data": {
      "text/plain": [
       "MPG             0\n",
       "Cylinders       0\n",
       "Displacement    0\n",
       "Horsepower      6\n",
       "Weight          0\n",
       "Acceleration    0\n",
       "Model Year      0\n",
       "Origin          0\n",
       "dtype: int64"
      ]
     },
     "metadata": {},
     "execution_count": 5
    }
   ],
   "source": [
    "dataset.isna().sum()"
   ]
  },
  {
   "cell_type": "code",
   "execution_count": 6,
   "metadata": {
    "execution": {
     "iopub.execute_input": "2020-09-24T01:22:14.688546Z",
     "iopub.status.busy": "2020-09-24T01:22:14.687924Z",
     "iopub.status.idle": "2020-09-24T01:22:14.691112Z",
     "shell.execute_reply": "2020-09-24T01:22:14.691514Z"
    },
    "id": "4ZUDosChC1UN"
   },
   "outputs": [],
   "source": [
    "dataset = dataset.dropna()"
   ]
  },
  {
   "cell_type": "markdown",
   "metadata": {
    "id": "8XKitwaH4v8h"
   },
   "source": [
    "Die `\"Origin\"` Spalte ist eigentlich categorical und nicht Numerisch. Dies müssen wir umbauen.\n"
   ]
  },
  {
   "cell_type": "code",
   "execution_count": 7,
   "metadata": {
    "execution": {
     "iopub.execute_input": "2020-09-24T01:22:14.697031Z",
     "iopub.status.busy": "2020-09-24T01:22:14.696506Z",
     "iopub.status.idle": "2020-09-24T01:22:14.698552Z",
     "shell.execute_reply": "2020-09-24T01:22:14.698017Z"
    },
    "id": "gWNTD2QjBWFJ"
   },
   "outputs": [],
   "source": [
    "dataset['Origin'] = dataset['Origin'].map({1: 'USA', 2: 'Europe', 3: 'Japan'})"
   ]
  },
  {
   "cell_type": "code",
   "execution_count": 8,
   "metadata": {
    "execution": {
     "iopub.execute_input": "2020-09-24T01:22:14.717965Z",
     "iopub.status.busy": "2020-09-24T01:22:14.717224Z",
     "iopub.status.idle": "2020-09-24T01:22:14.719809Z",
     "shell.execute_reply": "2020-09-24T01:22:14.720203Z"
    },
    "id": "ulXz4J7PAUzk"
   },
   "outputs": [
    {
     "output_type": "execute_result",
     "data": {
      "text/plain": [
       "      MPG  Cylinders  Displacement  Horsepower  Weight  Acceleration  \\\n",
       "393  27.0          4         140.0        86.0  2790.0          15.6   \n",
       "394  44.0          4          97.0        52.0  2130.0          24.6   \n",
       "395  32.0          4         135.0        84.0  2295.0          11.6   \n",
       "396  28.0          4         120.0        79.0  2625.0          18.6   \n",
       "397  31.0          4         119.0        82.0  2720.0          19.4   \n",
       "\n",
       "     Model Year  Europe  Japan  USA  \n",
       "393          82       0      0    1  \n",
       "394          82       1      0    0  \n",
       "395          82       0      0    1  \n",
       "396          82       0      0    1  \n",
       "397          82       0      0    1  "
      ],
      "text/html": "<div>\n<style scoped>\n    .dataframe tbody tr th:only-of-type {\n        vertical-align: middle;\n    }\n\n    .dataframe tbody tr th {\n        vertical-align: top;\n    }\n\n    .dataframe thead th {\n        text-align: right;\n    }\n</style>\n<table border=\"1\" class=\"dataframe\">\n  <thead>\n    <tr style=\"text-align: right;\">\n      <th></th>\n      <th>MPG</th>\n      <th>Cylinders</th>\n      <th>Displacement</th>\n      <th>Horsepower</th>\n      <th>Weight</th>\n      <th>Acceleration</th>\n      <th>Model Year</th>\n      <th>Europe</th>\n      <th>Japan</th>\n      <th>USA</th>\n    </tr>\n  </thead>\n  <tbody>\n    <tr>\n      <th>393</th>\n      <td>27.0</td>\n      <td>4</td>\n      <td>140.0</td>\n      <td>86.0</td>\n      <td>2790.0</td>\n      <td>15.6</td>\n      <td>82</td>\n      <td>0</td>\n      <td>0</td>\n      <td>1</td>\n    </tr>\n    <tr>\n      <th>394</th>\n      <td>44.0</td>\n      <td>4</td>\n      <td>97.0</td>\n      <td>52.0</td>\n      <td>2130.0</td>\n      <td>24.6</td>\n      <td>82</td>\n      <td>1</td>\n      <td>0</td>\n      <td>0</td>\n    </tr>\n    <tr>\n      <th>395</th>\n      <td>32.0</td>\n      <td>4</td>\n      <td>135.0</td>\n      <td>84.0</td>\n      <td>2295.0</td>\n      <td>11.6</td>\n      <td>82</td>\n      <td>0</td>\n      <td>0</td>\n      <td>1</td>\n    </tr>\n    <tr>\n      <th>396</th>\n      <td>28.0</td>\n      <td>4</td>\n      <td>120.0</td>\n      <td>79.0</td>\n      <td>2625.0</td>\n      <td>18.6</td>\n      <td>82</td>\n      <td>0</td>\n      <td>0</td>\n      <td>1</td>\n    </tr>\n    <tr>\n      <th>397</th>\n      <td>31.0</td>\n      <td>4</td>\n      <td>119.0</td>\n      <td>82.0</td>\n      <td>2720.0</td>\n      <td>19.4</td>\n      <td>82</td>\n      <td>0</td>\n      <td>0</td>\n      <td>1</td>\n    </tr>\n  </tbody>\n</table>\n</div>"
     },
     "metadata": {},
     "execution_count": 8
    }
   ],
   "source": [
    "dataset = pd.get_dummies(dataset, prefix='', prefix_sep='')\n",
    "dataset.tail()"
   ]
  },
  {
   "cell_type": "markdown",
   "metadata": {
    "id": "Cuym4yvk76vU"
   },
   "source": [
    "### Aufteilen der Daten in Train und Test\n",
    "Nun teilen wir den Datensatz in einen Trainingssatz und einen Testsatz auf.\n",
    "\n",
    "Wir werden den Testsatz bei der Endauswertung unserer Modelle verwenden."
   ]
  },
  {
   "cell_type": "code",
   "execution_count": 9,
   "metadata": {
    "execution": {
     "iopub.execute_input": "2020-09-24T01:22:14.726365Z",
     "iopub.status.busy": "2020-09-24T01:22:14.725813Z",
     "iopub.status.idle": "2020-09-24T01:22:14.727513Z",
     "shell.execute_reply": "2020-09-24T01:22:14.727920Z"
    },
    "id": "qn-IGhUE7_1H"
   },
   "outputs": [],
   "source": [
    "train_dataset = dataset.sample(frac=0.8, random_state=0)\n",
    "test_dataset = dataset.drop(train_dataset.index)"
   ]
  },
  {
   "cell_type": "markdown",
   "metadata": {
    "id": "Db7Auq1yXUvh"
   },
   "source": [
    "### Features von Labels trennen\n",
    "\n",
    "Trennen Sie den Zielwert, das \"Label\", von den Features. Dieses Label ist der Wert, auf dessen Vorhersage Sie das Modell trainieren werden."
   ]
  },
  {
   "cell_type": "code",
   "execution_count": 10,
   "metadata": {
    "execution": {
     "iopub.execute_input": "2020-09-24T01:22:19.755887Z",
     "iopub.status.busy": "2020-09-24T01:22:19.755092Z",
     "iopub.status.idle": "2020-09-24T01:22:19.757179Z",
     "shell.execute_reply": "2020-09-24T01:22:19.756619Z"
    },
    "id": "t2sluJdCW7jN"
   },
   "outputs": [],
   "source": [
    "train_features = train_dataset.copy()\n",
    "test_features = test_dataset.copy()\n",
    "\n",
    "train_labels = train_features.pop('MPG')\n",
    "test_labels = test_features.pop('MPG')"
   ]
  },
  {
   "cell_type": "code",
   "execution_count": 11,
   "metadata": {},
   "outputs": [
    {
     "output_type": "stream",
     "name": "stdout",
     "text": [
      "Shape of train data: (314, 9)\nShape of test data: (78, 9)\nShape of train labels: (314,)\nShape of test labels: (78,)\n"
     ]
    }
   ],
   "source": [
    "print(f'Shape of train data: {train_features.shape}')\n",
    "print(f'Shape of test data: {test_features.shape}')\n",
    "print(f'Shape of train labels: {train_labels.shape}')\n",
    "print(f'Shape of test labels: {test_labels.shape}')"
   ]
  },
  {
   "cell_type": "markdown",
   "metadata": {
    "id": "mRklxK5s388r"
   },
   "source": [
    "## Normalisierung\n",
    "\n",
    "In der Statistiktabelle ist leicht zu erkennen, wie unterschiedlich die Bereiche der einzelnen Features sind."
   ]
  },
  {
   "cell_type": "code",
   "execution_count": 12,
   "metadata": {
    "execution": {
     "iopub.execute_input": "2020-09-24T01:22:19.768552Z",
     "iopub.status.busy": "2020-09-24T01:22:19.766697Z",
     "iopub.status.idle": "2020-09-24T01:22:19.791930Z",
     "shell.execute_reply": "2020-09-24T01:22:19.792389Z"
    },
    "id": "IcmY6lKKbkw8"
   },
   "outputs": [
    {
     "output_type": "execute_result",
     "data": {
      "text/plain": [
       "                     mean         std\n",
       "MPG             23.310510    7.728652\n",
       "Cylinders        5.477707    1.699788\n",
       "Displacement   195.318471  104.331589\n",
       "Horsepower     104.869427   38.096214\n",
       "Weight        2990.251592  843.898596\n",
       "Acceleration    15.559236    2.789230\n",
       "Model Year      75.898089    3.675642\n",
       "Europe           0.178344    0.383413\n",
       "Japan            0.197452    0.398712\n",
       "USA              0.624204    0.485101"
      ],
      "text/html": "<div>\n<style scoped>\n    .dataframe tbody tr th:only-of-type {\n        vertical-align: middle;\n    }\n\n    .dataframe tbody tr th {\n        vertical-align: top;\n    }\n\n    .dataframe thead th {\n        text-align: right;\n    }\n</style>\n<table border=\"1\" class=\"dataframe\">\n  <thead>\n    <tr style=\"text-align: right;\">\n      <th></th>\n      <th>mean</th>\n      <th>std</th>\n    </tr>\n  </thead>\n  <tbody>\n    <tr>\n      <th>MPG</th>\n      <td>23.310510</td>\n      <td>7.728652</td>\n    </tr>\n    <tr>\n      <th>Cylinders</th>\n      <td>5.477707</td>\n      <td>1.699788</td>\n    </tr>\n    <tr>\n      <th>Displacement</th>\n      <td>195.318471</td>\n      <td>104.331589</td>\n    </tr>\n    <tr>\n      <th>Horsepower</th>\n      <td>104.869427</td>\n      <td>38.096214</td>\n    </tr>\n    <tr>\n      <th>Weight</th>\n      <td>2990.251592</td>\n      <td>843.898596</td>\n    </tr>\n    <tr>\n      <th>Acceleration</th>\n      <td>15.559236</td>\n      <td>2.789230</td>\n    </tr>\n    <tr>\n      <th>Model Year</th>\n      <td>75.898089</td>\n      <td>3.675642</td>\n    </tr>\n    <tr>\n      <th>Europe</th>\n      <td>0.178344</td>\n      <td>0.383413</td>\n    </tr>\n    <tr>\n      <th>Japan</th>\n      <td>0.197452</td>\n      <td>0.398712</td>\n    </tr>\n    <tr>\n      <th>USA</th>\n      <td>0.624204</td>\n      <td>0.485101</td>\n    </tr>\n  </tbody>\n</table>\n</div>"
     },
     "metadata": {},
     "execution_count": 12
    }
   ],
   "source": [
    "train_dataset.describe().transpose()[['mean', 'std']]"
   ]
  },
  {
   "cell_type": "markdown",
   "metadata": {
    "id": "-ywmerQ6dSox"
   },
   "source": [
    "Es ist eine gute Praxis, Features zu normalisieren, die unterschiedliche Skalierungen und Bereiche verwenden. \n",
    "\n",
    "Dies ist unter anderem deshalb wichtig, weil die Features mit den Gewichten der Modelle multipliziert werden. Die Skala der Ausgänge und die Skala der Gradienten werden also durch die Skala der Eingänge beeinflusst. \n",
    "\n",
    "Obwohl ein Modell ohne Feature-Normalisierung *möglicherweise* konvergiert, macht die Normalisierung das Training viel stabiler. "
   ]
  },
  {
   "cell_type": "markdown",
   "metadata": {
    "id": "aFJ6ISropeoo"
   },
   "source": [
    "### Der Normalization Layer\n",
    "Der Layer `preprocessing.Normalization` ist eine saubere und einfache Möglichkeit, diese Vorverarbeitung in Ihr Modell einzubauen.\n",
    "\n",
    "Der erste Schritt ist die Erstellung des Layers: "
   ]
  },
  {
   "cell_type": "code",
   "execution_count": 13,
   "metadata": {
    "execution": {
     "iopub.execute_input": "2020-09-24T01:22:19.796972Z",
     "iopub.status.busy": "2020-09-24T01:22:19.796314Z",
     "iopub.status.idle": "2020-09-24T01:22:19.805510Z",
     "shell.execute_reply": "2020-09-24T01:22:19.804843Z"
    },
    "id": "JlC5ooJrgjQF"
   },
   "outputs": [],
   "source": [
    "normalizer = preprocessing.Normalization()"
   ]
  },
  {
   "cell_type": "markdown",
   "metadata": {
    "id": "XYA2Ap6nVOha"
   },
   "source": [
    "Nun passen wir es den Daten mit `.adapt()` an:"
   ]
  },
  {
   "cell_type": "code",
   "execution_count": 14,
   "metadata": {
    "execution": {
     "iopub.execute_input": "2020-09-24T01:22:27.716978Z",
     "iopub.status.busy": "2020-09-24T01:22:27.716260Z",
     "iopub.status.idle": "2020-09-24T01:22:28.025993Z",
     "shell.execute_reply": "2020-09-24T01:22:28.025303Z"
    },
    "id": "CrBbbjbwV91f"
   },
   "outputs": [],
   "source": [
    "normalizer.adapt(np.array(train_features))"
   ]
  },
  {
   "cell_type": "markdown",
   "metadata": {
    "id": "oZccMR5yV9YV"
   },
   "source": [
    "Das berechnet für jedes Feature (Spalte) das mean und variance, welches dann im Layer gespeichert wird. "
   ]
  },
  {
   "cell_type": "code",
   "execution_count": 15,
   "metadata": {
    "execution": {
     "iopub.execute_input": "2020-09-24T01:22:28.032119Z",
     "iopub.status.busy": "2020-09-24T01:22:28.031430Z",
     "iopub.status.idle": "2020-09-24T01:22:28.035040Z",
     "shell.execute_reply": "2020-09-24T01:22:28.034549Z"
    },
    "id": "GGn-ukwxSPtx"
   },
   "outputs": [
    {
     "output_type": "stream",
     "name": "stdout",
     "text": [
      "[   5.478  195.318  104.869 2990.252   15.559   75.898    0.178    0.197\n    0.624]\n"
     ]
    }
   ],
   "source": [
    "print(normalizer.mean.numpy())"
   ]
  },
  {
   "cell_type": "code",
   "execution_count": 16,
   "metadata": {
    "execution": {
     "iopub.execute_input": "2020-09-24T01:22:28.042754Z",
     "iopub.status.busy": "2020-09-24T01:22:28.042074Z",
     "iopub.status.idle": "2020-09-24T01:22:28.047614Z",
     "shell.execute_reply": "2020-09-24T01:22:28.047069Z"
    },
    "id": "2l7zFL_XWIRu"
   },
   "outputs": [
    {
     "output_type": "stream",
     "name": "stdout",
     "text": [
      "First example: [[   4.    90.    75.  2125.    14.5   74.     0.     0.     1. ]]\n\nNormalized: [[-0.87 -1.01 -0.79 -1.03 -0.38 -0.52 -0.47 -0.5   0.78]]\n"
     ]
    }
   ],
   "source": [
    "x1 = np.array(train_features.iloc[:1])\n",
    "\n",
    "with np.printoptions(precision=2, suppress=True):\n",
    "  print('First example:', x1)\n",
    "  print()\n",
    "  print('Normalized:', normalizer(x1).numpy())"
   ]
  },
  {
   "cell_type": "markdown",
   "metadata": {
    "id": "6o3CrycBXA2s"
   },
   "source": [
    "## Linear regression"
   ]
  },
  {
   "cell_type": "markdown",
   "metadata": {
    "id": "lFby9n0tnHkw"
   },
   "source": [
    "### Eine Variable\n",
    "\n",
    "\n",
    "Das Training eines Modells mit `tf.keras` beginnt typischerweise mit der Definition der Modellarchitektur.\n",
    "\n",
    "In diesem Fall verwenden Sie ein Sequentielles Modell. Dieses Modell stellt eine Abfolge von Schritten dar. In diesem Fall gibt es zwei Schritte:\n",
    "\n",
    "* Normalisierung der eingegebenen `horsepower`.\n",
    "* Wenden Sie eine lineare Transformation ($y = mx+b$) an, um 1 Ausgabe unter Verwendung von `layers.Dense` zu erzeugen."
   ]
  },
  {
   "cell_type": "markdown",
   "metadata": {
    "id": "Xp3gAFn3TPv8"
   },
   "source": [
    "Zuerst den horsepower `Normalization` layer:"
   ]
  },
  {
   "cell_type": "code",
   "execution_count": 17,
   "metadata": {
    "execution": {
     "iopub.execute_input": "2020-09-24T01:22:28.056201Z",
     "iopub.status.busy": "2020-09-24T01:22:28.055572Z",
     "iopub.status.idle": "2020-09-24T01:22:28.062035Z",
     "shell.execute_reply": "2020-09-24T01:22:28.062668Z"
    },
    "id": "1gJAy0fKs1TS"
   },
   "outputs": [],
   "source": [
    "horsepower = np.array(train_features['Horsepower'])\n",
    "\n",
    "horsepower_normalizer = preprocessing.Normalization(input_shape=[1,])\n",
    "horsepower_normalizer.adapt(horsepower)"
   ]
  },
  {
   "cell_type": "markdown",
   "metadata": {
    "id": "4NVlHJY2TWlC"
   },
   "source": [
    "### Model"
   ]
  },
  {
   "cell_type": "code",
   "execution_count": 18,
   "metadata": {
    "execution": {
     "iopub.execute_input": "2020-09-24T01:22:28.075226Z",
     "iopub.status.busy": "2020-09-24T01:22:28.074585Z",
     "iopub.status.idle": "2020-09-24T01:22:28.099052Z",
     "shell.execute_reply": "2020-09-24T01:22:28.098478Z"
    },
    "id": "c0sXM7qLlKfZ"
   },
   "outputs": [
    {
     "output_type": "stream",
     "name": "stdout",
     "text": [
      "Model: \"sequential\"\n_________________________________________________________________\nLayer (type)                 Output Shape              Param #   \n=================================================================\nnormalization_1 (Normalizati (None, 1)                 3         \n_________________________________________________________________\ndense (Dense)                (None, 1)                 2         \n=================================================================\nTotal params: 5\nTrainable params: 2\nNon-trainable params: 3\n_________________________________________________________________\n"
     ]
    }
   ],
   "source": [
    "horsepower_model = tf.keras.Sequential()\n",
    "horsepower_model.add(horsepower_normalizer)\n",
    "horsepower_model.add(Dense(units=1))\n",
    "\n",
    "horsepower_model.summary()"
   ]
  },
  {
   "cell_type": "markdown",
   "metadata": {
    "id": "eObQu9fDnXGL"
   },
   "source": [
    "Dieses Modell wird `MPG` aus `Horsepower` vorhersagen.\n",
    "\n",
    "Lassen Sie das untrainierte Modell mit den ersten 10 Pferdestärkenwerten laufen. Das Ergebnis wird nicht gut sein, aber Sie werden sehen, dass es die erwartete Form `(10,1)` hat:"
   ]
  },
  {
   "cell_type": "code",
   "execution_count": 19,
   "metadata": {
    "execution": {
     "iopub.execute_input": "2020-09-24T01:22:28.104528Z",
     "iopub.status.busy": "2020-09-24T01:22:28.103842Z",
     "iopub.status.idle": "2020-09-24T01:22:28.494359Z",
     "shell.execute_reply": "2020-09-24T01:22:28.493780Z"
    },
    "id": "UfV1HS6bns-s"
   },
   "outputs": [
    {
     "output_type": "execute_result",
     "data": {
      "text/plain": [
       "array([[ 0.744],\n",
       "       [ 0.42 ],\n",
       "       [-1.373],\n",
       "       [ 1.042],\n",
       "       [ 0.943],\n",
       "       [ 0.37 ],\n",
       "       [ 1.117],\n",
       "       [ 0.943],\n",
       "       [ 0.246],\n",
       "       [ 0.42 ]], dtype=float32)"
      ]
     },
     "metadata": {},
     "execution_count": 19
    }
   ],
   "source": [
    "horsepower_model.predict(horsepower[:10])"
   ]
  },
  {
   "source": [
    "### Model trainieren"
   ],
   "cell_type": "markdown",
   "metadata": {}
  },
  {
   "cell_type": "code",
   "execution_count": 20,
   "metadata": {
    "execution": {
     "iopub.execute_input": "2020-09-24T01:22:28.506986Z",
     "iopub.status.busy": "2020-09-24T01:22:28.506337Z",
     "iopub.status.idle": "2020-09-24T01:22:28.515160Z",
     "shell.execute_reply": "2020-09-24T01:22:28.514658Z"
    },
    "id": "JxA_3lpOm-SK"
   },
   "outputs": [],
   "source": [
    "opt_adam = Adam(learning_rate=0.1)\n",
    "horsepower_model.compile(\n",
    "    optimizer=opt_adam,\n",
    "    loss=mean_absolute_error)"
   ]
  },
  {
   "cell_type": "markdown",
   "metadata": {
    "id": "Z3q1I9TwnRSC"
   },
   "source": [
    "Sobald das Training konfiguriert ist, verwenden Sie Model.fit(), um das Training auszuführen:"
   ]
  },
  {
   "cell_type": "code",
   "execution_count": 21,
   "metadata": {
    "execution": {
     "iopub.execute_input": "2020-09-24T01:22:28.521440Z",
     "iopub.status.busy": "2020-09-24T01:22:28.520771Z",
     "iopub.status.idle": "2020-09-24T01:22:31.497659Z",
     "shell.execute_reply": "2020-09-24T01:22:31.496971Z"
    },
    "id": "-iSrNy59nRAp"
   },
   "outputs": [
    {
     "output_type": "stream",
     "name": "stdout",
     "text": [
      "Epoch 1/100\n",
      "8/8 [==============================] - 0s 13ms/step - loss: 22.8661 - val_loss: 22.9331\n",
      "Epoch 2/100\n",
      "8/8 [==============================] - 0s 2ms/step - loss: 22.0681 - val_loss: 22.1327\n",
      "Epoch 3/100\n",
      "8/8 [==============================] - 0s 2ms/step - loss: 21.2628 - val_loss: 21.3327\n",
      "Epoch 4/100\n",
      "8/8 [==============================] - 0s 2ms/step - loss: 20.4655 - val_loss: 20.5327\n",
      "Epoch 5/100\n",
      "8/8 [==============================] - 0s 2ms/step - loss: 19.6629 - val_loss: 19.7328\n",
      "Epoch 6/100\n",
      "8/8 [==============================] - 0s 2ms/step - loss: 18.8620 - val_loss: 18.9331\n",
      "Epoch 7/100\n",
      "8/8 [==============================] - 0s 2ms/step - loss: 18.0649 - val_loss: 18.1332\n",
      "Epoch 8/100\n",
      "8/8 [==============================] - 0s 2ms/step - loss: 17.2639 - val_loss: 17.3330\n",
      "Epoch 9/100\n",
      "8/8 [==============================] - 0s 2ms/step - loss: 16.4648 - val_loss: 16.5333\n",
      "Epoch 10/100\n",
      "8/8 [==============================] - 0s 2ms/step - loss: 15.6630 - val_loss: 15.7332\n",
      "Epoch 11/100\n",
      "8/8 [==============================] - 0s 2ms/step - loss: 14.8644 - val_loss: 14.9334\n",
      "Epoch 12/100\n",
      "8/8 [==============================] - 0s 2ms/step - loss: 14.0621 - val_loss: 14.1334\n",
      "Epoch 13/100\n",
      "8/8 [==============================] - 0s 2ms/step - loss: 13.2619 - val_loss: 13.3333\n",
      "Epoch 14/100\n",
      "8/8 [==============================] - 0s 2ms/step - loss: 12.4629 - val_loss: 12.5333\n",
      "Epoch 15/100\n",
      "8/8 [==============================] - 0s 2ms/step - loss: 11.6690 - val_loss: 11.7342\n",
      "Epoch 16/100\n",
      "8/8 [==============================] - 0s 2ms/step - loss: 10.8773 - val_loss: 10.9623\n",
      "Epoch 17/100\n",
      "8/8 [==============================] - 0s 2ms/step - loss: 10.1083 - val_loss: 10.1813\n",
      "Epoch 18/100\n",
      "8/8 [==============================] - 0s 2ms/step - loss: 9.3383 - val_loss: 9.4115\n",
      "Epoch 19/100\n",
      "8/8 [==============================] - 0s 2ms/step - loss: 8.5999 - val_loss: 8.6753\n",
      "Epoch 20/100\n",
      "8/8 [==============================] - 0s 2ms/step - loss: 7.9180 - val_loss: 7.9360\n",
      "Epoch 21/100\n",
      "8/8 [==============================] - 0s 2ms/step - loss: 7.2239 - val_loss: 7.2327\n",
      "Epoch 22/100\n",
      "8/8 [==============================] - 0s 2ms/step - loss: 6.5826 - val_loss: 6.6033\n",
      "Epoch 23/100\n",
      "8/8 [==============================] - 0s 2ms/step - loss: 6.0166 - val_loss: 6.0164\n",
      "Epoch 24/100\n",
      "8/8 [==============================] - 0s 2ms/step - loss: 5.4824 - val_loss: 5.5895\n",
      "Epoch 25/100\n",
      "8/8 [==============================] - 0s 2ms/step - loss: 5.0744 - val_loss: 5.2560\n",
      "Epoch 26/100\n",
      "8/8 [==============================] - 0s 2ms/step - loss: 4.7426 - val_loss: 5.0456\n",
      "Epoch 27/100\n",
      "8/8 [==============================] - 0s 2ms/step - loss: 4.5030 - val_loss: 4.8608\n",
      "Epoch 28/100\n",
      "8/8 [==============================] - 0s 2ms/step - loss: 4.2886 - val_loss: 4.6776\n",
      "Epoch 29/100\n",
      "8/8 [==============================] - 0s 2ms/step - loss: 4.1330 - val_loss: 4.5342\n",
      "Epoch 30/100\n",
      "8/8 [==============================] - 0s 2ms/step - loss: 4.0136 - val_loss: 4.4520\n",
      "Epoch 31/100\n",
      "8/8 [==============================] - 0s 2ms/step - loss: 3.9472 - val_loss: 4.3902\n",
      "Epoch 32/100\n",
      "8/8 [==============================] - 0s 2ms/step - loss: 3.8912 - val_loss: 4.3244\n",
      "Epoch 33/100\n",
      "8/8 [==============================] - 0s 2ms/step - loss: 3.8607 - val_loss: 4.2958\n",
      "Epoch 34/100\n",
      "8/8 [==============================] - 0s 2ms/step - loss: 3.8374 - val_loss: 4.2578\n",
      "Epoch 35/100\n",
      "8/8 [==============================] - 0s 2ms/step - loss: 3.8299 - val_loss: 4.2255\n",
      "Epoch 36/100\n",
      "8/8 [==============================] - 0s 2ms/step - loss: 3.8198 - val_loss: 4.2349\n",
      "Epoch 37/100\n",
      "8/8 [==============================] - 0s 2ms/step - loss: 3.8129 - val_loss: 4.2117\n",
      "Epoch 38/100\n",
      "8/8 [==============================] - 0s 2ms/step - loss: 3.8077 - val_loss: 4.1982\n",
      "Epoch 39/100\n",
      "8/8 [==============================] - 0s 2ms/step - loss: 3.8078 - val_loss: 4.2132\n",
      "Epoch 40/100\n",
      "8/8 [==============================] - 0s 2ms/step - loss: 3.8060 - val_loss: 4.1911\n",
      "Epoch 41/100\n",
      "8/8 [==============================] - 0s 2ms/step - loss: 3.8037 - val_loss: 4.2006\n",
      "Epoch 42/100\n",
      "8/8 [==============================] - 0s 2ms/step - loss: 3.8037 - val_loss: 4.2028\n",
      "Epoch 43/100\n",
      "8/8 [==============================] - 0s 2ms/step - loss: 3.8067 - val_loss: 4.1926\n",
      "Epoch 44/100\n",
      "8/8 [==============================] - 0s 2ms/step - loss: 3.8125 - val_loss: 4.2248\n",
      "Epoch 45/100\n",
      "8/8 [==============================] - 0s 2ms/step - loss: 3.8042 - val_loss: 4.2032\n",
      "Epoch 46/100\n",
      "8/8 [==============================] - 0s 2ms/step - loss: 3.8034 - val_loss: 4.1835\n",
      "Epoch 47/100\n",
      "8/8 [==============================] - 0s 2ms/step - loss: 3.8058 - val_loss: 4.1958\n",
      "Epoch 48/100\n",
      "8/8 [==============================] - 0s 2ms/step - loss: 3.8047 - val_loss: 4.1885\n",
      "Epoch 49/100\n",
      "8/8 [==============================] - 0s 2ms/step - loss: 3.8050 - val_loss: 4.1954\n",
      "Epoch 50/100\n",
      "8/8 [==============================] - 0s 2ms/step - loss: 3.8020 - val_loss: 4.1813\n",
      "Epoch 51/100\n",
      "8/8 [==============================] - 0s 2ms/step - loss: 3.8070 - val_loss: 4.1923\n",
      "Epoch 52/100\n",
      "8/8 [==============================] - 0s 2ms/step - loss: 3.8031 - val_loss: 4.1904\n",
      "Epoch 53/100\n",
      "8/8 [==============================] - 0s 2ms/step - loss: 3.8032 - val_loss: 4.1941\n",
      "Epoch 54/100\n",
      "8/8 [==============================] - 0s 2ms/step - loss: 3.8019 - val_loss: 4.1905\n",
      "Epoch 55/100\n",
      "8/8 [==============================] - 0s 2ms/step - loss: 3.8035 - val_loss: 4.1885\n",
      "Epoch 56/100\n",
      "8/8 [==============================] - 0s 2ms/step - loss: 3.8019 - val_loss: 4.1952\n",
      "Epoch 57/100\n",
      "8/8 [==============================] - 0s 2ms/step - loss: 3.8055 - val_loss: 4.2041\n",
      "Epoch 58/100\n",
      "8/8 [==============================] - 0s 2ms/step - loss: 3.8133 - val_loss: 4.1647\n",
      "Epoch 59/100\n",
      "8/8 [==============================] - 0s 2ms/step - loss: 3.8041 - val_loss: 4.1740\n",
      "Epoch 60/100\n",
      "8/8 [==============================] - 0s 2ms/step - loss: 3.8022 - val_loss: 4.1954\n",
      "Epoch 61/100\n",
      "8/8 [==============================] - 0s 2ms/step - loss: 3.8063 - val_loss: 4.2147\n",
      "Epoch 62/100\n",
      "8/8 [==============================] - 0s 2ms/step - loss: 3.8028 - val_loss: 4.1863\n",
      "Epoch 63/100\n",
      "8/8 [==============================] - 0s 2ms/step - loss: 3.8017 - val_loss: 4.1816\n",
      "Epoch 64/100\n",
      "8/8 [==============================] - 0s 2ms/step - loss: 3.8098 - val_loss: 4.1634\n",
      "Epoch 65/100\n",
      "8/8 [==============================] - 0s 2ms/step - loss: 3.8083 - val_loss: 4.1896\n",
      "Epoch 66/100\n",
      "8/8 [==============================] - 0s 2ms/step - loss: 3.8024 - val_loss: 4.1877\n",
      "Epoch 67/100\n",
      "8/8 [==============================] - 0s 2ms/step - loss: 3.8021 - val_loss: 4.1993\n",
      "Epoch 68/100\n",
      "8/8 [==============================] - 0s 2ms/step - loss: 3.8063 - val_loss: 4.1948\n",
      "Epoch 69/100\n",
      "8/8 [==============================] - 0s 2ms/step - loss: 3.8029 - val_loss: 4.1734\n",
      "Epoch 70/100\n",
      "8/8 [==============================] - 0s 2ms/step - loss: 3.8121 - val_loss: 4.1500\n",
      "Epoch 71/100\n",
      "8/8 [==============================] - 0s 2ms/step - loss: 3.8040 - val_loss: 4.1745\n",
      "Epoch 72/100\n",
      "8/8 [==============================] - 0s 2ms/step - loss: 3.8030 - val_loss: 4.1886\n",
      "Epoch 73/100\n",
      "8/8 [==============================] - 0s 2ms/step - loss: 3.8043 - val_loss: 4.2141\n",
      "Epoch 74/100\n",
      "8/8 [==============================] - 0s 2ms/step - loss: 3.8032 - val_loss: 4.1965\n",
      "Epoch 75/100\n",
      "8/8 [==============================] - 0s 2ms/step - loss: 3.8037 - val_loss: 4.1840\n",
      "Epoch 76/100\n",
      "8/8 [==============================] - 0s 2ms/step - loss: 3.8023 - val_loss: 4.1950\n",
      "Epoch 77/100\n",
      "8/8 [==============================] - 0s 2ms/step - loss: 3.8036 - val_loss: 4.1878\n",
      "Epoch 78/100\n",
      "8/8 [==============================] - 0s 2ms/step - loss: 3.8060 - val_loss: 4.1804\n",
      "Epoch 79/100\n",
      "8/8 [==============================] - 0s 2ms/step - loss: 3.8069 - val_loss: 4.2014\n",
      "Epoch 80/100\n",
      "8/8 [==============================] - 0s 2ms/step - loss: 3.8056 - val_loss: 4.1597\n",
      "Epoch 81/100\n",
      "8/8 [==============================] - 0s 2ms/step - loss: 3.8066 - val_loss: 4.1692\n",
      "Epoch 82/100\n",
      "8/8 [==============================] - 0s 2ms/step - loss: 3.8057 - val_loss: 4.1809\n",
      "Epoch 83/100\n",
      "8/8 [==============================] - 0s 2ms/step - loss: 3.8042 - val_loss: 4.1944\n",
      "Epoch 84/100\n",
      "8/8 [==============================] - 0s 2ms/step - loss: 3.8053 - val_loss: 4.1653\n",
      "Epoch 85/100\n",
      "8/8 [==============================] - 0s 2ms/step - loss: 3.8052 - val_loss: 4.1928\n",
      "Epoch 86/100\n",
      "8/8 [==============================] - 0s 2ms/step - loss: 3.8069 - val_loss: 4.1971\n",
      "Epoch 87/100\n",
      "8/8 [==============================] - 0s 2ms/step - loss: 3.8002 - val_loss: 4.1738\n",
      "Epoch 88/100\n",
      "8/8 [==============================] - 0s 2ms/step - loss: 3.8078 - val_loss: 4.1398\n",
      "Epoch 89/100\n",
      "8/8 [==============================] - 0s 2ms/step - loss: 3.8085 - val_loss: 4.1438\n",
      "Epoch 90/100\n",
      "8/8 [==============================] - 0s 2ms/step - loss: 3.8056 - val_loss: 4.1654\n",
      "Epoch 91/100\n",
      "8/8 [==============================] - 0s 2ms/step - loss: 3.8031 - val_loss: 4.1901\n",
      "Epoch 92/100\n",
      "8/8 [==============================] - 0s 2ms/step - loss: 3.8045 - val_loss: 4.1971\n",
      "Epoch 93/100\n",
      "8/8 [==============================] - 0s 2ms/step - loss: 3.8047 - val_loss: 4.1816\n",
      "Epoch 94/100\n",
      "8/8 [==============================] - 0s 2ms/step - loss: 3.8036 - val_loss: 4.1982\n",
      "Epoch 95/100\n",
      "8/8 [==============================] - 0s 2ms/step - loss: 3.8048 - val_loss: 4.2062\n",
      "Epoch 96/100\n",
      "8/8 [==============================] - 0s 2ms/step - loss: 3.8039 - val_loss: 4.1892\n",
      "Epoch 97/100\n",
      "8/8 [==============================] - 0s 2ms/step - loss: 3.8043 - val_loss: 4.1585\n",
      "Epoch 98/100\n",
      "8/8 [==============================] - 0s 2ms/step - loss: 3.8072 - val_loss: 4.1656\n",
      "Epoch 99/100\n",
      "8/8 [==============================] - 0s 2ms/step - loss: 3.8071 - val_loss: 4.1695\n",
      "Epoch 100/100\n",
      "8/8 [==============================] - 0s 2ms/step - loss: 3.8028 - val_loss: 4.1907\n"
     ]
    }
   ],
   "source": [
    "history = horsepower_model.fit(\n",
    "    train_features['Horsepower'], \n",
    "    train_labels,\n",
    "    epochs=100,\n",
    "    validation_split = 0.2)"
   ]
  },
  {
   "source": [
    "### Evaluation - Wie ist das Training verlaufen?"
   ],
   "cell_type": "markdown",
   "metadata": {}
  },
  {
   "cell_type": "code",
   "execution_count": 22,
   "metadata": {
    "execution": {
     "iopub.execute_input": "2020-09-24T01:22:31.515825Z",
     "iopub.status.busy": "2020-09-24T01:22:31.515034Z",
     "iopub.status.idle": "2020-09-24T01:22:31.517020Z",
     "shell.execute_reply": "2020-09-24T01:22:31.517399Z"
    },
    "id": "9E54UoZunqhc"
   },
   "outputs": [],
   "source": [
    "def plot_loss(history):\n",
    "  plt.plot(history.history['loss'], label='loss')\n",
    "  plt.plot(history.history['val_loss'], label='val_loss')\n",
    "  plt.ylim([0, 10])\n",
    "  plt.xlabel('Epoch')\n",
    "  plt.ylabel('Error [MPG]')\n",
    "  plt.legend()\n",
    "  plt.grid(True)"
   ]
  },
  {
   "cell_type": "code",
   "execution_count": 23,
   "metadata": {
    "execution": {
     "iopub.execute_input": "2020-09-24T01:22:31.527487Z",
     "iopub.status.busy": "2020-09-24T01:22:31.526599Z",
     "iopub.status.idle": "2020-09-24T01:22:31.790176Z",
     "shell.execute_reply": "2020-09-24T01:22:31.790709Z"
    },
    "id": "yYsQYrIZyqjz"
   },
   "outputs": [
    {
     "output_type": "display_data",
     "data": {
      "text/plain": "<Figure size 432x288 with 1 Axes>",
      "image/svg+xml": "<?xml version=\"1.0\" encoding=\"utf-8\" standalone=\"no\"?>\r\n<!DOCTYPE svg PUBLIC \"-//W3C//DTD SVG 1.1//EN\"\r\n  \"http://www.w3.org/Graphics/SVG/1.1/DTD/svg11.dtd\">\r\n<!-- Created with matplotlib (https://matplotlib.org/) -->\r\n<svg height=\"265.995469pt\" version=\"1.1\" viewBox=\"0 0 382.603125 265.995469\" width=\"382.603125pt\" xmlns=\"http://www.w3.org/2000/svg\" xmlns:xlink=\"http://www.w3.org/1999/xlink\">\r\n <metadata>\r\n  <rdf:RDF xmlns:cc=\"http://creativecommons.org/ns#\" xmlns:dc=\"http://purl.org/dc/elements/1.1/\" xmlns:rdf=\"http://www.w3.org/1999/02/22-rdf-syntax-ns#\">\r\n   <cc:Work>\r\n    <dc:type rdf:resource=\"http://purl.org/dc/dcmitype/StillImage\"/>\r\n    <dc:date>2020-12-12T18:29:56.801944</dc:date>\r\n    <dc:format>image/svg+xml</dc:format>\r\n    <dc:creator>\r\n     <cc:Agent>\r\n      <dc:title>Matplotlib v3.3.3, https://matplotlib.org/</dc:title>\r\n     </cc:Agent>\r\n    </dc:creator>\r\n   </cc:Work>\r\n  </rdf:RDF>\r\n </metadata>\r\n <defs>\r\n  <style type=\"text/css\">*{stroke-linecap:butt;stroke-linejoin:round;}</style>\r\n </defs>\r\n <g id=\"figure_1\">\r\n  <g id=\"patch_1\">\r\n   <path d=\"M 0 265.995469 \r\nL 382.603125 265.995469 \r\nL 382.603125 0 \r\nL 0 0 \r\nz\r\n\" style=\"fill:none;\"/>\r\n  </g>\r\n  <g id=\"axes_1\">\r\n   <g id=\"patch_2\">\r\n    <path d=\"M 40.603125 228.439219 \r\nL 375.403125 228.439219 \r\nL 375.403125 10.999219 \r\nL 40.603125 10.999219 \r\nz\r\n\" style=\"fill:#ffffff;\"/>\r\n   </g>\r\n   <g id=\"matplotlib.axis_1\">\r\n    <g id=\"xtick_1\">\r\n     <g id=\"line2d_1\">\r\n      <path clip-path=\"url(#p8b328cacfa)\" d=\"M 55.821307 228.439219 \r\nL 55.821307 10.999219 \r\n\" style=\"fill:none;stroke:#b0b0b0;stroke-linecap:square;stroke-width:0.8;\"/>\r\n     </g>\r\n     <g id=\"line2d_2\">\r\n      <defs>\r\n       <path d=\"M 0 0 \r\nL 0 3.5 \r\n\" id=\"md7749d01e1\" style=\"stroke:#000000;stroke-width:0.8;\"/>\r\n      </defs>\r\n      <g>\r\n       <use style=\"stroke:#000000;stroke-width:0.8;\" x=\"55.821307\" xlink:href=\"#md7749d01e1\" y=\"228.439219\"/>\r\n      </g>\r\n     </g>\r\n     <g id=\"text_1\">\r\n      <!-- 0 -->\r\n      <g transform=\"translate(52.640057 243.037656)scale(0.1 -0.1)\">\r\n       <defs>\r\n        <path d=\"M 31.78125 66.40625 \r\nQ 24.171875 66.40625 20.328125 58.90625 \r\nQ 16.5 51.421875 16.5 36.375 \r\nQ 16.5 21.390625 20.328125 13.890625 \r\nQ 24.171875 6.390625 31.78125 6.390625 \r\nQ 39.453125 6.390625 43.28125 13.890625 \r\nQ 47.125 21.390625 47.125 36.375 \r\nQ 47.125 51.421875 43.28125 58.90625 \r\nQ 39.453125 66.40625 31.78125 66.40625 \r\nz\r\nM 31.78125 74.21875 \r\nQ 44.046875 74.21875 50.515625 64.515625 \r\nQ 56.984375 54.828125 56.984375 36.375 \r\nQ 56.984375 17.96875 50.515625 8.265625 \r\nQ 44.046875 -1.421875 31.78125 -1.421875 \r\nQ 19.53125 -1.421875 13.0625 8.265625 \r\nQ 6.59375 17.96875 6.59375 36.375 \r\nQ 6.59375 54.828125 13.0625 64.515625 \r\nQ 19.53125 74.21875 31.78125 74.21875 \r\nz\r\n\" id=\"DejaVuSans-48\"/>\r\n       </defs>\r\n       <use xlink:href=\"#DejaVuSans-48\"/>\r\n      </g>\r\n     </g>\r\n    </g>\r\n    <g id=\"xtick_2\">\r\n     <g id=\"line2d_3\">\r\n      <path clip-path=\"url(#p8b328cacfa)\" d=\"M 117.30891 228.439219 \r\nL 117.30891 10.999219 \r\n\" style=\"fill:none;stroke:#b0b0b0;stroke-linecap:square;stroke-width:0.8;\"/>\r\n     </g>\r\n     <g id=\"line2d_4\">\r\n      <g>\r\n       <use style=\"stroke:#000000;stroke-width:0.8;\" x=\"117.30891\" xlink:href=\"#md7749d01e1\" y=\"228.439219\"/>\r\n      </g>\r\n     </g>\r\n     <g id=\"text_2\">\r\n      <!-- 20 -->\r\n      <g transform=\"translate(110.94641 243.037656)scale(0.1 -0.1)\">\r\n       <defs>\r\n        <path d=\"M 19.1875 8.296875 \r\nL 53.609375 8.296875 \r\nL 53.609375 0 \r\nL 7.328125 0 \r\nL 7.328125 8.296875 \r\nQ 12.9375 14.109375 22.625 23.890625 \r\nQ 32.328125 33.6875 34.8125 36.53125 \r\nQ 39.546875 41.84375 41.421875 45.53125 \r\nQ 43.3125 49.21875 43.3125 52.78125 \r\nQ 43.3125 58.59375 39.234375 62.25 \r\nQ 35.15625 65.921875 28.609375 65.921875 \r\nQ 23.96875 65.921875 18.8125 64.3125 \r\nQ 13.671875 62.703125 7.8125 59.421875 \r\nL 7.8125 69.390625 \r\nQ 13.765625 71.78125 18.9375 73 \r\nQ 24.125 74.21875 28.421875 74.21875 \r\nQ 39.75 74.21875 46.484375 68.546875 \r\nQ 53.21875 62.890625 53.21875 53.421875 \r\nQ 53.21875 48.921875 51.53125 44.890625 \r\nQ 49.859375 40.875 45.40625 35.40625 \r\nQ 44.1875 33.984375 37.640625 27.21875 \r\nQ 31.109375 20.453125 19.1875 8.296875 \r\nz\r\n\" id=\"DejaVuSans-50\"/>\r\n       </defs>\r\n       <use xlink:href=\"#DejaVuSans-50\"/>\r\n       <use x=\"63.623047\" xlink:href=\"#DejaVuSans-48\"/>\r\n      </g>\r\n     </g>\r\n    </g>\r\n    <g id=\"xtick_3\">\r\n     <g id=\"line2d_5\">\r\n      <path clip-path=\"url(#p8b328cacfa)\" d=\"M 178.796513 228.439219 \r\nL 178.796513 10.999219 \r\n\" style=\"fill:none;stroke:#b0b0b0;stroke-linecap:square;stroke-width:0.8;\"/>\r\n     </g>\r\n     <g id=\"line2d_6\">\r\n      <g>\r\n       <use style=\"stroke:#000000;stroke-width:0.8;\" x=\"178.796513\" xlink:href=\"#md7749d01e1\" y=\"228.439219\"/>\r\n      </g>\r\n     </g>\r\n     <g id=\"text_3\">\r\n      <!-- 40 -->\r\n      <g transform=\"translate(172.434013 243.037656)scale(0.1 -0.1)\">\r\n       <defs>\r\n        <path d=\"M 37.796875 64.3125 \r\nL 12.890625 25.390625 \r\nL 37.796875 25.390625 \r\nz\r\nM 35.203125 72.90625 \r\nL 47.609375 72.90625 \r\nL 47.609375 25.390625 \r\nL 58.015625 25.390625 \r\nL 58.015625 17.1875 \r\nL 47.609375 17.1875 \r\nL 47.609375 0 \r\nL 37.796875 0 \r\nL 37.796875 17.1875 \r\nL 4.890625 17.1875 \r\nL 4.890625 26.703125 \r\nz\r\n\" id=\"DejaVuSans-52\"/>\r\n       </defs>\r\n       <use xlink:href=\"#DejaVuSans-52\"/>\r\n       <use x=\"63.623047\" xlink:href=\"#DejaVuSans-48\"/>\r\n      </g>\r\n     </g>\r\n    </g>\r\n    <g id=\"xtick_4\">\r\n     <g id=\"line2d_7\">\r\n      <path clip-path=\"url(#p8b328cacfa)\" d=\"M 240.284117 228.439219 \r\nL 240.284117 10.999219 \r\n\" style=\"fill:none;stroke:#b0b0b0;stroke-linecap:square;stroke-width:0.8;\"/>\r\n     </g>\r\n     <g id=\"line2d_8\">\r\n      <g>\r\n       <use style=\"stroke:#000000;stroke-width:0.8;\" x=\"240.284117\" xlink:href=\"#md7749d01e1\" y=\"228.439219\"/>\r\n      </g>\r\n     </g>\r\n     <g id=\"text_4\">\r\n      <!-- 60 -->\r\n      <g transform=\"translate(233.921617 243.037656)scale(0.1 -0.1)\">\r\n       <defs>\r\n        <path d=\"M 33.015625 40.375 \r\nQ 26.375 40.375 22.484375 35.828125 \r\nQ 18.609375 31.296875 18.609375 23.390625 \r\nQ 18.609375 15.53125 22.484375 10.953125 \r\nQ 26.375 6.390625 33.015625 6.390625 \r\nQ 39.65625 6.390625 43.53125 10.953125 \r\nQ 47.40625 15.53125 47.40625 23.390625 \r\nQ 47.40625 31.296875 43.53125 35.828125 \r\nQ 39.65625 40.375 33.015625 40.375 \r\nz\r\nM 52.59375 71.296875 \r\nL 52.59375 62.3125 \r\nQ 48.875 64.0625 45.09375 64.984375 \r\nQ 41.3125 65.921875 37.59375 65.921875 \r\nQ 27.828125 65.921875 22.671875 59.328125 \r\nQ 17.53125 52.734375 16.796875 39.40625 \r\nQ 19.671875 43.65625 24.015625 45.921875 \r\nQ 28.375 48.1875 33.59375 48.1875 \r\nQ 44.578125 48.1875 50.953125 41.515625 \r\nQ 57.328125 34.859375 57.328125 23.390625 \r\nQ 57.328125 12.15625 50.6875 5.359375 \r\nQ 44.046875 -1.421875 33.015625 -1.421875 \r\nQ 20.359375 -1.421875 13.671875 8.265625 \r\nQ 6.984375 17.96875 6.984375 36.375 \r\nQ 6.984375 53.65625 15.1875 63.9375 \r\nQ 23.390625 74.21875 37.203125 74.21875 \r\nQ 40.921875 74.21875 44.703125 73.484375 \r\nQ 48.484375 72.75 52.59375 71.296875 \r\nz\r\n\" id=\"DejaVuSans-54\"/>\r\n       </defs>\r\n       <use xlink:href=\"#DejaVuSans-54\"/>\r\n       <use x=\"63.623047\" xlink:href=\"#DejaVuSans-48\"/>\r\n      </g>\r\n     </g>\r\n    </g>\r\n    <g id=\"xtick_5\">\r\n     <g id=\"line2d_9\">\r\n      <path clip-path=\"url(#p8b328cacfa)\" d=\"M 301.77172 228.439219 \r\nL 301.77172 10.999219 \r\n\" style=\"fill:none;stroke:#b0b0b0;stroke-linecap:square;stroke-width:0.8;\"/>\r\n     </g>\r\n     <g id=\"line2d_10\">\r\n      <g>\r\n       <use style=\"stroke:#000000;stroke-width:0.8;\" x=\"301.77172\" xlink:href=\"#md7749d01e1\" y=\"228.439219\"/>\r\n      </g>\r\n     </g>\r\n     <g id=\"text_5\">\r\n      <!-- 80 -->\r\n      <g transform=\"translate(295.40922 243.037656)scale(0.1 -0.1)\">\r\n       <defs>\r\n        <path d=\"M 31.78125 34.625 \r\nQ 24.75 34.625 20.71875 30.859375 \r\nQ 16.703125 27.09375 16.703125 20.515625 \r\nQ 16.703125 13.921875 20.71875 10.15625 \r\nQ 24.75 6.390625 31.78125 6.390625 \r\nQ 38.8125 6.390625 42.859375 10.171875 \r\nQ 46.921875 13.96875 46.921875 20.515625 \r\nQ 46.921875 27.09375 42.890625 30.859375 \r\nQ 38.875 34.625 31.78125 34.625 \r\nz\r\nM 21.921875 38.8125 \r\nQ 15.578125 40.375 12.03125 44.71875 \r\nQ 8.5 49.078125 8.5 55.328125 \r\nQ 8.5 64.0625 14.71875 69.140625 \r\nQ 20.953125 74.21875 31.78125 74.21875 \r\nQ 42.671875 74.21875 48.875 69.140625 \r\nQ 55.078125 64.0625 55.078125 55.328125 \r\nQ 55.078125 49.078125 51.53125 44.71875 \r\nQ 48 40.375 41.703125 38.8125 \r\nQ 48.828125 37.15625 52.796875 32.3125 \r\nQ 56.78125 27.484375 56.78125 20.515625 \r\nQ 56.78125 9.90625 50.3125 4.234375 \r\nQ 43.84375 -1.421875 31.78125 -1.421875 \r\nQ 19.734375 -1.421875 13.25 4.234375 \r\nQ 6.78125 9.90625 6.78125 20.515625 \r\nQ 6.78125 27.484375 10.78125 32.3125 \r\nQ 14.796875 37.15625 21.921875 38.8125 \r\nz\r\nM 18.3125 54.390625 \r\nQ 18.3125 48.734375 21.84375 45.5625 \r\nQ 25.390625 42.390625 31.78125 42.390625 \r\nQ 38.140625 42.390625 41.71875 45.5625 \r\nQ 45.3125 48.734375 45.3125 54.390625 \r\nQ 45.3125 60.0625 41.71875 63.234375 \r\nQ 38.140625 66.40625 31.78125 66.40625 \r\nQ 25.390625 66.40625 21.84375 63.234375 \r\nQ 18.3125 60.0625 18.3125 54.390625 \r\nz\r\n\" id=\"DejaVuSans-56\"/>\r\n       </defs>\r\n       <use xlink:href=\"#DejaVuSans-56\"/>\r\n       <use x=\"63.623047\" xlink:href=\"#DejaVuSans-48\"/>\r\n      </g>\r\n     </g>\r\n    </g>\r\n    <g id=\"xtick_6\">\r\n     <g id=\"line2d_11\">\r\n      <path clip-path=\"url(#p8b328cacfa)\" d=\"M 363.259323 228.439219 \r\nL 363.259323 10.999219 \r\n\" style=\"fill:none;stroke:#b0b0b0;stroke-linecap:square;stroke-width:0.8;\"/>\r\n     </g>\r\n     <g id=\"line2d_12\">\r\n      <g>\r\n       <use style=\"stroke:#000000;stroke-width:0.8;\" x=\"363.259323\" xlink:href=\"#md7749d01e1\" y=\"228.439219\"/>\r\n      </g>\r\n     </g>\r\n     <g id=\"text_6\">\r\n      <!-- 100 -->\r\n      <g transform=\"translate(353.715573 243.037656)scale(0.1 -0.1)\">\r\n       <defs>\r\n        <path d=\"M 12.40625 8.296875 \r\nL 28.515625 8.296875 \r\nL 28.515625 63.921875 \r\nL 10.984375 60.40625 \r\nL 10.984375 69.390625 \r\nL 28.421875 72.90625 \r\nL 38.28125 72.90625 \r\nL 38.28125 8.296875 \r\nL 54.390625 8.296875 \r\nL 54.390625 0 \r\nL 12.40625 0 \r\nz\r\n\" id=\"DejaVuSans-49\"/>\r\n       </defs>\r\n       <use xlink:href=\"#DejaVuSans-49\"/>\r\n       <use x=\"63.623047\" xlink:href=\"#DejaVuSans-48\"/>\r\n       <use x=\"127.246094\" xlink:href=\"#DejaVuSans-48\"/>\r\n      </g>\r\n     </g>\r\n    </g>\r\n    <g id=\"text_7\">\r\n     <!-- Epoch -->\r\n     <g transform=\"translate(192.692187 256.715781)scale(0.1 -0.1)\">\r\n      <defs>\r\n       <path d=\"M 9.8125 72.90625 \r\nL 55.90625 72.90625 \r\nL 55.90625 64.59375 \r\nL 19.671875 64.59375 \r\nL 19.671875 43.015625 \r\nL 54.390625 43.015625 \r\nL 54.390625 34.71875 \r\nL 19.671875 34.71875 \r\nL 19.671875 8.296875 \r\nL 56.78125 8.296875 \r\nL 56.78125 0 \r\nL 9.8125 0 \r\nz\r\n\" id=\"DejaVuSans-69\"/>\r\n       <path d=\"M 18.109375 8.203125 \r\nL 18.109375 -20.796875 \r\nL 9.078125 -20.796875 \r\nL 9.078125 54.6875 \r\nL 18.109375 54.6875 \r\nL 18.109375 46.390625 \r\nQ 20.953125 51.265625 25.265625 53.625 \r\nQ 29.59375 56 35.59375 56 \r\nQ 45.5625 56 51.78125 48.09375 \r\nQ 58.015625 40.1875 58.015625 27.296875 \r\nQ 58.015625 14.40625 51.78125 6.484375 \r\nQ 45.5625 -1.421875 35.59375 -1.421875 \r\nQ 29.59375 -1.421875 25.265625 0.953125 \r\nQ 20.953125 3.328125 18.109375 8.203125 \r\nz\r\nM 48.6875 27.296875 \r\nQ 48.6875 37.203125 44.609375 42.84375 \r\nQ 40.53125 48.484375 33.40625 48.484375 \r\nQ 26.265625 48.484375 22.1875 42.84375 \r\nQ 18.109375 37.203125 18.109375 27.296875 \r\nQ 18.109375 17.390625 22.1875 11.75 \r\nQ 26.265625 6.109375 33.40625 6.109375 \r\nQ 40.53125 6.109375 44.609375 11.75 \r\nQ 48.6875 17.390625 48.6875 27.296875 \r\nz\r\n\" id=\"DejaVuSans-112\"/>\r\n       <path d=\"M 30.609375 48.390625 \r\nQ 23.390625 48.390625 19.1875 42.75 \r\nQ 14.984375 37.109375 14.984375 27.296875 \r\nQ 14.984375 17.484375 19.15625 11.84375 \r\nQ 23.34375 6.203125 30.609375 6.203125 \r\nQ 37.796875 6.203125 41.984375 11.859375 \r\nQ 46.1875 17.53125 46.1875 27.296875 \r\nQ 46.1875 37.015625 41.984375 42.703125 \r\nQ 37.796875 48.390625 30.609375 48.390625 \r\nz\r\nM 30.609375 56 \r\nQ 42.328125 56 49.015625 48.375 \r\nQ 55.71875 40.765625 55.71875 27.296875 \r\nQ 55.71875 13.875 49.015625 6.21875 \r\nQ 42.328125 -1.421875 30.609375 -1.421875 \r\nQ 18.84375 -1.421875 12.171875 6.21875 \r\nQ 5.515625 13.875 5.515625 27.296875 \r\nQ 5.515625 40.765625 12.171875 48.375 \r\nQ 18.84375 56 30.609375 56 \r\nz\r\n\" id=\"DejaVuSans-111\"/>\r\n       <path d=\"M 48.78125 52.59375 \r\nL 48.78125 44.1875 \r\nQ 44.96875 46.296875 41.140625 47.34375 \r\nQ 37.3125 48.390625 33.40625 48.390625 \r\nQ 24.65625 48.390625 19.8125 42.84375 \r\nQ 14.984375 37.3125 14.984375 27.296875 \r\nQ 14.984375 17.28125 19.8125 11.734375 \r\nQ 24.65625 6.203125 33.40625 6.203125 \r\nQ 37.3125 6.203125 41.140625 7.25 \r\nQ 44.96875 8.296875 48.78125 10.40625 \r\nL 48.78125 2.09375 \r\nQ 45.015625 0.34375 40.984375 -0.53125 \r\nQ 36.96875 -1.421875 32.421875 -1.421875 \r\nQ 20.0625 -1.421875 12.78125 6.34375 \r\nQ 5.515625 14.109375 5.515625 27.296875 \r\nQ 5.515625 40.671875 12.859375 48.328125 \r\nQ 20.21875 56 33.015625 56 \r\nQ 37.15625 56 41.109375 55.140625 \r\nQ 45.0625 54.296875 48.78125 52.59375 \r\nz\r\n\" id=\"DejaVuSans-99\"/>\r\n       <path d=\"M 54.890625 33.015625 \r\nL 54.890625 0 \r\nL 45.90625 0 \r\nL 45.90625 32.71875 \r\nQ 45.90625 40.484375 42.875 44.328125 \r\nQ 39.84375 48.1875 33.796875 48.1875 \r\nQ 26.515625 48.1875 22.3125 43.546875 \r\nQ 18.109375 38.921875 18.109375 30.90625 \r\nL 18.109375 0 \r\nL 9.078125 0 \r\nL 9.078125 75.984375 \r\nL 18.109375 75.984375 \r\nL 18.109375 46.1875 \r\nQ 21.34375 51.125 25.703125 53.5625 \r\nQ 30.078125 56 35.796875 56 \r\nQ 45.21875 56 50.046875 50.171875 \r\nQ 54.890625 44.34375 54.890625 33.015625 \r\nz\r\n\" id=\"DejaVuSans-104\"/>\r\n      </defs>\r\n      <use xlink:href=\"#DejaVuSans-69\"/>\r\n      <use x=\"63.183594\" xlink:href=\"#DejaVuSans-112\"/>\r\n      <use x=\"126.660156\" xlink:href=\"#DejaVuSans-111\"/>\r\n      <use x=\"187.841797\" xlink:href=\"#DejaVuSans-99\"/>\r\n      <use x=\"242.822266\" xlink:href=\"#DejaVuSans-104\"/>\r\n     </g>\r\n    </g>\r\n   </g>\r\n   <g id=\"matplotlib.axis_2\">\r\n    <g id=\"ytick_1\">\r\n     <g id=\"line2d_13\">\r\n      <path clip-path=\"url(#p8b328cacfa)\" d=\"M 40.603125 228.439219 \r\nL 375.403125 228.439219 \r\n\" style=\"fill:none;stroke:#b0b0b0;stroke-linecap:square;stroke-width:0.8;\"/>\r\n     </g>\r\n     <g id=\"line2d_14\">\r\n      <defs>\r\n       <path d=\"M 0 0 \r\nL -3.5 0 \r\n\" id=\"m431b3f05fd\" style=\"stroke:#000000;stroke-width:0.8;\"/>\r\n      </defs>\r\n      <g>\r\n       <use style=\"stroke:#000000;stroke-width:0.8;\" x=\"40.603125\" xlink:href=\"#m431b3f05fd\" y=\"228.439219\"/>\r\n      </g>\r\n     </g>\r\n     <g id=\"text_8\">\r\n      <!-- 0 -->\r\n      <g transform=\"translate(27.240625 232.238437)scale(0.1 -0.1)\">\r\n       <use xlink:href=\"#DejaVuSans-48\"/>\r\n      </g>\r\n     </g>\r\n    </g>\r\n    <g id=\"ytick_2\">\r\n     <g id=\"line2d_15\">\r\n      <path clip-path=\"url(#p8b328cacfa)\" d=\"M 40.603125 184.951219 \r\nL 375.403125 184.951219 \r\n\" style=\"fill:none;stroke:#b0b0b0;stroke-linecap:square;stroke-width:0.8;\"/>\r\n     </g>\r\n     <g id=\"line2d_16\">\r\n      <g>\r\n       <use style=\"stroke:#000000;stroke-width:0.8;\" x=\"40.603125\" xlink:href=\"#m431b3f05fd\" y=\"184.951219\"/>\r\n      </g>\r\n     </g>\r\n     <g id=\"text_9\">\r\n      <!-- 2 -->\r\n      <g transform=\"translate(27.240625 188.750437)scale(0.1 -0.1)\">\r\n       <use xlink:href=\"#DejaVuSans-50\"/>\r\n      </g>\r\n     </g>\r\n    </g>\r\n    <g id=\"ytick_3\">\r\n     <g id=\"line2d_17\">\r\n      <path clip-path=\"url(#p8b328cacfa)\" d=\"M 40.603125 141.463219 \r\nL 375.403125 141.463219 \r\n\" style=\"fill:none;stroke:#b0b0b0;stroke-linecap:square;stroke-width:0.8;\"/>\r\n     </g>\r\n     <g id=\"line2d_18\">\r\n      <g>\r\n       <use style=\"stroke:#000000;stroke-width:0.8;\" x=\"40.603125\" xlink:href=\"#m431b3f05fd\" y=\"141.463219\"/>\r\n      </g>\r\n     </g>\r\n     <g id=\"text_10\">\r\n      <!-- 4 -->\r\n      <g transform=\"translate(27.240625 145.262437)scale(0.1 -0.1)\">\r\n       <use xlink:href=\"#DejaVuSans-52\"/>\r\n      </g>\r\n     </g>\r\n    </g>\r\n    <g id=\"ytick_4\">\r\n     <g id=\"line2d_19\">\r\n      <path clip-path=\"url(#p8b328cacfa)\" d=\"M 40.603125 97.975219 \r\nL 375.403125 97.975219 \r\n\" style=\"fill:none;stroke:#b0b0b0;stroke-linecap:square;stroke-width:0.8;\"/>\r\n     </g>\r\n     <g id=\"line2d_20\">\r\n      <g>\r\n       <use style=\"stroke:#000000;stroke-width:0.8;\" x=\"40.603125\" xlink:href=\"#m431b3f05fd\" y=\"97.975219\"/>\r\n      </g>\r\n     </g>\r\n     <g id=\"text_11\">\r\n      <!-- 6 -->\r\n      <g transform=\"translate(27.240625 101.774437)scale(0.1 -0.1)\">\r\n       <use xlink:href=\"#DejaVuSans-54\"/>\r\n      </g>\r\n     </g>\r\n    </g>\r\n    <g id=\"ytick_5\">\r\n     <g id=\"line2d_21\">\r\n      <path clip-path=\"url(#p8b328cacfa)\" d=\"M 40.603125 54.487219 \r\nL 375.403125 54.487219 \r\n\" style=\"fill:none;stroke:#b0b0b0;stroke-linecap:square;stroke-width:0.8;\"/>\r\n     </g>\r\n     <g id=\"line2d_22\">\r\n      <g>\r\n       <use style=\"stroke:#000000;stroke-width:0.8;\" x=\"40.603125\" xlink:href=\"#m431b3f05fd\" y=\"54.487219\"/>\r\n      </g>\r\n     </g>\r\n     <g id=\"text_12\">\r\n      <!-- 8 -->\r\n      <g transform=\"translate(27.240625 58.286437)scale(0.1 -0.1)\">\r\n       <use xlink:href=\"#DejaVuSans-56\"/>\r\n      </g>\r\n     </g>\r\n    </g>\r\n    <g id=\"ytick_6\">\r\n     <g id=\"line2d_23\">\r\n      <path clip-path=\"url(#p8b328cacfa)\" d=\"M 40.603125 10.999219 \r\nL 375.403125 10.999219 \r\n\" style=\"fill:none;stroke:#b0b0b0;stroke-linecap:square;stroke-width:0.8;\"/>\r\n     </g>\r\n     <g id=\"line2d_24\">\r\n      <g>\r\n       <use style=\"stroke:#000000;stroke-width:0.8;\" x=\"40.603125\" xlink:href=\"#m431b3f05fd\" y=\"10.999219\"/>\r\n      </g>\r\n     </g>\r\n     <g id=\"text_13\">\r\n      <!-- 10 -->\r\n      <g transform=\"translate(20.878125 14.798437)scale(0.1 -0.1)\">\r\n       <use xlink:href=\"#DejaVuSans-49\"/>\r\n       <use x=\"63.623047\" xlink:href=\"#DejaVuSans-48\"/>\r\n      </g>\r\n     </g>\r\n    </g>\r\n    <g id=\"text_14\">\r\n     <!-- Error [MPG] -->\r\n     <g transform=\"translate(14.798438 148.598125)rotate(-90)scale(0.1 -0.1)\">\r\n      <defs>\r\n       <path d=\"M 41.109375 46.296875 \r\nQ 39.59375 47.171875 37.8125 47.578125 \r\nQ 36.03125 48 33.890625 48 \r\nQ 26.265625 48 22.1875 43.046875 \r\nQ 18.109375 38.09375 18.109375 28.8125 \r\nL 18.109375 0 \r\nL 9.078125 0 \r\nL 9.078125 54.6875 \r\nL 18.109375 54.6875 \r\nL 18.109375 46.1875 \r\nQ 20.953125 51.171875 25.484375 53.578125 \r\nQ 30.03125 56 36.53125 56 \r\nQ 37.453125 56 38.578125 55.875 \r\nQ 39.703125 55.765625 41.0625 55.515625 \r\nz\r\n\" id=\"DejaVuSans-114\"/>\r\n       <path id=\"DejaVuSans-32\"/>\r\n       <path d=\"M 8.59375 75.984375 \r\nL 29.296875 75.984375 \r\nL 29.296875 69 \r\nL 17.578125 69 \r\nL 17.578125 -6.203125 \r\nL 29.296875 -6.203125 \r\nL 29.296875 -13.1875 \r\nL 8.59375 -13.1875 \r\nz\r\n\" id=\"DejaVuSans-91\"/>\r\n       <path d=\"M 9.8125 72.90625 \r\nL 24.515625 72.90625 \r\nL 43.109375 23.296875 \r\nL 61.8125 72.90625 \r\nL 76.515625 72.90625 \r\nL 76.515625 0 \r\nL 66.890625 0 \r\nL 66.890625 64.015625 \r\nL 48.09375 14.015625 \r\nL 38.1875 14.015625 \r\nL 19.390625 64.015625 \r\nL 19.390625 0 \r\nL 9.8125 0 \r\nz\r\n\" id=\"DejaVuSans-77\"/>\r\n       <path d=\"M 19.671875 64.796875 \r\nL 19.671875 37.40625 \r\nL 32.078125 37.40625 \r\nQ 38.96875 37.40625 42.71875 40.96875 \r\nQ 46.484375 44.53125 46.484375 51.125 \r\nQ 46.484375 57.671875 42.71875 61.234375 \r\nQ 38.96875 64.796875 32.078125 64.796875 \r\nz\r\nM 9.8125 72.90625 \r\nL 32.078125 72.90625 \r\nQ 44.34375 72.90625 50.609375 67.359375 \r\nQ 56.890625 61.8125 56.890625 51.125 \r\nQ 56.890625 40.328125 50.609375 34.8125 \r\nQ 44.34375 29.296875 32.078125 29.296875 \r\nL 19.671875 29.296875 \r\nL 19.671875 0 \r\nL 9.8125 0 \r\nz\r\n\" id=\"DejaVuSans-80\"/>\r\n       <path d=\"M 59.515625 10.40625 \r\nL 59.515625 29.984375 \r\nL 43.40625 29.984375 \r\nL 43.40625 38.09375 \r\nL 69.28125 38.09375 \r\nL 69.28125 6.78125 \r\nQ 63.578125 2.734375 56.6875 0.65625 \r\nQ 49.8125 -1.421875 42 -1.421875 \r\nQ 24.90625 -1.421875 15.25 8.5625 \r\nQ 5.609375 18.5625 5.609375 36.375 \r\nQ 5.609375 54.25 15.25 64.234375 \r\nQ 24.90625 74.21875 42 74.21875 \r\nQ 49.125 74.21875 55.546875 72.453125 \r\nQ 61.96875 70.703125 67.390625 67.28125 \r\nL 67.390625 56.78125 \r\nQ 61.921875 61.421875 55.765625 63.765625 \r\nQ 49.609375 66.109375 42.828125 66.109375 \r\nQ 29.4375 66.109375 22.71875 58.640625 \r\nQ 16.015625 51.171875 16.015625 36.375 \r\nQ 16.015625 21.625 22.71875 14.15625 \r\nQ 29.4375 6.6875 42.828125 6.6875 \r\nQ 48.046875 6.6875 52.140625 7.59375 \r\nQ 56.25 8.5 59.515625 10.40625 \r\nz\r\n\" id=\"DejaVuSans-71\"/>\r\n       <path d=\"M 30.421875 75.984375 \r\nL 30.421875 -13.1875 \r\nL 9.71875 -13.1875 \r\nL 9.71875 -6.203125 \r\nL 21.390625 -6.203125 \r\nL 21.390625 69 \r\nL 9.71875 69 \r\nL 9.71875 75.984375 \r\nz\r\n\" id=\"DejaVuSans-93\"/>\r\n      </defs>\r\n      <use xlink:href=\"#DejaVuSans-69\"/>\r\n      <use x=\"63.183594\" xlink:href=\"#DejaVuSans-114\"/>\r\n      <use x=\"102.546875\" xlink:href=\"#DejaVuSans-114\"/>\r\n      <use x=\"141.410156\" xlink:href=\"#DejaVuSans-111\"/>\r\n      <use x=\"202.591797\" xlink:href=\"#DejaVuSans-114\"/>\r\n      <use x=\"243.705078\" xlink:href=\"#DejaVuSans-32\"/>\r\n      <use x=\"275.492188\" xlink:href=\"#DejaVuSans-91\"/>\r\n      <use x=\"314.505859\" xlink:href=\"#DejaVuSans-77\"/>\r\n      <use x=\"400.785156\" xlink:href=\"#DejaVuSans-80\"/>\r\n      <use x=\"461.087891\" xlink:href=\"#DejaVuSans-71\"/>\r\n      <use x=\"538.578125\" xlink:href=\"#DejaVuSans-93\"/>\r\n     </g>\r\n    </g>\r\n   </g>\r\n   <g id=\"line2d_25\">\r\n    <path clip-path=\"url(#p8b328cacfa)\" d=\"M 103.238168 -1 \r\nL 105.011389 8.643572 \r\nL 108.08577 25.387955 \r\nL 111.16015 41.442179 \r\nL 114.23453 56.271311 \r\nL 117.30891 71.362533 \r\nL 120.38329 85.306281 \r\nL 123.45767 97.613706 \r\nL 126.532051 109.230174 \r\nL 129.606431 118.101819 \r\nL 132.680811 125.31626 \r\nL 135.755191 130.526344 \r\nL 138.829571 135.186937 \r\nL 141.903951 138.572316 \r\nL 144.978332 141.166933 \r\nL 148.052712 142.61072 \r\nL 151.127092 143.829996 \r\nL 154.201472 144.491559 \r\nL 157.275852 144.998944 \r\nL 160.350232 145.162655 \r\nL 163.424613 145.380427 \r\nL 166.498993 145.530498 \r\nL 169.573373 145.645115 \r\nL 172.647753 145.643021 \r\nL 175.722133 145.682094 \r\nL 178.796513 145.731639 \r\nL 181.870894 145.732142 \r\nL 184.945274 145.665406 \r\nL 188.019654 145.541064 \r\nL 191.094034 145.720592 \r\nL 194.168414 145.738612 \r\nL 197.242794 145.68662 \r\nL 200.317175 145.709663 \r\nL 203.391555 145.703748 \r\nL 206.465935 145.767462 \r\nL 209.540315 145.659724 \r\nL 212.614695 145.744175 \r\nL 215.689075 145.743127 \r\nL 218.763456 145.770241 \r\nL 221.837836 145.736455 \r\nL 224.912216 145.77178 \r\nL 227.986596 145.691794 \r\nL 231.060976 145.523593 \r\nL 234.135356 145.723251 \r\nL 237.209737 145.763123 \r\nL 240.284117 145.675303 \r\nL 243.358497 145.75039 \r\nL 246.432877 145.775445 \r\nL 249.507257 145.598442 \r\nL 252.581637 145.632243 \r\nL 255.656018 145.760235 \r\nL 258.730398 145.766523 \r\nL 261.804778 145.675111 \r\nL 264.879158 145.749587 \r\nL 267.953538 145.549654 \r\nL 271.027918 145.726092 \r\nL 274.102299 145.746253 \r\nL 277.176679 145.717549 \r\nL 280.251059 145.743433 \r\nL 283.325439 145.730509 \r\nL 286.399819 145.762366 \r\nL 289.474199 145.734693 \r\nL 292.54858 145.682457 \r\nL 295.62296 145.661383 \r\nL 298.69734 145.689673 \r\nL 301.77172 145.668786 \r\nL 304.8461 145.688579 \r\nL 307.92048 145.720006 \r\nL 310.994861 145.69717 \r\nL 314.069241 145.699363 \r\nL 317.143621 145.662353 \r\nL 320.218001 145.808484 \r\nL 323.292381 145.641911 \r\nL 326.366761 145.626945 \r\nL 329.441142 145.689907 \r\nL 332.515522 145.74406 \r\nL 335.589902 145.715216 \r\nL 338.664282 145.709269 \r\nL 341.738662 145.733765 \r\nL 344.813042 145.707564 \r\nL 347.887423 145.727227 \r\nL 350.961803 145.719182 \r\nL 354.036183 145.655541 \r\nL 357.110563 145.658045 \r\nL 360.184943 145.750691 \r\n\" style=\"fill:none;stroke:#1f77b4;stroke-linecap:square;stroke-width:1.5;\"/>\r\n   </g>\r\n   <g id=\"line2d_26\">\r\n    <path clip-path=\"url(#p8b328cacfa)\" d=\"M 103.552732 -1 \r\nL 105.011389 7.057484 \r\nL 108.08577 23.795791 \r\nL 111.16015 39.803773 \r\nL 114.23453 55.878143 \r\nL 117.30891 71.172015 \r\nL 120.38329 84.856346 \r\nL 123.45767 97.61778 \r\nL 126.532051 106.900074 \r\nL 129.606431 114.151831 \r\nL 132.680811 118.72788 \r\nL 135.755191 122.74632 \r\nL 138.829571 126.730523 \r\nL 141.903951 129.847383 \r\nL 144.978332 131.634129 \r\nL 148.052712 132.979702 \r\nL 151.127092 134.409912 \r\nL 154.201472 135.030789 \r\nL 157.275852 135.856597 \r\nL 160.350232 136.55954 \r\nL 163.424613 136.355481 \r\nL 166.498993 136.858988 \r\nL 169.573373 137.152589 \r\nL 172.647753 136.826473 \r\nL 175.722133 137.307979 \r\nL 178.796513 137.101193 \r\nL 181.870894 137.053716 \r\nL 184.945274 137.274334 \r\nL 188.019654 136.574885 \r\nL 191.094034 137.04509 \r\nL 194.168414 137.473002 \r\nL 197.242794 137.205934 \r\nL 200.317175 137.364777 \r\nL 203.391555 137.214135 \r\nL 206.465935 137.521505 \r\nL 209.540315 137.281011 \r\nL 212.614695 137.322267 \r\nL 215.689075 137.243229 \r\nL 218.763456 137.321074 \r\nL 221.837836 137.364476 \r\nL 224.912216 137.218055 \r\nL 227.986596 137.025359 \r\nL 231.060976 137.881608 \r\nL 234.135356 137.679093 \r\nL 237.209737 137.213907 \r\nL 240.284117 136.794953 \r\nL 243.358497 137.41186 \r\nL 246.432877 137.513988 \r\nL 249.507257 137.909976 \r\nL 252.581637 137.339706 \r\nL 255.656018 137.381045 \r\nL 258.730398 137.130712 \r\nL 261.804778 137.228008 \r\nL 264.879158 137.692479 \r\nL 267.953538 138.202114 \r\nL 271.027918 137.669399 \r\nL 274.102299 137.363056 \r\nL 277.176679 136.808007 \r\nL 280.251059 137.18978 \r\nL 283.325439 137.461877 \r\nL 286.399819 137.223581 \r\nL 289.474199 137.37923 \r\nL 292.54858 137.540832 \r\nL 295.62296 137.08309 \r\nL 298.69734 137.990465 \r\nL 301.77172 137.784104 \r\nL 304.8461 137.529012 \r\nL 307.92048 137.236479 \r\nL 310.994861 137.867932 \r\nL 314.069241 137.271991 \r\nL 317.143621 137.176695 \r\nL 320.218001 137.684029 \r\nL 323.292381 138.423126 \r\nL 326.366761 138.335835 \r\nL 329.441142 137.86731 \r\nL 332.515522 137.329981 \r\nL 335.589902 137.178416 \r\nL 338.664282 137.514154 \r\nL 341.738662 137.154393 \r\nL 344.813042 136.980547 \r\nL 347.887423 137.349432 \r\nL 350.961803 138.016521 \r\nL 354.036183 137.86281 \r\nL 357.110563 137.778339 \r\nL 360.184943 137.315776 \r\n\" style=\"fill:none;stroke:#ff7f0e;stroke-linecap:square;stroke-width:1.5;\"/>\r\n   </g>\r\n   <g id=\"patch_3\">\r\n    <path d=\"M 40.603125 228.439219 \r\nL 40.603125 10.999219 \r\n\" style=\"fill:none;stroke:#000000;stroke-linecap:square;stroke-linejoin:miter;stroke-width:0.8;\"/>\r\n   </g>\r\n   <g id=\"patch_4\">\r\n    <path d=\"M 375.403125 228.439219 \r\nL 375.403125 10.999219 \r\n\" style=\"fill:none;stroke:#000000;stroke-linecap:square;stroke-linejoin:miter;stroke-width:0.8;\"/>\r\n   </g>\r\n   <g id=\"patch_5\">\r\n    <path d=\"M 40.603125 228.439219 \r\nL 375.403125 228.439219 \r\n\" style=\"fill:none;stroke:#000000;stroke-linecap:square;stroke-linejoin:miter;stroke-width:0.8;\"/>\r\n   </g>\r\n   <g id=\"patch_6\">\r\n    <path d=\"M 40.603125 10.999219 \r\nL 375.403125 10.999219 \r\n\" style=\"fill:none;stroke:#000000;stroke-linecap:square;stroke-linejoin:miter;stroke-width:0.8;\"/>\r\n   </g>\r\n   <g id=\"legend_1\">\r\n    <g id=\"patch_7\">\r\n     <path d=\"M 297.2625 48.633594 \r\nL 368.403125 48.633594 \r\nQ 370.403125 48.633594 370.403125 46.633594 \r\nL 370.403125 17.999219 \r\nQ 370.403125 15.999219 368.403125 15.999219 \r\nL 297.2625 15.999219 \r\nQ 295.2625 15.999219 295.2625 17.999219 \r\nL 295.2625 46.633594 \r\nQ 295.2625 48.633594 297.2625 48.633594 \r\nz\r\n\" style=\"fill:#ffffff;opacity:0.8;stroke:#cccccc;stroke-linejoin:miter;\"/>\r\n    </g>\r\n    <g id=\"line2d_27\">\r\n     <path d=\"M 299.2625 24.097656 \r\nL 319.2625 24.097656 \r\n\" style=\"fill:none;stroke:#1f77b4;stroke-linecap:square;stroke-width:1.5;\"/>\r\n    </g>\r\n    <g id=\"line2d_28\"/>\r\n    <g id=\"text_15\">\r\n     <!-- loss -->\r\n     <g transform=\"translate(327.2625 27.597656)scale(0.1 -0.1)\">\r\n      <defs>\r\n       <path d=\"M 9.421875 75.984375 \r\nL 18.40625 75.984375 \r\nL 18.40625 0 \r\nL 9.421875 0 \r\nz\r\n\" id=\"DejaVuSans-108\"/>\r\n       <path d=\"M 44.28125 53.078125 \r\nL 44.28125 44.578125 \r\nQ 40.484375 46.53125 36.375 47.5 \r\nQ 32.28125 48.484375 27.875 48.484375 \r\nQ 21.1875 48.484375 17.84375 46.4375 \r\nQ 14.5 44.390625 14.5 40.28125 \r\nQ 14.5 37.15625 16.890625 35.375 \r\nQ 19.28125 33.59375 26.515625 31.984375 \r\nL 29.59375 31.296875 \r\nQ 39.15625 29.25 43.1875 25.515625 \r\nQ 47.21875 21.78125 47.21875 15.09375 \r\nQ 47.21875 7.46875 41.1875 3.015625 \r\nQ 35.15625 -1.421875 24.609375 -1.421875 \r\nQ 20.21875 -1.421875 15.453125 -0.5625 \r\nQ 10.6875 0.296875 5.421875 2 \r\nL 5.421875 11.28125 \r\nQ 10.40625 8.6875 15.234375 7.390625 \r\nQ 20.0625 6.109375 24.8125 6.109375 \r\nQ 31.15625 6.109375 34.5625 8.28125 \r\nQ 37.984375 10.453125 37.984375 14.40625 \r\nQ 37.984375 18.0625 35.515625 20.015625 \r\nQ 33.0625 21.96875 24.703125 23.78125 \r\nL 21.578125 24.515625 \r\nQ 13.234375 26.265625 9.515625 29.90625 \r\nQ 5.8125 33.546875 5.8125 39.890625 \r\nQ 5.8125 47.609375 11.28125 51.796875 \r\nQ 16.75 56 26.8125 56 \r\nQ 31.78125 56 36.171875 55.265625 \r\nQ 40.578125 54.546875 44.28125 53.078125 \r\nz\r\n\" id=\"DejaVuSans-115\"/>\r\n      </defs>\r\n      <use xlink:href=\"#DejaVuSans-108\"/>\r\n      <use x=\"27.783203\" xlink:href=\"#DejaVuSans-111\"/>\r\n      <use x=\"88.964844\" xlink:href=\"#DejaVuSans-115\"/>\r\n      <use x=\"141.064453\" xlink:href=\"#DejaVuSans-115\"/>\r\n     </g>\r\n    </g>\r\n    <g id=\"line2d_29\">\r\n     <path d=\"M 299.2625 38.775781 \r\nL 319.2625 38.775781 \r\n\" style=\"fill:none;stroke:#ff7f0e;stroke-linecap:square;stroke-width:1.5;\"/>\r\n    </g>\r\n    <g id=\"line2d_30\"/>\r\n    <g id=\"text_16\">\r\n     <!-- val_loss -->\r\n     <g transform=\"translate(327.2625 42.275781)scale(0.1 -0.1)\">\r\n      <defs>\r\n       <path d=\"M 2.984375 54.6875 \r\nL 12.5 54.6875 \r\nL 29.59375 8.796875 \r\nL 46.6875 54.6875 \r\nL 56.203125 54.6875 \r\nL 35.6875 0 \r\nL 23.484375 0 \r\nz\r\n\" id=\"DejaVuSans-118\"/>\r\n       <path d=\"M 34.28125 27.484375 \r\nQ 23.390625 27.484375 19.1875 25 \r\nQ 14.984375 22.515625 14.984375 16.5 \r\nQ 14.984375 11.71875 18.140625 8.90625 \r\nQ 21.296875 6.109375 26.703125 6.109375 \r\nQ 34.1875 6.109375 38.703125 11.40625 \r\nQ 43.21875 16.703125 43.21875 25.484375 \r\nL 43.21875 27.484375 \r\nz\r\nM 52.203125 31.203125 \r\nL 52.203125 0 \r\nL 43.21875 0 \r\nL 43.21875 8.296875 \r\nQ 40.140625 3.328125 35.546875 0.953125 \r\nQ 30.953125 -1.421875 24.3125 -1.421875 \r\nQ 15.921875 -1.421875 10.953125 3.296875 \r\nQ 6 8.015625 6 15.921875 \r\nQ 6 25.140625 12.171875 29.828125 \r\nQ 18.359375 34.515625 30.609375 34.515625 \r\nL 43.21875 34.515625 \r\nL 43.21875 35.40625 \r\nQ 43.21875 41.609375 39.140625 45 \r\nQ 35.0625 48.390625 27.6875 48.390625 \r\nQ 23 48.390625 18.546875 47.265625 \r\nQ 14.109375 46.140625 10.015625 43.890625 \r\nL 10.015625 52.203125 \r\nQ 14.9375 54.109375 19.578125 55.046875 \r\nQ 24.21875 56 28.609375 56 \r\nQ 40.484375 56 46.34375 49.84375 \r\nQ 52.203125 43.703125 52.203125 31.203125 \r\nz\r\n\" id=\"DejaVuSans-97\"/>\r\n       <path d=\"M 50.984375 -16.609375 \r\nL 50.984375 -23.578125 \r\nL -0.984375 -23.578125 \r\nL -0.984375 -16.609375 \r\nz\r\n\" id=\"DejaVuSans-95\"/>\r\n      </defs>\r\n      <use xlink:href=\"#DejaVuSans-118\"/>\r\n      <use x=\"59.179688\" xlink:href=\"#DejaVuSans-97\"/>\r\n      <use x=\"120.458984\" xlink:href=\"#DejaVuSans-108\"/>\r\n      <use x=\"148.242188\" xlink:href=\"#DejaVuSans-95\"/>\r\n      <use x=\"198.242188\" xlink:href=\"#DejaVuSans-108\"/>\r\n      <use x=\"226.025391\" xlink:href=\"#DejaVuSans-111\"/>\r\n      <use x=\"287.207031\" xlink:href=\"#DejaVuSans-115\"/>\r\n      <use x=\"339.306641\" xlink:href=\"#DejaVuSans-115\"/>\r\n     </g>\r\n    </g>\r\n   </g>\r\n  </g>\r\n </g>\r\n <defs>\r\n  <clipPath id=\"p8b328cacfa\">\r\n   <rect height=\"217.44\" width=\"334.8\" x=\"40.603125\" y=\"10.999219\"/>\r\n  </clipPath>\r\n </defs>\r\n</svg>\r\n",
      "image/png": "[encoded data removed]"
     },
     "metadata": {
      "needs_background": "light"
     }
    }
   ],
   "source": [
    "plot_loss(history)"
   ]
  },
  {
   "cell_type": "markdown",
   "metadata": {
    "id": "F0qutYAKwoda"
   },
   "source": [
    "Da es sich um eine Regression mit einer einzigen Variable handelt, ist es einfach, die Vorhersagen des Modells als Funktion des Inputs zu betrachten:"
   ]
  },
  {
   "cell_type": "code",
   "execution_count": 24,
   "metadata": {
    "execution": {
     "iopub.execute_input": "2020-09-24T01:22:31.846035Z",
     "iopub.status.busy": "2020-09-24T01:22:31.845152Z",
     "iopub.status.idle": "2020-09-24T01:22:31.907419Z",
     "shell.execute_reply": "2020-09-24T01:22:31.907969Z"
    },
    "id": "xDS2JEtOn9Jn"
   },
   "outputs": [],
   "source": [
    "x = tf.linspace(0.0, 250, 251)\n",
    "y = horsepower_model.predict(x)"
   ]
  },
  {
   "cell_type": "code",
   "execution_count": 25,
   "metadata": {
    "execution": {
     "iopub.execute_input": "2020-09-24T01:22:31.912754Z",
     "iopub.status.busy": "2020-09-24T01:22:31.912110Z",
     "iopub.status.idle": "2020-09-24T01:22:31.913900Z",
     "shell.execute_reply": "2020-09-24T01:22:31.914380Z"
    },
    "id": "rttFCTU8czsI"
   },
   "outputs": [],
   "source": [
    "def plot_horsepower(x, y):\n",
    "  plt.scatter(train_features['Horsepower'], train_labels, label='Data')\n",
    "  plt.plot(x, y, color='k', label='Predictions')\n",
    "  plt.xlabel('Horsepower')\n",
    "  plt.ylabel('MPG')\n",
    "  plt.legend()"
   ]
  },
  {
   "cell_type": "code",
   "execution_count": 26,
   "metadata": {
    "execution": {
     "iopub.execute_input": "2020-09-24T01:22:31.924809Z",
     "iopub.status.busy": "2020-09-24T01:22:31.922118Z",
     "iopub.status.idle": "2020-09-24T01:22:32.062094Z",
     "shell.execute_reply": "2020-09-24T01:22:32.062513Z"
    },
    "id": "7l9ZiAOEUNBL"
   },
   "outputs": [
    {
     "output_type": "display_data",
     "data": {
      "text/plain": "<Figure size 432x288 with 1 Axes>",
      "image/svg+xml": "<?xml version=\"1.0\" encoding=\"utf-8\" standalone=\"no\"?>\r\n<!DOCTYPE svg PUBLIC \"-//W3C//DTD SVG 1.1//EN\"\r\n  \"http://www.w3.org/Graphics/SVG/1.1/DTD/svg11.dtd\">\r\n<!-- Created with matplotlib (https://matplotlib.org/) -->\r\n<svg height=\"262.19625pt\" version=\"1.1\" viewBox=\"0 0 382.603125 262.19625\" width=\"382.603125pt\" xmlns=\"http://www.w3.org/2000/svg\" xmlns:xlink=\"http://www.w3.org/1999/xlink\">\r\n <metadata>\r\n  <rdf:RDF xmlns:cc=\"http://creativecommons.org/ns#\" xmlns:dc=\"http://purl.org/dc/elements/1.1/\" xmlns:rdf=\"http://www.w3.org/1999/02/22-rdf-syntax-ns#\">\r\n   <cc:Work>\r\n    <dc:type rdf:resource=\"http://purl.org/dc/dcmitype/StillImage\"/>\r\n    <dc:date>2020-12-12T18:29:57.244945</dc:date>\r\n    <dc:format>image/svg+xml</dc:format>\r\n    <dc:creator>\r\n     <cc:Agent>\r\n      <dc:title>Matplotlib v3.3.3, https://matplotlib.org/</dc:title>\r\n     </cc:Agent>\r\n    </dc:creator>\r\n   </cc:Work>\r\n  </rdf:RDF>\r\n </metadata>\r\n <defs>\r\n  <style type=\"text/css\">*{stroke-linecap:butt;stroke-linejoin:round;}</style>\r\n </defs>\r\n <g id=\"figure_1\">\r\n  <g id=\"patch_1\">\r\n   <path d=\"M 0 262.19625 \r\nL 382.603125 262.19625 \r\nL 382.603125 0 \r\nL 0 0 \r\nz\r\n\" style=\"fill:none;\"/>\r\n  </g>\r\n  <g id=\"axes_1\">\r\n   <g id=\"patch_2\">\r\n    <path d=\"M 40.603125 224.64 \r\nL 375.403125 224.64 \r\nL 375.403125 7.2 \r\nL 40.603125 7.2 \r\nz\r\n\" style=\"fill:#ffffff;\"/>\r\n   </g>\r\n   <g id=\"PathCollection_1\">\r\n    <defs>\r\n     <path d=\"M 0 3 \r\nC 0.795609 3 1.55874 2.683901 2.12132 2.12132 \r\nC 2.683901 1.55874 3 0.795609 3 0 \r\nC 3 -0.795609 2.683901 -1.55874 2.12132 -2.12132 \r\nC 1.55874 -2.683901 0.795609 -3 0 -3 \r\nC -0.795609 -3 -1.55874 -2.683901 -2.12132 -2.12132 \r\nC -2.683901 -1.55874 -3 -0.795609 -3 0 \r\nC -3 0.795609 -2.683901 1.55874 -2.12132 2.12132 \r\nC -1.55874 2.683901 -0.795609 3 0 3 \r\nz\r\n\" id=\"m3f979a4e7d\" style=\"stroke:#1f77b4;\"/>\r\n    </defs>\r\n    <g clip-path=\"url(#p7609e0a4ac)\">\r\n     <use style=\"fill:#1f77b4;stroke:#1f77b4;\" x=\"147.130398\" xlink:href=\"#m3f979a4e7d\" y=\"93.115302\"/>\r\n     <use style=\"fill:#1f77b4;stroke:#1f77b4;\" x=\"162.957307\" xlink:href=\"#m3f979a4e7d\" y=\"116.415329\"/>\r\n     <use style=\"fill:#1f77b4;stroke:#1f77b4;\" x=\"250.614034\" xlink:href=\"#m3f979a4e7d\" y=\"158.518886\"/>\r\n     <use style=\"fill:#1f77b4;stroke:#1f77b4;\" x=\"132.520943\" xlink:href=\"#m3f979a4e7d\" y=\"52.238063\"/>\r\n     <use style=\"fill:#1f77b4;stroke:#1f77b4;\" x=\"137.390761\" xlink:href=\"#m3f979a4e7d\" y=\"69.406503\"/>\r\n     <use style=\"fill:#1f77b4;stroke:#1f77b4;\" x=\"165.392216\" xlink:href=\"#m3f979a4e7d\" y=\"128.269729\"/>\r\n     <use style=\"fill:#1f77b4;stroke:#1f77b4;\" x=\"128.86858\" xlink:href=\"#m3f979a4e7d\" y=\"51.82929\"/>\r\n     <use style=\"fill:#1f77b4;stroke:#1f77b4;\" x=\"137.390761\" xlink:href=\"#m3f979a4e7d\" y=\"84.939855\"/>\r\n     <use style=\"fill:#1f77b4;stroke:#1f77b4;\" x=\"171.479489\" xlink:href=\"#m3f979a4e7d\" y=\"125.817094\"/>\r\n     <use style=\"fill:#1f77b4;stroke:#1f77b4;\" x=\"162.957307\" xlink:href=\"#m3f979a4e7d\" y=\"125.817094\"/>\r\n     <use style=\"fill:#1f77b4;stroke:#1f77b4;\" x=\"128.86858\" xlink:href=\"#m3f979a4e7d\" y=\"97.203026\"/>\r\n     <use style=\"fill:#1f77b4;stroke:#1f77b4;\" x=\"274.963125\" xlink:href=\"#m3f979a4e7d\" y=\"140.124128\"/>\r\n     <use style=\"fill:#1f77b4;stroke:#1f77b4;\" x=\"162.957307\" xlink:href=\"#m3f979a4e7d\" y=\"107.422336\"/>\r\n     <use style=\"fill:#1f77b4;stroke:#1f77b4;\" x=\"238.439489\" xlink:href=\"#m3f979a4e7d\" y=\"162.60661\"/>\r\n     <use style=\"fill:#1f77b4;stroke:#1f77b4;\" x=\"244.526761\" xlink:href=\"#m3f979a4e7d\" y=\"138.489039\"/>\r\n     <use style=\"fill:#1f77b4;stroke:#1f77b4;\" x=\"147.130398\" xlink:href=\"#m3f979a4e7d\" y=\"69.815276\"/>\r\n     <use style=\"fill:#1f77b4;stroke:#1f77b4;\" x=\"195.82858\" xlink:href=\"#m3f979a4e7d\" y=\"119.276736\"/>\r\n     <use style=\"fill:#1f77b4;stroke:#1f77b4;\" x=\"238.439489\" xlink:href=\"#m3f979a4e7d\" y=\"150.343438\"/>\r\n     <use style=\"fill:#1f77b4;stroke:#1f77b4;\" x=\"165.392216\" xlink:href=\"#m3f979a4e7d\" y=\"101.29075\"/>\r\n     <use style=\"fill:#1f77b4;stroke:#1f77b4;\" x=\"165.392216\" xlink:href=\"#m3f979a4e7d\" y=\"91.480213\"/>\r\n     <use style=\"fill:#1f77b4;stroke:#1f77b4;\" x=\"212.872943\" xlink:href=\"#m3f979a4e7d\" y=\"154.431162\"/>\r\n     <use style=\"fill:#1f77b4;stroke:#1f77b4;\" x=\"189.741307\" xlink:href=\"#m3f979a4e7d\" y=\"142.16799\"/>\r\n     <use style=\"fill:#1f77b4;stroke:#1f77b4;\" x=\"165.392216\" xlink:href=\"#m3f979a4e7d\" y=\"125.817094\"/>\r\n     <use style=\"fill:#1f77b4;stroke:#1f77b4;\" x=\"189.741307\" xlink:href=\"#m3f979a4e7d\" y=\"105.378474\"/>\r\n     <use style=\"fill:#1f77b4;stroke:#1f77b4;\" x=\"148.347852\" xlink:href=\"#m3f979a4e7d\" y=\"37.931029\"/>\r\n     <use style=\"fill:#1f77b4;stroke:#1f77b4;\" x=\"256.701307\" xlink:href=\"#m3f979a4e7d\" y=\"150.343438\"/>\r\n     <use style=\"fill:#1f77b4;stroke:#1f77b4;\" x=\"167.827125\" xlink:href=\"#m3f979a4e7d\" y=\"102.108295\"/>\r\n     <use style=\"fill:#1f77b4;stroke:#1f77b4;\" x=\"162.957307\" xlink:href=\"#m3f979a4e7d\" y=\"104.969702\"/>\r\n     <use style=\"fill:#1f77b4;stroke:#1f77b4;\" x=\"177.566761\" xlink:href=\"#m3f979a4e7d\" y=\"125.817094\"/>\r\n     <use style=\"fill:#1f77b4;stroke:#1f77b4;\" x=\"238.439489\" xlink:href=\"#m3f979a4e7d\" y=\"138.080266\"/>\r\n     <use style=\"fill:#1f77b4;stroke:#1f77b4;\" x=\"204.350761\" xlink:href=\"#m3f979a4e7d\" y=\"125.817094\"/>\r\n     <use style=\"fill:#1f77b4;stroke:#1f77b4;\" x=\"145.912943\" xlink:href=\"#m3f979a4e7d\" y=\"78.399496\"/>\r\n     <use style=\"fill:#1f77b4;stroke:#1f77b4;\" x=\"148.347852\" xlink:href=\"#m3f979a4e7d\" y=\"117.641646\"/>\r\n     <use style=\"fill:#1f77b4;stroke:#1f77b4;\" x=\"137.390761\" xlink:href=\"#m3f979a4e7d\" y=\"101.29075\"/>\r\n     <use style=\"fill:#1f77b4;stroke:#1f77b4;\" x=\"189.741307\" xlink:href=\"#m3f979a4e7d\" y=\"121.72937\"/>\r\n     <use style=\"fill:#1f77b4;stroke:#1f77b4;\" x=\"165.392216\" xlink:href=\"#m3f979a4e7d\" y=\"85.757399\"/>\r\n     <use style=\"fill:#1f77b4;stroke:#1f77b4;\" x=\"134.955852\" xlink:href=\"#m3f979a4e7d\" y=\"80.852131\"/>\r\n     <use style=\"fill:#1f77b4;stroke:#1f77b4;\" x=\"238.439489\" xlink:href=\"#m3f979a4e7d\" y=\"154.431162\"/>\r\n     <use style=\"fill:#1f77b4;stroke:#1f77b4;\" x=\"238.439489\" xlink:href=\"#m3f979a4e7d\" y=\"142.16799\"/>\r\n     <use style=\"fill:#1f77b4;stroke:#1f77b4;\" x=\"323.661307\" xlink:href=\"#m3f979a4e7d\" y=\"150.343438\"/>\r\n     <use style=\"fill:#1f77b4;stroke:#1f77b4;\" x=\"256.701307\" xlink:href=\"#m3f979a4e7d\" y=\"146.255714\"/>\r\n     <use style=\"fill:#1f77b4;stroke:#1f77b4;\" x=\"137.390761\" xlink:href=\"#m3f979a4e7d\" y=\"25.259084\"/>\r\n     <use style=\"fill:#1f77b4;stroke:#1f77b4;\" x=\"147.130398\" xlink:href=\"#m3f979a4e7d\" y=\"79.625813\"/>\r\n     <use style=\"fill:#1f77b4;stroke:#1f77b4;\" x=\"226.264943\" xlink:href=\"#m3f979a4e7d\" y=\"142.16799\"/>\r\n     <use style=\"fill:#1f77b4;stroke:#1f77b4;\" x=\"150.782761\" xlink:href=\"#m3f979a4e7d\" y=\"89.027578\"/>\r\n     <use style=\"fill:#1f77b4;stroke:#1f77b4;\" x=\"237.222034\" xlink:href=\"#m3f979a4e7d\" y=\"142.16799\"/>\r\n     <use style=\"fill:#1f77b4;stroke:#1f77b4;\" x=\"158.087489\" xlink:href=\"#m3f979a4e7d\" y=\"89.027578\"/>\r\n     <use style=\"fill:#1f77b4;stroke:#1f77b4;\" x=\"238.439489\" xlink:href=\"#m3f979a4e7d\" y=\"154.431162\"/>\r\n     <use style=\"fill:#1f77b4;stroke:#1f77b4;\" x=\"232.352216\" xlink:href=\"#m3f979a4e7d\" y=\"136.036404\"/>\r\n     <use style=\"fill:#1f77b4;stroke:#1f77b4;\" x=\"177.566761\" xlink:href=\"#m3f979a4e7d\" y=\"133.992542\"/>\r\n     <use style=\"fill:#1f77b4;stroke:#1f77b4;\" x=\"147.130398\" xlink:href=\"#m3f979a4e7d\" y=\"101.29075\"/>\r\n     <use style=\"fill:#1f77b4;stroke:#1f77b4;\" x=\"262.78858\" xlink:href=\"#m3f979a4e7d\" y=\"146.255714\"/>\r\n     <use style=\"fill:#1f77b4;stroke:#1f77b4;\" x=\"299.312216\" xlink:href=\"#m3f979a4e7d\" y=\"166.694334\"/>\r\n     <use style=\"fill:#1f77b4;stroke:#1f77b4;\" x=\"143.478034\" xlink:href=\"#m3f979a4e7d\" y=\"117.641646\"/>\r\n     <use style=\"fill:#1f77b4;stroke:#1f77b4;\" x=\"150.782761\" xlink:href=\"#m3f979a4e7d\" y=\"67.362641\"/>\r\n     <use style=\"fill:#1f77b4;stroke:#1f77b4;\" x=\"148.347852\" xlink:href=\"#m3f979a4e7d\" y=\"82.078448\"/>\r\n     <use style=\"fill:#1f77b4;stroke:#1f77b4;\" x=\"162.957307\" xlink:href=\"#m3f979a4e7d\" y=\"124.99955\"/>\r\n     <use style=\"fill:#1f77b4;stroke:#1f77b4;\" x=\"183.654034\" xlink:href=\"#m3f979a4e7d\" y=\"117.641646\"/>\r\n     <use style=\"fill:#1f77b4;stroke:#1f77b4;\" x=\"120.346398\" xlink:href=\"#m3f979a4e7d\" y=\"72.676683\"/>\r\n     <use style=\"fill:#1f77b4;stroke:#1f77b4;\" x=\"160.522398\" xlink:href=\"#m3f979a4e7d\" y=\"121.72937\"/>\r\n     <use style=\"fill:#1f77b4;stroke:#1f77b4;\" x=\"171.479489\" xlink:href=\"#m3f979a4e7d\" y=\"117.641646\"/>\r\n     <use style=\"fill:#1f77b4;stroke:#1f77b4;\" x=\"147.130398\" xlink:href=\"#m3f979a4e7d\" y=\"109.466198\"/>\r\n     <use style=\"fill:#1f77b4;stroke:#1f77b4;\" x=\"142.26058\" xlink:href=\"#m3f979a4e7d\" y=\"78.808269\"/>\r\n     <use style=\"fill:#1f77b4;stroke:#1f77b4;\" x=\"296.877307\" xlink:href=\"#m3f979a4e7d\" y=\"146.255714\"/>\r\n     <use style=\"fill:#1f77b4;stroke:#1f77b4;\" x=\"139.82567\" xlink:href=\"#m3f979a4e7d\" y=\"101.29075\"/>\r\n     <use style=\"fill:#1f77b4;stroke:#1f77b4;\" x=\"183.654034\" xlink:href=\"#m3f979a4e7d\" y=\"142.16799\"/>\r\n     <use style=\"fill:#1f77b4;stroke:#1f77b4;\" x=\"317.574034\" xlink:href=\"#m3f979a4e7d\" y=\"150.343438\"/>\r\n     <use style=\"fill:#1f77b4;stroke:#1f77b4;\" x=\"162.957307\" xlink:href=\"#m3f979a4e7d\" y=\"97.203026\"/>\r\n     <use style=\"fill:#1f77b4;stroke:#1f77b4;\" x=\"161.739852\" xlink:href=\"#m3f979a4e7d\" y=\"105.378474\"/>\r\n     <use style=\"fill:#1f77b4;stroke:#1f77b4;\" x=\"134.955852\" xlink:href=\"#m3f979a4e7d\" y=\"40.792435\"/>\r\n     <use style=\"fill:#1f77b4;stroke:#1f77b4;\" x=\"128.86858\" xlink:href=\"#m3f979a4e7d\" y=\"60.004738\"/>\r\n     <use style=\"fill:#1f77b4;stroke:#1f77b4;\" x=\"138.608216\" xlink:href=\"#m3f979a4e7d\" y=\"84.939855\"/>\r\n     <use style=\"fill:#1f77b4;stroke:#1f77b4;\" x=\"212.872943\" xlink:href=\"#m3f979a4e7d\" y=\"135.627632\"/>\r\n     <use style=\"fill:#1f77b4;stroke:#1f77b4;\" x=\"232.352216\" xlink:href=\"#m3f979a4e7d\" y=\"144.211852\"/>\r\n     <use style=\"fill:#1f77b4;stroke:#1f77b4;\" x=\"171.479489\" xlink:href=\"#m3f979a4e7d\" y=\"113.553922\"/>\r\n     <use style=\"fill:#1f77b4;stroke:#1f77b4;\" x=\"242.091852\" xlink:href=\"#m3f979a4e7d\" y=\"150.343438\"/>\r\n     <use style=\"fill:#1f77b4;stroke:#1f77b4;\" x=\"141.043125\" xlink:href=\"#m3f979a4e7d\" y=\"101.29075\"/>\r\n     <use style=\"fill:#1f77b4;stroke:#1f77b4;\" x=\"232.352216\" xlink:href=\"#m3f979a4e7d\" y=\"129.087274\"/>\r\n     <use style=\"fill:#1f77b4;stroke:#1f77b4;\" x=\"138.608216\" xlink:href=\"#m3f979a4e7d\" y=\"78.808269\"/>\r\n     <use style=\"fill:#1f77b4;stroke:#1f77b4;\" x=\"141.043125\" xlink:href=\"#m3f979a4e7d\" y=\"70.632821\"/>\r\n     <use style=\"fill:#1f77b4;stroke:#1f77b4;\" x=\"177.566761\" xlink:href=\"#m3f979a4e7d\" y=\"123.773232\"/>\r\n     <use style=\"fill:#1f77b4;stroke:#1f77b4;\" x=\"141.043125\" xlink:href=\"#m3f979a4e7d\" y=\"67.771414\"/>\r\n     <use style=\"fill:#1f77b4;stroke:#1f77b4;\" x=\"154.435125\" xlink:href=\"#m3f979a4e7d\" y=\"109.466198\"/>\r\n     <use style=\"fill:#1f77b4;stroke:#1f77b4;\" x=\"171.479489\" xlink:href=\"#m3f979a4e7d\" y=\"109.466198\"/>\r\n     <use style=\"fill:#1f77b4;stroke:#1f77b4;\" x=\"329.74858\" xlink:href=\"#m3f979a4e7d\" y=\"150.343438\"/>\r\n     <use style=\"fill:#1f77b4;stroke:#1f77b4;\" x=\"165.392216\" xlink:href=\"#m3f979a4e7d\" y=\"109.874971\"/>\r\n     <use style=\"fill:#1f77b4;stroke:#1f77b4;\" x=\"173.914398\" xlink:href=\"#m3f979a4e7d\" y=\"109.466198\"/>\r\n     <use style=\"fill:#1f77b4;stroke:#1f77b4;\" x=\"177.566761\" xlink:href=\"#m3f979a4e7d\" y=\"73.085455\"/>\r\n     <use style=\"fill:#1f77b4;stroke:#1f77b4;\" x=\"134.955852\" xlink:href=\"#m3f979a4e7d\" y=\"77.581951\"/>\r\n     <use style=\"fill:#1f77b4;stroke:#1f77b4;\" x=\"189.741307\" xlink:href=\"#m3f979a4e7d\" y=\"119.685508\"/>\r\n     <use style=\"fill:#1f77b4;stroke:#1f77b4;\" x=\"164.174761\" xlink:href=\"#m3f979a4e7d\" y=\"103.334612\"/>\r\n     <use style=\"fill:#1f77b4;stroke:#1f77b4;\" x=\"238.439489\" xlink:href=\"#m3f979a4e7d\" y=\"146.255714\"/>\r\n     <use style=\"fill:#1f77b4;stroke:#1f77b4;\" x=\"189.741307\" xlink:href=\"#m3f979a4e7d\" y=\"119.685508\"/>\r\n     <use style=\"fill:#1f77b4;stroke:#1f77b4;\" x=\"171.479489\" xlink:href=\"#m3f979a4e7d\" y=\"129.904818\"/>\r\n     <use style=\"fill:#1f77b4;stroke:#1f77b4;\" x=\"159.304943\" xlink:href=\"#m3f979a4e7d\" y=\"52.238063\"/>\r\n     <use style=\"fill:#1f77b4;stroke:#1f77b4;\" x=\"173.914398\" xlink:href=\"#m3f979a4e7d\" y=\"113.553922\"/>\r\n     <use style=\"fill:#1f77b4;stroke:#1f77b4;\" x=\"128.86858\" xlink:href=\"#m3f979a4e7d\" y=\"64.092462\"/>\r\n     <use style=\"fill:#1f77b4;stroke:#1f77b4;\" x=\"162.957307\" xlink:href=\"#m3f979a4e7d\" y=\"113.553922\"/>\r\n     <use style=\"fill:#1f77b4;stroke:#1f77b4;\" x=\"119.128943\" xlink:href=\"#m3f979a4e7d\" y=\"80.852131\"/>\r\n     <use style=\"fill:#1f77b4;stroke:#1f77b4;\" x=\"141.043125\" xlink:href=\"#m3f979a4e7d\" y=\"46.515249\"/>\r\n     <use style=\"fill:#1f77b4;stroke:#1f77b4;\" x=\"296.877307\" xlink:href=\"#m3f979a4e7d\" y=\"158.518886\"/>\r\n     <use style=\"fill:#1f77b4;stroke:#1f77b4;\" x=\"142.26058\" xlink:href=\"#m3f979a4e7d\" y=\"105.378474\"/>\r\n     <use style=\"fill:#1f77b4;stroke:#1f77b4;\" x=\"165.392216\" xlink:href=\"#m3f979a4e7d\" y=\"109.466198\"/>\r\n     <use style=\"fill:#1f77b4;stroke:#1f77b4;\" x=\"143.478034\" xlink:href=\"#m3f979a4e7d\" y=\"99.246888\"/>\r\n     <use style=\"fill:#1f77b4;stroke:#1f77b4;\" x=\"132.520943\" xlink:href=\"#m3f979a4e7d\" y=\"65.727552\"/>\r\n     <use style=\"fill:#1f77b4;stroke:#1f77b4;\" x=\"195.82858\" xlink:href=\"#m3f979a4e7d\" y=\"89.845123\"/>\r\n     <use style=\"fill:#1f77b4;stroke:#1f77b4;\" x=\"165.392216\" xlink:href=\"#m3f979a4e7d\" y=\"93.115302\"/>\r\n     <use style=\"fill:#1f77b4;stroke:#1f77b4;\" x=\"220.17767\" xlink:href=\"#m3f979a4e7d\" y=\"133.174998\"/>\r\n     <use style=\"fill:#1f77b4;stroke:#1f77b4;\" x=\"119.128943\" xlink:href=\"#m3f979a4e7d\" y=\"27.711719\"/>\r\n     <use style=\"fill:#1f77b4;stroke:#1f77b4;\" x=\"238.439489\" xlink:href=\"#m3f979a4e7d\" y=\"150.343438\"/>\r\n     <use style=\"fill:#1f77b4;stroke:#1f77b4;\" x=\"262.78858\" xlink:href=\"#m3f979a4e7d\" y=\"144.211852\"/>\r\n     <use style=\"fill:#1f77b4;stroke:#1f77b4;\" x=\"126.43367\" xlink:href=\"#m3f979a4e7d\" y=\"60.413511\"/>\r\n     <use style=\"fill:#1f77b4;stroke:#1f77b4;\" x=\"172.696943\" xlink:href=\"#m3f979a4e7d\" y=\"103.334612\"/>\r\n     <use style=\"fill:#1f77b4;stroke:#1f77b4;\" x=\"208.003125\" xlink:href=\"#m3f979a4e7d\" y=\"129.087274\"/>\r\n     <use style=\"fill:#1f77b4;stroke:#1f77b4;\" x=\"167.827125\" xlink:href=\"#m3f979a4e7d\" y=\"101.29075\"/>\r\n     <use style=\"fill:#1f77b4;stroke:#1f77b4;\" x=\"171.479489\" xlink:href=\"#m3f979a4e7d\" y=\"105.378474\"/>\r\n     <use style=\"fill:#1f77b4;stroke:#1f77b4;\" x=\"165.392216\" xlink:href=\"#m3f979a4e7d\" y=\"97.203026\"/>\r\n     <use style=\"fill:#1f77b4;stroke:#1f77b4;\" x=\"171.479489\" xlink:href=\"#m3f979a4e7d\" y=\"136.036404\"/>\r\n     <use style=\"fill:#1f77b4;stroke:#1f77b4;\" x=\"155.65258\" xlink:href=\"#m3f979a4e7d\" y=\"80.852131\"/>\r\n     <use style=\"fill:#1f77b4;stroke:#1f77b4;\" x=\"189.741307\" xlink:href=\"#m3f979a4e7d\" y=\"138.080266\"/>\r\n     <use style=\"fill:#1f77b4;stroke:#1f77b4;\" x=\"150.782761\" xlink:href=\"#m3f979a4e7d\" y=\"101.29075\"/>\r\n     <use style=\"fill:#1f77b4;stroke:#1f77b4;\" x=\"137.390761\" xlink:href=\"#m3f979a4e7d\" y=\"75.538089\"/>\r\n     <use style=\"fill:#1f77b4;stroke:#1f77b4;\" x=\"309.051852\" xlink:href=\"#m3f979a4e7d\" y=\"162.60661\"/>\r\n     <use style=\"fill:#1f77b4;stroke:#1f77b4;\" x=\"183.654034\" xlink:href=\"#m3f979a4e7d\" y=\"123.773232\"/>\r\n     <use style=\"fill:#1f77b4;stroke:#1f77b4;\" x=\"214.090398\" xlink:href=\"#m3f979a4e7d\" y=\"154.431162\"/>\r\n     <use style=\"fill:#1f77b4;stroke:#1f77b4;\" x=\"238.439489\" xlink:href=\"#m3f979a4e7d\" y=\"146.255714\"/>\r\n     <use style=\"fill:#1f77b4;stroke:#1f77b4;\" x=\"111.824216\" xlink:href=\"#m3f979a4e7d\" y=\"101.29075\"/>\r\n     <use style=\"fill:#1f77b4;stroke:#1f77b4;\" x=\"165.392216\" xlink:href=\"#m3f979a4e7d\" y=\"70.632821\"/>\r\n     <use style=\"fill:#1f77b4;stroke:#1f77b4;\" x=\"133.738398\" xlink:href=\"#m3f979a4e7d\" y=\"48.150339\"/>\r\n     <use style=\"fill:#1f77b4;stroke:#1f77b4;\" x=\"147.130398\" xlink:href=\"#m3f979a4e7d\" y=\"75.946862\"/>\r\n     <use style=\"fill:#1f77b4;stroke:#1f77b4;\" x=\"159.304943\" xlink:href=\"#m3f979a4e7d\" y=\"121.72937\"/>\r\n     <use style=\"fill:#1f77b4;stroke:#1f77b4;\" x=\"143.478034\" xlink:href=\"#m3f979a4e7d\" y=\"146.255714\"/>\r\n     <use style=\"fill:#1f77b4;stroke:#1f77b4;\" x=\"171.479489\" xlink:href=\"#m3f979a4e7d\" y=\"113.553922\"/>\r\n     <use style=\"fill:#1f77b4;stroke:#1f77b4;\" x=\"165.392216\" xlink:href=\"#m3f979a4e7d\" y=\"93.115302\"/>\r\n     <use style=\"fill:#1f77b4;stroke:#1f77b4;\" x=\"232.352216\" xlink:href=\"#m3f979a4e7d\" y=\"146.255714\"/>\r\n     <use style=\"fill:#1f77b4;stroke:#1f77b4;\" x=\"162.957307\" xlink:href=\"#m3f979a4e7d\" y=\"99.655661\"/>\r\n     <use style=\"fill:#1f77b4;stroke:#1f77b4;\" x=\"259.136216\" xlink:href=\"#m3f979a4e7d\" y=\"158.518886\"/>\r\n     <use style=\"fill:#1f77b4;stroke:#1f77b4;\" x=\"201.915852\" xlink:href=\"#m3f979a4e7d\" y=\"108.648654\"/>\r\n     <use style=\"fill:#1f77b4;stroke:#1f77b4;\" x=\"287.13767\" xlink:href=\"#m3f979a4e7d\" y=\"144.211852\"/>\r\n     <use style=\"fill:#1f77b4;stroke:#1f77b4;\" x=\"150.782761\" xlink:href=\"#m3f979a4e7d\" y=\"113.553922\"/>\r\n     <use style=\"fill:#1f77b4;stroke:#1f77b4;\" x=\"115.47658\" xlink:href=\"#m3f979a4e7d\" y=\"89.027578\"/>\r\n     <use style=\"fill:#1f77b4;stroke:#1f77b4;\" x=\"160.522398\" xlink:href=\"#m3f979a4e7d\" y=\"97.203026\"/>\r\n     <use style=\"fill:#1f77b4;stroke:#1f77b4;\" x=\"238.439489\" xlink:href=\"#m3f979a4e7d\" y=\"146.255714\"/>\r\n     <use style=\"fill:#1f77b4;stroke:#1f77b4;\" x=\"141.043125\" xlink:href=\"#m3f979a4e7d\" y=\"89.027578\"/>\r\n     <use style=\"fill:#1f77b4;stroke:#1f77b4;\" x=\"186.088943\" xlink:href=\"#m3f979a4e7d\" y=\"121.72937\"/>\r\n     <use style=\"fill:#1f77b4;stroke:#1f77b4;\" x=\"153.21767\" xlink:href=\"#m3f979a4e7d\" y=\"95.567937\"/>\r\n     <use style=\"fill:#1f77b4;stroke:#1f77b4;\" x=\"238.439489\" xlink:href=\"#m3f979a4e7d\" y=\"150.343438\"/>\r\n     <use style=\"fill:#1f77b4;stroke:#1f77b4;\" x=\"183.654034\" xlink:href=\"#m3f979a4e7d\" y=\"112.736378\"/>\r\n     <use style=\"fill:#1f77b4;stroke:#1f77b4;\" x=\"177.566761\" xlink:href=\"#m3f979a4e7d\" y=\"146.255714\"/>\r\n     <use style=\"fill:#1f77b4;stroke:#1f77b4;\" x=\"232.352216\" xlink:href=\"#m3f979a4e7d\" y=\"146.255714\"/>\r\n     <use style=\"fill:#1f77b4;stroke:#1f77b4;\" x=\"153.21767\" xlink:href=\"#m3f979a4e7d\" y=\"61.639828\"/>\r\n     <use style=\"fill:#1f77b4;stroke:#1f77b4;\" x=\"217.742761\" xlink:href=\"#m3f979a4e7d\" y=\"141.350445\"/>\r\n     <use style=\"fill:#1f77b4;stroke:#1f77b4;\" x=\"183.654034\" xlink:href=\"#m3f979a4e7d\" y=\"133.992542\"/>\r\n     <use style=\"fill:#1f77b4;stroke:#1f77b4;\" x=\"183.654034\" xlink:href=\"#m3f979a4e7d\" y=\"142.16799\"/>\r\n     <use style=\"fill:#1f77b4;stroke:#1f77b4;\" x=\"138.608216\" xlink:href=\"#m3f979a4e7d\" y=\"56.325787\"/>\r\n     <use style=\"fill:#1f77b4;stroke:#1f77b4;\" x=\"177.566761\" xlink:href=\"#m3f979a4e7d\" y=\"138.080266\"/>\r\n     <use style=\"fill:#1f77b4;stroke:#1f77b4;\" x=\"189.741307\" xlink:href=\"#m3f979a4e7d\" y=\"131.94868\"/>\r\n     <use style=\"fill:#1f77b4;stroke:#1f77b4;\" x=\"177.566761\" xlink:href=\"#m3f979a4e7d\" y=\"142.16799\"/>\r\n     <use style=\"fill:#1f77b4;stroke:#1f77b4;\" x=\"238.439489\" xlink:href=\"#m3f979a4e7d\" y=\"150.343438\"/>\r\n     <use style=\"fill:#1f77b4;stroke:#1f77b4;\" x=\"189.741307\" xlink:href=\"#m3f979a4e7d\" y=\"126.225867\"/>\r\n     <use style=\"fill:#1f77b4;stroke:#1f77b4;\" x=\"154.435125\" xlink:href=\"#m3f979a4e7d\" y=\"105.378474\"/>\r\n     <use style=\"fill:#1f77b4;stroke:#1f77b4;\" x=\"214.090398\" xlink:href=\"#m3f979a4e7d\" y=\"138.080266\"/>\r\n     <use style=\"fill:#1f77b4;stroke:#1f77b4;\" x=\"192.176216\" xlink:href=\"#m3f979a4e7d\" y=\"117.641646\"/>\r\n     <use style=\"fill:#1f77b4;stroke:#1f77b4;\" x=\"153.21767\" xlink:href=\"#m3f979a4e7d\" y=\"84.939855\"/>\r\n     <use style=\"fill:#1f77b4;stroke:#1f77b4;\" x=\"197.046034\" xlink:href=\"#m3f979a4e7d\" y=\"103.743385\"/>\r\n     <use style=\"fill:#1f77b4;stroke:#1f77b4;\" x=\"143.478034\" xlink:href=\"#m3f979a4e7d\" y=\"121.72937\"/>\r\n     <use style=\"fill:#1f77b4;stroke:#1f77b4;\" x=\"177.566761\" xlink:href=\"#m3f979a4e7d\" y=\"129.904818\"/>\r\n     <use style=\"fill:#1f77b4;stroke:#1f77b4;\" x=\"147.130398\" xlink:href=\"#m3f979a4e7d\" y=\"60.413511\"/>\r\n     <use style=\"fill:#1f77b4;stroke:#1f77b4;\" x=\"183.654034\" xlink:href=\"#m3f979a4e7d\" y=\"129.087274\"/>\r\n     <use style=\"fill:#1f77b4;stroke:#1f77b4;\" x=\"165.392216\" xlink:href=\"#m3f979a4e7d\" y=\"124.99955\"/>\r\n     <use style=\"fill:#1f77b4;stroke:#1f77b4;\" x=\"226.264943\" xlink:href=\"#m3f979a4e7d\" y=\"154.431162\"/>\r\n     <use style=\"fill:#1f77b4;stroke:#1f77b4;\" x=\"226.264943\" xlink:href=\"#m3f979a4e7d\" y=\"150.343438\"/>\r\n     <use style=\"fill:#1f77b4;stroke:#1f77b4;\" x=\"141.043125\" xlink:href=\"#m3f979a4e7d\" y=\"60.413511\"/>\r\n     <use style=\"fill:#1f77b4;stroke:#1f77b4;\" x=\"159.304943\" xlink:href=\"#m3f979a4e7d\" y=\"124.99955\"/>\r\n     <use style=\"fill:#1f77b4;stroke:#1f77b4;\" x=\"120.346398\" xlink:href=\"#m3f979a4e7d\" y=\"72.676683\"/>\r\n     <use style=\"fill:#1f77b4;stroke:#1f77b4;\" x=\"162.957307\" xlink:href=\"#m3f979a4e7d\" y=\"97.203026\"/>\r\n     <use style=\"fill:#1f77b4;stroke:#1f77b4;\" x=\"189.741307\" xlink:href=\"#m3f979a4e7d\" y=\"123.36446\"/>\r\n     <use style=\"fill:#1f77b4;stroke:#1f77b4;\" x=\"147.130398\" xlink:href=\"#m3f979a4e7d\" y=\"75.129317\"/>\r\n     <use style=\"fill:#1f77b4;stroke:#1f77b4;\" x=\"148.347852\" xlink:href=\"#m3f979a4e7d\" y=\"84.939855\"/>\r\n     <use style=\"fill:#1f77b4;stroke:#1f77b4;\" x=\"131.303489\" xlink:href=\"#m3f979a4e7d\" y=\"85.757399\"/>\r\n     <use style=\"fill:#1f77b4;stroke:#1f77b4;\" x=\"131.303489\" xlink:href=\"#m3f979a4e7d\" y=\"53.46438\"/>\r\n     <use style=\"fill:#1f77b4;stroke:#1f77b4;\" x=\"311.486761\" xlink:href=\"#m3f979a4e7d\" y=\"162.60661\"/>\r\n     <use style=\"fill:#1f77b4;stroke:#1f77b4;\" x=\"238.439489\" xlink:href=\"#m3f979a4e7d\" y=\"133.992542\"/>\r\n     <use style=\"fill:#1f77b4;stroke:#1f77b4;\" x=\"167.827125\" xlink:href=\"#m3f979a4e7d\" y=\"56.325787\"/>\r\n     <use style=\"fill:#1f77b4;stroke:#1f77b4;\" x=\"238.439489\" xlink:href=\"#m3f979a4e7d\" y=\"142.16799\"/>\r\n     <use style=\"fill:#1f77b4;stroke:#1f77b4;\" x=\"150.782761\" xlink:href=\"#m3f979a4e7d\" y=\"133.992542\"/>\r\n     <use style=\"fill:#1f77b4;stroke:#1f77b4;\" x=\"167.827125\" xlink:href=\"#m3f979a4e7d\" y=\"109.466198\"/>\r\n     <use style=\"fill:#1f77b4;stroke:#1f77b4;\" x=\"238.439489\" xlink:href=\"#m3f979a4e7d\" y=\"154.431162\"/>\r\n     <use style=\"fill:#1f77b4;stroke:#1f77b4;\" x=\"238.439489\" xlink:href=\"#m3f979a4e7d\" y=\"150.343438\"/>\r\n     <use style=\"fill:#1f77b4;stroke:#1f77b4;\" x=\"189.741307\" xlink:href=\"#m3f979a4e7d\" y=\"138.080266\"/>\r\n     <use style=\"fill:#1f77b4;stroke:#1f77b4;\" x=\"173.914398\" xlink:href=\"#m3f979a4e7d\" y=\"117.641646\"/>\r\n     <use style=\"fill:#1f77b4;stroke:#1f77b4;\" x=\"171.479489\" xlink:href=\"#m3f979a4e7d\" y=\"121.320598\"/>\r\n     <use style=\"fill:#1f77b4;stroke:#1f77b4;\" x=\"181.219125\" xlink:href=\"#m3f979a4e7d\" y=\"124.590777\"/>\r\n     <use style=\"fill:#1f77b4;stroke:#1f77b4;\" x=\"189.741307\" xlink:href=\"#m3f979a4e7d\" y=\"136.036404\"/>\r\n     <use style=\"fill:#1f77b4;stroke:#1f77b4;\" x=\"162.957307\" xlink:href=\"#m3f979a4e7d\" y=\"129.904818\"/>\r\n     <use style=\"fill:#1f77b4;stroke:#1f77b4;\" x=\"201.915852\" xlink:href=\"#m3f979a4e7d\" y=\"133.58377\"/>\r\n     <use style=\"fill:#1f77b4;stroke:#1f77b4;\" x=\"225.047489\" xlink:href=\"#m3f979a4e7d\" y=\"124.99955\"/>\r\n     <use style=\"fill:#1f77b4;stroke:#1f77b4;\" x=\"165.392216\" xlink:href=\"#m3f979a4e7d\" y=\"121.72937\"/>\r\n     <use style=\"fill:#1f77b4;stroke:#1f77b4;\" x=\"256.701307\" xlink:href=\"#m3f979a4e7d\" y=\"135.21886\"/>\r\n     <use style=\"fill:#1f77b4;stroke:#1f77b4;\" x=\"189.741307\" xlink:href=\"#m3f979a4e7d\" y=\"133.992542\"/>\r\n     <use style=\"fill:#1f77b4;stroke:#1f77b4;\" x=\"177.566761\" xlink:href=\"#m3f979a4e7d\" y=\"129.904818\"/>\r\n     <use style=\"fill:#1f77b4;stroke:#1f77b4;\" x=\"134.955852\" xlink:href=\"#m3f979a4e7d\" y=\"76.764407\"/>\r\n     <use style=\"fill:#1f77b4;stroke:#1f77b4;\" x=\"317.574034\" xlink:href=\"#m3f979a4e7d\" y=\"154.431162\"/>\r\n     <use style=\"fill:#1f77b4;stroke:#1f77b4;\" x=\"159.304943\" xlink:href=\"#m3f979a4e7d\" y=\"129.904818\"/>\r\n     <use style=\"fill:#1f77b4;stroke:#1f77b4;\" x=\"156.870034\" xlink:href=\"#m3f979a4e7d\" y=\"113.553922\"/>\r\n     <use style=\"fill:#1f77b4;stroke:#1f77b4;\" x=\"173.914398\" xlink:href=\"#m3f979a4e7d\" y=\"109.874971\"/>\r\n     <use style=\"fill:#1f77b4;stroke:#1f77b4;\" x=\"137.390761\" xlink:href=\"#m3f979a4e7d\" y=\"58.778421\"/>\r\n     <use style=\"fill:#1f77b4;stroke:#1f77b4;\" x=\"238.439489\" xlink:href=\"#m3f979a4e7d\" y=\"150.343438\"/>\r\n     <use style=\"fill:#1f77b4;stroke:#1f77b4;\" x=\"162.957307\" xlink:href=\"#m3f979a4e7d\" y=\"97.203026\"/>\r\n     <use style=\"fill:#1f77b4;stroke:#1f77b4;\" x=\"195.82858\" xlink:href=\"#m3f979a4e7d\" y=\"119.685508\"/>\r\n     <use style=\"fill:#1f77b4;stroke:#1f77b4;\" x=\"160.522398\" xlink:href=\"#m3f979a4e7d\" y=\"117.641646\"/>\r\n     <use style=\"fill:#1f77b4;stroke:#1f77b4;\" x=\"147.130398\" xlink:href=\"#m3f979a4e7d\" y=\"101.29075\"/>\r\n     <use style=\"fill:#1f77b4;stroke:#1f77b4;\" x=\"132.520943\" xlink:href=\"#m3f979a4e7d\" y=\"82.895993\"/>\r\n     <use style=\"fill:#1f77b4;stroke:#1f77b4;\" x=\"238.439489\" xlink:href=\"#m3f979a4e7d\" y=\"146.255714\"/>\r\n     <use style=\"fill:#1f77b4;stroke:#1f77b4;\" x=\"329.74858\" xlink:href=\"#m3f979a4e7d\" y=\"150.343438\"/>\r\n     <use style=\"fill:#1f77b4;stroke:#1f77b4;\" x=\"177.566761\" xlink:href=\"#m3f979a4e7d\" y=\"110.692516\"/>\r\n     <use style=\"fill:#1f77b4;stroke:#1f77b4;\" x=\"238.439489\" xlink:href=\"#m3f979a4e7d\" y=\"154.431162\"/>\r\n     <use style=\"fill:#1f77b4;stroke:#1f77b4;\" x=\"137.390761\" xlink:href=\"#m3f979a4e7d\" y=\"52.238063\"/>\r\n     <use style=\"fill:#1f77b4;stroke:#1f77b4;\" x=\"216.525307\" xlink:href=\"#m3f979a4e7d\" y=\"73.903\"/>\r\n     <use style=\"fill:#1f77b4;stroke:#1f77b4;\" x=\"189.741307\" xlink:href=\"#m3f979a4e7d\" y=\"146.255714\"/>\r\n     <use style=\"fill:#1f77b4;stroke:#1f77b4;\" x=\"262.78858\" xlink:href=\"#m3f979a4e7d\" y=\"154.431162\"/>\r\n     <use style=\"fill:#1f77b4;stroke:#1f77b4;\" x=\"171.479489\" xlink:href=\"#m3f979a4e7d\" y=\"133.992542\"/>\r\n     <use style=\"fill:#1f77b4;stroke:#1f77b4;\" x=\"162.957307\" xlink:href=\"#m3f979a4e7d\" y=\"97.203026\"/>\r\n     <use style=\"fill:#1f77b4;stroke:#1f77b4;\" x=\"177.566761\" xlink:href=\"#m3f979a4e7d\" y=\"117.641646\"/>\r\n     <use style=\"fill:#1f77b4;stroke:#1f77b4;\" x=\"158.087489\" xlink:href=\"#m3f979a4e7d\" y=\"76.764407\"/>\r\n     <use style=\"fill:#1f77b4;stroke:#1f77b4;\" x=\"166.60967\" xlink:href=\"#m3f979a4e7d\" y=\"125.817094\"/>\r\n     <use style=\"fill:#1f77b4;stroke:#1f77b4;\" x=\"150.782761\" xlink:href=\"#m3f979a4e7d\" y=\"82.895993\"/>\r\n     <use style=\"fill:#1f77b4;stroke:#1f77b4;\" x=\"240.874398\" xlink:href=\"#m3f979a4e7d\" y=\"148.299576\"/>\r\n     <use style=\"fill:#1f77b4;stroke:#1f77b4;\" x=\"187.306398\" xlink:href=\"#m3f979a4e7d\" y=\"129.904818\"/>\r\n     <use style=\"fill:#1f77b4;stroke:#1f77b4;\" x=\"165.392216\" xlink:href=\"#m3f979a4e7d\" y=\"97.203026\"/>\r\n     <use style=\"fill:#1f77b4;stroke:#1f77b4;\" x=\"165.392216\" xlink:href=\"#m3f979a4e7d\" y=\"133.992542\"/>\r\n     <use style=\"fill:#1f77b4;stroke:#1f77b4;\" x=\"137.390761\" xlink:href=\"#m3f979a4e7d\" y=\"80.852131\"/>\r\n     <use style=\"fill:#1f77b4;stroke:#1f77b4;\" x=\"236.00458\" xlink:href=\"#m3f979a4e7d\" y=\"150.343438\"/>\r\n     <use style=\"fill:#1f77b4;stroke:#1f77b4;\" x=\"143.478034\" xlink:href=\"#m3f979a4e7d\" y=\"146.255714\"/>\r\n     <use style=\"fill:#1f77b4;stroke:#1f77b4;\" x=\"173.914398\" xlink:href=\"#m3f979a4e7d\" y=\"133.992542\"/>\r\n     <use style=\"fill:#1f77b4;stroke:#1f77b4;\" x=\"226.264943\" xlink:href=\"#m3f979a4e7d\" y=\"136.036404\"/>\r\n     <use style=\"fill:#1f77b4;stroke:#1f77b4;\" x=\"192.176216\" xlink:href=\"#m3f979a4e7d\" y=\"133.992542\"/>\r\n     <use style=\"fill:#1f77b4;stroke:#1f77b4;\" x=\"170.262034\" xlink:href=\"#m3f979a4e7d\" y=\"117.641646\"/>\r\n     <use style=\"fill:#1f77b4;stroke:#1f77b4;\" x=\"134.955852\" xlink:href=\"#m3f979a4e7d\" y=\"17.083636\"/>\r\n     <use style=\"fill:#1f77b4;stroke:#1f77b4;\" x=\"180.00167\" xlink:href=\"#m3f979a4e7d\" y=\"125.817094\"/>\r\n     <use style=\"fill:#1f77b4;stroke:#1f77b4;\" x=\"158.087489\" xlink:href=\"#m3f979a4e7d\" y=\"96.385482\"/>\r\n     <use style=\"fill:#1f77b4;stroke:#1f77b4;\" x=\"156.870034\" xlink:href=\"#m3f979a4e7d\" y=\"89.027578\"/>\r\n     <use style=\"fill:#1f77b4;stroke:#1f77b4;\" x=\"137.390761\" xlink:href=\"#m3f979a4e7d\" y=\"84.939855\"/>\r\n     <use style=\"fill:#1f77b4;stroke:#1f77b4;\" x=\"158.087489\" xlink:href=\"#m3f979a4e7d\" y=\"60.413511\"/>\r\n     <use style=\"fill:#1f77b4;stroke:#1f77b4;\" x=\"226.264943\" xlink:href=\"#m3f979a4e7d\" y=\"138.080266\"/>\r\n     <use style=\"fill:#1f77b4;stroke:#1f77b4;\" x=\"183.654034\" xlink:href=\"#m3f979a4e7d\" y=\"133.992542\"/>\r\n     <use style=\"fill:#1f77b4;stroke:#1f77b4;\" x=\"171.479489\" xlink:href=\"#m3f979a4e7d\" y=\"109.466198\"/>\r\n     <use style=\"fill:#1f77b4;stroke:#1f77b4;\" x=\"256.701307\" xlink:href=\"#m3f979a4e7d\" y=\"154.431162\"/>\r\n     <use style=\"fill:#1f77b4;stroke:#1f77b4;\" x=\"156.870034\" xlink:href=\"#m3f979a4e7d\" y=\"70.632821\"/>\r\n     <use style=\"fill:#1f77b4;stroke:#1f77b4;\" x=\"244.526761\" xlink:href=\"#m3f979a4e7d\" y=\"154.431162\"/>\r\n     <use style=\"fill:#1f77b4;stroke:#1f77b4;\" x=\"165.392216\" xlink:href=\"#m3f979a4e7d\" y=\"108.239881\"/>\r\n     <use style=\"fill:#1f77b4;stroke:#1f77b4;\" x=\"226.264943\" xlink:href=\"#m3f979a4e7d\" y=\"128.269729\"/>\r\n     <use style=\"fill:#1f77b4;stroke:#1f77b4;\" x=\"128.86858\" xlink:href=\"#m3f979a4e7d\" y=\"107.422336\"/>\r\n     <use style=\"fill:#1f77b4;stroke:#1f77b4;\" x=\"262.78858\" xlink:href=\"#m3f979a4e7d\" y=\"142.16799\"/>\r\n     <use style=\"fill:#1f77b4;stroke:#1f77b4;\" x=\"159.304943\" xlink:href=\"#m3f979a4e7d\" y=\"80.852131\"/>\r\n     <use style=\"fill:#1f77b4;stroke:#1f77b4;\" x=\"139.82567\" xlink:href=\"#m3f979a4e7d\" y=\"55.099469\"/>\r\n     <use style=\"fill:#1f77b4;stroke:#1f77b4;\" x=\"111.824216\" xlink:href=\"#m3f979a4e7d\" y=\"101.29075\"/>\r\n     <use style=\"fill:#1f77b4;stroke:#1f77b4;\" x=\"175.131852\" xlink:href=\"#m3f979a4e7d\" y=\"131.94868\"/>\r\n     <use style=\"fill:#1f77b4;stroke:#1f77b4;\" x=\"141.043125\" xlink:href=\"#m3f979a4e7d\" y=\"66.545097\"/>\r\n     <use style=\"fill:#1f77b4;stroke:#1f77b4;\" x=\"238.439489\" xlink:href=\"#m3f979a4e7d\" y=\"142.16799\"/>\r\n     <use style=\"fill:#1f77b4;stroke:#1f77b4;\" x=\"141.043125\" xlink:href=\"#m3f979a4e7d\" y=\"76.355634\"/>\r\n     <use style=\"fill:#1f77b4;stroke:#1f77b4;\" x=\"177.566761\" xlink:href=\"#m3f979a4e7d\" y=\"129.904818\"/>\r\n     <use style=\"fill:#1f77b4;stroke:#1f77b4;\" x=\"161.739852\" xlink:href=\"#m3f979a4e7d\" y=\"121.72937\"/>\r\n     <use style=\"fill:#1f77b4;stroke:#1f77b4;\" x=\"156.870034\" xlink:href=\"#m3f979a4e7d\" y=\"97.203026\"/>\r\n     <use style=\"fill:#1f77b4;stroke:#1f77b4;\" x=\"149.565307\" xlink:href=\"#m3f979a4e7d\" y=\"103.743385\"/>\r\n     <use style=\"fill:#1f77b4;stroke:#1f77b4;\" x=\"138.608216\" xlink:href=\"#m3f979a4e7d\" y=\"80.852131\"/>\r\n     <use style=\"fill:#1f77b4;stroke:#1f77b4;\" x=\"172.696943\" xlink:href=\"#m3f979a4e7d\" y=\"76.764407\"/>\r\n     <use style=\"fill:#1f77b4;stroke:#1f77b4;\" x=\"167.827125\" xlink:href=\"#m3f979a4e7d\" y=\"105.378474\"/>\r\n     <use style=\"fill:#1f77b4;stroke:#1f77b4;\" x=\"134.955852\" xlink:href=\"#m3f979a4e7d\" y=\"85.348627\"/>\r\n     <use style=\"fill:#1f77b4;stroke:#1f77b4;\" x=\"167.827125\" xlink:href=\"#m3f979a4e7d\" y=\"93.115302\"/>\r\n     <use style=\"fill:#1f77b4;stroke:#1f77b4;\" x=\"189.741307\" xlink:href=\"#m3f979a4e7d\" y=\"131.539908\"/>\r\n     <use style=\"fill:#1f77b4;stroke:#1f77b4;\" x=\"250.614034\" xlink:href=\"#m3f979a4e7d\" y=\"150.343438\"/>\r\n     <use style=\"fill:#1f77b4;stroke:#1f77b4;\" x=\"142.26058\" xlink:href=\"#m3f979a4e7d\" y=\"96.385482\"/>\r\n     <use style=\"fill:#1f77b4;stroke:#1f77b4;\" x=\"232.352216\" xlink:href=\"#m3f979a4e7d\" y=\"154.431162\"/>\r\n     <use style=\"fill:#1f77b4;stroke:#1f77b4;\" x=\"173.914398\" xlink:href=\"#m3f979a4e7d\" y=\"96.385482\"/>\r\n     <use style=\"fill:#1f77b4;stroke:#1f77b4;\" x=\"177.566761\" xlink:href=\"#m3f979a4e7d\" y=\"133.992542\"/>\r\n     <use style=\"fill:#1f77b4;stroke:#1f77b4;\" x=\"162.957307\" xlink:href=\"#m3f979a4e7d\" y=\"60.413511\"/>\r\n     <use style=\"fill:#1f77b4;stroke:#1f77b4;\" x=\"121.563852\" xlink:href=\"#m3f979a4e7d\" y=\"113.553922\"/>\r\n     <use style=\"fill:#1f77b4;stroke:#1f77b4;\" x=\"274.963125\" xlink:href=\"#m3f979a4e7d\" y=\"158.518886\"/>\r\n     <use style=\"fill:#1f77b4;stroke:#1f77b4;\" x=\"159.304943\" xlink:href=\"#m3f979a4e7d\" y=\"110.283743\"/>\r\n     <use style=\"fill:#1f77b4;stroke:#1f77b4;\" x=\"141.043125\" xlink:href=\"#m3f979a4e7d\" y=\"84.939855\"/>\r\n     <use style=\"fill:#1f77b4;stroke:#1f77b4;\" x=\"201.915852\" xlink:href=\"#m3f979a4e7d\" y=\"140.124128\"/>\r\n     <use style=\"fill:#1f77b4;stroke:#1f77b4;\" x=\"165.392216\" xlink:href=\"#m3f979a4e7d\" y=\"93.115302\"/>\r\n     <use style=\"fill:#1f77b4;stroke:#1f77b4;\" x=\"134.955852\" xlink:href=\"#m3f979a4e7d\" y=\"55.508242\"/>\r\n     <use style=\"fill:#1f77b4;stroke:#1f77b4;\" x=\"114.259125\" xlink:href=\"#m3f979a4e7d\" y=\"30.164353\"/>\r\n     <use style=\"fill:#1f77b4;stroke:#1f77b4;\" x=\"274.963125\" xlink:href=\"#m3f979a4e7d\" y=\"162.60661\"/>\r\n     <use style=\"fill:#1f77b4;stroke:#1f77b4;\" x=\"214.090398\" xlink:href=\"#m3f979a4e7d\" y=\"146.255714\"/>\r\n     <use style=\"fill:#1f77b4;stroke:#1f77b4;\" x=\"268.875852\" xlink:href=\"#m3f979a4e7d\" y=\"150.343438\"/>\r\n     <use style=\"fill:#1f77b4;stroke:#1f77b4;\" x=\"208.003125\" xlink:href=\"#m3f979a4e7d\" y=\"113.553922\"/>\r\n     <use style=\"fill:#1f77b4;stroke:#1f77b4;\" x=\"147.130398\" xlink:href=\"#m3f979a4e7d\" y=\"105.378474\"/>\r\n     <use style=\"fill:#1f77b4;stroke:#1f77b4;\" x=\"201.915852\" xlink:href=\"#m3f979a4e7d\" y=\"144.211852\"/>\r\n     <use style=\"fill:#1f77b4;stroke:#1f77b4;\" x=\"193.39367\" xlink:href=\"#m3f979a4e7d\" y=\"101.29075\"/>\r\n     <use style=\"fill:#1f77b4;stroke:#1f77b4;\" x=\"268.875852\" xlink:href=\"#m3f979a4e7d\" y=\"154.431162\"/>\r\n     <use style=\"fill:#1f77b4;stroke:#1f77b4;\" x=\"214.090398\" xlink:href=\"#m3f979a4e7d\" y=\"133.992542\"/>\r\n     <use style=\"fill:#1f77b4;stroke:#1f77b4;\" x=\"142.26058\" xlink:href=\"#m3f979a4e7d\" y=\"86.983716\"/>\r\n     <use style=\"fill:#1f77b4;stroke:#1f77b4;\" x=\"162.957307\" xlink:href=\"#m3f979a4e7d\" y=\"64.501235\"/>\r\n     <use style=\"fill:#1f77b4;stroke:#1f77b4;\" x=\"177.566761\" xlink:href=\"#m3f979a4e7d\" y=\"133.992542\"/>\r\n     <use style=\"fill:#1f77b4;stroke:#1f77b4;\" x=\"137.390761\" xlink:href=\"#m3f979a4e7d\" y=\"52.238063\"/>\r\n     <use style=\"fill:#1f77b4;stroke:#1f77b4;\" x=\"195.82858\" xlink:href=\"#m3f979a4e7d\" y=\"105.378474\"/>\r\n     <use style=\"fill:#1f77b4;stroke:#1f77b4;\" x=\"183.654034\" xlink:href=\"#m3f979a4e7d\" y=\"123.36446\"/>\r\n     <use style=\"fill:#1f77b4;stroke:#1f77b4;\" x=\"329.74858\" xlink:href=\"#m3f979a4e7d\" y=\"158.518886\"/>\r\n     <use style=\"fill:#1f77b4;stroke:#1f77b4;\" x=\"159.304943\" xlink:href=\"#m3f979a4e7d\" y=\"135.627632\"/>\r\n     <use style=\"fill:#1f77b4;stroke:#1f77b4;\" x=\"268.875852\" xlink:href=\"#m3f979a4e7d\" y=\"154.431162\"/>\r\n     <use style=\"fill:#1f77b4;stroke:#1f77b4;\" x=\"134.955852\" xlink:href=\"#m3f979a4e7d\" y=\"56.325787\"/>\r\n     <use style=\"fill:#1f77b4;stroke:#1f77b4;\" x=\"172.696943\" xlink:href=\"#m3f979a4e7d\" y=\"109.466198\"/>\r\n     <use style=\"fill:#1f77b4;stroke:#1f77b4;\" x=\"287.13767\" xlink:href=\"#m3f979a4e7d\" y=\"154.431162\"/>\r\n     <use style=\"fill:#1f77b4;stroke:#1f77b4;\" x=\"195.82858\" xlink:href=\"#m3f979a4e7d\" y=\"98.020571\"/>\r\n     <use style=\"fill:#1f77b4;stroke:#1f77b4;\" x=\"160.522398\" xlink:href=\"#m3f979a4e7d\" y=\"113.553922\"/>\r\n     <use style=\"fill:#1f77b4;stroke:#1f77b4;\" x=\"162.957307\" xlink:href=\"#m3f979a4e7d\" y=\"129.904818\"/>\r\n     <use style=\"fill:#1f77b4;stroke:#1f77b4;\" x=\"159.304943\" xlink:href=\"#m3f979a4e7d\" y=\"126.634639\"/>\r\n     <use style=\"fill:#1f77b4;stroke:#1f77b4;\" x=\"274.963125\" xlink:href=\"#m3f979a4e7d\" y=\"142.16799\"/>\r\n     <use style=\"fill:#1f77b4;stroke:#1f77b4;\" x=\"169.04458\" xlink:href=\"#m3f979a4e7d\" y=\"101.29075\"/>\r\n     <use style=\"fill:#1f77b4;stroke:#1f77b4;\" x=\"130.086034\" xlink:href=\"#m3f979a4e7d\" y=\"76.764407\"/>\r\n     <use style=\"fill:#1f77b4;stroke:#1f77b4;\" x=\"160.522398\" xlink:href=\"#m3f979a4e7d\" y=\"93.115302\"/>\r\n    </g>\r\n   </g>\r\n   <g id=\"matplotlib.axis_1\">\r\n    <g id=\"xtick_1\">\r\n     <g id=\"line2d_1\">\r\n      <defs>\r\n       <path d=\"M 0 0 \r\nL 0 3.5 \r\n\" id=\"mcdace83287\" style=\"stroke:#000000;stroke-width:0.8;\"/>\r\n      </defs>\r\n      <g>\r\n       <use style=\"stroke:#000000;stroke-width:0.8;\" x=\"55.821307\" xlink:href=\"#mcdace83287\" y=\"224.64\"/>\r\n      </g>\r\n     </g>\r\n     <g id=\"text_1\">\r\n      <!-- 0 -->\r\n      <g transform=\"translate(52.640057 239.238437)scale(0.1 -0.1)\">\r\n       <defs>\r\n        <path d=\"M 31.78125 66.40625 \r\nQ 24.171875 66.40625 20.328125 58.90625 \r\nQ 16.5 51.421875 16.5 36.375 \r\nQ 16.5 21.390625 20.328125 13.890625 \r\nQ 24.171875 6.390625 31.78125 6.390625 \r\nQ 39.453125 6.390625 43.28125 13.890625 \r\nQ 47.125 21.390625 47.125 36.375 \r\nQ 47.125 51.421875 43.28125 58.90625 \r\nQ 39.453125 66.40625 31.78125 66.40625 \r\nz\r\nM 31.78125 74.21875 \r\nQ 44.046875 74.21875 50.515625 64.515625 \r\nQ 56.984375 54.828125 56.984375 36.375 \r\nQ 56.984375 17.96875 50.515625 8.265625 \r\nQ 44.046875 -1.421875 31.78125 -1.421875 \r\nQ 19.53125 -1.421875 13.0625 8.265625 \r\nQ 6.59375 17.96875 6.59375 36.375 \r\nQ 6.59375 54.828125 13.0625 64.515625 \r\nQ 19.53125 74.21875 31.78125 74.21875 \r\nz\r\n\" id=\"DejaVuSans-48\"/>\r\n       </defs>\r\n       <use xlink:href=\"#DejaVuSans-48\"/>\r\n      </g>\r\n     </g>\r\n    </g>\r\n    <g id=\"xtick_2\">\r\n     <g id=\"line2d_2\">\r\n      <g>\r\n       <use style=\"stroke:#000000;stroke-width:0.8;\" x=\"116.694034\" xlink:href=\"#mcdace83287\" y=\"224.64\"/>\r\n      </g>\r\n     </g>\r\n     <g id=\"text_2\">\r\n      <!-- 50 -->\r\n      <g transform=\"translate(110.331534 239.238437)scale(0.1 -0.1)\">\r\n       <defs>\r\n        <path d=\"M 10.796875 72.90625 \r\nL 49.515625 72.90625 \r\nL 49.515625 64.59375 \r\nL 19.828125 64.59375 \r\nL 19.828125 46.734375 \r\nQ 21.96875 47.46875 24.109375 47.828125 \r\nQ 26.265625 48.1875 28.421875 48.1875 \r\nQ 40.625 48.1875 47.75 41.5 \r\nQ 54.890625 34.8125 54.890625 23.390625 \r\nQ 54.890625 11.625 47.5625 5.09375 \r\nQ 40.234375 -1.421875 26.90625 -1.421875 \r\nQ 22.3125 -1.421875 17.546875 -0.640625 \r\nQ 12.796875 0.140625 7.71875 1.703125 \r\nL 7.71875 11.625 \r\nQ 12.109375 9.234375 16.796875 8.0625 \r\nQ 21.484375 6.890625 26.703125 6.890625 \r\nQ 35.15625 6.890625 40.078125 11.328125 \r\nQ 45.015625 15.765625 45.015625 23.390625 \r\nQ 45.015625 31 40.078125 35.4375 \r\nQ 35.15625 39.890625 26.703125 39.890625 \r\nQ 22.75 39.890625 18.8125 39.015625 \r\nQ 14.890625 38.140625 10.796875 36.28125 \r\nz\r\n\" id=\"DejaVuSans-53\"/>\r\n       </defs>\r\n       <use xlink:href=\"#DejaVuSans-53\"/>\r\n       <use x=\"63.623047\" xlink:href=\"#DejaVuSans-48\"/>\r\n      </g>\r\n     </g>\r\n    </g>\r\n    <g id=\"xtick_3\">\r\n     <g id=\"line2d_3\">\r\n      <g>\r\n       <use style=\"stroke:#000000;stroke-width:0.8;\" x=\"177.566761\" xlink:href=\"#mcdace83287\" y=\"224.64\"/>\r\n      </g>\r\n     </g>\r\n     <g id=\"text_3\">\r\n      <!-- 100 -->\r\n      <g transform=\"translate(168.023011 239.238437)scale(0.1 -0.1)\">\r\n       <defs>\r\n        <path d=\"M 12.40625 8.296875 \r\nL 28.515625 8.296875 \r\nL 28.515625 63.921875 \r\nL 10.984375 60.40625 \r\nL 10.984375 69.390625 \r\nL 28.421875 72.90625 \r\nL 38.28125 72.90625 \r\nL 38.28125 8.296875 \r\nL 54.390625 8.296875 \r\nL 54.390625 0 \r\nL 12.40625 0 \r\nz\r\n\" id=\"DejaVuSans-49\"/>\r\n       </defs>\r\n       <use xlink:href=\"#DejaVuSans-49\"/>\r\n       <use x=\"63.623047\" xlink:href=\"#DejaVuSans-48\"/>\r\n       <use x=\"127.246094\" xlink:href=\"#DejaVuSans-48\"/>\r\n      </g>\r\n     </g>\r\n    </g>\r\n    <g id=\"xtick_4\">\r\n     <g id=\"line2d_4\">\r\n      <g>\r\n       <use style=\"stroke:#000000;stroke-width:0.8;\" x=\"238.439489\" xlink:href=\"#mcdace83287\" y=\"224.64\"/>\r\n      </g>\r\n     </g>\r\n     <g id=\"text_4\">\r\n      <!-- 150 -->\r\n      <g transform=\"translate(228.895739 239.238437)scale(0.1 -0.1)\">\r\n       <use xlink:href=\"#DejaVuSans-49\"/>\r\n       <use x=\"63.623047\" xlink:href=\"#DejaVuSans-53\"/>\r\n       <use x=\"127.246094\" xlink:href=\"#DejaVuSans-48\"/>\r\n      </g>\r\n     </g>\r\n    </g>\r\n    <g id=\"xtick_5\">\r\n     <g id=\"line2d_5\">\r\n      <g>\r\n       <use style=\"stroke:#000000;stroke-width:0.8;\" x=\"299.312216\" xlink:href=\"#mcdace83287\" y=\"224.64\"/>\r\n      </g>\r\n     </g>\r\n     <g id=\"text_5\">\r\n      <!-- 200 -->\r\n      <g transform=\"translate(289.768466 239.238437)scale(0.1 -0.1)\">\r\n       <defs>\r\n        <path d=\"M 19.1875 8.296875 \r\nL 53.609375 8.296875 \r\nL 53.609375 0 \r\nL 7.328125 0 \r\nL 7.328125 8.296875 \r\nQ 12.9375 14.109375 22.625 23.890625 \r\nQ 32.328125 33.6875 34.8125 36.53125 \r\nQ 39.546875 41.84375 41.421875 45.53125 \r\nQ 43.3125 49.21875 43.3125 52.78125 \r\nQ 43.3125 58.59375 39.234375 62.25 \r\nQ 35.15625 65.921875 28.609375 65.921875 \r\nQ 23.96875 65.921875 18.8125 64.3125 \r\nQ 13.671875 62.703125 7.8125 59.421875 \r\nL 7.8125 69.390625 \r\nQ 13.765625 71.78125 18.9375 73 \r\nQ 24.125 74.21875 28.421875 74.21875 \r\nQ 39.75 74.21875 46.484375 68.546875 \r\nQ 53.21875 62.890625 53.21875 53.421875 \r\nQ 53.21875 48.921875 51.53125 44.890625 \r\nQ 49.859375 40.875 45.40625 35.40625 \r\nQ 44.1875 33.984375 37.640625 27.21875 \r\nQ 31.109375 20.453125 19.1875 8.296875 \r\nz\r\n\" id=\"DejaVuSans-50\"/>\r\n       </defs>\r\n       <use xlink:href=\"#DejaVuSans-50\"/>\r\n       <use x=\"63.623047\" xlink:href=\"#DejaVuSans-48\"/>\r\n       <use x=\"127.246094\" xlink:href=\"#DejaVuSans-48\"/>\r\n      </g>\r\n     </g>\r\n    </g>\r\n    <g id=\"xtick_6\">\r\n     <g id=\"line2d_6\">\r\n      <g>\r\n       <use style=\"stroke:#000000;stroke-width:0.8;\" x=\"360.184943\" xlink:href=\"#mcdace83287\" y=\"224.64\"/>\r\n      </g>\r\n     </g>\r\n     <g id=\"text_6\">\r\n      <!-- 250 -->\r\n      <g transform=\"translate(350.641193 239.238437)scale(0.1 -0.1)\">\r\n       <use xlink:href=\"#DejaVuSans-50\"/>\r\n       <use x=\"63.623047\" xlink:href=\"#DejaVuSans-53\"/>\r\n       <use x=\"127.246094\" xlink:href=\"#DejaVuSans-48\"/>\r\n      </g>\r\n     </g>\r\n    </g>\r\n    <g id=\"text_7\">\r\n     <!-- Horsepower -->\r\n     <g transform=\"translate(177.992187 252.916562)scale(0.1 -0.1)\">\r\n      <defs>\r\n       <path d=\"M 9.8125 72.90625 \r\nL 19.671875 72.90625 \r\nL 19.671875 43.015625 \r\nL 55.515625 43.015625 \r\nL 55.515625 72.90625 \r\nL 65.375 72.90625 \r\nL 65.375 0 \r\nL 55.515625 0 \r\nL 55.515625 34.71875 \r\nL 19.671875 34.71875 \r\nL 19.671875 0 \r\nL 9.8125 0 \r\nz\r\n\" id=\"DejaVuSans-72\"/>\r\n       <path d=\"M 30.609375 48.390625 \r\nQ 23.390625 48.390625 19.1875 42.75 \r\nQ 14.984375 37.109375 14.984375 27.296875 \r\nQ 14.984375 17.484375 19.15625 11.84375 \r\nQ 23.34375 6.203125 30.609375 6.203125 \r\nQ 37.796875 6.203125 41.984375 11.859375 \r\nQ 46.1875 17.53125 46.1875 27.296875 \r\nQ 46.1875 37.015625 41.984375 42.703125 \r\nQ 37.796875 48.390625 30.609375 48.390625 \r\nz\r\nM 30.609375 56 \r\nQ 42.328125 56 49.015625 48.375 \r\nQ 55.71875 40.765625 55.71875 27.296875 \r\nQ 55.71875 13.875 49.015625 6.21875 \r\nQ 42.328125 -1.421875 30.609375 -1.421875 \r\nQ 18.84375 -1.421875 12.171875 6.21875 \r\nQ 5.515625 13.875 5.515625 27.296875 \r\nQ 5.515625 40.765625 12.171875 48.375 \r\nQ 18.84375 56 30.609375 56 \r\nz\r\n\" id=\"DejaVuSans-111\"/>\r\n       <path d=\"M 41.109375 46.296875 \r\nQ 39.59375 47.171875 37.8125 47.578125 \r\nQ 36.03125 48 33.890625 48 \r\nQ 26.265625 48 22.1875 43.046875 \r\nQ 18.109375 38.09375 18.109375 28.8125 \r\nL 18.109375 0 \r\nL 9.078125 0 \r\nL 9.078125 54.6875 \r\nL 18.109375 54.6875 \r\nL 18.109375 46.1875 \r\nQ 20.953125 51.171875 25.484375 53.578125 \r\nQ 30.03125 56 36.53125 56 \r\nQ 37.453125 56 38.578125 55.875 \r\nQ 39.703125 55.765625 41.0625 55.515625 \r\nz\r\n\" id=\"DejaVuSans-114\"/>\r\n       <path d=\"M 44.28125 53.078125 \r\nL 44.28125 44.578125 \r\nQ 40.484375 46.53125 36.375 47.5 \r\nQ 32.28125 48.484375 27.875 48.484375 \r\nQ 21.1875 48.484375 17.84375 46.4375 \r\nQ 14.5 44.390625 14.5 40.28125 \r\nQ 14.5 37.15625 16.890625 35.375 \r\nQ 19.28125 33.59375 26.515625 31.984375 \r\nL 29.59375 31.296875 \r\nQ 39.15625 29.25 43.1875 25.515625 \r\nQ 47.21875 21.78125 47.21875 15.09375 \r\nQ 47.21875 7.46875 41.1875 3.015625 \r\nQ 35.15625 -1.421875 24.609375 -1.421875 \r\nQ 20.21875 -1.421875 15.453125 -0.5625 \r\nQ 10.6875 0.296875 5.421875 2 \r\nL 5.421875 11.28125 \r\nQ 10.40625 8.6875 15.234375 7.390625 \r\nQ 20.0625 6.109375 24.8125 6.109375 \r\nQ 31.15625 6.109375 34.5625 8.28125 \r\nQ 37.984375 10.453125 37.984375 14.40625 \r\nQ 37.984375 18.0625 35.515625 20.015625 \r\nQ 33.0625 21.96875 24.703125 23.78125 \r\nL 21.578125 24.515625 \r\nQ 13.234375 26.265625 9.515625 29.90625 \r\nQ 5.8125 33.546875 5.8125 39.890625 \r\nQ 5.8125 47.609375 11.28125 51.796875 \r\nQ 16.75 56 26.8125 56 \r\nQ 31.78125 56 36.171875 55.265625 \r\nQ 40.578125 54.546875 44.28125 53.078125 \r\nz\r\n\" id=\"DejaVuSans-115\"/>\r\n       <path d=\"M 56.203125 29.59375 \r\nL 56.203125 25.203125 \r\nL 14.890625 25.203125 \r\nQ 15.484375 15.921875 20.484375 11.0625 \r\nQ 25.484375 6.203125 34.421875 6.203125 \r\nQ 39.59375 6.203125 44.453125 7.46875 \r\nQ 49.3125 8.734375 54.109375 11.28125 \r\nL 54.109375 2.78125 \r\nQ 49.265625 0.734375 44.1875 -0.34375 \r\nQ 39.109375 -1.421875 33.890625 -1.421875 \r\nQ 20.796875 -1.421875 13.15625 6.1875 \r\nQ 5.515625 13.8125 5.515625 26.8125 \r\nQ 5.515625 40.234375 12.765625 48.109375 \r\nQ 20.015625 56 32.328125 56 \r\nQ 43.359375 56 49.78125 48.890625 \r\nQ 56.203125 41.796875 56.203125 29.59375 \r\nz\r\nM 47.21875 32.234375 \r\nQ 47.125 39.59375 43.09375 43.984375 \r\nQ 39.0625 48.390625 32.421875 48.390625 \r\nQ 24.90625 48.390625 20.390625 44.140625 \r\nQ 15.875 39.890625 15.1875 32.171875 \r\nz\r\n\" id=\"DejaVuSans-101\"/>\r\n       <path d=\"M 18.109375 8.203125 \r\nL 18.109375 -20.796875 \r\nL 9.078125 -20.796875 \r\nL 9.078125 54.6875 \r\nL 18.109375 54.6875 \r\nL 18.109375 46.390625 \r\nQ 20.953125 51.265625 25.265625 53.625 \r\nQ 29.59375 56 35.59375 56 \r\nQ 45.5625 56 51.78125 48.09375 \r\nQ 58.015625 40.1875 58.015625 27.296875 \r\nQ 58.015625 14.40625 51.78125 6.484375 \r\nQ 45.5625 -1.421875 35.59375 -1.421875 \r\nQ 29.59375 -1.421875 25.265625 0.953125 \r\nQ 20.953125 3.328125 18.109375 8.203125 \r\nz\r\nM 48.6875 27.296875 \r\nQ 48.6875 37.203125 44.609375 42.84375 \r\nQ 40.53125 48.484375 33.40625 48.484375 \r\nQ 26.265625 48.484375 22.1875 42.84375 \r\nQ 18.109375 37.203125 18.109375 27.296875 \r\nQ 18.109375 17.390625 22.1875 11.75 \r\nQ 26.265625 6.109375 33.40625 6.109375 \r\nQ 40.53125 6.109375 44.609375 11.75 \r\nQ 48.6875 17.390625 48.6875 27.296875 \r\nz\r\n\" id=\"DejaVuSans-112\"/>\r\n       <path d=\"M 4.203125 54.6875 \r\nL 13.1875 54.6875 \r\nL 24.421875 12.015625 \r\nL 35.59375 54.6875 \r\nL 46.1875 54.6875 \r\nL 57.421875 12.015625 \r\nL 68.609375 54.6875 \r\nL 77.59375 54.6875 \r\nL 63.28125 0 \r\nL 52.6875 0 \r\nL 40.921875 44.828125 \r\nL 29.109375 0 \r\nL 18.5 0 \r\nz\r\n\" id=\"DejaVuSans-119\"/>\r\n      </defs>\r\n      <use xlink:href=\"#DejaVuSans-72\"/>\r\n      <use x=\"75.195312\" xlink:href=\"#DejaVuSans-111\"/>\r\n      <use x=\"136.376953\" xlink:href=\"#DejaVuSans-114\"/>\r\n      <use x=\"177.490234\" xlink:href=\"#DejaVuSans-115\"/>\r\n      <use x=\"229.589844\" xlink:href=\"#DejaVuSans-101\"/>\r\n      <use x=\"291.113281\" xlink:href=\"#DejaVuSans-112\"/>\r\n      <use x=\"354.589844\" xlink:href=\"#DejaVuSans-111\"/>\r\n      <use x=\"415.771484\" xlink:href=\"#DejaVuSans-119\"/>\r\n      <use x=\"497.558594\" xlink:href=\"#DejaVuSans-101\"/>\r\n      <use x=\"559.082031\" xlink:href=\"#DejaVuSans-114\"/>\r\n     </g>\r\n    </g>\r\n   </g>\r\n   <g id=\"matplotlib.axis_2\">\r\n    <g id=\"ytick_1\">\r\n     <g id=\"line2d_7\">\r\n      <defs>\r\n       <path d=\"M 0 0 \r\nL -3.5 0 \r\n\" id=\"m3ea84b7e18\" style=\"stroke:#000000;stroke-width:0.8;\"/>\r\n      </defs>\r\n      <g>\r\n       <use style=\"stroke:#000000;stroke-width:0.8;\" x=\"40.603125\" xlink:href=\"#m3ea84b7e18\" y=\"207.571574\"/>\r\n      </g>\r\n     </g>\r\n     <g id=\"text_8\">\r\n      <!-- 0 -->\r\n      <g transform=\"translate(27.240625 211.370793)scale(0.1 -0.1)\">\r\n       <use xlink:href=\"#DejaVuSans-48\"/>\r\n      </g>\r\n     </g>\r\n    </g>\r\n    <g id=\"ytick_2\">\r\n     <g id=\"line2d_8\">\r\n      <g>\r\n       <use style=\"stroke:#000000;stroke-width:0.8;\" x=\"40.603125\" xlink:href=\"#m3ea84b7e18\" y=\"166.694334\"/>\r\n      </g>\r\n     </g>\r\n     <g id=\"text_9\">\r\n      <!-- 10 -->\r\n      <g transform=\"translate(20.878125 170.493553)scale(0.1 -0.1)\">\r\n       <use xlink:href=\"#DejaVuSans-49\"/>\r\n       <use x=\"63.623047\" xlink:href=\"#DejaVuSans-48\"/>\r\n      </g>\r\n     </g>\r\n    </g>\r\n    <g id=\"ytick_3\">\r\n     <g id=\"line2d_9\">\r\n      <g>\r\n       <use style=\"stroke:#000000;stroke-width:0.8;\" x=\"40.603125\" xlink:href=\"#m3ea84b7e18\" y=\"125.817094\"/>\r\n      </g>\r\n     </g>\r\n     <g id=\"text_10\">\r\n      <!-- 20 -->\r\n      <g transform=\"translate(20.878125 129.616313)scale(0.1 -0.1)\">\r\n       <use xlink:href=\"#DejaVuSans-50\"/>\r\n       <use x=\"63.623047\" xlink:href=\"#DejaVuSans-48\"/>\r\n      </g>\r\n     </g>\r\n    </g>\r\n    <g id=\"ytick_4\">\r\n     <g id=\"line2d_10\">\r\n      <g>\r\n       <use style=\"stroke:#000000;stroke-width:0.8;\" x=\"40.603125\" xlink:href=\"#m3ea84b7e18\" y=\"84.939855\"/>\r\n      </g>\r\n     </g>\r\n     <g id=\"text_11\">\r\n      <!-- 30 -->\r\n      <g transform=\"translate(20.878125 88.739073)scale(0.1 -0.1)\">\r\n       <defs>\r\n        <path d=\"M 40.578125 39.3125 \r\nQ 47.65625 37.796875 51.625 33 \r\nQ 55.609375 28.21875 55.609375 21.1875 \r\nQ 55.609375 10.40625 48.1875 4.484375 \r\nQ 40.765625 -1.421875 27.09375 -1.421875 \r\nQ 22.515625 -1.421875 17.65625 -0.515625 \r\nQ 12.796875 0.390625 7.625 2.203125 \r\nL 7.625 11.71875 \r\nQ 11.71875 9.328125 16.59375 8.109375 \r\nQ 21.484375 6.890625 26.8125 6.890625 \r\nQ 36.078125 6.890625 40.9375 10.546875 \r\nQ 45.796875 14.203125 45.796875 21.1875 \r\nQ 45.796875 27.640625 41.28125 31.265625 \r\nQ 36.765625 34.90625 28.71875 34.90625 \r\nL 20.21875 34.90625 \r\nL 20.21875 43.015625 \r\nL 29.109375 43.015625 \r\nQ 36.375 43.015625 40.234375 45.921875 \r\nQ 44.09375 48.828125 44.09375 54.296875 \r\nQ 44.09375 59.90625 40.109375 62.90625 \r\nQ 36.140625 65.921875 28.71875 65.921875 \r\nQ 24.65625 65.921875 20.015625 65.03125 \r\nQ 15.375 64.15625 9.8125 62.3125 \r\nL 9.8125 71.09375 \r\nQ 15.4375 72.65625 20.34375 73.4375 \r\nQ 25.25 74.21875 29.59375 74.21875 \r\nQ 40.828125 74.21875 47.359375 69.109375 \r\nQ 53.90625 64.015625 53.90625 55.328125 \r\nQ 53.90625 49.265625 50.4375 45.09375 \r\nQ 46.96875 40.921875 40.578125 39.3125 \r\nz\r\n\" id=\"DejaVuSans-51\"/>\r\n       </defs>\r\n       <use xlink:href=\"#DejaVuSans-51\"/>\r\n       <use x=\"63.623047\" xlink:href=\"#DejaVuSans-48\"/>\r\n      </g>\r\n     </g>\r\n    </g>\r\n    <g id=\"ytick_5\">\r\n     <g id=\"line2d_11\">\r\n      <g>\r\n       <use style=\"stroke:#000000;stroke-width:0.8;\" x=\"40.603125\" xlink:href=\"#m3ea84b7e18\" y=\"44.062615\"/>\r\n      </g>\r\n     </g>\r\n     <g id=\"text_12\">\r\n      <!-- 40 -->\r\n      <g transform=\"translate(20.878125 47.861833)scale(0.1 -0.1)\">\r\n       <defs>\r\n        <path d=\"M 37.796875 64.3125 \r\nL 12.890625 25.390625 \r\nL 37.796875 25.390625 \r\nz\r\nM 35.203125 72.90625 \r\nL 47.609375 72.90625 \r\nL 47.609375 25.390625 \r\nL 58.015625 25.390625 \r\nL 58.015625 17.1875 \r\nL 47.609375 17.1875 \r\nL 47.609375 0 \r\nL 37.796875 0 \r\nL 37.796875 17.1875 \r\nL 4.890625 17.1875 \r\nL 4.890625 26.703125 \r\nz\r\n\" id=\"DejaVuSans-52\"/>\r\n       </defs>\r\n       <use xlink:href=\"#DejaVuSans-52\"/>\r\n       <use x=\"63.623047\" xlink:href=\"#DejaVuSans-48\"/>\r\n      </g>\r\n     </g>\r\n    </g>\r\n    <g id=\"text_13\">\r\n     <!-- MPG -->\r\n     <g transform=\"translate(14.798438 127.123125)rotate(-90)scale(0.1 -0.1)\">\r\n      <defs>\r\n       <path d=\"M 9.8125 72.90625 \r\nL 24.515625 72.90625 \r\nL 43.109375 23.296875 \r\nL 61.8125 72.90625 \r\nL 76.515625 72.90625 \r\nL 76.515625 0 \r\nL 66.890625 0 \r\nL 66.890625 64.015625 \r\nL 48.09375 14.015625 \r\nL 38.1875 14.015625 \r\nL 19.390625 64.015625 \r\nL 19.390625 0 \r\nL 9.8125 0 \r\nz\r\n\" id=\"DejaVuSans-77\"/>\r\n       <path d=\"M 19.671875 64.796875 \r\nL 19.671875 37.40625 \r\nL 32.078125 37.40625 \r\nQ 38.96875 37.40625 42.71875 40.96875 \r\nQ 46.484375 44.53125 46.484375 51.125 \r\nQ 46.484375 57.671875 42.71875 61.234375 \r\nQ 38.96875 64.796875 32.078125 64.796875 \r\nz\r\nM 9.8125 72.90625 \r\nL 32.078125 72.90625 \r\nQ 44.34375 72.90625 50.609375 67.359375 \r\nQ 56.890625 61.8125 56.890625 51.125 \r\nQ 56.890625 40.328125 50.609375 34.8125 \r\nQ 44.34375 29.296875 32.078125 29.296875 \r\nL 19.671875 29.296875 \r\nL 19.671875 0 \r\nL 9.8125 0 \r\nz\r\n\" id=\"DejaVuSans-80\"/>\r\n       <path d=\"M 59.515625 10.40625 \r\nL 59.515625 29.984375 \r\nL 43.40625 29.984375 \r\nL 43.40625 38.09375 \r\nL 69.28125 38.09375 \r\nL 69.28125 6.78125 \r\nQ 63.578125 2.734375 56.6875 0.65625 \r\nQ 49.8125 -1.421875 42 -1.421875 \r\nQ 24.90625 -1.421875 15.25 8.5625 \r\nQ 5.609375 18.5625 5.609375 36.375 \r\nQ 5.609375 54.25 15.25 64.234375 \r\nQ 24.90625 74.21875 42 74.21875 \r\nQ 49.125 74.21875 55.546875 72.453125 \r\nQ 61.96875 70.703125 67.390625 67.28125 \r\nL 67.390625 56.78125 \r\nQ 61.921875 61.421875 55.765625 63.765625 \r\nQ 49.609375 66.109375 42.828125 66.109375 \r\nQ 29.4375 66.109375 22.71875 58.640625 \r\nQ 16.015625 51.171875 16.015625 36.375 \r\nQ 16.015625 21.625 22.71875 14.15625 \r\nQ 29.4375 6.6875 42.828125 6.6875 \r\nQ 48.046875 6.6875 52.140625 7.59375 \r\nQ 56.25 8.5 59.515625 10.40625 \r\nz\r\n\" id=\"DejaVuSans-71\"/>\r\n      </defs>\r\n      <use xlink:href=\"#DejaVuSans-77\"/>\r\n      <use x=\"86.279297\" xlink:href=\"#DejaVuSans-80\"/>\r\n      <use x=\"146.582031\" xlink:href=\"#DejaVuSans-71\"/>\r\n     </g>\r\n    </g>\r\n   </g>\r\n   <g id=\"line2d_12\">\r\n    <path clip-path=\"url(#p7609e0a4ac)\" d=\"M 55.821307 43.417452 \r\nL 360.184943 214.756364 \r\nL 360.184943 214.756364 \r\n\" style=\"fill:none;stroke:#000000;stroke-linecap:square;stroke-width:1.5;\"/>\r\n   </g>\r\n   <g id=\"patch_3\">\r\n    <path d=\"M 40.603125 224.64 \r\nL 40.603125 7.2 \r\n\" style=\"fill:none;stroke:#000000;stroke-linecap:square;stroke-linejoin:miter;stroke-width:0.8;\"/>\r\n   </g>\r\n   <g id=\"patch_4\">\r\n    <path d=\"M 375.403125 224.64 \r\nL 375.403125 7.2 \r\n\" style=\"fill:none;stroke:#000000;stroke-linecap:square;stroke-linejoin:miter;stroke-width:0.8;\"/>\r\n   </g>\r\n   <g id=\"patch_5\">\r\n    <path d=\"M 40.603125 224.64 \r\nL 375.403125 224.64 \r\n\" style=\"fill:none;stroke:#000000;stroke-linecap:square;stroke-linejoin:miter;stroke-width:0.8;\"/>\r\n   </g>\r\n   <g id=\"patch_6\">\r\n    <path d=\"M 40.603125 7.2 \r\nL 375.403125 7.2 \r\n\" style=\"fill:none;stroke:#000000;stroke-linecap:square;stroke-linejoin:miter;stroke-width:0.8;\"/>\r\n   </g>\r\n   <g id=\"legend_1\">\r\n    <g id=\"patch_7\">\r\n     <path d=\"M 281.520312 44.55625 \r\nL 368.403125 44.55625 \r\nQ 370.403125 44.55625 370.403125 42.55625 \r\nL 370.403125 14.2 \r\nQ 370.403125 12.2 368.403125 12.2 \r\nL 281.520312 12.2 \r\nQ 279.520312 12.2 279.520312 14.2 \r\nL 279.520312 42.55625 \r\nQ 279.520312 44.55625 281.520312 44.55625 \r\nz\r\n\" style=\"fill:#ffffff;opacity:0.8;stroke:#cccccc;stroke-linejoin:miter;\"/>\r\n    </g>\r\n    <g id=\"line2d_13\">\r\n     <path d=\"M 283.520312 20.298437 \r\nL 303.520312 20.298437 \r\n\" style=\"fill:none;stroke:#000000;stroke-linecap:square;stroke-width:1.5;\"/>\r\n    </g>\r\n    <g id=\"line2d_14\"/>\r\n    <g id=\"text_14\">\r\n     <!-- Predictions -->\r\n     <g transform=\"translate(311.520312 23.798437)scale(0.1 -0.1)\">\r\n      <defs>\r\n       <path d=\"M 45.40625 46.390625 \r\nL 45.40625 75.984375 \r\nL 54.390625 75.984375 \r\nL 54.390625 0 \r\nL 45.40625 0 \r\nL 45.40625 8.203125 \r\nQ 42.578125 3.328125 38.25 0.953125 \r\nQ 33.9375 -1.421875 27.875 -1.421875 \r\nQ 17.96875 -1.421875 11.734375 6.484375 \r\nQ 5.515625 14.40625 5.515625 27.296875 \r\nQ 5.515625 40.1875 11.734375 48.09375 \r\nQ 17.96875 56 27.875 56 \r\nQ 33.9375 56 38.25 53.625 \r\nQ 42.578125 51.265625 45.40625 46.390625 \r\nz\r\nM 14.796875 27.296875 \r\nQ 14.796875 17.390625 18.875 11.75 \r\nQ 22.953125 6.109375 30.078125 6.109375 \r\nQ 37.203125 6.109375 41.296875 11.75 \r\nQ 45.40625 17.390625 45.40625 27.296875 \r\nQ 45.40625 37.203125 41.296875 42.84375 \r\nQ 37.203125 48.484375 30.078125 48.484375 \r\nQ 22.953125 48.484375 18.875 42.84375 \r\nQ 14.796875 37.203125 14.796875 27.296875 \r\nz\r\n\" id=\"DejaVuSans-100\"/>\r\n       <path d=\"M 9.421875 54.6875 \r\nL 18.40625 54.6875 \r\nL 18.40625 0 \r\nL 9.421875 0 \r\nz\r\nM 9.421875 75.984375 \r\nL 18.40625 75.984375 \r\nL 18.40625 64.59375 \r\nL 9.421875 64.59375 \r\nz\r\n\" id=\"DejaVuSans-105\"/>\r\n       <path d=\"M 48.78125 52.59375 \r\nL 48.78125 44.1875 \r\nQ 44.96875 46.296875 41.140625 47.34375 \r\nQ 37.3125 48.390625 33.40625 48.390625 \r\nQ 24.65625 48.390625 19.8125 42.84375 \r\nQ 14.984375 37.3125 14.984375 27.296875 \r\nQ 14.984375 17.28125 19.8125 11.734375 \r\nQ 24.65625 6.203125 33.40625 6.203125 \r\nQ 37.3125 6.203125 41.140625 7.25 \r\nQ 44.96875 8.296875 48.78125 10.40625 \r\nL 48.78125 2.09375 \r\nQ 45.015625 0.34375 40.984375 -0.53125 \r\nQ 36.96875 -1.421875 32.421875 -1.421875 \r\nQ 20.0625 -1.421875 12.78125 6.34375 \r\nQ 5.515625 14.109375 5.515625 27.296875 \r\nQ 5.515625 40.671875 12.859375 48.328125 \r\nQ 20.21875 56 33.015625 56 \r\nQ 37.15625 56 41.109375 55.140625 \r\nQ 45.0625 54.296875 48.78125 52.59375 \r\nz\r\n\" id=\"DejaVuSans-99\"/>\r\n       <path d=\"M 18.3125 70.21875 \r\nL 18.3125 54.6875 \r\nL 36.8125 54.6875 \r\nL 36.8125 47.703125 \r\nL 18.3125 47.703125 \r\nL 18.3125 18.015625 \r\nQ 18.3125 11.328125 20.140625 9.421875 \r\nQ 21.96875 7.515625 27.59375 7.515625 \r\nL 36.8125 7.515625 \r\nL 36.8125 0 \r\nL 27.59375 0 \r\nQ 17.1875 0 13.234375 3.875 \r\nQ 9.28125 7.765625 9.28125 18.015625 \r\nL 9.28125 47.703125 \r\nL 2.6875 47.703125 \r\nL 2.6875 54.6875 \r\nL 9.28125 54.6875 \r\nL 9.28125 70.21875 \r\nz\r\n\" id=\"DejaVuSans-116\"/>\r\n       <path d=\"M 54.890625 33.015625 \r\nL 54.890625 0 \r\nL 45.90625 0 \r\nL 45.90625 32.71875 \r\nQ 45.90625 40.484375 42.875 44.328125 \r\nQ 39.84375 48.1875 33.796875 48.1875 \r\nQ 26.515625 48.1875 22.3125 43.546875 \r\nQ 18.109375 38.921875 18.109375 30.90625 \r\nL 18.109375 0 \r\nL 9.078125 0 \r\nL 9.078125 54.6875 \r\nL 18.109375 54.6875 \r\nL 18.109375 46.1875 \r\nQ 21.34375 51.125 25.703125 53.5625 \r\nQ 30.078125 56 35.796875 56 \r\nQ 45.21875 56 50.046875 50.171875 \r\nQ 54.890625 44.34375 54.890625 33.015625 \r\nz\r\n\" id=\"DejaVuSans-110\"/>\r\n      </defs>\r\n      <use xlink:href=\"#DejaVuSans-80\"/>\r\n      <use x=\"58.552734\" xlink:href=\"#DejaVuSans-114\"/>\r\n      <use x=\"97.416016\" xlink:href=\"#DejaVuSans-101\"/>\r\n      <use x=\"158.939453\" xlink:href=\"#DejaVuSans-100\"/>\r\n      <use x=\"222.416016\" xlink:href=\"#DejaVuSans-105\"/>\r\n      <use x=\"250.199219\" xlink:href=\"#DejaVuSans-99\"/>\r\n      <use x=\"305.179688\" xlink:href=\"#DejaVuSans-116\"/>\r\n      <use x=\"344.388672\" xlink:href=\"#DejaVuSans-105\"/>\r\n      <use x=\"372.171875\" xlink:href=\"#DejaVuSans-111\"/>\r\n      <use x=\"433.353516\" xlink:href=\"#DejaVuSans-110\"/>\r\n      <use x=\"496.732422\" xlink:href=\"#DejaVuSans-115\"/>\r\n     </g>\r\n    </g>\r\n    <g id=\"PathCollection_2\">\r\n     <g>\r\n      <use style=\"fill:#1f77b4;stroke:#1f77b4;\" x=\"293.520312\" xlink:href=\"#m3f979a4e7d\" y=\"35.851562\"/>\r\n     </g>\r\n    </g>\r\n    <g id=\"text_15\">\r\n     <!-- Data -->\r\n     <g transform=\"translate(311.520312 38.476562)scale(0.1 -0.1)\">\r\n      <defs>\r\n       <path d=\"M 19.671875 64.796875 \r\nL 19.671875 8.109375 \r\nL 31.59375 8.109375 \r\nQ 46.6875 8.109375 53.6875 14.9375 \r\nQ 60.6875 21.78125 60.6875 36.53125 \r\nQ 60.6875 51.171875 53.6875 57.984375 \r\nQ 46.6875 64.796875 31.59375 64.796875 \r\nz\r\nM 9.8125 72.90625 \r\nL 30.078125 72.90625 \r\nQ 51.265625 72.90625 61.171875 64.09375 \r\nQ 71.09375 55.28125 71.09375 36.53125 \r\nQ 71.09375 17.671875 61.125 8.828125 \r\nQ 51.171875 0 30.078125 0 \r\nL 9.8125 0 \r\nz\r\n\" id=\"DejaVuSans-68\"/>\r\n       <path d=\"M 34.28125 27.484375 \r\nQ 23.390625 27.484375 19.1875 25 \r\nQ 14.984375 22.515625 14.984375 16.5 \r\nQ 14.984375 11.71875 18.140625 8.90625 \r\nQ 21.296875 6.109375 26.703125 6.109375 \r\nQ 34.1875 6.109375 38.703125 11.40625 \r\nQ 43.21875 16.703125 43.21875 25.484375 \r\nL 43.21875 27.484375 \r\nz\r\nM 52.203125 31.203125 \r\nL 52.203125 0 \r\nL 43.21875 0 \r\nL 43.21875 8.296875 \r\nQ 40.140625 3.328125 35.546875 0.953125 \r\nQ 30.953125 -1.421875 24.3125 -1.421875 \r\nQ 15.921875 -1.421875 10.953125 3.296875 \r\nQ 6 8.015625 6 15.921875 \r\nQ 6 25.140625 12.171875 29.828125 \r\nQ 18.359375 34.515625 30.609375 34.515625 \r\nL 43.21875 34.515625 \r\nL 43.21875 35.40625 \r\nQ 43.21875 41.609375 39.140625 45 \r\nQ 35.0625 48.390625 27.6875 48.390625 \r\nQ 23 48.390625 18.546875 47.265625 \r\nQ 14.109375 46.140625 10.015625 43.890625 \r\nL 10.015625 52.203125 \r\nQ 14.9375 54.109375 19.578125 55.046875 \r\nQ 24.21875 56 28.609375 56 \r\nQ 40.484375 56 46.34375 49.84375 \r\nQ 52.203125 43.703125 52.203125 31.203125 \r\nz\r\n\" id=\"DejaVuSans-97\"/>\r\n      </defs>\r\n      <use xlink:href=\"#DejaVuSans-68\"/>\r\n      <use x=\"77.001953\" xlink:href=\"#DejaVuSans-97\"/>\r\n      <use x=\"138.28125\" xlink:href=\"#DejaVuSans-116\"/>\r\n      <use x=\"177.490234\" xlink:href=\"#DejaVuSans-97\"/>\r\n     </g>\r\n    </g>\r\n   </g>\r\n  </g>\r\n </g>\r\n <defs>\r\n  <clipPath id=\"p7609e0a4ac\">\r\n   <rect height=\"217.44\" width=\"334.8\" x=\"40.603125\" y=\"7.2\"/>\r\n  </clipPath>\r\n </defs>\r\n</svg>\r\n",
      "image/png": "[encoded data removed]"
     },
     "metadata": {
      "needs_background": "light"
     }
    }
   ],
   "source": [
    "plot_horsepower(x,y)"
   ]
  }
 ],
 "metadata": {
  "colab": {
   "collapsed_sections": [],
   "name": "regression.ipynb",
   "toc_visible": true
  },
  "kernelspec": {
   "name": "python3",
   "display_name": "Python 3.8.5 64-bit ('tf-2.3': conda)",
   "metadata": {
    "interpreter": {
     "hash": "e0c9bb29f5b1928b4e99e33782efeee6902d6c1662d2e65443807fa8c5d3a70c"
    }
   }
  },
  "language_info": {
   "codemirror_mode": {
    "name": "ipython",
    "version": 3
   },
   "file_extension": ".py",
   "mimetype": "text/x-python",
   "name": "python",
   "nbconvert_exporter": "python",
   "pygments_lexer": "ipython3",
   "version": "3.8.5-final"
  }
 },
 "nbformat": 4,
 "nbformat_minor": 0
}